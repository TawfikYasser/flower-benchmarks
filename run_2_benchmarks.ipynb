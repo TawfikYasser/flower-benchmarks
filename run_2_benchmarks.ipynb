{
 "cells": [
  {
   "cell_type": "markdown",
   "id": "0216ccb2",
   "metadata": {},
   "source": [
    "# Benchmarking Results for Flower Federated Learning Framework 🌸\n",
    "\n",
    "## General Experiment Configuration\n",
    "- **Federation Type**: Local Simulation\n",
    "- **Dataset**: Fashion-MNIST (With Non-IID partitioning using Dirichlet distribution, α=0.3)\n",
    "- **Model**: Simple CNN\n",
    "- **Learning Rate**: 0.01\n",
    "- **Flower Version**: 1.22.0\n",
    "- **Python Version**: 3.10.18  "
   ]
  },
  {
   "cell_type": "markdown",
   "id": "40662616",
   "metadata": {},
   "source": [
    "### Experiment Specific Configuration\n",
    "- **Number of SuperNodes**: 10 (Clients, analyzing only clients who participated in all rounds)\n",
    "- **Number of Server Rounds**: 5\n",
    "- **Fraction of Clients per Round**: 1\n",
    "- **Fraction of Clients for Evaluation**: 1\n",
    "- **Local Epochs**: 20\n",
    "- **Log file**: `EXP_CNN_fashion_mnist_dataset_2_logs.json`"
   ]
  },
  {
   "cell_type": "code",
   "execution_count": 39,
   "id": "84265375",
   "metadata": {},
   "outputs": [],
   "source": [
    "import json\n",
    "import pandas as pd\n",
    "\n",
    "# Load the JSON file\n",
    "with open(\"EXP_CNN_fashion_mnist_dataset_2_logs.json\", \"r\") as f:\n",
    "    data = json.load(f)"
   ]
  },
  {
   "cell_type": "markdown",
   "id": "01745f8b",
   "metadata": {},
   "source": [
    "#### Round-level Statistics\n",
    "The following table summarizes the round-level statistics, including average duration, accuracy, and data processed per round."
   ]
  },
  {
   "cell_type": "code",
   "execution_count": 40,
   "id": "71f80fd4",
   "metadata": {},
   "outputs": [
    {
     "data": {
      "text/html": [
       "<div>\n",
       "<style scoped>\n",
       "    .dataframe tbody tr th:only-of-type {\n",
       "        vertical-align: middle;\n",
       "    }\n",
       "\n",
       "    .dataframe tbody tr th {\n",
       "        vertical-align: top;\n",
       "    }\n",
       "\n",
       "    .dataframe thead th {\n",
       "        text-align: right;\n",
       "    }\n",
       "</style>\n",
       "<table border=\"1\" class=\"dataframe\">\n",
       "  <thead>\n",
       "    <tr style=\"text-align: right;\">\n",
       "      <th></th>\n",
       "      <th>round</th>\n",
       "      <th>total_examples</th>\n",
       "      <th>avg_duration</th>\n",
       "      <th>accuracy</th>\n",
       "      <th>data_mb</th>\n",
       "    </tr>\n",
       "  </thead>\n",
       "  <tbody>\n",
       "    <tr>\n",
       "      <th>0</th>\n",
       "      <td>1</td>\n",
       "      <td>47995</td>\n",
       "      <td>2.188583</td>\n",
       "      <td>10.09</td>\n",
       "      <td>1.6956</td>\n",
       "    </tr>\n",
       "    <tr>\n",
       "      <th>1</th>\n",
       "      <td>2</td>\n",
       "      <td>47995</td>\n",
       "      <td>2.231750</td>\n",
       "      <td>41.13</td>\n",
       "      <td>1.6956</td>\n",
       "    </tr>\n",
       "    <tr>\n",
       "      <th>2</th>\n",
       "      <td>3</td>\n",
       "      <td>47995</td>\n",
       "      <td>2.200869</td>\n",
       "      <td>75.83</td>\n",
       "      <td>1.6956</td>\n",
       "    </tr>\n",
       "    <tr>\n",
       "      <th>3</th>\n",
       "      <td>4</td>\n",
       "      <td>47995</td>\n",
       "      <td>2.188072</td>\n",
       "      <td>79.20</td>\n",
       "      <td>1.6956</td>\n",
       "    </tr>\n",
       "    <tr>\n",
       "      <th>4</th>\n",
       "      <td>5</td>\n",
       "      <td>47995</td>\n",
       "      <td>2.289010</td>\n",
       "      <td>83.34</td>\n",
       "      <td>1.6956</td>\n",
       "    </tr>\n",
       "  </tbody>\n",
       "</table>\n",
       "</div>"
      ],
      "text/plain": [
       "   round  total_examples  avg_duration  accuracy  data_mb\n",
       "0      1           47995      2.188583     10.09   1.6956\n",
       "1      2           47995      2.231750     41.13   1.6956\n",
       "2      3           47995      2.200869     75.83   1.6956\n",
       "3      4           47995      2.188072     79.20   1.6956\n",
       "4      5           47995      2.289010     83.34   1.6956"
      ]
     },
     "execution_count": 40,
     "metadata": {},
     "output_type": "execute_result"
    }
   ],
   "source": [
    "# Prepare round-level data\n",
    "round_data = []\n",
    "for round_entry in data:\n",
    "    clients = round_entry[\"clients_logs\"]\n",
    "    round_number = clients[0][\"server_round_number\"]\n",
    "    total_examples = sum(c[\"num-examples\"] for c in clients)\n",
    "    avg_duration = sum(c[\"round_duration\"] for c in clients) / len(clients)\n",
    "    round_acc = round_entry.get(\"round_acc\", None)\n",
    "    total_data = round_entry.get(\"total_amount_data_round_mb\", None)\n",
    "    num_rounds = clients[0][\"num_rounds\"]\n",
    "    lr = clients[0][\"lr\"]\n",
    "\n",
    "    round_data.append({\n",
    "        \"round\": round_number,\n",
    "        \"total_examples\": total_examples,\n",
    "        \"avg_duration\": avg_duration,\n",
    "        \"accuracy\": round_acc,\n",
    "        \"data_mb\": total_data,\n",
    "    })\n",
    "\n",
    "df_rounds = pd.DataFrame(round_data)\n",
    "df_rounds"
   ]
  },
  {
   "cell_type": "code",
   "execution_count": 41,
   "id": "dc454cfe",
   "metadata": {},
   "outputs": [
    {
     "data": {
      "application/vnd.plotly.v1+json": {
       "config": {
        "plotlyServerURL": "https://plot.ly"
       },
       "data": [
        {
         "hovertemplate": "round=%{x}<br>avg_duration=%{y}<extra></extra>",
         "legendgroup": "",
         "line": {
          "color": "#636efa",
          "dash": "solid"
         },
         "marker": {
          "symbol": "circle"
         },
         "mode": "lines",
         "name": "",
         "orientation": "v",
         "showlegend": false,
         "type": "scatter",
         "x": {
          "bdata": "AQIDBAU=",
          "dtype": "i1"
         },
         "xaxis": "x",
         "y": {
          "bdata": "ZnbEDziCAUDNvE20n9oBQM1cI1thmwFAAPCS4yuBAUBmZh9S5E8CQA==",
          "dtype": "f8"
         },
         "yaxis": "y"
        }
       ],
       "layout": {
        "legend": {
         "tracegroupgap": 0
        },
        "template": {
         "data": {
          "bar": [
           {
            "error_x": {
             "color": "#2a3f5f"
            },
            "error_y": {
             "color": "#2a3f5f"
            },
            "marker": {
             "line": {
              "color": "#E5ECF6",
              "width": 0.5
             },
             "pattern": {
              "fillmode": "overlay",
              "size": 10,
              "solidity": 0.2
             }
            },
            "type": "bar"
           }
          ],
          "barpolar": [
           {
            "marker": {
             "line": {
              "color": "#E5ECF6",
              "width": 0.5
             },
             "pattern": {
              "fillmode": "overlay",
              "size": 10,
              "solidity": 0.2
             }
            },
            "type": "barpolar"
           }
          ],
          "carpet": [
           {
            "aaxis": {
             "endlinecolor": "#2a3f5f",
             "gridcolor": "white",
             "linecolor": "white",
             "minorgridcolor": "white",
             "startlinecolor": "#2a3f5f"
            },
            "baxis": {
             "endlinecolor": "#2a3f5f",
             "gridcolor": "white",
             "linecolor": "white",
             "minorgridcolor": "white",
             "startlinecolor": "#2a3f5f"
            },
            "type": "carpet"
           }
          ],
          "choropleth": [
           {
            "colorbar": {
             "outlinewidth": 0,
             "ticks": ""
            },
            "type": "choropleth"
           }
          ],
          "contour": [
           {
            "colorbar": {
             "outlinewidth": 0,
             "ticks": ""
            },
            "colorscale": [
             [
              0,
              "#0d0887"
             ],
             [
              0.1111111111111111,
              "#46039f"
             ],
             [
              0.2222222222222222,
              "#7201a8"
             ],
             [
              0.3333333333333333,
              "#9c179e"
             ],
             [
              0.4444444444444444,
              "#bd3786"
             ],
             [
              0.5555555555555556,
              "#d8576b"
             ],
             [
              0.6666666666666666,
              "#ed7953"
             ],
             [
              0.7777777777777778,
              "#fb9f3a"
             ],
             [
              0.8888888888888888,
              "#fdca26"
             ],
             [
              1,
              "#f0f921"
             ]
            ],
            "type": "contour"
           }
          ],
          "contourcarpet": [
           {
            "colorbar": {
             "outlinewidth": 0,
             "ticks": ""
            },
            "type": "contourcarpet"
           }
          ],
          "heatmap": [
           {
            "colorbar": {
             "outlinewidth": 0,
             "ticks": ""
            },
            "colorscale": [
             [
              0,
              "#0d0887"
             ],
             [
              0.1111111111111111,
              "#46039f"
             ],
             [
              0.2222222222222222,
              "#7201a8"
             ],
             [
              0.3333333333333333,
              "#9c179e"
             ],
             [
              0.4444444444444444,
              "#bd3786"
             ],
             [
              0.5555555555555556,
              "#d8576b"
             ],
             [
              0.6666666666666666,
              "#ed7953"
             ],
             [
              0.7777777777777778,
              "#fb9f3a"
             ],
             [
              0.8888888888888888,
              "#fdca26"
             ],
             [
              1,
              "#f0f921"
             ]
            ],
            "type": "heatmap"
           }
          ],
          "histogram": [
           {
            "marker": {
             "pattern": {
              "fillmode": "overlay",
              "size": 10,
              "solidity": 0.2
             }
            },
            "type": "histogram"
           }
          ],
          "histogram2d": [
           {
            "colorbar": {
             "outlinewidth": 0,
             "ticks": ""
            },
            "colorscale": [
             [
              0,
              "#0d0887"
             ],
             [
              0.1111111111111111,
              "#46039f"
             ],
             [
              0.2222222222222222,
              "#7201a8"
             ],
             [
              0.3333333333333333,
              "#9c179e"
             ],
             [
              0.4444444444444444,
              "#bd3786"
             ],
             [
              0.5555555555555556,
              "#d8576b"
             ],
             [
              0.6666666666666666,
              "#ed7953"
             ],
             [
              0.7777777777777778,
              "#fb9f3a"
             ],
             [
              0.8888888888888888,
              "#fdca26"
             ],
             [
              1,
              "#f0f921"
             ]
            ],
            "type": "histogram2d"
           }
          ],
          "histogram2dcontour": [
           {
            "colorbar": {
             "outlinewidth": 0,
             "ticks": ""
            },
            "colorscale": [
             [
              0,
              "#0d0887"
             ],
             [
              0.1111111111111111,
              "#46039f"
             ],
             [
              0.2222222222222222,
              "#7201a8"
             ],
             [
              0.3333333333333333,
              "#9c179e"
             ],
             [
              0.4444444444444444,
              "#bd3786"
             ],
             [
              0.5555555555555556,
              "#d8576b"
             ],
             [
              0.6666666666666666,
              "#ed7953"
             ],
             [
              0.7777777777777778,
              "#fb9f3a"
             ],
             [
              0.8888888888888888,
              "#fdca26"
             ],
             [
              1,
              "#f0f921"
             ]
            ],
            "type": "histogram2dcontour"
           }
          ],
          "mesh3d": [
           {
            "colorbar": {
             "outlinewidth": 0,
             "ticks": ""
            },
            "type": "mesh3d"
           }
          ],
          "parcoords": [
           {
            "line": {
             "colorbar": {
              "outlinewidth": 0,
              "ticks": ""
             }
            },
            "type": "parcoords"
           }
          ],
          "pie": [
           {
            "automargin": true,
            "type": "pie"
           }
          ],
          "scatter": [
           {
            "fillpattern": {
             "fillmode": "overlay",
             "size": 10,
             "solidity": 0.2
            },
            "type": "scatter"
           }
          ],
          "scatter3d": [
           {
            "line": {
             "colorbar": {
              "outlinewidth": 0,
              "ticks": ""
             }
            },
            "marker": {
             "colorbar": {
              "outlinewidth": 0,
              "ticks": ""
             }
            },
            "type": "scatter3d"
           }
          ],
          "scattercarpet": [
           {
            "marker": {
             "colorbar": {
              "outlinewidth": 0,
              "ticks": ""
             }
            },
            "type": "scattercarpet"
           }
          ],
          "scattergeo": [
           {
            "marker": {
             "colorbar": {
              "outlinewidth": 0,
              "ticks": ""
             }
            },
            "type": "scattergeo"
           }
          ],
          "scattergl": [
           {
            "marker": {
             "colorbar": {
              "outlinewidth": 0,
              "ticks": ""
             }
            },
            "type": "scattergl"
           }
          ],
          "scattermap": [
           {
            "marker": {
             "colorbar": {
              "outlinewidth": 0,
              "ticks": ""
             }
            },
            "type": "scattermap"
           }
          ],
          "scattermapbox": [
           {
            "marker": {
             "colorbar": {
              "outlinewidth": 0,
              "ticks": ""
             }
            },
            "type": "scattermapbox"
           }
          ],
          "scatterpolar": [
           {
            "marker": {
             "colorbar": {
              "outlinewidth": 0,
              "ticks": ""
             }
            },
            "type": "scatterpolar"
           }
          ],
          "scatterpolargl": [
           {
            "marker": {
             "colorbar": {
              "outlinewidth": 0,
              "ticks": ""
             }
            },
            "type": "scatterpolargl"
           }
          ],
          "scatterternary": [
           {
            "marker": {
             "colorbar": {
              "outlinewidth": 0,
              "ticks": ""
             }
            },
            "type": "scatterternary"
           }
          ],
          "surface": [
           {
            "colorbar": {
             "outlinewidth": 0,
             "ticks": ""
            },
            "colorscale": [
             [
              0,
              "#0d0887"
             ],
             [
              0.1111111111111111,
              "#46039f"
             ],
             [
              0.2222222222222222,
              "#7201a8"
             ],
             [
              0.3333333333333333,
              "#9c179e"
             ],
             [
              0.4444444444444444,
              "#bd3786"
             ],
             [
              0.5555555555555556,
              "#d8576b"
             ],
             [
              0.6666666666666666,
              "#ed7953"
             ],
             [
              0.7777777777777778,
              "#fb9f3a"
             ],
             [
              0.8888888888888888,
              "#fdca26"
             ],
             [
              1,
              "#f0f921"
             ]
            ],
            "type": "surface"
           }
          ],
          "table": [
           {
            "cells": {
             "fill": {
              "color": "#EBF0F8"
             },
             "line": {
              "color": "white"
             }
            },
            "header": {
             "fill": {
              "color": "#C8D4E3"
             },
             "line": {
              "color": "white"
             }
            },
            "type": "table"
           }
          ]
         },
         "layout": {
          "annotationdefaults": {
           "arrowcolor": "#2a3f5f",
           "arrowhead": 0,
           "arrowwidth": 1
          },
          "autotypenumbers": "strict",
          "coloraxis": {
           "colorbar": {
            "outlinewidth": 0,
            "ticks": ""
           }
          },
          "colorscale": {
           "diverging": [
            [
             0,
             "#8e0152"
            ],
            [
             0.1,
             "#c51b7d"
            ],
            [
             0.2,
             "#de77ae"
            ],
            [
             0.3,
             "#f1b6da"
            ],
            [
             0.4,
             "#fde0ef"
            ],
            [
             0.5,
             "#f7f7f7"
            ],
            [
             0.6,
             "#e6f5d0"
            ],
            [
             0.7,
             "#b8e186"
            ],
            [
             0.8,
             "#7fbc41"
            ],
            [
             0.9,
             "#4d9221"
            ],
            [
             1,
             "#276419"
            ]
           ],
           "sequential": [
            [
             0,
             "#0d0887"
            ],
            [
             0.1111111111111111,
             "#46039f"
            ],
            [
             0.2222222222222222,
             "#7201a8"
            ],
            [
             0.3333333333333333,
             "#9c179e"
            ],
            [
             0.4444444444444444,
             "#bd3786"
            ],
            [
             0.5555555555555556,
             "#d8576b"
            ],
            [
             0.6666666666666666,
             "#ed7953"
            ],
            [
             0.7777777777777778,
             "#fb9f3a"
            ],
            [
             0.8888888888888888,
             "#fdca26"
            ],
            [
             1,
             "#f0f921"
            ]
           ],
           "sequentialminus": [
            [
             0,
             "#0d0887"
            ],
            [
             0.1111111111111111,
             "#46039f"
            ],
            [
             0.2222222222222222,
             "#7201a8"
            ],
            [
             0.3333333333333333,
             "#9c179e"
            ],
            [
             0.4444444444444444,
             "#bd3786"
            ],
            [
             0.5555555555555556,
             "#d8576b"
            ],
            [
             0.6666666666666666,
             "#ed7953"
            ],
            [
             0.7777777777777778,
             "#fb9f3a"
            ],
            [
             0.8888888888888888,
             "#fdca26"
            ],
            [
             1,
             "#f0f921"
            ]
           ]
          },
          "colorway": [
           "#636efa",
           "#EF553B",
           "#00cc96",
           "#ab63fa",
           "#FFA15A",
           "#19d3f3",
           "#FF6692",
           "#B6E880",
           "#FF97FF",
           "#FECB52"
          ],
          "font": {
           "color": "#2a3f5f"
          },
          "geo": {
           "bgcolor": "white",
           "lakecolor": "white",
           "landcolor": "#E5ECF6",
           "showlakes": true,
           "showland": true,
           "subunitcolor": "white"
          },
          "hoverlabel": {
           "align": "left"
          },
          "hovermode": "closest",
          "mapbox": {
           "style": "light"
          },
          "paper_bgcolor": "white",
          "plot_bgcolor": "#E5ECF6",
          "polar": {
           "angularaxis": {
            "gridcolor": "white",
            "linecolor": "white",
            "ticks": ""
           },
           "bgcolor": "#E5ECF6",
           "radialaxis": {
            "gridcolor": "white",
            "linecolor": "white",
            "ticks": ""
           }
          },
          "scene": {
           "xaxis": {
            "backgroundcolor": "#E5ECF6",
            "gridcolor": "white",
            "gridwidth": 2,
            "linecolor": "white",
            "showbackground": true,
            "ticks": "",
            "zerolinecolor": "white"
           },
           "yaxis": {
            "backgroundcolor": "#E5ECF6",
            "gridcolor": "white",
            "gridwidth": 2,
            "linecolor": "white",
            "showbackground": true,
            "ticks": "",
            "zerolinecolor": "white"
           },
           "zaxis": {
            "backgroundcolor": "#E5ECF6",
            "gridcolor": "white",
            "gridwidth": 2,
            "linecolor": "white",
            "showbackground": true,
            "ticks": "",
            "zerolinecolor": "white"
           }
          },
          "shapedefaults": {
           "line": {
            "color": "#2a3f5f"
           }
          },
          "ternary": {
           "aaxis": {
            "gridcolor": "white",
            "linecolor": "white",
            "ticks": ""
           },
           "baxis": {
            "gridcolor": "white",
            "linecolor": "white",
            "ticks": ""
           },
           "bgcolor": "#E5ECF6",
           "caxis": {
            "gridcolor": "white",
            "linecolor": "white",
            "ticks": ""
           }
          },
          "title": {
           "x": 0.05
          },
          "xaxis": {
           "automargin": true,
           "gridcolor": "white",
           "linecolor": "white",
           "ticks": "",
           "title": {
            "standoff": 15
           },
           "zerolinecolor": "white",
           "zerolinewidth": 2
          },
          "yaxis": {
           "automargin": true,
           "gridcolor": "white",
           "linecolor": "white",
           "ticks": "",
           "title": {
            "standoff": 15
           },
           "zerolinecolor": "white",
           "zerolinewidth": 2
          }
         }
        },
        "title": {
         "text": "Average Round Duration"
        },
        "xaxis": {
         "anchor": "y",
         "domain": [
          0,
          1
         ],
         "title": {
          "text": "round"
         }
        },
        "yaxis": {
         "anchor": "x",
         "domain": [
          0,
          1
         ],
         "title": {
          "text": "avg_duration"
         }
        }
       }
      }
     },
     "metadata": {},
     "output_type": "display_data"
    }
   ],
   "source": [
    "import plotly.express as px\n",
    "fig2 = px.line(\n",
    "    df_rounds, x=\"round\", y=\"avg_duration\",\n",
    "    title=\"Average Round Duration\",\n",
    "    hover_data=[\"round\", \"avg_duration\"]\n",
    ")\n",
    "fig2.show()"
   ]
  },
  {
   "cell_type": "code",
   "execution_count": 42,
   "id": "9c6a7d68",
   "metadata": {},
   "outputs": [
    {
     "data": {
      "application/vnd.plotly.v1+json": {
       "config": {
        "plotlyServerURL": "https://plot.ly"
       },
       "data": [
        {
         "hovertemplate": "round=%{x}<br>accuracy=%{y}<extra></extra>",
         "legendgroup": "",
         "line": {
          "color": "#636efa",
          "dash": "solid"
         },
         "marker": {
          "symbol": "circle"
         },
         "mode": "lines",
         "name": "",
         "orientation": "v",
         "showlegend": false,
         "type": "scatter",
         "x": {
          "bdata": "AQIDBAU=",
          "dtype": "i1"
         },
         "xaxis": "x",
         "y": {
          "bdata": "rkfhehQuJEBxPQrXo5BEQIXrUbge9VJAzczMzMzMU0D2KFyPwtVUQA==",
          "dtype": "f8"
         },
         "yaxis": "y"
        }
       ],
       "layout": {
        "legend": {
         "tracegroupgap": 0
        },
        "template": {
         "data": {
          "bar": [
           {
            "error_x": {
             "color": "#2a3f5f"
            },
            "error_y": {
             "color": "#2a3f5f"
            },
            "marker": {
             "line": {
              "color": "#E5ECF6",
              "width": 0.5
             },
             "pattern": {
              "fillmode": "overlay",
              "size": 10,
              "solidity": 0.2
             }
            },
            "type": "bar"
           }
          ],
          "barpolar": [
           {
            "marker": {
             "line": {
              "color": "#E5ECF6",
              "width": 0.5
             },
             "pattern": {
              "fillmode": "overlay",
              "size": 10,
              "solidity": 0.2
             }
            },
            "type": "barpolar"
           }
          ],
          "carpet": [
           {
            "aaxis": {
             "endlinecolor": "#2a3f5f",
             "gridcolor": "white",
             "linecolor": "white",
             "minorgridcolor": "white",
             "startlinecolor": "#2a3f5f"
            },
            "baxis": {
             "endlinecolor": "#2a3f5f",
             "gridcolor": "white",
             "linecolor": "white",
             "minorgridcolor": "white",
             "startlinecolor": "#2a3f5f"
            },
            "type": "carpet"
           }
          ],
          "choropleth": [
           {
            "colorbar": {
             "outlinewidth": 0,
             "ticks": ""
            },
            "type": "choropleth"
           }
          ],
          "contour": [
           {
            "colorbar": {
             "outlinewidth": 0,
             "ticks": ""
            },
            "colorscale": [
             [
              0,
              "#0d0887"
             ],
             [
              0.1111111111111111,
              "#46039f"
             ],
             [
              0.2222222222222222,
              "#7201a8"
             ],
             [
              0.3333333333333333,
              "#9c179e"
             ],
             [
              0.4444444444444444,
              "#bd3786"
             ],
             [
              0.5555555555555556,
              "#d8576b"
             ],
             [
              0.6666666666666666,
              "#ed7953"
             ],
             [
              0.7777777777777778,
              "#fb9f3a"
             ],
             [
              0.8888888888888888,
              "#fdca26"
             ],
             [
              1,
              "#f0f921"
             ]
            ],
            "type": "contour"
           }
          ],
          "contourcarpet": [
           {
            "colorbar": {
             "outlinewidth": 0,
             "ticks": ""
            },
            "type": "contourcarpet"
           }
          ],
          "heatmap": [
           {
            "colorbar": {
             "outlinewidth": 0,
             "ticks": ""
            },
            "colorscale": [
             [
              0,
              "#0d0887"
             ],
             [
              0.1111111111111111,
              "#46039f"
             ],
             [
              0.2222222222222222,
              "#7201a8"
             ],
             [
              0.3333333333333333,
              "#9c179e"
             ],
             [
              0.4444444444444444,
              "#bd3786"
             ],
             [
              0.5555555555555556,
              "#d8576b"
             ],
             [
              0.6666666666666666,
              "#ed7953"
             ],
             [
              0.7777777777777778,
              "#fb9f3a"
             ],
             [
              0.8888888888888888,
              "#fdca26"
             ],
             [
              1,
              "#f0f921"
             ]
            ],
            "type": "heatmap"
           }
          ],
          "histogram": [
           {
            "marker": {
             "pattern": {
              "fillmode": "overlay",
              "size": 10,
              "solidity": 0.2
             }
            },
            "type": "histogram"
           }
          ],
          "histogram2d": [
           {
            "colorbar": {
             "outlinewidth": 0,
             "ticks": ""
            },
            "colorscale": [
             [
              0,
              "#0d0887"
             ],
             [
              0.1111111111111111,
              "#46039f"
             ],
             [
              0.2222222222222222,
              "#7201a8"
             ],
             [
              0.3333333333333333,
              "#9c179e"
             ],
             [
              0.4444444444444444,
              "#bd3786"
             ],
             [
              0.5555555555555556,
              "#d8576b"
             ],
             [
              0.6666666666666666,
              "#ed7953"
             ],
             [
              0.7777777777777778,
              "#fb9f3a"
             ],
             [
              0.8888888888888888,
              "#fdca26"
             ],
             [
              1,
              "#f0f921"
             ]
            ],
            "type": "histogram2d"
           }
          ],
          "histogram2dcontour": [
           {
            "colorbar": {
             "outlinewidth": 0,
             "ticks": ""
            },
            "colorscale": [
             [
              0,
              "#0d0887"
             ],
             [
              0.1111111111111111,
              "#46039f"
             ],
             [
              0.2222222222222222,
              "#7201a8"
             ],
             [
              0.3333333333333333,
              "#9c179e"
             ],
             [
              0.4444444444444444,
              "#bd3786"
             ],
             [
              0.5555555555555556,
              "#d8576b"
             ],
             [
              0.6666666666666666,
              "#ed7953"
             ],
             [
              0.7777777777777778,
              "#fb9f3a"
             ],
             [
              0.8888888888888888,
              "#fdca26"
             ],
             [
              1,
              "#f0f921"
             ]
            ],
            "type": "histogram2dcontour"
           }
          ],
          "mesh3d": [
           {
            "colorbar": {
             "outlinewidth": 0,
             "ticks": ""
            },
            "type": "mesh3d"
           }
          ],
          "parcoords": [
           {
            "line": {
             "colorbar": {
              "outlinewidth": 0,
              "ticks": ""
             }
            },
            "type": "parcoords"
           }
          ],
          "pie": [
           {
            "automargin": true,
            "type": "pie"
           }
          ],
          "scatter": [
           {
            "fillpattern": {
             "fillmode": "overlay",
             "size": 10,
             "solidity": 0.2
            },
            "type": "scatter"
           }
          ],
          "scatter3d": [
           {
            "line": {
             "colorbar": {
              "outlinewidth": 0,
              "ticks": ""
             }
            },
            "marker": {
             "colorbar": {
              "outlinewidth": 0,
              "ticks": ""
             }
            },
            "type": "scatter3d"
           }
          ],
          "scattercarpet": [
           {
            "marker": {
             "colorbar": {
              "outlinewidth": 0,
              "ticks": ""
             }
            },
            "type": "scattercarpet"
           }
          ],
          "scattergeo": [
           {
            "marker": {
             "colorbar": {
              "outlinewidth": 0,
              "ticks": ""
             }
            },
            "type": "scattergeo"
           }
          ],
          "scattergl": [
           {
            "marker": {
             "colorbar": {
              "outlinewidth": 0,
              "ticks": ""
             }
            },
            "type": "scattergl"
           }
          ],
          "scattermap": [
           {
            "marker": {
             "colorbar": {
              "outlinewidth": 0,
              "ticks": ""
             }
            },
            "type": "scattermap"
           }
          ],
          "scattermapbox": [
           {
            "marker": {
             "colorbar": {
              "outlinewidth": 0,
              "ticks": ""
             }
            },
            "type": "scattermapbox"
           }
          ],
          "scatterpolar": [
           {
            "marker": {
             "colorbar": {
              "outlinewidth": 0,
              "ticks": ""
             }
            },
            "type": "scatterpolar"
           }
          ],
          "scatterpolargl": [
           {
            "marker": {
             "colorbar": {
              "outlinewidth": 0,
              "ticks": ""
             }
            },
            "type": "scatterpolargl"
           }
          ],
          "scatterternary": [
           {
            "marker": {
             "colorbar": {
              "outlinewidth": 0,
              "ticks": ""
             }
            },
            "type": "scatterternary"
           }
          ],
          "surface": [
           {
            "colorbar": {
             "outlinewidth": 0,
             "ticks": ""
            },
            "colorscale": [
             [
              0,
              "#0d0887"
             ],
             [
              0.1111111111111111,
              "#46039f"
             ],
             [
              0.2222222222222222,
              "#7201a8"
             ],
             [
              0.3333333333333333,
              "#9c179e"
             ],
             [
              0.4444444444444444,
              "#bd3786"
             ],
             [
              0.5555555555555556,
              "#d8576b"
             ],
             [
              0.6666666666666666,
              "#ed7953"
             ],
             [
              0.7777777777777778,
              "#fb9f3a"
             ],
             [
              0.8888888888888888,
              "#fdca26"
             ],
             [
              1,
              "#f0f921"
             ]
            ],
            "type": "surface"
           }
          ],
          "table": [
           {
            "cells": {
             "fill": {
              "color": "#EBF0F8"
             },
             "line": {
              "color": "white"
             }
            },
            "header": {
             "fill": {
              "color": "#C8D4E3"
             },
             "line": {
              "color": "white"
             }
            },
            "type": "table"
           }
          ]
         },
         "layout": {
          "annotationdefaults": {
           "arrowcolor": "#2a3f5f",
           "arrowhead": 0,
           "arrowwidth": 1
          },
          "autotypenumbers": "strict",
          "coloraxis": {
           "colorbar": {
            "outlinewidth": 0,
            "ticks": ""
           }
          },
          "colorscale": {
           "diverging": [
            [
             0,
             "#8e0152"
            ],
            [
             0.1,
             "#c51b7d"
            ],
            [
             0.2,
             "#de77ae"
            ],
            [
             0.3,
             "#f1b6da"
            ],
            [
             0.4,
             "#fde0ef"
            ],
            [
             0.5,
             "#f7f7f7"
            ],
            [
             0.6,
             "#e6f5d0"
            ],
            [
             0.7,
             "#b8e186"
            ],
            [
             0.8,
             "#7fbc41"
            ],
            [
             0.9,
             "#4d9221"
            ],
            [
             1,
             "#276419"
            ]
           ],
           "sequential": [
            [
             0,
             "#0d0887"
            ],
            [
             0.1111111111111111,
             "#46039f"
            ],
            [
             0.2222222222222222,
             "#7201a8"
            ],
            [
             0.3333333333333333,
             "#9c179e"
            ],
            [
             0.4444444444444444,
             "#bd3786"
            ],
            [
             0.5555555555555556,
             "#d8576b"
            ],
            [
             0.6666666666666666,
             "#ed7953"
            ],
            [
             0.7777777777777778,
             "#fb9f3a"
            ],
            [
             0.8888888888888888,
             "#fdca26"
            ],
            [
             1,
             "#f0f921"
            ]
           ],
           "sequentialminus": [
            [
             0,
             "#0d0887"
            ],
            [
             0.1111111111111111,
             "#46039f"
            ],
            [
             0.2222222222222222,
             "#7201a8"
            ],
            [
             0.3333333333333333,
             "#9c179e"
            ],
            [
             0.4444444444444444,
             "#bd3786"
            ],
            [
             0.5555555555555556,
             "#d8576b"
            ],
            [
             0.6666666666666666,
             "#ed7953"
            ],
            [
             0.7777777777777778,
             "#fb9f3a"
            ],
            [
             0.8888888888888888,
             "#fdca26"
            ],
            [
             1,
             "#f0f921"
            ]
           ]
          },
          "colorway": [
           "#636efa",
           "#EF553B",
           "#00cc96",
           "#ab63fa",
           "#FFA15A",
           "#19d3f3",
           "#FF6692",
           "#B6E880",
           "#FF97FF",
           "#FECB52"
          ],
          "font": {
           "color": "#2a3f5f"
          },
          "geo": {
           "bgcolor": "white",
           "lakecolor": "white",
           "landcolor": "#E5ECF6",
           "showlakes": true,
           "showland": true,
           "subunitcolor": "white"
          },
          "hoverlabel": {
           "align": "left"
          },
          "hovermode": "closest",
          "mapbox": {
           "style": "light"
          },
          "paper_bgcolor": "white",
          "plot_bgcolor": "#E5ECF6",
          "polar": {
           "angularaxis": {
            "gridcolor": "white",
            "linecolor": "white",
            "ticks": ""
           },
           "bgcolor": "#E5ECF6",
           "radialaxis": {
            "gridcolor": "white",
            "linecolor": "white",
            "ticks": ""
           }
          },
          "scene": {
           "xaxis": {
            "backgroundcolor": "#E5ECF6",
            "gridcolor": "white",
            "gridwidth": 2,
            "linecolor": "white",
            "showbackground": true,
            "ticks": "",
            "zerolinecolor": "white"
           },
           "yaxis": {
            "backgroundcolor": "#E5ECF6",
            "gridcolor": "white",
            "gridwidth": 2,
            "linecolor": "white",
            "showbackground": true,
            "ticks": "",
            "zerolinecolor": "white"
           },
           "zaxis": {
            "backgroundcolor": "#E5ECF6",
            "gridcolor": "white",
            "gridwidth": 2,
            "linecolor": "white",
            "showbackground": true,
            "ticks": "",
            "zerolinecolor": "white"
           }
          },
          "shapedefaults": {
           "line": {
            "color": "#2a3f5f"
           }
          },
          "ternary": {
           "aaxis": {
            "gridcolor": "white",
            "linecolor": "white",
            "ticks": ""
           },
           "baxis": {
            "gridcolor": "white",
            "linecolor": "white",
            "ticks": ""
           },
           "bgcolor": "#E5ECF6",
           "caxis": {
            "gridcolor": "white",
            "linecolor": "white",
            "ticks": ""
           }
          },
          "title": {
           "x": 0.05
          },
          "xaxis": {
           "automargin": true,
           "gridcolor": "white",
           "linecolor": "white",
           "ticks": "",
           "title": {
            "standoff": 15
           },
           "zerolinecolor": "white",
           "zerolinewidth": 2
          },
          "yaxis": {
           "automargin": true,
           "gridcolor": "white",
           "linecolor": "white",
           "ticks": "",
           "title": {
            "standoff": 15
           },
           "zerolinecolor": "white",
           "zerolinewidth": 2
          }
         }
        },
        "title": {
         "text": "Accuracy per Round"
        },
        "xaxis": {
         "anchor": "y",
         "domain": [
          0,
          1
         ],
         "title": {
          "text": "round"
         }
        },
        "yaxis": {
         "anchor": "x",
         "domain": [
          0,
          1
         ],
         "title": {
          "text": "accuracy"
         }
        }
       }
      }
     },
     "metadata": {},
     "output_type": "display_data"
    }
   ],
   "source": [
    "fig3 = px.line(\n",
    "    df_rounds, x=\"round\", y=\"accuracy\",\n",
    "    title=\"Accuracy per Round\",\n",
    "    hover_data=[\"round\", \"accuracy\"]\n",
    ")\n",
    "fig3.show()"
   ]
  },
  {
   "cell_type": "markdown",
   "id": "18d54f13",
   "metadata": {},
   "source": [
    "#### Rounds, Number of Examples, and Loss per Client Statistics"
   ]
  },
  {
   "cell_type": "code",
   "execution_count": 43,
   "id": "ca149bf5",
   "metadata": {},
   "outputs": [],
   "source": [
    "# Flatten the nested structure\n",
    "records = []\n",
    "for round_entry in data:\n",
    "    round_number = round_entry.get(\"clients_logs\", [])[0][\"server_round_number\"]\n",
    "    for log in round_entry[\"clients_logs\"]:\n",
    "        records.append({\n",
    "            \"client_id\": log[\"client_id\"],\n",
    "            \"server_round_number\": log[\"server_round_number\"],\n",
    "            \"round_duration\": log[\"round_duration\"],\n",
    "            \"num_examples\": log[\"num-examples\"],\n",
    "            \"round_loss\": log[\"round_loss\"]\n",
    "        })"
   ]
  },
  {
   "cell_type": "code",
   "execution_count": 44,
   "id": "4870bdcd",
   "metadata": {},
   "outputs": [],
   "source": [
    "df = pd.DataFrame(records)"
   ]
  },
  {
   "cell_type": "code",
   "execution_count": 45,
   "id": "3014238a",
   "metadata": {},
   "outputs": [
    {
     "data": {
      "text/html": [
       "<div>\n",
       "<style scoped>\n",
       "    .dataframe tbody tr th:only-of-type {\n",
       "        vertical-align: middle;\n",
       "    }\n",
       "\n",
       "    .dataframe tbody tr th {\n",
       "        vertical-align: top;\n",
       "    }\n",
       "\n",
       "    .dataframe thead th {\n",
       "        text-align: right;\n",
       "    }\n",
       "</style>\n",
       "<table border=\"1\" class=\"dataframe\">\n",
       "  <thead>\n",
       "    <tr style=\"text-align: right;\">\n",
       "      <th>server_round_number</th>\n",
       "      <th>1</th>\n",
       "      <th>2</th>\n",
       "      <th>3</th>\n",
       "      <th>4</th>\n",
       "      <th>5</th>\n",
       "    </tr>\n",
       "    <tr>\n",
       "      <th>client_id</th>\n",
       "      <th></th>\n",
       "      <th></th>\n",
       "      <th></th>\n",
       "      <th></th>\n",
       "      <th></th>\n",
       "    </tr>\n",
       "  </thead>\n",
       "  <tbody>\n",
       "    <tr>\n",
       "      <th>0</th>\n",
       "      <td>1.73</td>\n",
       "      <td>1.65</td>\n",
       "      <td>1.67</td>\n",
       "      <td>1.66</td>\n",
       "      <td>1.66</td>\n",
       "    </tr>\n",
       "    <tr>\n",
       "      <th>1</th>\n",
       "      <td>3.34</td>\n",
       "      <td>3.85</td>\n",
       "      <td>3.41</td>\n",
       "      <td>3.38</td>\n",
       "      <td>3.38</td>\n",
       "    </tr>\n",
       "    <tr>\n",
       "      <th>2</th>\n",
       "      <td>1.21</td>\n",
       "      <td>1.19</td>\n",
       "      <td>1.20</td>\n",
       "      <td>1.22</td>\n",
       "      <td>1.18</td>\n",
       "    </tr>\n",
       "    <tr>\n",
       "      <th>3</th>\n",
       "      <td>1.10</td>\n",
       "      <td>1.06</td>\n",
       "      <td>1.04</td>\n",
       "      <td>1.07</td>\n",
       "      <td>1.05</td>\n",
       "    </tr>\n",
       "    <tr>\n",
       "      <th>4</th>\n",
       "      <td>2.57</td>\n",
       "      <td>2.59</td>\n",
       "      <td>3.18</td>\n",
       "      <td>2.62</td>\n",
       "      <td>2.57</td>\n",
       "    </tr>\n",
       "  </tbody>\n",
       "</table>\n",
       "</div>"
      ],
      "text/plain": [
       "server_round_number     1     2     3     4     5\n",
       "client_id                                        \n",
       "0                    1.73  1.65  1.67  1.66  1.66\n",
       "1                    3.34  3.85  3.41  3.38  3.38\n",
       "2                    1.21  1.19  1.20  1.22  1.18\n",
       "3                    1.10  1.06  1.04  1.07  1.05\n",
       "4                    2.57  2.59  3.18  2.62  2.57"
      ]
     },
     "execution_count": 45,
     "metadata": {},
     "output_type": "execute_result"
    }
   ],
   "source": [
    "# 1️⃣ Clients × Round Durations\n",
    "df_duration = df.pivot(index=\"client_id\", columns=\"server_round_number\", values=\"round_duration\")\n",
    "df_duration = df_duration.round(2)\n",
    "df_duration.head()"
   ]
  },
  {
   "cell_type": "code",
   "execution_count": 46,
   "id": "84e7d59a",
   "metadata": {},
   "outputs": [
    {
     "data": {
      "text/html": [
       "<div>\n",
       "<style scoped>\n",
       "    .dataframe tbody tr th:only-of-type {\n",
       "        vertical-align: middle;\n",
       "    }\n",
       "\n",
       "    .dataframe tbody tr th {\n",
       "        vertical-align: top;\n",
       "    }\n",
       "\n",
       "    .dataframe thead th {\n",
       "        text-align: right;\n",
       "    }\n",
       "</style>\n",
       "<table border=\"1\" class=\"dataframe\">\n",
       "  <thead>\n",
       "    <tr style=\"text-align: right;\">\n",
       "      <th>server_round_number</th>\n",
       "      <th>1</th>\n",
       "      <th>2</th>\n",
       "      <th>3</th>\n",
       "      <th>4</th>\n",
       "      <th>5</th>\n",
       "    </tr>\n",
       "    <tr>\n",
       "      <th>client_id</th>\n",
       "      <th></th>\n",
       "      <th></th>\n",
       "      <th></th>\n",
       "      <th></th>\n",
       "      <th></th>\n",
       "    </tr>\n",
       "  </thead>\n",
       "  <tbody>\n",
       "    <tr>\n",
       "      <th>0</th>\n",
       "      <td>3571</td>\n",
       "      <td>3571</td>\n",
       "      <td>3571</td>\n",
       "      <td>3571</td>\n",
       "      <td>3571</td>\n",
       "    </tr>\n",
       "    <tr>\n",
       "      <th>1</th>\n",
       "      <td>7264</td>\n",
       "      <td>7264</td>\n",
       "      <td>7264</td>\n",
       "      <td>7264</td>\n",
       "      <td>7264</td>\n",
       "    </tr>\n",
       "    <tr>\n",
       "      <th>2</th>\n",
       "      <td>2560</td>\n",
       "      <td>2560</td>\n",
       "      <td>2560</td>\n",
       "      <td>2560</td>\n",
       "      <td>2560</td>\n",
       "    </tr>\n",
       "    <tr>\n",
       "      <th>3</th>\n",
       "      <td>2268</td>\n",
       "      <td>2268</td>\n",
       "      <td>2268</td>\n",
       "      <td>2268</td>\n",
       "      <td>2268</td>\n",
       "    </tr>\n",
       "    <tr>\n",
       "      <th>4</th>\n",
       "      <td>5556</td>\n",
       "      <td>5556</td>\n",
       "      <td>5556</td>\n",
       "      <td>5556</td>\n",
       "      <td>5556</td>\n",
       "    </tr>\n",
       "  </tbody>\n",
       "</table>\n",
       "</div>"
      ],
      "text/plain": [
       "server_round_number     1     2     3     4     5\n",
       "client_id                                        \n",
       "0                    3571  3571  3571  3571  3571\n",
       "1                    7264  7264  7264  7264  7264\n",
       "2                    2560  2560  2560  2560  2560\n",
       "3                    2268  2268  2268  2268  2268\n",
       "4                    5556  5556  5556  5556  5556"
      ]
     },
     "execution_count": 46,
     "metadata": {},
     "output_type": "execute_result"
    }
   ],
   "source": [
    "# 2️⃣ Clients × Num Examples\n",
    "df_examples = df.pivot(index=\"client_id\", columns=\"server_round_number\", values=\"num_examples\")\n",
    "df_examples.head()"
   ]
  },
  {
   "cell_type": "code",
   "execution_count": 47,
   "id": "125293a5",
   "metadata": {},
   "outputs": [
    {
     "data": {
      "text/html": [
       "<div>\n",
       "<style scoped>\n",
       "    .dataframe tbody tr th:only-of-type {\n",
       "        vertical-align: middle;\n",
       "    }\n",
       "\n",
       "    .dataframe tbody tr th {\n",
       "        vertical-align: top;\n",
       "    }\n",
       "\n",
       "    .dataframe thead th {\n",
       "        text-align: right;\n",
       "    }\n",
       "</style>\n",
       "<table border=\"1\" class=\"dataframe\">\n",
       "  <thead>\n",
       "    <tr style=\"text-align: right;\">\n",
       "      <th>server_round_number</th>\n",
       "      <th>1</th>\n",
       "      <th>2</th>\n",
       "      <th>3</th>\n",
       "      <th>4</th>\n",
       "      <th>5</th>\n",
       "    </tr>\n",
       "    <tr>\n",
       "      <th>client_id</th>\n",
       "      <th></th>\n",
       "      <th></th>\n",
       "      <th></th>\n",
       "      <th></th>\n",
       "      <th></th>\n",
       "    </tr>\n",
       "  </thead>\n",
       "  <tbody>\n",
       "    <tr>\n",
       "      <th>0</th>\n",
       "      <td>0.345783</td>\n",
       "      <td>0.307327</td>\n",
       "      <td>0.266610</td>\n",
       "      <td>0.256033</td>\n",
       "      <td>0.238880</td>\n",
       "    </tr>\n",
       "    <tr>\n",
       "      <th>1</th>\n",
       "      <td>0.456439</td>\n",
       "      <td>0.422220</td>\n",
       "      <td>0.391656</td>\n",
       "      <td>0.389545</td>\n",
       "      <td>0.374387</td>\n",
       "    </tr>\n",
       "    <tr>\n",
       "      <th>2</th>\n",
       "      <td>0.248334</td>\n",
       "      <td>0.221066</td>\n",
       "      <td>0.166262</td>\n",
       "      <td>0.151281</td>\n",
       "      <td>0.179758</td>\n",
       "    </tr>\n",
       "    <tr>\n",
       "      <th>3</th>\n",
       "      <td>0.268546</td>\n",
       "      <td>0.239695</td>\n",
       "      <td>0.218310</td>\n",
       "      <td>0.170346</td>\n",
       "      <td>0.201137</td>\n",
       "    </tr>\n",
       "    <tr>\n",
       "      <th>4</th>\n",
       "      <td>0.322675</td>\n",
       "      <td>0.311044</td>\n",
       "      <td>0.266599</td>\n",
       "      <td>0.260926</td>\n",
       "      <td>0.282928</td>\n",
       "    </tr>\n",
       "  </tbody>\n",
       "</table>\n",
       "</div>"
      ],
      "text/plain": [
       "server_round_number         1         2         3         4         5\n",
       "client_id                                                            \n",
       "0                    0.345783  0.307327  0.266610  0.256033  0.238880\n",
       "1                    0.456439  0.422220  0.391656  0.389545  0.374387\n",
       "2                    0.248334  0.221066  0.166262  0.151281  0.179758\n",
       "3                    0.268546  0.239695  0.218310  0.170346  0.201137\n",
       "4                    0.322675  0.311044  0.266599  0.260926  0.282928"
      ]
     },
     "execution_count": 47,
     "metadata": {},
     "output_type": "execute_result"
    }
   ],
   "source": [
    "# 3️⃣ Clients × Loss\n",
    "df_loss = df.pivot(index=\"client_id\", columns=\"server_round_number\", values=\"round_loss\")\n",
    "df_loss.head()"
   ]
  },
  {
   "cell_type": "markdown",
   "id": "48d5888d",
   "metadata": {},
   "source": [
    "#### Client Specific Statistics"
   ]
  },
  {
   "cell_type": "code",
   "execution_count": 48,
   "id": "a00e8ac3",
   "metadata": {},
   "outputs": [],
   "source": [
    "import plotly.express as px\n",
    "import pandas as pd\n",
    "import plotly.graph_objects as go\n",
    "from plotly.subplots import make_subplots\n",
    "\n",
    "def plot_client_metrics(client_id, df_duration, df_loss, df_examples):\n",
    "    \"\"\"\n",
    "    Plot round duration, loss, and examples for a specific client\n",
    "    \n",
    "    Parameters:\n",
    "    client_id (str/int): The client ID to plot\n",
    "    df_duration (DataFrame): DataFrame with round durations\n",
    "    df_loss (DataFrame): DataFrame with round losses  \n",
    "    df_examples (DataFrame): DataFrame with round examples\n",
    "    \"\"\"\n",
    "    \n",
    "    # Convert client_id to string for consistent matching\n",
    "    client_id_str = client_id\n",
    "    \n",
    "    # Check if client exists in all dataframes\n",
    "    if client_id_str not in df_duration.index:\n",
    "        print(f\"Client {client_id} not found in duration data\")\n",
    "        return\n",
    "    if client_id_str not in df_loss.index:\n",
    "        print(f\"Client {client_id} not found in loss data\")\n",
    "        return\n",
    "    if client_id_str not in df_examples.index:\n",
    "        print(f\"Client {client_id} not found in examples data\")\n",
    "        return\n",
    "    \n",
    "    # Get data for the specific client\n",
    "    client_duration = df_duration.loc[client_id_str]\n",
    "    client_loss = df_loss.loc[client_id_str]\n",
    "    client_examples = df_examples.loc[client_id_str]\n",
    "    \n",
    "    # Create DataFrames for plotting\n",
    "    rounds = client_duration.index.tolist()\n",
    "    \n",
    "    client_data = pd.DataFrame({\n",
    "        'Round': rounds,\n",
    "        'Duration': client_duration.values,\n",
    "        'Loss': client_loss.values,\n",
    "        'Examples': client_examples.values\n",
    "    })\n",
    "    \n",
    "    # Create subplot with secondary y-axis\n",
    "    fig = make_subplots(\n",
    "        specs=[[{\"secondary_y\": True}]],\n",
    "        subplot_titles=[f\"Client {client_id} - Round Metrics\"]\n",
    "    )\n",
    "    \n",
    "    # Add duration bars\n",
    "    fig.add_trace(\n",
    "        go.Bar(\n",
    "            x=client_data['Round'],\n",
    "            y=client_data['Duration'],\n",
    "            name='Duration',\n",
    "            marker_color='lightblue',\n",
    "            hovertemplate=(\n",
    "                \"Round: %{x}<br>\"\n",
    "                \"Duration: %{y:.4f}s<br>\"\n",
    "                \"Loss: %{customdata[0]:.4f}<br>\"\n",
    "                \"Examples: %{customdata[1]:.0f}<extra></extra>\"\n",
    "            ),\n",
    "            customdata=client_data[['Loss', 'Examples']],\n",
    "            text=client_data['Duration'].round(4),\n",
    "            textposition='outside',\n",
    "            texttemplate='%{text:.3f}s',\n",
    "            showlegend=True\n",
    "        ),\n",
    "        secondary_y=False,\n",
    "    )\n",
    "    \n",
    "    # Add loss line\n",
    "    fig.add_trace(\n",
    "        go.Scatter(\n",
    "            x=client_data['Round'],\n",
    "            y=client_data['Loss'],\n",
    "            mode='lines+markers+text',\n",
    "            name='Loss',\n",
    "            line=dict(color='red', width=3),\n",
    "            marker=dict(size=8, symbol='diamond'),\n",
    "            text=client_data['Loss'].round(4),\n",
    "            textposition='top center',\n",
    "            texttemplate='%{text:.3f}',\n",
    "            hovertemplate=(\n",
    "                \"Round: %{x}<br>\"\n",
    "                \"Loss: %{y:.4f}<br>\"\n",
    "                \"Duration: %{customdata[0]:.4f}s<br>\"\n",
    "                \"Examples: %{customdata[1]:.0f}<extra></extra>\"\n",
    "            ),\n",
    "            customdata=client_data[['Duration', 'Examples']],\n",
    "            yaxis='y2'\n",
    "        ),\n",
    "        secondary_y=True,\n",
    "    )\n",
    "    \n",
    "    # Add examples line  \n",
    "    fig.add_trace(\n",
    "        go.Scatter(\n",
    "            x=client_data['Round'],\n",
    "            y=client_data['Examples'],\n",
    "            mode='lines+markers+text',\n",
    "            name='Examples',\n",
    "            line=dict(color='green', width=3, dash='dot'),\n",
    "            marker=dict(size=8, symbol='circle'),\n",
    "            text=client_data['Examples'].round(0),\n",
    "            textposition='bottom center',\n",
    "            texttemplate='%{text:.0f}',\n",
    "            hovertemplate=(\n",
    "                \"Round: %{x}<br>\"\n",
    "                \"Examples: %{y:.0f}<br>\"\n",
    "                \"Duration: %{customdata[0]:.4f}s<br>\"\n",
    "                \"Loss: %{customdata[1]:.4f}<extra></extra>\"\n",
    "            ),\n",
    "            customdata=client_data[['Duration', 'Loss']],\n",
    "            yaxis='y2'\n",
    "        ),\n",
    "        secondary_y=True,\n",
    "    )\n",
    "    \n",
    "    # Update layout\n",
    "    fig.update_layout(\n",
    "        title=f\"Client {client_id} - Round Duration, Loss and Examples\",\n",
    "        xaxis_title=\"Rounds\",\n",
    "        yaxis_title=\"Round Duration (s)\",\n",
    "        yaxis2_title=\"Loss / Number of Examples\",\n",
    "        legend_title=\"Metrics\",\n",
    "        template=\"plotly_white\",\n",
    "        hovermode=\"closest\",\n",
    "        font=dict(size=12),\n",
    "        bargap=0.3,\n",
    "        showlegend=True,\n",
    "        legend=dict(\n",
    "            orientation=\"h\",\n",
    "            yanchor=\"bottom\",\n",
    "            y=1.02,\n",
    "            xanchor=\"right\",\n",
    "            x=1\n",
    "        ),\n",
    "        height=600\n",
    "    )\n",
    "    \n",
    "    # Update y-axes\n",
    "    fig.update_yaxes(\n",
    "        title_text=\"Round Duration (s)\",\n",
    "        secondary_y=False\n",
    "    )\n",
    "    \n",
    "    fig.update_yaxes(\n",
    "        title_text=\"Loss / Number of Examples\", \n",
    "        secondary_y=True\n",
    "    )\n",
    "    \n",
    "    # Update x-axis to show all rounds clearly\n",
    "    fig.update_xaxes(tickangle=45)\n",
    "    \n",
    "    fig.show()\n",
    "    \n",
    "    # Return summary statistics\n",
    "    summary = {\n",
    "        'client_id': client_id,\n",
    "        'avg_duration': client_duration.mean(),\n",
    "        'avg_loss': client_loss.mean(),\n",
    "        'total_examples': client_examples.iloc[0],  # Since examples are constant per client\n",
    "        'rounds_analyzed': len(rounds)\n",
    "    }\n",
    "    \n",
    "    print(f\"\\nSummary for Client {client_id}:\")\n",
    "    print(f\"Average Duration: {summary['avg_duration']:.4f}s\")\n",
    "    print(f\"Average Loss: {summary['avg_loss']:.4f}\")\n",
    "    print(f\"Total Examples: {summary['total_examples']:.0f}\")\n",
    "    print(f\"Rounds Analyzed: {summary['rounds_analyzed']}\")\n",
    "    \n",
    "    return fig, summary"
   ]
  },
  {
   "cell_type": "code",
   "execution_count": 49,
   "id": "b542909a",
   "metadata": {},
   "outputs": [
    {
     "data": {
      "application/vnd.plotly.v1+json": {
       "config": {
        "plotlyServerURL": "https://plot.ly"
       },
       "data": [
        {
         "customdata": {
          "bdata": "iUQi8GPz2j8AAAAAAK+/QOuoh+8usNk/AAAAAACvv0BFIpE+6IvYPwAAAAAAr79AOBzO60q61z8AAAAAAK+/QIYpO7c1Ptg/AAAAAACvv0A=",
          "dtype": "f8",
          "shape": "5, 2"
         },
         "hovertemplate": "Round: %{x}<br>Duration: %{y:.4f}s<br>Loss: %{customdata[0]:.4f}<br>Examples: %{customdata[1]:.0f}<extra></extra>",
         "marker": {
          "color": "lightblue"
         },
         "name": "Duration",
         "showlegend": true,
         "text": {
          "bdata": "4XoUrkfhBkDhehSuR+EGQPYoXI/C9QZAj8L1KFyPBkC4HoXrUbgGQA==",
          "dtype": "f8"
         },
         "textposition": "outside",
         "texttemplate": "%{text:.3f}s",
         "type": "bar",
         "x": {
          "bdata": "AQIDBAU=",
          "dtype": "i1"
         },
         "xaxis": "x",
         "y": {
          "bdata": "4XoUrkfhBkDhehSuR+EGQPYoXI/C9QZAj8L1KFyPBkC4HoXrUbgGQA==",
          "dtype": "f8"
         },
         "yaxis": "y"
        },
        {
         "customdata": {
          "bdata": "4XoUrkfhBkAAAAAAAK+/QOF6FK5H4QZAAAAAAACvv0D2KFyPwvUGQAAAAAAAr79Aj8L1KFyPBkAAAAAAAK+/QLgehetRuAZAAAAAAACvv0A=",
          "dtype": "f8",
          "shape": "5, 2"
         },
         "hovertemplate": "Round: %{x}<br>Loss: %{y:.4f}<br>Duration: %{customdata[0]:.4f}s<br>Examples: %{customdata[1]:.0f}<extra></extra>",
         "line": {
          "color": "red",
          "width": 3
         },
         "marker": {
          "size": 8,
          "symbol": "diamond"
         },
         "mode": "lines+markers+text",
         "name": "Loss",
         "text": {
          "bdata": "Tx4Wak3z2j9UUiegibDZPyUGgZVDi9g/CyQofoy51z8gY+5aQj7YPw==",
          "dtype": "f8"
         },
         "textposition": "top center",
         "texttemplate": "%{text:.3f}",
         "type": "scatter",
         "x": {
          "bdata": "AQIDBAU=",
          "dtype": "i1"
         },
         "xaxis": "x",
         "y": {
          "bdata": "iUQi8GPz2j/rqIfvLrDZP0UikT7oi9g/OBzO60q61z+GKTu3NT7YPw==",
          "dtype": "f8"
         },
         "yaxis": "y2"
        },
        {
         "customdata": {
          "bdata": "4XoUrkfhBkCJRCLwY/PaP+F6FK5H4QZA66iH7y6w2T/2KFyPwvUGQEUikT7oi9g/j8L1KFyPBkA4HM7rSrrXP7gehetRuAZAhik7tzU+2D8=",
          "dtype": "f8",
          "shape": "5, 2"
         },
         "hovertemplate": "Round: %{x}<br>Examples: %{y:.0f}<br>Duration: %{customdata[0]:.4f}s<br>Loss: %{customdata[1]:.4f}<extra></extra>",
         "line": {
          "color": "green",
          "dash": "dot",
          "width": 3
         },
         "marker": {
          "size": 8,
          "symbol": "circle"
         },
         "mode": "lines+markers+text",
         "name": "Examples",
         "text": {
          "bdata": "AAAAAACvv0AAAAAAAK+/QAAAAAAAr79AAAAAAACvv0AAAAAAAK+/QA==",
          "dtype": "f8"
         },
         "textposition": "bottom center",
         "texttemplate": "%{text:.0f}",
         "type": "scatter",
         "x": {
          "bdata": "AQIDBAU=",
          "dtype": "i1"
         },
         "xaxis": "x",
         "y": {
          "bdata": "rx+vH68frx+vHw==",
          "dtype": "i2"
         },
         "yaxis": "y2"
        }
       ],
       "layout": {
        "annotations": [
         {
          "font": {
           "size": 16
          },
          "showarrow": false,
          "text": "Client 9 - Round Metrics",
          "x": 0.47,
          "xanchor": "center",
          "xref": "paper",
          "y": 1,
          "yanchor": "bottom",
          "yref": "paper"
         }
        ],
        "bargap": 0.3,
        "font": {
         "size": 12
        },
        "height": 600,
        "hovermode": "closest",
        "legend": {
         "orientation": "h",
         "title": {
          "text": "Metrics"
         },
         "x": 1,
         "xanchor": "right",
         "y": 1.02,
         "yanchor": "bottom"
        },
        "showlegend": true,
        "template": {
         "data": {
          "bar": [
           {
            "error_x": {
             "color": "#2a3f5f"
            },
            "error_y": {
             "color": "#2a3f5f"
            },
            "marker": {
             "line": {
              "color": "white",
              "width": 0.5
             },
             "pattern": {
              "fillmode": "overlay",
              "size": 10,
              "solidity": 0.2
             }
            },
            "type": "bar"
           }
          ],
          "barpolar": [
           {
            "marker": {
             "line": {
              "color": "white",
              "width": 0.5
             },
             "pattern": {
              "fillmode": "overlay",
              "size": 10,
              "solidity": 0.2
             }
            },
            "type": "barpolar"
           }
          ],
          "carpet": [
           {
            "aaxis": {
             "endlinecolor": "#2a3f5f",
             "gridcolor": "#C8D4E3",
             "linecolor": "#C8D4E3",
             "minorgridcolor": "#C8D4E3",
             "startlinecolor": "#2a3f5f"
            },
            "baxis": {
             "endlinecolor": "#2a3f5f",
             "gridcolor": "#C8D4E3",
             "linecolor": "#C8D4E3",
             "minorgridcolor": "#C8D4E3",
             "startlinecolor": "#2a3f5f"
            },
            "type": "carpet"
           }
          ],
          "choropleth": [
           {
            "colorbar": {
             "outlinewidth": 0,
             "ticks": ""
            },
            "type": "choropleth"
           }
          ],
          "contour": [
           {
            "colorbar": {
             "outlinewidth": 0,
             "ticks": ""
            },
            "colorscale": [
             [
              0,
              "#0d0887"
             ],
             [
              0.1111111111111111,
              "#46039f"
             ],
             [
              0.2222222222222222,
              "#7201a8"
             ],
             [
              0.3333333333333333,
              "#9c179e"
             ],
             [
              0.4444444444444444,
              "#bd3786"
             ],
             [
              0.5555555555555556,
              "#d8576b"
             ],
             [
              0.6666666666666666,
              "#ed7953"
             ],
             [
              0.7777777777777778,
              "#fb9f3a"
             ],
             [
              0.8888888888888888,
              "#fdca26"
             ],
             [
              1,
              "#f0f921"
             ]
            ],
            "type": "contour"
           }
          ],
          "contourcarpet": [
           {
            "colorbar": {
             "outlinewidth": 0,
             "ticks": ""
            },
            "type": "contourcarpet"
           }
          ],
          "heatmap": [
           {
            "colorbar": {
             "outlinewidth": 0,
             "ticks": ""
            },
            "colorscale": [
             [
              0,
              "#0d0887"
             ],
             [
              0.1111111111111111,
              "#46039f"
             ],
             [
              0.2222222222222222,
              "#7201a8"
             ],
             [
              0.3333333333333333,
              "#9c179e"
             ],
             [
              0.4444444444444444,
              "#bd3786"
             ],
             [
              0.5555555555555556,
              "#d8576b"
             ],
             [
              0.6666666666666666,
              "#ed7953"
             ],
             [
              0.7777777777777778,
              "#fb9f3a"
             ],
             [
              0.8888888888888888,
              "#fdca26"
             ],
             [
              1,
              "#f0f921"
             ]
            ],
            "type": "heatmap"
           }
          ],
          "histogram": [
           {
            "marker": {
             "pattern": {
              "fillmode": "overlay",
              "size": 10,
              "solidity": 0.2
             }
            },
            "type": "histogram"
           }
          ],
          "histogram2d": [
           {
            "colorbar": {
             "outlinewidth": 0,
             "ticks": ""
            },
            "colorscale": [
             [
              0,
              "#0d0887"
             ],
             [
              0.1111111111111111,
              "#46039f"
             ],
             [
              0.2222222222222222,
              "#7201a8"
             ],
             [
              0.3333333333333333,
              "#9c179e"
             ],
             [
              0.4444444444444444,
              "#bd3786"
             ],
             [
              0.5555555555555556,
              "#d8576b"
             ],
             [
              0.6666666666666666,
              "#ed7953"
             ],
             [
              0.7777777777777778,
              "#fb9f3a"
             ],
             [
              0.8888888888888888,
              "#fdca26"
             ],
             [
              1,
              "#f0f921"
             ]
            ],
            "type": "histogram2d"
           }
          ],
          "histogram2dcontour": [
           {
            "colorbar": {
             "outlinewidth": 0,
             "ticks": ""
            },
            "colorscale": [
             [
              0,
              "#0d0887"
             ],
             [
              0.1111111111111111,
              "#46039f"
             ],
             [
              0.2222222222222222,
              "#7201a8"
             ],
             [
              0.3333333333333333,
              "#9c179e"
             ],
             [
              0.4444444444444444,
              "#bd3786"
             ],
             [
              0.5555555555555556,
              "#d8576b"
             ],
             [
              0.6666666666666666,
              "#ed7953"
             ],
             [
              0.7777777777777778,
              "#fb9f3a"
             ],
             [
              0.8888888888888888,
              "#fdca26"
             ],
             [
              1,
              "#f0f921"
             ]
            ],
            "type": "histogram2dcontour"
           }
          ],
          "mesh3d": [
           {
            "colorbar": {
             "outlinewidth": 0,
             "ticks": ""
            },
            "type": "mesh3d"
           }
          ],
          "parcoords": [
           {
            "line": {
             "colorbar": {
              "outlinewidth": 0,
              "ticks": ""
             }
            },
            "type": "parcoords"
           }
          ],
          "pie": [
           {
            "automargin": true,
            "type": "pie"
           }
          ],
          "scatter": [
           {
            "fillpattern": {
             "fillmode": "overlay",
             "size": 10,
             "solidity": 0.2
            },
            "type": "scatter"
           }
          ],
          "scatter3d": [
           {
            "line": {
             "colorbar": {
              "outlinewidth": 0,
              "ticks": ""
             }
            },
            "marker": {
             "colorbar": {
              "outlinewidth": 0,
              "ticks": ""
             }
            },
            "type": "scatter3d"
           }
          ],
          "scattercarpet": [
           {
            "marker": {
             "colorbar": {
              "outlinewidth": 0,
              "ticks": ""
             }
            },
            "type": "scattercarpet"
           }
          ],
          "scattergeo": [
           {
            "marker": {
             "colorbar": {
              "outlinewidth": 0,
              "ticks": ""
             }
            },
            "type": "scattergeo"
           }
          ],
          "scattergl": [
           {
            "marker": {
             "colorbar": {
              "outlinewidth": 0,
              "ticks": ""
             }
            },
            "type": "scattergl"
           }
          ],
          "scattermap": [
           {
            "marker": {
             "colorbar": {
              "outlinewidth": 0,
              "ticks": ""
             }
            },
            "type": "scattermap"
           }
          ],
          "scattermapbox": [
           {
            "marker": {
             "colorbar": {
              "outlinewidth": 0,
              "ticks": ""
             }
            },
            "type": "scattermapbox"
           }
          ],
          "scatterpolar": [
           {
            "marker": {
             "colorbar": {
              "outlinewidth": 0,
              "ticks": ""
             }
            },
            "type": "scatterpolar"
           }
          ],
          "scatterpolargl": [
           {
            "marker": {
             "colorbar": {
              "outlinewidth": 0,
              "ticks": ""
             }
            },
            "type": "scatterpolargl"
           }
          ],
          "scatterternary": [
           {
            "marker": {
             "colorbar": {
              "outlinewidth": 0,
              "ticks": ""
             }
            },
            "type": "scatterternary"
           }
          ],
          "surface": [
           {
            "colorbar": {
             "outlinewidth": 0,
             "ticks": ""
            },
            "colorscale": [
             [
              0,
              "#0d0887"
             ],
             [
              0.1111111111111111,
              "#46039f"
             ],
             [
              0.2222222222222222,
              "#7201a8"
             ],
             [
              0.3333333333333333,
              "#9c179e"
             ],
             [
              0.4444444444444444,
              "#bd3786"
             ],
             [
              0.5555555555555556,
              "#d8576b"
             ],
             [
              0.6666666666666666,
              "#ed7953"
             ],
             [
              0.7777777777777778,
              "#fb9f3a"
             ],
             [
              0.8888888888888888,
              "#fdca26"
             ],
             [
              1,
              "#f0f921"
             ]
            ],
            "type": "surface"
           }
          ],
          "table": [
           {
            "cells": {
             "fill": {
              "color": "#EBF0F8"
             },
             "line": {
              "color": "white"
             }
            },
            "header": {
             "fill": {
              "color": "#C8D4E3"
             },
             "line": {
              "color": "white"
             }
            },
            "type": "table"
           }
          ]
         },
         "layout": {
          "annotationdefaults": {
           "arrowcolor": "#2a3f5f",
           "arrowhead": 0,
           "arrowwidth": 1
          },
          "autotypenumbers": "strict",
          "coloraxis": {
           "colorbar": {
            "outlinewidth": 0,
            "ticks": ""
           }
          },
          "colorscale": {
           "diverging": [
            [
             0,
             "#8e0152"
            ],
            [
             0.1,
             "#c51b7d"
            ],
            [
             0.2,
             "#de77ae"
            ],
            [
             0.3,
             "#f1b6da"
            ],
            [
             0.4,
             "#fde0ef"
            ],
            [
             0.5,
             "#f7f7f7"
            ],
            [
             0.6,
             "#e6f5d0"
            ],
            [
             0.7,
             "#b8e186"
            ],
            [
             0.8,
             "#7fbc41"
            ],
            [
             0.9,
             "#4d9221"
            ],
            [
             1,
             "#276419"
            ]
           ],
           "sequential": [
            [
             0,
             "#0d0887"
            ],
            [
             0.1111111111111111,
             "#46039f"
            ],
            [
             0.2222222222222222,
             "#7201a8"
            ],
            [
             0.3333333333333333,
             "#9c179e"
            ],
            [
             0.4444444444444444,
             "#bd3786"
            ],
            [
             0.5555555555555556,
             "#d8576b"
            ],
            [
             0.6666666666666666,
             "#ed7953"
            ],
            [
             0.7777777777777778,
             "#fb9f3a"
            ],
            [
             0.8888888888888888,
             "#fdca26"
            ],
            [
             1,
             "#f0f921"
            ]
           ],
           "sequentialminus": [
            [
             0,
             "#0d0887"
            ],
            [
             0.1111111111111111,
             "#46039f"
            ],
            [
             0.2222222222222222,
             "#7201a8"
            ],
            [
             0.3333333333333333,
             "#9c179e"
            ],
            [
             0.4444444444444444,
             "#bd3786"
            ],
            [
             0.5555555555555556,
             "#d8576b"
            ],
            [
             0.6666666666666666,
             "#ed7953"
            ],
            [
             0.7777777777777778,
             "#fb9f3a"
            ],
            [
             0.8888888888888888,
             "#fdca26"
            ],
            [
             1,
             "#f0f921"
            ]
           ]
          },
          "colorway": [
           "#636efa",
           "#EF553B",
           "#00cc96",
           "#ab63fa",
           "#FFA15A",
           "#19d3f3",
           "#FF6692",
           "#B6E880",
           "#FF97FF",
           "#FECB52"
          ],
          "font": {
           "color": "#2a3f5f"
          },
          "geo": {
           "bgcolor": "white",
           "lakecolor": "white",
           "landcolor": "white",
           "showlakes": true,
           "showland": true,
           "subunitcolor": "#C8D4E3"
          },
          "hoverlabel": {
           "align": "left"
          },
          "hovermode": "closest",
          "mapbox": {
           "style": "light"
          },
          "paper_bgcolor": "white",
          "plot_bgcolor": "white",
          "polar": {
           "angularaxis": {
            "gridcolor": "#EBF0F8",
            "linecolor": "#EBF0F8",
            "ticks": ""
           },
           "bgcolor": "white",
           "radialaxis": {
            "gridcolor": "#EBF0F8",
            "linecolor": "#EBF0F8",
            "ticks": ""
           }
          },
          "scene": {
           "xaxis": {
            "backgroundcolor": "white",
            "gridcolor": "#DFE8F3",
            "gridwidth": 2,
            "linecolor": "#EBF0F8",
            "showbackground": true,
            "ticks": "",
            "zerolinecolor": "#EBF0F8"
           },
           "yaxis": {
            "backgroundcolor": "white",
            "gridcolor": "#DFE8F3",
            "gridwidth": 2,
            "linecolor": "#EBF0F8",
            "showbackground": true,
            "ticks": "",
            "zerolinecolor": "#EBF0F8"
           },
           "zaxis": {
            "backgroundcolor": "white",
            "gridcolor": "#DFE8F3",
            "gridwidth": 2,
            "linecolor": "#EBF0F8",
            "showbackground": true,
            "ticks": "",
            "zerolinecolor": "#EBF0F8"
           }
          },
          "shapedefaults": {
           "line": {
            "color": "#2a3f5f"
           }
          },
          "ternary": {
           "aaxis": {
            "gridcolor": "#DFE8F3",
            "linecolor": "#A2B1C6",
            "ticks": ""
           },
           "baxis": {
            "gridcolor": "#DFE8F3",
            "linecolor": "#A2B1C6",
            "ticks": ""
           },
           "bgcolor": "white",
           "caxis": {
            "gridcolor": "#DFE8F3",
            "linecolor": "#A2B1C6",
            "ticks": ""
           }
          },
          "title": {
           "x": 0.05
          },
          "xaxis": {
           "automargin": true,
           "gridcolor": "#EBF0F8",
           "linecolor": "#EBF0F8",
           "ticks": "",
           "title": {
            "standoff": 15
           },
           "zerolinecolor": "#EBF0F8",
           "zerolinewidth": 2
          },
          "yaxis": {
           "automargin": true,
           "gridcolor": "#EBF0F8",
           "linecolor": "#EBF0F8",
           "ticks": "",
           "title": {
            "standoff": 15
           },
           "zerolinecolor": "#EBF0F8",
           "zerolinewidth": 2
          }
         }
        },
        "title": {
         "text": "Client 9 - Round Duration, Loss and Examples"
        },
        "xaxis": {
         "anchor": "y",
         "domain": [
          0,
          0.94
         ],
         "tickangle": 45,
         "title": {
          "text": "Rounds"
         }
        },
        "yaxis": {
         "anchor": "x",
         "domain": [
          0,
          1
         ],
         "title": {
          "text": "Round Duration (s)"
         }
        },
        "yaxis2": {
         "anchor": "x",
         "overlaying": "y",
         "side": "right",
         "title": {
          "text": "Loss / Number of Examples"
         }
        }
       }
      }
     },
     "metadata": {},
     "output_type": "display_data"
    },
    {
     "name": "stdout",
     "output_type": "stream",
     "text": [
      "\n",
      "Summary for Client 9:\n",
      "Average Duration: 2.8500s\n",
      "Average Loss: 0.3911\n",
      "Total Examples: 8111\n",
      "Rounds Analyzed: 5\n"
     ]
    }
   ],
   "source": [
    "# Plot for a specific client\n",
    "fig, summary = plot_client_metrics(9, df_duration, df_loss, df_examples)"
   ]
  },
  {
   "cell_type": "markdown",
   "id": "0eec4320",
   "metadata": {},
   "source": [
    "**** Making sure that we're only processing clients that participated in all rounds ****"
   ]
  },
  {
   "cell_type": "code",
   "execution_count": 50,
   "id": "212cd772",
   "metadata": {},
   "outputs": [],
   "source": [
    "# Ensure all dataframes share the same clients first\n",
    "common_clients = set(df_duration.index) & set(df_examples.index) & set(df_loss.index)\n",
    "\n",
    "# Align them and drop NaNs\n",
    "df_duration = df_duration.loc[sorted(common_clients)].dropna(how=\"any\")\n",
    "df_examples = df_examples.loc[sorted(common_clients)].dropna(how=\"any\")\n",
    "df_loss = df_loss.loc[sorted(common_clients)].dropna(how=\"any\")\n",
    "\n",
    "# Now ensure all have the same clients after dropping\n",
    "common_clients_final = set(df_duration.index) & set(df_examples.index) & set(df_loss.index)\n",
    "df_duration = df_duration.loc[sorted(common_clients_final)]\n",
    "df_examples = df_examples.loc[sorted(common_clients_final)]\n",
    "df_loss = df_loss.loc[sorted(common_clients_final)]"
   ]
  },
  {
   "cell_type": "markdown",
   "id": "caf9065f",
   "metadata": {},
   "source": [
    "#### COMPREHENSIVE DATAFRAME SUMMARY STATISTICS"
   ]
  },
  {
   "cell_type": "code",
   "execution_count": 51,
   "id": "35d1a382",
   "metadata": {},
   "outputs": [
    {
     "name": "stdout",
     "output_type": "stream",
     "text": [
      "\n",
      "📊 BASIC DATAFRAME INFORMATION\n",
      "--------------------------------------------------\n",
      "\n",
      "Duration DataFrame:\n",
      "  Shape: (10, 5) (clients: 10, rounds: 5)\n",
      "  Total values: 50\n",
      "  Missing values: 0\n",
      "  Data types: [dtype('float64')]\n",
      "  Index type: <class 'pandas.core.indexes.base.Index'>\n",
      "\n",
      "Loss DataFrame:\n",
      "  Shape: (10, 5) (clients: 10, rounds: 5)\n",
      "  Total values: 50\n",
      "  Missing values: 0\n",
      "  Data types: [dtype('float64')]\n",
      "  Index type: <class 'pandas.core.indexes.base.Index'>\n",
      "\n",
      "Examples DataFrame:\n",
      "  Shape: (10, 5) (clients: 10, rounds: 5)\n",
      "  Total values: 50\n",
      "  Missing values: 0\n",
      "  Data types: [dtype('int64')]\n",
      "  Index type: <class 'pandas.core.indexes.base.Index'>\n"
     ]
    }
   ],
   "source": [
    "# Basic information about each dataframe\n",
    "print(\"\\n📊 BASIC DATAFRAME INFORMATION\")\n",
    "print(\"-\" * 50)\n",
    "\n",
    "for name, df in [(\"Duration\", df_duration), (\"Loss\", df_loss), (\"Examples\", df_examples)]:\n",
    "    print(f\"\\n{name} DataFrame:\")\n",
    "    print(f\"  Shape: {df.shape} (clients: {df.shape[0]}, rounds: {df.shape[1]})\")\n",
    "    print(f\"  Total values: {df.size}\")\n",
    "    print(f\"  Missing values: {df.isnull().sum().sum()}\")\n",
    "    print(f\"  Data types: {df.dtypes.unique()}\")\n",
    "    print(f\"  Index type: {type(df.index)}\")"
   ]
  },
  {
   "cell_type": "markdown",
   "id": "141f7e7e",
   "metadata": {},
   "source": [
    "#### Summary statistics per round"
   ]
  },
  {
   "cell_type": "code",
   "execution_count": 52,
   "id": "97123915",
   "metadata": {},
   "outputs": [
    {
     "name": "stdout",
     "output_type": "stream",
     "text": [
      "\n",
      "\n",
      "📈 SUMMARY STATISTICS PER ROUND\n",
      "--------------------------------------------------\n",
      "\n",
      "⏱️  ROUND DURATION (seconds):\n",
      "------------------------------\n",
      "server_round_number        1        2        3        4        5\n",
      "count                10.0000  10.0000  10.0000  10.0000  10.0000\n",
      "mean                  2.1890   2.2310   2.2020   2.1880   2.2890\n",
      "std                   0.9078   0.9580   0.9258   0.8721   1.0333\n",
      "min                   1.1000   1.0600   1.0400   1.0700   1.0500\n",
      "25%                   1.3400   1.3050   1.3175   1.3300   1.5700\n",
      "50%                   2.1550   2.3000   2.0850   2.2950   2.1600\n",
      "75%                   2.7875   2.7925   3.1025   2.7700   2.7725\n",
      "max                   3.6100   3.8500   3.4100   3.3800   4.3500\n",
      "\n",
      "Total duration across all clients and rounds: 110.99s\n",
      "Average duration per round: 2.2198s ± 0.9394s\n",
      "\n",
      "📉 ROUND LOSS:\n",
      "------------------------------\n",
      "server_round_number        1        2        3        4        5\n",
      "count                10.0000  10.0000  10.0000  10.0000  10.0000\n",
      "mean                  0.3375   0.3060   0.2826   0.2599   0.2650\n",
      "std                   0.0784   0.0709   0.0743   0.0832   0.0751\n",
      "min                   0.2483   0.2211   0.1663   0.1513   0.1798\n",
      "25%                   0.2760   0.2512   0.2348   0.2004   0.2099\n",
      "50%                   0.3145   0.2927   0.2666   0.2501   0.2341\n",
      "75%                   0.4023   0.3577   0.3397   0.3230   0.3286\n",
      "max                   0.4564   0.4222   0.3917   0.3895   0.3788\n",
      "\n",
      "Average loss per round: 0.2902 ± 0.0764\n",
      "Minimum loss: 0.1513\n",
      "Maximum loss: 0.4564\n",
      "\n",
      "🔢 NUMBER OF EXAMPLES:\n",
      "------------------------------\n",
      "server_round_number        1        2        3        4        5\n",
      "count                  10.00    10.00    10.00    10.00    10.00\n",
      "mean                 4799.50  4799.50  4799.50  4799.50  4799.50\n",
      "std                  2144.04  2144.04  2144.04  2144.04  2144.04\n",
      "min                  2268.00  2268.00  2268.00  2268.00  2268.00\n",
      "25%                  2812.75  2812.75  2812.75  2812.75  2812.75\n",
      "50%                  4507.50  4507.50  4507.50  4507.50  4507.50\n",
      "75%                  6730.50  6730.50  6730.50  6730.50  6730.50\n",
      "max                  8111.00  8111.00  8111.00  8111.00  8111.00\n",
      "\n",
      "Total examples across all clients and rounds: 239,975\n",
      "Average examples per client: 4800 ± 2144\n"
     ]
    }
   ],
   "source": [
    "print(\"\\n\\n📈 SUMMARY STATISTICS PER ROUND\")\n",
    "print(\"-\" * 50)\n",
    "\n",
    "# Duration statistics\n",
    "print(\"\\n⏱️  ROUND DURATION (seconds):\")\n",
    "print(\"-\" * 30)\n",
    "duration_stats = df_duration.describe()\n",
    "print(duration_stats.round(4))\n",
    "\n",
    "print(f\"\\nTotal duration across all clients and rounds: {df_duration.sum().sum():.2f}s\")\n",
    "print(f\"Average duration per round: {df_duration.mean().mean():.4f}s ± {df_duration.std().mean():.4f}s\")\n",
    "\n",
    "# Loss statistics\n",
    "print(\"\\n📉 ROUND LOSS:\")\n",
    "print(\"-\" * 30)\n",
    "loss_stats = df_loss.describe()\n",
    "print(loss_stats.round(4))\n",
    "\n",
    "print(f\"\\nAverage loss per round: {df_loss.mean().mean():.4f} ± {df_loss.std().mean():.4f}\")\n",
    "print(f\"Minimum loss: {df_loss.min().min():.4f}\")\n",
    "print(f\"Maximum loss: {df_loss.max().max():.4f}\")\n",
    "\n",
    "# Examples statistics\n",
    "print(\"\\n🔢 NUMBER OF EXAMPLES:\")\n",
    "print(\"-\" * 30)\n",
    "examples_stats = df_examples.describe()\n",
    "print(examples_stats.round(2))\n",
    "\n",
    "print(f\"\\nTotal examples across all clients and rounds: {df_examples.sum().sum():,.0f}\")\n",
    "print(f\"Average examples per client: {df_examples.mean(axis=1).mean():.0f} ± {df_examples.mean(axis=1).std():.0f}\")"
   ]
  },
  {
   "cell_type": "markdown",
   "id": "37545d9a",
   "metadata": {},
   "source": [
    "#### Client-level Statistics"
   ]
  },
  {
   "cell_type": "code",
   "execution_count": 53,
   "id": "27d909b1",
   "metadata": {},
   "outputs": [
    {
     "name": "stdout",
     "output_type": "stream",
     "text": [
      "\n",
      "\n",
      "👥 CLIENT-LEVEL STATISTICS\n",
      "--------------------------------------------------\n",
      "\n",
      "⏱️  DURATION BY CLIENT (average across rounds):\n",
      "Fastest client: Client 3 (1.0640s)\n",
      "Slowest client: Client 5 (3.5820s)\n",
      "Average across clients: 2.2198s ± 0.9237s\n",
      "\n",
      "📉 LOSS BY CLIENT (average across rounds):\n",
      "Best performing client: Client 2 (0.1933)\n",
      "Worst performing client: Client 1 (0.4068)\n",
      "Average across clients: 0.2902 ± 0.0748\n"
     ]
    }
   ],
   "source": [
    "print(\"\\n\\n👥 CLIENT-LEVEL STATISTICS\")\n",
    "print(\"-\" * 50)\n",
    "\n",
    "# Duration by client\n",
    "print(\"\\n⏱️  DURATION BY CLIENT (average across rounds):\")\n",
    "client_duration_avg = df_duration.mean(axis=1)\n",
    "print(f\"Fastest client: Client {client_duration_avg.idxmin()} ({client_duration_avg.min():.4f}s)\")\n",
    "print(f\"Slowest client: Client {client_duration_avg.idxmax()} ({client_duration_avg.max():.4f}s)\")\n",
    "print(f\"Average across clients: {client_duration_avg.mean():.4f}s ± {client_duration_avg.std():.4f}s\")\n",
    "\n",
    "# Loss by client\n",
    "print(\"\\n📉 LOSS BY CLIENT (average across rounds):\")\n",
    "client_loss_avg = df_loss.mean(axis=1)\n",
    "print(f\"Best performing client: Client {client_loss_avg.idxmin()} ({client_loss_avg.min():.4f})\")\n",
    "print(f\"Worst performing client: Client {client_loss_avg.idxmax()} ({client_loss_avg.max():.4f})\")\n",
    "print(f\"Average across clients: {client_loss_avg.mean():.4f} ± {client_loss_avg.std():.4f}\")"
   ]
  },
  {
   "cell_type": "markdown",
   "id": "e3523f8f",
   "metadata": {},
   "source": [
    "#### Round-level Statistics"
   ]
  },
  {
   "cell_type": "code",
   "execution_count": 54,
   "id": "5fdc9a6a",
   "metadata": {},
   "outputs": [
    {
     "name": "stdout",
     "output_type": "stream",
     "text": [
      "\n",
      "\n",
      "🔄 ROUND-LEVEL STATISTICS\n",
      "--------------------------------------------------\n",
      "\n",
      "⏱️  DURATION BY ROUND:\n",
      "Fastest round: 4 (2.1880s)\n",
      "Slowest round: 5 (2.2890s)\n",
      "\n",
      "📉 LOSS BY ROUND:\n",
      "Best round: 4 (0.2599)\n",
      "Worst round: 1 (0.3375)\n",
      "\n",
      "\n",
      "✅ DATA QUALITY CHECKS\n",
      "--------------------------------------------------\n",
      "✓ Examples are consistent for each client across all rounds\n",
      "✓ No missing values in any dataframe\n"
     ]
    }
   ],
   "source": [
    "print(\"\\n\\n🔄 ROUND-LEVEL STATISTICS\")\n",
    "print(\"-\" * 50)\n",
    "\n",
    "# Duration by round\n",
    "print(\"\\n⏱️  DURATION BY ROUND:\")\n",
    "round_duration_avg = df_duration.mean()\n",
    "fastest_round = round_duration_avg.idxmin()\n",
    "slowest_round = round_duration_avg.idxmax()\n",
    "print(f\"Fastest round: {fastest_round} ({round_duration_avg.min():.4f}s)\")\n",
    "print(f\"Slowest round: {slowest_round} ({round_duration_avg.max():.4f}s)\")\n",
    "\n",
    "# Loss by round\n",
    "print(\"\\n📉 LOSS BY ROUND:\")\n",
    "round_loss_avg = df_loss.mean()\n",
    "best_round = round_loss_avg.idxmin()\n",
    "worst_round = round_loss_avg.idxmax()\n",
    "print(f\"Best round: {best_round} ({round_loss_avg.min():.4f})\")\n",
    "print(f\"Worst round: {worst_round} ({round_loss_avg.max():.4f})\")\n",
    "\n",
    "# Examples consistency check\n",
    "print(\"\\n\\n✅ DATA QUALITY CHECKS\")\n",
    "print(\"-\" * 50)\n",
    "\n",
    "# Check if examples are consistent per client across rounds\n",
    "examples_consistent = True\n",
    "for client_id in df_examples.index:\n",
    "    if df_examples.loc[client_id].nunique() > 1:\n",
    "        examples_consistent = False\n",
    "        print(f\"⚠️  Client {client_id} has varying examples across rounds\")\n",
    "        break\n",
    "\n",
    "if examples_consistent:\n",
    "    print(\"✓ Examples are consistent for each client across all rounds\")\n",
    "else:\n",
    "    print(\"⚠️  Examples vary for some clients across rounds\")\n",
    "\n",
    "# Check for any missing values\n",
    "missing_duration = df_duration.isnull().sum().sum()\n",
    "missing_loss = df_loss.isnull().sum().sum()\n",
    "missing_examples = df_examples.isnull().sum().sum()\n",
    "\n",
    "if missing_duration == 0 and missing_loss == 0 and missing_examples == 0:\n",
    "    print(\"✓ No missing values in any dataframe\")\n",
    "else:\n",
    "    print(f\"⚠️  Missing values - Duration: {missing_duration}, Loss: {missing_loss}, Examples: {missing_examples}\")\n"
   ]
  },
  {
   "cell_type": "markdown",
   "id": "d52e7e5e",
   "metadata": {},
   "source": [
    "#### Final summary"
   ]
  },
  {
   "cell_type": "code",
   "execution_count": 55,
   "id": "57a08511",
   "metadata": {},
   "outputs": [
    {
     "name": "stdout",
     "output_type": "stream",
     "text": [
      "\n",
      "\n",
      "🎯 KEY INSIGHTS\n",
      "--------------------------------------------------\n",
      "• Total clients analyzed: 10\n",
      "• Total rounds completed: 5\n",
      "• Average round duration: 2.2198s\n",
      "• Average loss across all rounds: 0.2902\n",
      "• Total training examples: 239,975\n",
      "• Average examples per client: 4800\n"
     ]
    }
   ],
   "source": [
    "print(\"\\n\\n🎯 KEY INSIGHTS\")\n",
    "print(\"-\" * 50)\n",
    "print(f\"• Total clients analyzed: {len(df_duration)}\")\n",
    "print(f\"• Total rounds completed: {len(df_duration.columns)}\")\n",
    "print(f\"• Average round duration: {df_duration.mean().mean():.4f}s\")\n",
    "print(f\"• Average loss across all rounds: {df_loss.mean().mean():.4f}\")\n",
    "print(f\"• Total training examples: {df_examples.sum().sum():,}\")\n",
    "print(f\"• Average examples per client: {df_examples.mean(axis=1).mean():.0f}\")"
   ]
  },
  {
   "cell_type": "markdown",
   "id": "a1f0b2d2",
   "metadata": {},
   "source": [
    "#### Statistics with Visualizations"
   ]
  },
  {
   "cell_type": "markdown",
   "id": "a0c8fbe5",
   "metadata": {},
   "source": [
    "##### Training Overview"
   ]
  },
  {
   "cell_type": "code",
   "execution_count": 56,
   "id": "53580793",
   "metadata": {},
   "outputs": [
    {
     "data": {
      "application/vnd.plotly.v1+json": {
       "config": {
        "plotlyServerURL": "https://plot.ly"
       },
       "data": [
        {
         "domain": {
          "column": 0,
          "row": 0
         },
         "mode": "number",
         "title": {
          "text": "Clients<br><span style='font-size:0.8em;color:gray'>Participating</span>"
         },
         "type": "indicator",
         "value": 10
        },
        {
         "domain": {
          "column": 1,
          "row": 0
         },
         "mode": "number",
         "title": {
          "text": "Rounds<br><span style='font-size:0.8em;color:gray'>Completed</span>"
         },
         "type": "indicator",
         "value": 5
        },
        {
         "domain": {
          "column": 2,
          "row": 0
         },
         "mode": "number",
         "number": {
          "valueformat": ","
         },
         "title": {
          "text": "Examples<br><span style='font-size:0.8em;color:gray'>Processed</span>"
         },
         "type": "indicator",
         "value": 239975
        },
        {
         "domain": {
          "column": 3,
          "row": 0
         },
         "mode": "number",
         "number": {
          "valueformat": ".3f"
         },
         "title": {
          "text": "Avg Duration<br><span style='font-size:0.8em;color:gray'>Seconds</span>"
         },
         "type": "indicator",
         "value": 2.2198
        }
       ],
       "layout": {
        "grid": {
         "columns": 4,
         "pattern": "independent",
         "rows": 1
        },
        "height": 200,
        "template": {
         "data": {
          "bar": [
           {
            "error_x": {
             "color": "#2a3f5f"
            },
            "error_y": {
             "color": "#2a3f5f"
            },
            "marker": {
             "line": {
              "color": "white",
              "width": 0.5
             },
             "pattern": {
              "fillmode": "overlay",
              "size": 10,
              "solidity": 0.2
             }
            },
            "type": "bar"
           }
          ],
          "barpolar": [
           {
            "marker": {
             "line": {
              "color": "white",
              "width": 0.5
             },
             "pattern": {
              "fillmode": "overlay",
              "size": 10,
              "solidity": 0.2
             }
            },
            "type": "barpolar"
           }
          ],
          "carpet": [
           {
            "aaxis": {
             "endlinecolor": "#2a3f5f",
             "gridcolor": "#C8D4E3",
             "linecolor": "#C8D4E3",
             "minorgridcolor": "#C8D4E3",
             "startlinecolor": "#2a3f5f"
            },
            "baxis": {
             "endlinecolor": "#2a3f5f",
             "gridcolor": "#C8D4E3",
             "linecolor": "#C8D4E3",
             "minorgridcolor": "#C8D4E3",
             "startlinecolor": "#2a3f5f"
            },
            "type": "carpet"
           }
          ],
          "choropleth": [
           {
            "colorbar": {
             "outlinewidth": 0,
             "ticks": ""
            },
            "type": "choropleth"
           }
          ],
          "contour": [
           {
            "colorbar": {
             "outlinewidth": 0,
             "ticks": ""
            },
            "colorscale": [
             [
              0,
              "#0d0887"
             ],
             [
              0.1111111111111111,
              "#46039f"
             ],
             [
              0.2222222222222222,
              "#7201a8"
             ],
             [
              0.3333333333333333,
              "#9c179e"
             ],
             [
              0.4444444444444444,
              "#bd3786"
             ],
             [
              0.5555555555555556,
              "#d8576b"
             ],
             [
              0.6666666666666666,
              "#ed7953"
             ],
             [
              0.7777777777777778,
              "#fb9f3a"
             ],
             [
              0.8888888888888888,
              "#fdca26"
             ],
             [
              1,
              "#f0f921"
             ]
            ],
            "type": "contour"
           }
          ],
          "contourcarpet": [
           {
            "colorbar": {
             "outlinewidth": 0,
             "ticks": ""
            },
            "type": "contourcarpet"
           }
          ],
          "heatmap": [
           {
            "colorbar": {
             "outlinewidth": 0,
             "ticks": ""
            },
            "colorscale": [
             [
              0,
              "#0d0887"
             ],
             [
              0.1111111111111111,
              "#46039f"
             ],
             [
              0.2222222222222222,
              "#7201a8"
             ],
             [
              0.3333333333333333,
              "#9c179e"
             ],
             [
              0.4444444444444444,
              "#bd3786"
             ],
             [
              0.5555555555555556,
              "#d8576b"
             ],
             [
              0.6666666666666666,
              "#ed7953"
             ],
             [
              0.7777777777777778,
              "#fb9f3a"
             ],
             [
              0.8888888888888888,
              "#fdca26"
             ],
             [
              1,
              "#f0f921"
             ]
            ],
            "type": "heatmap"
           }
          ],
          "histogram": [
           {
            "marker": {
             "pattern": {
              "fillmode": "overlay",
              "size": 10,
              "solidity": 0.2
             }
            },
            "type": "histogram"
           }
          ],
          "histogram2d": [
           {
            "colorbar": {
             "outlinewidth": 0,
             "ticks": ""
            },
            "colorscale": [
             [
              0,
              "#0d0887"
             ],
             [
              0.1111111111111111,
              "#46039f"
             ],
             [
              0.2222222222222222,
              "#7201a8"
             ],
             [
              0.3333333333333333,
              "#9c179e"
             ],
             [
              0.4444444444444444,
              "#bd3786"
             ],
             [
              0.5555555555555556,
              "#d8576b"
             ],
             [
              0.6666666666666666,
              "#ed7953"
             ],
             [
              0.7777777777777778,
              "#fb9f3a"
             ],
             [
              0.8888888888888888,
              "#fdca26"
             ],
             [
              1,
              "#f0f921"
             ]
            ],
            "type": "histogram2d"
           }
          ],
          "histogram2dcontour": [
           {
            "colorbar": {
             "outlinewidth": 0,
             "ticks": ""
            },
            "colorscale": [
             [
              0,
              "#0d0887"
             ],
             [
              0.1111111111111111,
              "#46039f"
             ],
             [
              0.2222222222222222,
              "#7201a8"
             ],
             [
              0.3333333333333333,
              "#9c179e"
             ],
             [
              0.4444444444444444,
              "#bd3786"
             ],
             [
              0.5555555555555556,
              "#d8576b"
             ],
             [
              0.6666666666666666,
              "#ed7953"
             ],
             [
              0.7777777777777778,
              "#fb9f3a"
             ],
             [
              0.8888888888888888,
              "#fdca26"
             ],
             [
              1,
              "#f0f921"
             ]
            ],
            "type": "histogram2dcontour"
           }
          ],
          "mesh3d": [
           {
            "colorbar": {
             "outlinewidth": 0,
             "ticks": ""
            },
            "type": "mesh3d"
           }
          ],
          "parcoords": [
           {
            "line": {
             "colorbar": {
              "outlinewidth": 0,
              "ticks": ""
             }
            },
            "type": "parcoords"
           }
          ],
          "pie": [
           {
            "automargin": true,
            "type": "pie"
           }
          ],
          "scatter": [
           {
            "fillpattern": {
             "fillmode": "overlay",
             "size": 10,
             "solidity": 0.2
            },
            "type": "scatter"
           }
          ],
          "scatter3d": [
           {
            "line": {
             "colorbar": {
              "outlinewidth": 0,
              "ticks": ""
             }
            },
            "marker": {
             "colorbar": {
              "outlinewidth": 0,
              "ticks": ""
             }
            },
            "type": "scatter3d"
           }
          ],
          "scattercarpet": [
           {
            "marker": {
             "colorbar": {
              "outlinewidth": 0,
              "ticks": ""
             }
            },
            "type": "scattercarpet"
           }
          ],
          "scattergeo": [
           {
            "marker": {
             "colorbar": {
              "outlinewidth": 0,
              "ticks": ""
             }
            },
            "type": "scattergeo"
           }
          ],
          "scattergl": [
           {
            "marker": {
             "colorbar": {
              "outlinewidth": 0,
              "ticks": ""
             }
            },
            "type": "scattergl"
           }
          ],
          "scattermap": [
           {
            "marker": {
             "colorbar": {
              "outlinewidth": 0,
              "ticks": ""
             }
            },
            "type": "scattermap"
           }
          ],
          "scattermapbox": [
           {
            "marker": {
             "colorbar": {
              "outlinewidth": 0,
              "ticks": ""
             }
            },
            "type": "scattermapbox"
           }
          ],
          "scatterpolar": [
           {
            "marker": {
             "colorbar": {
              "outlinewidth": 0,
              "ticks": ""
             }
            },
            "type": "scatterpolar"
           }
          ],
          "scatterpolargl": [
           {
            "marker": {
             "colorbar": {
              "outlinewidth": 0,
              "ticks": ""
             }
            },
            "type": "scatterpolargl"
           }
          ],
          "scatterternary": [
           {
            "marker": {
             "colorbar": {
              "outlinewidth": 0,
              "ticks": ""
             }
            },
            "type": "scatterternary"
           }
          ],
          "surface": [
           {
            "colorbar": {
             "outlinewidth": 0,
             "ticks": ""
            },
            "colorscale": [
             [
              0,
              "#0d0887"
             ],
             [
              0.1111111111111111,
              "#46039f"
             ],
             [
              0.2222222222222222,
              "#7201a8"
             ],
             [
              0.3333333333333333,
              "#9c179e"
             ],
             [
              0.4444444444444444,
              "#bd3786"
             ],
             [
              0.5555555555555556,
              "#d8576b"
             ],
             [
              0.6666666666666666,
              "#ed7953"
             ],
             [
              0.7777777777777778,
              "#fb9f3a"
             ],
             [
              0.8888888888888888,
              "#fdca26"
             ],
             [
              1,
              "#f0f921"
             ]
            ],
            "type": "surface"
           }
          ],
          "table": [
           {
            "cells": {
             "fill": {
              "color": "#EBF0F8"
             },
             "line": {
              "color": "white"
             }
            },
            "header": {
             "fill": {
              "color": "#C8D4E3"
             },
             "line": {
              "color": "white"
             }
            },
            "type": "table"
           }
          ]
         },
         "layout": {
          "annotationdefaults": {
           "arrowcolor": "#2a3f5f",
           "arrowhead": 0,
           "arrowwidth": 1
          },
          "autotypenumbers": "strict",
          "coloraxis": {
           "colorbar": {
            "outlinewidth": 0,
            "ticks": ""
           }
          },
          "colorscale": {
           "diverging": [
            [
             0,
             "#8e0152"
            ],
            [
             0.1,
             "#c51b7d"
            ],
            [
             0.2,
             "#de77ae"
            ],
            [
             0.3,
             "#f1b6da"
            ],
            [
             0.4,
             "#fde0ef"
            ],
            [
             0.5,
             "#f7f7f7"
            ],
            [
             0.6,
             "#e6f5d0"
            ],
            [
             0.7,
             "#b8e186"
            ],
            [
             0.8,
             "#7fbc41"
            ],
            [
             0.9,
             "#4d9221"
            ],
            [
             1,
             "#276419"
            ]
           ],
           "sequential": [
            [
             0,
             "#0d0887"
            ],
            [
             0.1111111111111111,
             "#46039f"
            ],
            [
             0.2222222222222222,
             "#7201a8"
            ],
            [
             0.3333333333333333,
             "#9c179e"
            ],
            [
             0.4444444444444444,
             "#bd3786"
            ],
            [
             0.5555555555555556,
             "#d8576b"
            ],
            [
             0.6666666666666666,
             "#ed7953"
            ],
            [
             0.7777777777777778,
             "#fb9f3a"
            ],
            [
             0.8888888888888888,
             "#fdca26"
            ],
            [
             1,
             "#f0f921"
            ]
           ],
           "sequentialminus": [
            [
             0,
             "#0d0887"
            ],
            [
             0.1111111111111111,
             "#46039f"
            ],
            [
             0.2222222222222222,
             "#7201a8"
            ],
            [
             0.3333333333333333,
             "#9c179e"
            ],
            [
             0.4444444444444444,
             "#bd3786"
            ],
            [
             0.5555555555555556,
             "#d8576b"
            ],
            [
             0.6666666666666666,
             "#ed7953"
            ],
            [
             0.7777777777777778,
             "#fb9f3a"
            ],
            [
             0.8888888888888888,
             "#fdca26"
            ],
            [
             1,
             "#f0f921"
            ]
           ]
          },
          "colorway": [
           "#636efa",
           "#EF553B",
           "#00cc96",
           "#ab63fa",
           "#FFA15A",
           "#19d3f3",
           "#FF6692",
           "#B6E880",
           "#FF97FF",
           "#FECB52"
          ],
          "font": {
           "color": "#2a3f5f"
          },
          "geo": {
           "bgcolor": "white",
           "lakecolor": "white",
           "landcolor": "white",
           "showlakes": true,
           "showland": true,
           "subunitcolor": "#C8D4E3"
          },
          "hoverlabel": {
           "align": "left"
          },
          "hovermode": "closest",
          "mapbox": {
           "style": "light"
          },
          "paper_bgcolor": "white",
          "plot_bgcolor": "white",
          "polar": {
           "angularaxis": {
            "gridcolor": "#EBF0F8",
            "linecolor": "#EBF0F8",
            "ticks": ""
           },
           "bgcolor": "white",
           "radialaxis": {
            "gridcolor": "#EBF0F8",
            "linecolor": "#EBF0F8",
            "ticks": ""
           }
          },
          "scene": {
           "xaxis": {
            "backgroundcolor": "white",
            "gridcolor": "#DFE8F3",
            "gridwidth": 2,
            "linecolor": "#EBF0F8",
            "showbackground": true,
            "ticks": "",
            "zerolinecolor": "#EBF0F8"
           },
           "yaxis": {
            "backgroundcolor": "white",
            "gridcolor": "#DFE8F3",
            "gridwidth": 2,
            "linecolor": "#EBF0F8",
            "showbackground": true,
            "ticks": "",
            "zerolinecolor": "#EBF0F8"
           },
           "zaxis": {
            "backgroundcolor": "white",
            "gridcolor": "#DFE8F3",
            "gridwidth": 2,
            "linecolor": "#EBF0F8",
            "showbackground": true,
            "ticks": "",
            "zerolinecolor": "#EBF0F8"
           }
          },
          "shapedefaults": {
           "line": {
            "color": "#2a3f5f"
           }
          },
          "ternary": {
           "aaxis": {
            "gridcolor": "#DFE8F3",
            "linecolor": "#A2B1C6",
            "ticks": ""
           },
           "baxis": {
            "gridcolor": "#DFE8F3",
            "linecolor": "#A2B1C6",
            "ticks": ""
           },
           "bgcolor": "white",
           "caxis": {
            "gridcolor": "#DFE8F3",
            "linecolor": "#A2B1C6",
            "ticks": ""
           }
          },
          "title": {
           "x": 0.05
          },
          "xaxis": {
           "automargin": true,
           "gridcolor": "#EBF0F8",
           "linecolor": "#EBF0F8",
           "ticks": "",
           "title": {
            "standoff": 15
           },
           "zerolinecolor": "#EBF0F8",
           "zerolinewidth": 2
          },
          "yaxis": {
           "automargin": true,
           "gridcolor": "#EBF0F8",
           "linecolor": "#EBF0F8",
           "ticks": "",
           "title": {
            "standoff": 15
           },
           "zerolinecolor": "#EBF0F8",
           "zerolinewidth": 2
          }
         }
        }
       }
      }
     },
     "metadata": {},
     "output_type": "display_data"
    }
   ],
   "source": [
    "import plotly.graph_objects as go\n",
    "from plotly.subplots import make_subplots\n",
    "\n",
    "# Precompute statistics\n",
    "client_avg_duration = df_duration.mean(axis=1)\n",
    "client_avg_loss = df_loss.mean(axis=1)\n",
    "client_examples = df_examples.iloc[:, 0]  # Examples are consistent across rounds\n",
    "\n",
    "round_avg_duration = df_duration.mean()\n",
    "round_avg_loss = df_loss.mean()\n",
    "\n",
    "fig_overview = go.Figure()\n",
    "\n",
    "# Key metrics boxes\n",
    "metrics_fig = go.Figure()\n",
    "\n",
    "metrics_fig.add_trace(go.Indicator(\n",
    "    mode=\"number\",\n",
    "    value=len(df_duration),\n",
    "    title={\"text\": \"Clients<br><span style='font-size:0.8em;color:gray'>Participating</span>\"},\n",
    "    domain={'row': 0, 'column': 0}\n",
    "))\n",
    "\n",
    "metrics_fig.add_trace(go.Indicator(\n",
    "    mode=\"number\",\n",
    "    value=len(df_duration.columns),\n",
    "    title={\"text\": \"Rounds<br><span style='font-size:0.8em;color:gray'>Completed</span>\"},\n",
    "    domain={'row': 0, 'column': 1}\n",
    "))\n",
    "\n",
    "metrics_fig.add_trace(go.Indicator(\n",
    "    mode=\"number\",\n",
    "    value=df_examples.sum().sum(),\n",
    "    number={'valueformat': \",\"},\n",
    "    title={\"text\": \"Examples<br><span style='font-size:0.8em;color:gray'>Processed</span>\"},\n",
    "    domain={'row': 0, 'column': 2}\n",
    "))\n",
    "\n",
    "metrics_fig.add_trace(go.Indicator(\n",
    "    mode=\"number\",\n",
    "    value=df_duration.mean().mean(),\n",
    "    number={'valueformat': \".3f\"},\n",
    "    title={\"text\": \"Avg Duration<br><span style='font-size:0.8em;color:gray'>Seconds</span>\"},\n",
    "    domain={'row': 0, 'column': 3}\n",
    "))\n",
    "\n",
    "metrics_fig.update_layout(\n",
    "    grid={'rows': 1, 'columns': 4, 'pattern': \"independent\"},\n",
    "    template=\"plotly_white\",\n",
    "    height=200\n",
    ")\n",
    "\n",
    "metrics_fig.show()\n"
   ]
  },
  {
   "cell_type": "markdown",
   "id": "b68d091b",
   "metadata": {},
   "source": [
    "##### Client Performance Distribution"
   ]
  },
  {
   "cell_type": "code",
   "execution_count": 57,
   "id": "88473405",
   "metadata": {},
   "outputs": [
    {
     "data": {
      "application/vnd.plotly.v1+json": {
       "config": {
        "plotlyServerURL": "https://plot.ly"
       },
       "data": [
        {
         "hovertemplate": "Client: %{x}<br>Avg Duration: %{y:.3f}s<extra></extra>",
         "marker": {
          "color": "lightblue"
         },
         "name": "Avg Duration",
         "type": "bar",
         "x": {
          "bdata": "AAECAwQFBgcICQ==",
          "dtype": "i1"
         },
         "xaxis": "x",
         "y": {
          "bdata": "YhBYObTI+j8tsp3vp8YLQDIzMzMzM/M/oBov3SQG8T/azvdT46UFQA0tsp3vpwxA1XjpJjEI9D+TGARWDi0CQDVeukkMAgFAzczMzMzMBkA=",
          "dtype": "f8"
         },
         "yaxis": "y"
        },
        {
         "hovertemplate": "Client: %{x}<br>Avg Loss: %{y:.3f}<extra></extra>",
         "marker": {
          "color": "lightcoral"
         },
         "name": "Avg Loss",
         "type": "bar",
         "x": {
          "bdata": "AAECAwQFBgcICQ==",
          "dtype": "i1"
         },
         "xaxis": "x2",
         "y": {
          "bdata": "JvpbNXgb0j/TYxEP0gnaPwHAuFBev8g/iBnoWBMczD9KboEPQ3zSPxdeiUOKptA/TrQbmjQ50D9AQ1DJzODNP+Ap6j31z9c/S0SnJv8H2T8=",
          "dtype": "f8"
         },
         "yaxis": "y2"
        },
        {
         "hovertemplate": "Client: %{x}<br>Examples: %{y:.0f}<extra></extra>",
         "marker": {
          "color": "lightgreen"
         },
         "name": "Examples",
         "type": "bar",
         "x": {
          "bdata": "AAECAwQFBgcICQ==",
          "dtype": "i1"
         },
         "xaxis": "x3",
         "y": {
          "bdata": "8w1gHAAK3Ai0FdIb4Al+ErkQrx8=",
          "dtype": "i2"
         },
         "yaxis": "y3"
        },
        {
         "hovertemplate": "Client: %{text}<br>Duration: %{x:.3f}s<br>Loss: %{y:.3f}<br>Examples: %{marker.color:.0f}<extra></extra>",
         "marker": {
          "color": {
           "bdata": "8w1gHAAK3Ai0FdIb4Al+ErkQrx8=",
           "dtype": "i2"
          },
          "colorbar": {
           "title": {
            "text": "Examples"
           }
          },
          "colorscale": [
           [
            0,
            "#440154"
           ],
           [
            0.1111111111111111,
            "#482878"
           ],
           [
            0.2222222222222222,
            "#3e4989"
           ],
           [
            0.3333333333333333,
            "#31688e"
           ],
           [
            0.4444444444444444,
            "#26828e"
           ],
           [
            0.5555555555555556,
            "#1f9e89"
           ],
           [
            0.6666666666666666,
            "#35b779"
           ],
           [
            0.7777777777777778,
            "#6ece58"
           ],
           [
            0.8888888888888888,
            "#b5de2b"
           ],
           [
            1,
            "#fde725"
           ]
          ],
          "showscale": true,
          "size": 10
         },
         "mode": "markers",
         "name": "Client Performance",
         "text": {
          "bdata": "AAAAAAAAAAAAAAAAAADwPwAAAAAAAABAAAAAAAAACEAAAAAAAAAQQAAAAAAAABRAAAAAAAAAGEAAAAAAAAAcQAAAAAAAACBAAAAAAAAAIkA=",
          "dtype": "f8"
         },
         "type": "scatter",
         "x": {
          "bdata": "YhBYObTI+j8tsp3vp8YLQDIzMzMzM/M/oBov3SQG8T/azvdT46UFQA0tsp3vpwxA1XjpJjEI9D+TGARWDi0CQDVeukkMAgFAzczMzMzMBkA=",
          "dtype": "f8"
         },
         "xaxis": "x4",
         "y": {
          "bdata": "JvpbNXgb0j/TYxEP0gnaPwHAuFBev8g/iBnoWBMczD9KboEPQ3zSPxdeiUOKptA/TrQbmjQ50D9AQ1DJzODNP+Ap6j31z9c/S0SnJv8H2T8=",
          "dtype": "f8"
         },
         "yaxis": "y4"
        }
       ],
       "layout": {
        "annotations": [
         {
          "font": {
           "size": 16
          },
          "showarrow": false,
          "text": "Average Training Duration by Client",
          "x": 0.225,
          "xanchor": "center",
          "xref": "paper",
          "y": 1,
          "yanchor": "bottom",
          "yref": "paper"
         },
         {
          "font": {
           "size": 16
          },
          "showarrow": false,
          "text": "Average Loss by Client",
          "x": 0.775,
          "xanchor": "center",
          "xref": "paper",
          "y": 1,
          "yanchor": "bottom",
          "yref": "paper"
         },
         {
          "font": {
           "size": 16
          },
          "showarrow": false,
          "text": "Training Examples per Client",
          "x": 0.225,
          "xanchor": "center",
          "xref": "paper",
          "y": 0.375,
          "yanchor": "bottom",
          "yref": "paper"
         },
         {
          "font": {
           "size": 16
          },
          "showarrow": false,
          "text": "Duration vs Loss Correlation",
          "x": 0.775,
          "xanchor": "center",
          "xref": "paper",
          "y": 0.375,
          "yanchor": "bottom",
          "yref": "paper"
         }
        ],
        "height": 800,
        "showlegend": false,
        "template": {
         "data": {
          "bar": [
           {
            "error_x": {
             "color": "#2a3f5f"
            },
            "error_y": {
             "color": "#2a3f5f"
            },
            "marker": {
             "line": {
              "color": "white",
              "width": 0.5
             },
             "pattern": {
              "fillmode": "overlay",
              "size": 10,
              "solidity": 0.2
             }
            },
            "type": "bar"
           }
          ],
          "barpolar": [
           {
            "marker": {
             "line": {
              "color": "white",
              "width": 0.5
             },
             "pattern": {
              "fillmode": "overlay",
              "size": 10,
              "solidity": 0.2
             }
            },
            "type": "barpolar"
           }
          ],
          "carpet": [
           {
            "aaxis": {
             "endlinecolor": "#2a3f5f",
             "gridcolor": "#C8D4E3",
             "linecolor": "#C8D4E3",
             "minorgridcolor": "#C8D4E3",
             "startlinecolor": "#2a3f5f"
            },
            "baxis": {
             "endlinecolor": "#2a3f5f",
             "gridcolor": "#C8D4E3",
             "linecolor": "#C8D4E3",
             "minorgridcolor": "#C8D4E3",
             "startlinecolor": "#2a3f5f"
            },
            "type": "carpet"
           }
          ],
          "choropleth": [
           {
            "colorbar": {
             "outlinewidth": 0,
             "ticks": ""
            },
            "type": "choropleth"
           }
          ],
          "contour": [
           {
            "colorbar": {
             "outlinewidth": 0,
             "ticks": ""
            },
            "colorscale": [
             [
              0,
              "#0d0887"
             ],
             [
              0.1111111111111111,
              "#46039f"
             ],
             [
              0.2222222222222222,
              "#7201a8"
             ],
             [
              0.3333333333333333,
              "#9c179e"
             ],
             [
              0.4444444444444444,
              "#bd3786"
             ],
             [
              0.5555555555555556,
              "#d8576b"
             ],
             [
              0.6666666666666666,
              "#ed7953"
             ],
             [
              0.7777777777777778,
              "#fb9f3a"
             ],
             [
              0.8888888888888888,
              "#fdca26"
             ],
             [
              1,
              "#f0f921"
             ]
            ],
            "type": "contour"
           }
          ],
          "contourcarpet": [
           {
            "colorbar": {
             "outlinewidth": 0,
             "ticks": ""
            },
            "type": "contourcarpet"
           }
          ],
          "heatmap": [
           {
            "colorbar": {
             "outlinewidth": 0,
             "ticks": ""
            },
            "colorscale": [
             [
              0,
              "#0d0887"
             ],
             [
              0.1111111111111111,
              "#46039f"
             ],
             [
              0.2222222222222222,
              "#7201a8"
             ],
             [
              0.3333333333333333,
              "#9c179e"
             ],
             [
              0.4444444444444444,
              "#bd3786"
             ],
             [
              0.5555555555555556,
              "#d8576b"
             ],
             [
              0.6666666666666666,
              "#ed7953"
             ],
             [
              0.7777777777777778,
              "#fb9f3a"
             ],
             [
              0.8888888888888888,
              "#fdca26"
             ],
             [
              1,
              "#f0f921"
             ]
            ],
            "type": "heatmap"
           }
          ],
          "histogram": [
           {
            "marker": {
             "pattern": {
              "fillmode": "overlay",
              "size": 10,
              "solidity": 0.2
             }
            },
            "type": "histogram"
           }
          ],
          "histogram2d": [
           {
            "colorbar": {
             "outlinewidth": 0,
             "ticks": ""
            },
            "colorscale": [
             [
              0,
              "#0d0887"
             ],
             [
              0.1111111111111111,
              "#46039f"
             ],
             [
              0.2222222222222222,
              "#7201a8"
             ],
             [
              0.3333333333333333,
              "#9c179e"
             ],
             [
              0.4444444444444444,
              "#bd3786"
             ],
             [
              0.5555555555555556,
              "#d8576b"
             ],
             [
              0.6666666666666666,
              "#ed7953"
             ],
             [
              0.7777777777777778,
              "#fb9f3a"
             ],
             [
              0.8888888888888888,
              "#fdca26"
             ],
             [
              1,
              "#f0f921"
             ]
            ],
            "type": "histogram2d"
           }
          ],
          "histogram2dcontour": [
           {
            "colorbar": {
             "outlinewidth": 0,
             "ticks": ""
            },
            "colorscale": [
             [
              0,
              "#0d0887"
             ],
             [
              0.1111111111111111,
              "#46039f"
             ],
             [
              0.2222222222222222,
              "#7201a8"
             ],
             [
              0.3333333333333333,
              "#9c179e"
             ],
             [
              0.4444444444444444,
              "#bd3786"
             ],
             [
              0.5555555555555556,
              "#d8576b"
             ],
             [
              0.6666666666666666,
              "#ed7953"
             ],
             [
              0.7777777777777778,
              "#fb9f3a"
             ],
             [
              0.8888888888888888,
              "#fdca26"
             ],
             [
              1,
              "#f0f921"
             ]
            ],
            "type": "histogram2dcontour"
           }
          ],
          "mesh3d": [
           {
            "colorbar": {
             "outlinewidth": 0,
             "ticks": ""
            },
            "type": "mesh3d"
           }
          ],
          "parcoords": [
           {
            "line": {
             "colorbar": {
              "outlinewidth": 0,
              "ticks": ""
             }
            },
            "type": "parcoords"
           }
          ],
          "pie": [
           {
            "automargin": true,
            "type": "pie"
           }
          ],
          "scatter": [
           {
            "fillpattern": {
             "fillmode": "overlay",
             "size": 10,
             "solidity": 0.2
            },
            "type": "scatter"
           }
          ],
          "scatter3d": [
           {
            "line": {
             "colorbar": {
              "outlinewidth": 0,
              "ticks": ""
             }
            },
            "marker": {
             "colorbar": {
              "outlinewidth": 0,
              "ticks": ""
             }
            },
            "type": "scatter3d"
           }
          ],
          "scattercarpet": [
           {
            "marker": {
             "colorbar": {
              "outlinewidth": 0,
              "ticks": ""
             }
            },
            "type": "scattercarpet"
           }
          ],
          "scattergeo": [
           {
            "marker": {
             "colorbar": {
              "outlinewidth": 0,
              "ticks": ""
             }
            },
            "type": "scattergeo"
           }
          ],
          "scattergl": [
           {
            "marker": {
             "colorbar": {
              "outlinewidth": 0,
              "ticks": ""
             }
            },
            "type": "scattergl"
           }
          ],
          "scattermap": [
           {
            "marker": {
             "colorbar": {
              "outlinewidth": 0,
              "ticks": ""
             }
            },
            "type": "scattermap"
           }
          ],
          "scattermapbox": [
           {
            "marker": {
             "colorbar": {
              "outlinewidth": 0,
              "ticks": ""
             }
            },
            "type": "scattermapbox"
           }
          ],
          "scatterpolar": [
           {
            "marker": {
             "colorbar": {
              "outlinewidth": 0,
              "ticks": ""
             }
            },
            "type": "scatterpolar"
           }
          ],
          "scatterpolargl": [
           {
            "marker": {
             "colorbar": {
              "outlinewidth": 0,
              "ticks": ""
             }
            },
            "type": "scatterpolargl"
           }
          ],
          "scatterternary": [
           {
            "marker": {
             "colorbar": {
              "outlinewidth": 0,
              "ticks": ""
             }
            },
            "type": "scatterternary"
           }
          ],
          "surface": [
           {
            "colorbar": {
             "outlinewidth": 0,
             "ticks": ""
            },
            "colorscale": [
             [
              0,
              "#0d0887"
             ],
             [
              0.1111111111111111,
              "#46039f"
             ],
             [
              0.2222222222222222,
              "#7201a8"
             ],
             [
              0.3333333333333333,
              "#9c179e"
             ],
             [
              0.4444444444444444,
              "#bd3786"
             ],
             [
              0.5555555555555556,
              "#d8576b"
             ],
             [
              0.6666666666666666,
              "#ed7953"
             ],
             [
              0.7777777777777778,
              "#fb9f3a"
             ],
             [
              0.8888888888888888,
              "#fdca26"
             ],
             [
              1,
              "#f0f921"
             ]
            ],
            "type": "surface"
           }
          ],
          "table": [
           {
            "cells": {
             "fill": {
              "color": "#EBF0F8"
             },
             "line": {
              "color": "white"
             }
            },
            "header": {
             "fill": {
              "color": "#C8D4E3"
             },
             "line": {
              "color": "white"
             }
            },
            "type": "table"
           }
          ]
         },
         "layout": {
          "annotationdefaults": {
           "arrowcolor": "#2a3f5f",
           "arrowhead": 0,
           "arrowwidth": 1
          },
          "autotypenumbers": "strict",
          "coloraxis": {
           "colorbar": {
            "outlinewidth": 0,
            "ticks": ""
           }
          },
          "colorscale": {
           "diverging": [
            [
             0,
             "#8e0152"
            ],
            [
             0.1,
             "#c51b7d"
            ],
            [
             0.2,
             "#de77ae"
            ],
            [
             0.3,
             "#f1b6da"
            ],
            [
             0.4,
             "#fde0ef"
            ],
            [
             0.5,
             "#f7f7f7"
            ],
            [
             0.6,
             "#e6f5d0"
            ],
            [
             0.7,
             "#b8e186"
            ],
            [
             0.8,
             "#7fbc41"
            ],
            [
             0.9,
             "#4d9221"
            ],
            [
             1,
             "#276419"
            ]
           ],
           "sequential": [
            [
             0,
             "#0d0887"
            ],
            [
             0.1111111111111111,
             "#46039f"
            ],
            [
             0.2222222222222222,
             "#7201a8"
            ],
            [
             0.3333333333333333,
             "#9c179e"
            ],
            [
             0.4444444444444444,
             "#bd3786"
            ],
            [
             0.5555555555555556,
             "#d8576b"
            ],
            [
             0.6666666666666666,
             "#ed7953"
            ],
            [
             0.7777777777777778,
             "#fb9f3a"
            ],
            [
             0.8888888888888888,
             "#fdca26"
            ],
            [
             1,
             "#f0f921"
            ]
           ],
           "sequentialminus": [
            [
             0,
             "#0d0887"
            ],
            [
             0.1111111111111111,
             "#46039f"
            ],
            [
             0.2222222222222222,
             "#7201a8"
            ],
            [
             0.3333333333333333,
             "#9c179e"
            ],
            [
             0.4444444444444444,
             "#bd3786"
            ],
            [
             0.5555555555555556,
             "#d8576b"
            ],
            [
             0.6666666666666666,
             "#ed7953"
            ],
            [
             0.7777777777777778,
             "#fb9f3a"
            ],
            [
             0.8888888888888888,
             "#fdca26"
            ],
            [
             1,
             "#f0f921"
            ]
           ]
          },
          "colorway": [
           "#636efa",
           "#EF553B",
           "#00cc96",
           "#ab63fa",
           "#FFA15A",
           "#19d3f3",
           "#FF6692",
           "#B6E880",
           "#FF97FF",
           "#FECB52"
          ],
          "font": {
           "color": "#2a3f5f"
          },
          "geo": {
           "bgcolor": "white",
           "lakecolor": "white",
           "landcolor": "white",
           "showlakes": true,
           "showland": true,
           "subunitcolor": "#C8D4E3"
          },
          "hoverlabel": {
           "align": "left"
          },
          "hovermode": "closest",
          "mapbox": {
           "style": "light"
          },
          "paper_bgcolor": "white",
          "plot_bgcolor": "white",
          "polar": {
           "angularaxis": {
            "gridcolor": "#EBF0F8",
            "linecolor": "#EBF0F8",
            "ticks": ""
           },
           "bgcolor": "white",
           "radialaxis": {
            "gridcolor": "#EBF0F8",
            "linecolor": "#EBF0F8",
            "ticks": ""
           }
          },
          "scene": {
           "xaxis": {
            "backgroundcolor": "white",
            "gridcolor": "#DFE8F3",
            "gridwidth": 2,
            "linecolor": "#EBF0F8",
            "showbackground": true,
            "ticks": "",
            "zerolinecolor": "#EBF0F8"
           },
           "yaxis": {
            "backgroundcolor": "white",
            "gridcolor": "#DFE8F3",
            "gridwidth": 2,
            "linecolor": "#EBF0F8",
            "showbackground": true,
            "ticks": "",
            "zerolinecolor": "#EBF0F8"
           },
           "zaxis": {
            "backgroundcolor": "white",
            "gridcolor": "#DFE8F3",
            "gridwidth": 2,
            "linecolor": "#EBF0F8",
            "showbackground": true,
            "ticks": "",
            "zerolinecolor": "#EBF0F8"
           }
          },
          "shapedefaults": {
           "line": {
            "color": "#2a3f5f"
           }
          },
          "ternary": {
           "aaxis": {
            "gridcolor": "#DFE8F3",
            "linecolor": "#A2B1C6",
            "ticks": ""
           },
           "baxis": {
            "gridcolor": "#DFE8F3",
            "linecolor": "#A2B1C6",
            "ticks": ""
           },
           "bgcolor": "white",
           "caxis": {
            "gridcolor": "#DFE8F3",
            "linecolor": "#A2B1C6",
            "ticks": ""
           }
          },
          "title": {
           "x": 0.05
          },
          "xaxis": {
           "automargin": true,
           "gridcolor": "#EBF0F8",
           "linecolor": "#EBF0F8",
           "ticks": "",
           "title": {
            "standoff": 15
           },
           "zerolinecolor": "#EBF0F8",
           "zerolinewidth": 2
          },
          "yaxis": {
           "automargin": true,
           "gridcolor": "#EBF0F8",
           "linecolor": "#EBF0F8",
           "ticks": "",
           "title": {
            "standoff": 15
           },
           "zerolinecolor": "#EBF0F8",
           "zerolinewidth": 2
          }
         }
        },
        "title": {
         "text": "Client Performance Analysis"
        },
        "xaxis": {
         "anchor": "y",
         "domain": [
          0,
          0.45
         ],
         "title": {
          "text": "Client ID"
         }
        },
        "xaxis2": {
         "anchor": "y2",
         "domain": [
          0.55,
          1
         ],
         "title": {
          "text": "Client ID"
         }
        },
        "xaxis3": {
         "anchor": "y3",
         "domain": [
          0,
          0.45
         ],
         "title": {
          "text": "Client ID"
         }
        },
        "xaxis4": {
         "anchor": "y4",
         "domain": [
          0.55,
          1
         ],
         "title": {
          "text": "Duration (s)"
         }
        },
        "yaxis": {
         "anchor": "x",
         "domain": [
          0.625,
          1
         ],
         "title": {
          "text": "Duration (s)"
         }
        },
        "yaxis2": {
         "anchor": "x2",
         "domain": [
          0.625,
          1
         ],
         "title": {
          "text": "Loss"
         }
        },
        "yaxis3": {
         "anchor": "x3",
         "domain": [
          0,
          0.375
         ],
         "title": {
          "text": "Examples"
         }
        },
        "yaxis4": {
         "anchor": "x4",
         "domain": [
          0,
          0.375
         ],
         "title": {
          "text": "Loss"
         }
        }
       }
      }
     },
     "metadata": {},
     "output_type": "display_data"
    }
   ],
   "source": [
    "fig_clients = make_subplots(\n",
    "    rows=2, cols=2,\n",
    "    subplot_titles=(\n",
    "        'Average Training Duration by Client',\n",
    "        'Average Loss by Client', \n",
    "        'Training Examples per Client',\n",
    "        'Duration vs Loss Correlation'\n",
    "    ),\n",
    "    specs=[[{\"secondary_y\": False}, {\"secondary_y\": False}],\n",
    "            [{\"secondary_y\": False}, {\"secondary_y\": False}]]\n",
    ")\n",
    "\n",
    "# Duration distribution\n",
    "fig_clients.add_trace(\n",
    "    go.Bar(\n",
    "        x=client_avg_duration.index,\n",
    "        y=client_avg_duration.values,\n",
    "        name='Avg Duration',\n",
    "        marker_color='lightblue',\n",
    "        hovertemplate=\"Client: %{x}<br>Avg Duration: %{y:.3f}s<extra></extra>\"\n",
    "    ),\n",
    "    row=1, col=1\n",
    ")\n",
    "\n",
    "# Loss distribution\n",
    "fig_clients.add_trace(\n",
    "    go.Bar(\n",
    "        x=client_avg_loss.index,\n",
    "        y=client_avg_loss.values,\n",
    "        name='Avg Loss',\n",
    "        marker_color='lightcoral',\n",
    "        hovertemplate=\"Client: %{x}<br>Avg Loss: %{y:.3f}<extra></extra>\"\n",
    "    ),\n",
    "    row=1, col=2\n",
    ")\n",
    "\n",
    "# Examples distribution\n",
    "fig_clients.add_trace(\n",
    "    go.Bar(\n",
    "        x=client_examples.index,\n",
    "        y=client_examples.values,\n",
    "        name='Examples',\n",
    "        marker_color='lightgreen',\n",
    "        hovertemplate=\"Client: %{x}<br>Examples: %{y:.0f}<extra></extra>\"\n",
    "    ),\n",
    "    row=2, col=1\n",
    ")\n",
    "\n",
    "# Duration vs Loss scatter\n",
    "fig_clients.add_trace(\n",
    "    go.Scatter(\n",
    "        x=client_avg_duration.values,\n",
    "        y=client_avg_loss.values,\n",
    "        mode='markers',\n",
    "        marker=dict(\n",
    "            size=10,\n",
    "            color=client_examples.values,\n",
    "            colorscale='Viridis',\n",
    "            showscale=True,\n",
    "            colorbar=dict(title=\"Examples\")\n",
    "        ),\n",
    "        text=client_avg_duration.index,\n",
    "        hovertemplate=\"Client: %{text}<br>Duration: %{x:.3f}s<br>Loss: %{y:.3f}<br>Examples: %{marker.color:.0f}<extra></extra>\",\n",
    "        name='Client Performance'\n",
    "    ),\n",
    "    row=2, col=2\n",
    ")\n",
    "\n",
    "fig_clients.update_layout(\n",
    "    height=800,\n",
    "    showlegend=False,\n",
    "    template=\"plotly_white\",\n",
    "    title_text=\"Client Performance Analysis\"\n",
    ")\n",
    "\n",
    "fig_clients.update_xaxes(title_text=\"Client ID\", row=1, col=1)\n",
    "fig_clients.update_xaxes(title_text=\"Client ID\", row=1, col=2)\n",
    "fig_clients.update_xaxes(title_text=\"Client ID\", row=2, col=1)\n",
    "fig_clients.update_xaxes(title_text=\"Duration (s)\", row=2, col=2)\n",
    "\n",
    "fig_clients.update_yaxes(title_text=\"Duration (s)\", row=1, col=1)\n",
    "fig_clients.update_yaxes(title_text=\"Loss\", row=1, col=2)\n",
    "fig_clients.update_yaxes(title_text=\"Examples\", row=2, col=1)\n",
    "fig_clients.update_yaxes(title_text=\"Loss\", row=2, col=2)\n",
    "\n",
    "fig_clients.show()\n"
   ]
  },
  {
   "cell_type": "markdown",
   "id": "0ef89630",
   "metadata": {},
   "source": [
    "##### Round Progress Over Time"
   ]
  },
  {
   "cell_type": "code",
   "execution_count": 58,
   "id": "b720eb78",
   "metadata": {},
   "outputs": [
    {
     "data": {
      "application/vnd.plotly.v1+json": {
       "config": {
        "plotlyServerURL": "https://plot.ly"
       },
       "data": [
        {
         "hovertemplate": "Round: %{x}<br>Avg Duration: %{y:.3f}s<extra></extra>",
         "line": {
          "color": "blue",
          "width": 3
         },
         "marker": {
          "size": 8
         },
         "mode": "lines+markers",
         "name": "Avg Duration",
         "type": "scatter",
         "x": {
          "bdata": "AQIDBAU=",
          "dtype": "i1"
         },
         "xaxis": "x",
         "y": {
          "bdata": "UI2XbhKDAUAMAiuHFtkBQAVWDi2ynQFAGy/dJAaBAUAdWmQ7308CQA==",
          "dtype": "f8"
         },
         "yaxis": "y"
        },
        {
         "hovertemplate": "Round: %{x}<br>Avg Loss: %{y:.3f}<extra></extra>",
         "line": {
          "color": "red",
          "width": 3
         },
         "marker": {
          "size": 8,
          "symbol": "diamond"
         },
         "mode": "lines+markers",
         "name": "Avg Loss",
         "type": "scatter",
         "x": {
          "bdata": "AQIDBAU=",
          "dtype": "i1"
         },
         "xaxis": "x",
         "y": {
          "bdata": "+kyizuiY1T/m0O/MY5XTP35sJEGqFdI/0Ep4u2Oi0D9uGKBPVfXQPw==",
          "dtype": "f8"
         },
         "yaxis": "y2"
        }
       ],
       "layout": {
        "height": 500,
        "template": {
         "data": {
          "bar": [
           {
            "error_x": {
             "color": "#2a3f5f"
            },
            "error_y": {
             "color": "#2a3f5f"
            },
            "marker": {
             "line": {
              "color": "white",
              "width": 0.5
             },
             "pattern": {
              "fillmode": "overlay",
              "size": 10,
              "solidity": 0.2
             }
            },
            "type": "bar"
           }
          ],
          "barpolar": [
           {
            "marker": {
             "line": {
              "color": "white",
              "width": 0.5
             },
             "pattern": {
              "fillmode": "overlay",
              "size": 10,
              "solidity": 0.2
             }
            },
            "type": "barpolar"
           }
          ],
          "carpet": [
           {
            "aaxis": {
             "endlinecolor": "#2a3f5f",
             "gridcolor": "#C8D4E3",
             "linecolor": "#C8D4E3",
             "minorgridcolor": "#C8D4E3",
             "startlinecolor": "#2a3f5f"
            },
            "baxis": {
             "endlinecolor": "#2a3f5f",
             "gridcolor": "#C8D4E3",
             "linecolor": "#C8D4E3",
             "minorgridcolor": "#C8D4E3",
             "startlinecolor": "#2a3f5f"
            },
            "type": "carpet"
           }
          ],
          "choropleth": [
           {
            "colorbar": {
             "outlinewidth": 0,
             "ticks": ""
            },
            "type": "choropleth"
           }
          ],
          "contour": [
           {
            "colorbar": {
             "outlinewidth": 0,
             "ticks": ""
            },
            "colorscale": [
             [
              0,
              "#0d0887"
             ],
             [
              0.1111111111111111,
              "#46039f"
             ],
             [
              0.2222222222222222,
              "#7201a8"
             ],
             [
              0.3333333333333333,
              "#9c179e"
             ],
             [
              0.4444444444444444,
              "#bd3786"
             ],
             [
              0.5555555555555556,
              "#d8576b"
             ],
             [
              0.6666666666666666,
              "#ed7953"
             ],
             [
              0.7777777777777778,
              "#fb9f3a"
             ],
             [
              0.8888888888888888,
              "#fdca26"
             ],
             [
              1,
              "#f0f921"
             ]
            ],
            "type": "contour"
           }
          ],
          "contourcarpet": [
           {
            "colorbar": {
             "outlinewidth": 0,
             "ticks": ""
            },
            "type": "contourcarpet"
           }
          ],
          "heatmap": [
           {
            "colorbar": {
             "outlinewidth": 0,
             "ticks": ""
            },
            "colorscale": [
             [
              0,
              "#0d0887"
             ],
             [
              0.1111111111111111,
              "#46039f"
             ],
             [
              0.2222222222222222,
              "#7201a8"
             ],
             [
              0.3333333333333333,
              "#9c179e"
             ],
             [
              0.4444444444444444,
              "#bd3786"
             ],
             [
              0.5555555555555556,
              "#d8576b"
             ],
             [
              0.6666666666666666,
              "#ed7953"
             ],
             [
              0.7777777777777778,
              "#fb9f3a"
             ],
             [
              0.8888888888888888,
              "#fdca26"
             ],
             [
              1,
              "#f0f921"
             ]
            ],
            "type": "heatmap"
           }
          ],
          "histogram": [
           {
            "marker": {
             "pattern": {
              "fillmode": "overlay",
              "size": 10,
              "solidity": 0.2
             }
            },
            "type": "histogram"
           }
          ],
          "histogram2d": [
           {
            "colorbar": {
             "outlinewidth": 0,
             "ticks": ""
            },
            "colorscale": [
             [
              0,
              "#0d0887"
             ],
             [
              0.1111111111111111,
              "#46039f"
             ],
             [
              0.2222222222222222,
              "#7201a8"
             ],
             [
              0.3333333333333333,
              "#9c179e"
             ],
             [
              0.4444444444444444,
              "#bd3786"
             ],
             [
              0.5555555555555556,
              "#d8576b"
             ],
             [
              0.6666666666666666,
              "#ed7953"
             ],
             [
              0.7777777777777778,
              "#fb9f3a"
             ],
             [
              0.8888888888888888,
              "#fdca26"
             ],
             [
              1,
              "#f0f921"
             ]
            ],
            "type": "histogram2d"
           }
          ],
          "histogram2dcontour": [
           {
            "colorbar": {
             "outlinewidth": 0,
             "ticks": ""
            },
            "colorscale": [
             [
              0,
              "#0d0887"
             ],
             [
              0.1111111111111111,
              "#46039f"
             ],
             [
              0.2222222222222222,
              "#7201a8"
             ],
             [
              0.3333333333333333,
              "#9c179e"
             ],
             [
              0.4444444444444444,
              "#bd3786"
             ],
             [
              0.5555555555555556,
              "#d8576b"
             ],
             [
              0.6666666666666666,
              "#ed7953"
             ],
             [
              0.7777777777777778,
              "#fb9f3a"
             ],
             [
              0.8888888888888888,
              "#fdca26"
             ],
             [
              1,
              "#f0f921"
             ]
            ],
            "type": "histogram2dcontour"
           }
          ],
          "mesh3d": [
           {
            "colorbar": {
             "outlinewidth": 0,
             "ticks": ""
            },
            "type": "mesh3d"
           }
          ],
          "parcoords": [
           {
            "line": {
             "colorbar": {
              "outlinewidth": 0,
              "ticks": ""
             }
            },
            "type": "parcoords"
           }
          ],
          "pie": [
           {
            "automargin": true,
            "type": "pie"
           }
          ],
          "scatter": [
           {
            "fillpattern": {
             "fillmode": "overlay",
             "size": 10,
             "solidity": 0.2
            },
            "type": "scatter"
           }
          ],
          "scatter3d": [
           {
            "line": {
             "colorbar": {
              "outlinewidth": 0,
              "ticks": ""
             }
            },
            "marker": {
             "colorbar": {
              "outlinewidth": 0,
              "ticks": ""
             }
            },
            "type": "scatter3d"
           }
          ],
          "scattercarpet": [
           {
            "marker": {
             "colorbar": {
              "outlinewidth": 0,
              "ticks": ""
             }
            },
            "type": "scattercarpet"
           }
          ],
          "scattergeo": [
           {
            "marker": {
             "colorbar": {
              "outlinewidth": 0,
              "ticks": ""
             }
            },
            "type": "scattergeo"
           }
          ],
          "scattergl": [
           {
            "marker": {
             "colorbar": {
              "outlinewidth": 0,
              "ticks": ""
             }
            },
            "type": "scattergl"
           }
          ],
          "scattermap": [
           {
            "marker": {
             "colorbar": {
              "outlinewidth": 0,
              "ticks": ""
             }
            },
            "type": "scattermap"
           }
          ],
          "scattermapbox": [
           {
            "marker": {
             "colorbar": {
              "outlinewidth": 0,
              "ticks": ""
             }
            },
            "type": "scattermapbox"
           }
          ],
          "scatterpolar": [
           {
            "marker": {
             "colorbar": {
              "outlinewidth": 0,
              "ticks": ""
             }
            },
            "type": "scatterpolar"
           }
          ],
          "scatterpolargl": [
           {
            "marker": {
             "colorbar": {
              "outlinewidth": 0,
              "ticks": ""
             }
            },
            "type": "scatterpolargl"
           }
          ],
          "scatterternary": [
           {
            "marker": {
             "colorbar": {
              "outlinewidth": 0,
              "ticks": ""
             }
            },
            "type": "scatterternary"
           }
          ],
          "surface": [
           {
            "colorbar": {
             "outlinewidth": 0,
             "ticks": ""
            },
            "colorscale": [
             [
              0,
              "#0d0887"
             ],
             [
              0.1111111111111111,
              "#46039f"
             ],
             [
              0.2222222222222222,
              "#7201a8"
             ],
             [
              0.3333333333333333,
              "#9c179e"
             ],
             [
              0.4444444444444444,
              "#bd3786"
             ],
             [
              0.5555555555555556,
              "#d8576b"
             ],
             [
              0.6666666666666666,
              "#ed7953"
             ],
             [
              0.7777777777777778,
              "#fb9f3a"
             ],
             [
              0.8888888888888888,
              "#fdca26"
             ],
             [
              1,
              "#f0f921"
             ]
            ],
            "type": "surface"
           }
          ],
          "table": [
           {
            "cells": {
             "fill": {
              "color": "#EBF0F8"
             },
             "line": {
              "color": "white"
             }
            },
            "header": {
             "fill": {
              "color": "#C8D4E3"
             },
             "line": {
              "color": "white"
             }
            },
            "type": "table"
           }
          ]
         },
         "layout": {
          "annotationdefaults": {
           "arrowcolor": "#2a3f5f",
           "arrowhead": 0,
           "arrowwidth": 1
          },
          "autotypenumbers": "strict",
          "coloraxis": {
           "colorbar": {
            "outlinewidth": 0,
            "ticks": ""
           }
          },
          "colorscale": {
           "diverging": [
            [
             0,
             "#8e0152"
            ],
            [
             0.1,
             "#c51b7d"
            ],
            [
             0.2,
             "#de77ae"
            ],
            [
             0.3,
             "#f1b6da"
            ],
            [
             0.4,
             "#fde0ef"
            ],
            [
             0.5,
             "#f7f7f7"
            ],
            [
             0.6,
             "#e6f5d0"
            ],
            [
             0.7,
             "#b8e186"
            ],
            [
             0.8,
             "#7fbc41"
            ],
            [
             0.9,
             "#4d9221"
            ],
            [
             1,
             "#276419"
            ]
           ],
           "sequential": [
            [
             0,
             "#0d0887"
            ],
            [
             0.1111111111111111,
             "#46039f"
            ],
            [
             0.2222222222222222,
             "#7201a8"
            ],
            [
             0.3333333333333333,
             "#9c179e"
            ],
            [
             0.4444444444444444,
             "#bd3786"
            ],
            [
             0.5555555555555556,
             "#d8576b"
            ],
            [
             0.6666666666666666,
             "#ed7953"
            ],
            [
             0.7777777777777778,
             "#fb9f3a"
            ],
            [
             0.8888888888888888,
             "#fdca26"
            ],
            [
             1,
             "#f0f921"
            ]
           ],
           "sequentialminus": [
            [
             0,
             "#0d0887"
            ],
            [
             0.1111111111111111,
             "#46039f"
            ],
            [
             0.2222222222222222,
             "#7201a8"
            ],
            [
             0.3333333333333333,
             "#9c179e"
            ],
            [
             0.4444444444444444,
             "#bd3786"
            ],
            [
             0.5555555555555556,
             "#d8576b"
            ],
            [
             0.6666666666666666,
             "#ed7953"
            ],
            [
             0.7777777777777778,
             "#fb9f3a"
            ],
            [
             0.8888888888888888,
             "#fdca26"
            ],
            [
             1,
             "#f0f921"
            ]
           ]
          },
          "colorway": [
           "#636efa",
           "#EF553B",
           "#00cc96",
           "#ab63fa",
           "#FFA15A",
           "#19d3f3",
           "#FF6692",
           "#B6E880",
           "#FF97FF",
           "#FECB52"
          ],
          "font": {
           "color": "#2a3f5f"
          },
          "geo": {
           "bgcolor": "white",
           "lakecolor": "white",
           "landcolor": "white",
           "showlakes": true,
           "showland": true,
           "subunitcolor": "#C8D4E3"
          },
          "hoverlabel": {
           "align": "left"
          },
          "hovermode": "closest",
          "mapbox": {
           "style": "light"
          },
          "paper_bgcolor": "white",
          "plot_bgcolor": "white",
          "polar": {
           "angularaxis": {
            "gridcolor": "#EBF0F8",
            "linecolor": "#EBF0F8",
            "ticks": ""
           },
           "bgcolor": "white",
           "radialaxis": {
            "gridcolor": "#EBF0F8",
            "linecolor": "#EBF0F8",
            "ticks": ""
           }
          },
          "scene": {
           "xaxis": {
            "backgroundcolor": "white",
            "gridcolor": "#DFE8F3",
            "gridwidth": 2,
            "linecolor": "#EBF0F8",
            "showbackground": true,
            "ticks": "",
            "zerolinecolor": "#EBF0F8"
           },
           "yaxis": {
            "backgroundcolor": "white",
            "gridcolor": "#DFE8F3",
            "gridwidth": 2,
            "linecolor": "#EBF0F8",
            "showbackground": true,
            "ticks": "",
            "zerolinecolor": "#EBF0F8"
           },
           "zaxis": {
            "backgroundcolor": "white",
            "gridcolor": "#DFE8F3",
            "gridwidth": 2,
            "linecolor": "#EBF0F8",
            "showbackground": true,
            "ticks": "",
            "zerolinecolor": "#EBF0F8"
           }
          },
          "shapedefaults": {
           "line": {
            "color": "#2a3f5f"
           }
          },
          "ternary": {
           "aaxis": {
            "gridcolor": "#DFE8F3",
            "linecolor": "#A2B1C6",
            "ticks": ""
           },
           "baxis": {
            "gridcolor": "#DFE8F3",
            "linecolor": "#A2B1C6",
            "ticks": ""
           },
           "bgcolor": "white",
           "caxis": {
            "gridcolor": "#DFE8F3",
            "linecolor": "#A2B1C6",
            "ticks": ""
           }
          },
          "title": {
           "x": 0.05
          },
          "xaxis": {
           "automargin": true,
           "gridcolor": "#EBF0F8",
           "linecolor": "#EBF0F8",
           "ticks": "",
           "title": {
            "standoff": 15
           },
           "zerolinecolor": "#EBF0F8",
           "zerolinewidth": 2
          },
          "yaxis": {
           "automargin": true,
           "gridcolor": "#EBF0F8",
           "linecolor": "#EBF0F8",
           "ticks": "",
           "title": {
            "standoff": 15
           },
           "zerolinecolor": "#EBF0F8",
           "zerolinewidth": 2
          }
         }
        },
        "title": {
         "text": "Training Progress Across Rounds"
        },
        "xaxis": {
         "anchor": "y",
         "domain": [
          0,
          0.94
         ],
         "title": {
          "text": "Round Number"
         }
        },
        "yaxis": {
         "anchor": "x",
         "domain": [
          0,
          1
         ],
         "title": {
          "text": "Average Duration (s)"
         }
        },
        "yaxis2": {
         "anchor": "x",
         "overlaying": "y",
         "side": "right",
         "title": {
          "text": "Average Loss"
         }
        }
       }
      }
     },
     "metadata": {},
     "output_type": "display_data"
    }
   ],
   "source": [
    "fig_rounds = make_subplots(\n",
    "    specs=[[{\"secondary_y\": True}]]\n",
    ")\n",
    "\n",
    "# Duration trend\n",
    "fig_rounds.add_trace(\n",
    "    go.Scatter(\n",
    "        x=round_avg_duration.index,\n",
    "        y=round_avg_duration.values,\n",
    "        mode='lines+markers',\n",
    "        name='Avg Duration',\n",
    "        line=dict(color='blue', width=3),\n",
    "        marker=dict(size=8),\n",
    "        hovertemplate=\"Round: %{x}<br>Avg Duration: %{y:.3f}s<extra></extra>\"\n",
    "    ),\n",
    "    secondary_y=False\n",
    ")\n",
    "\n",
    "# Loss trend\n",
    "fig_rounds.add_trace(\n",
    "    go.Scatter(\n",
    "        x=round_avg_loss.index,\n",
    "        y=round_avg_loss.values,\n",
    "        mode='lines+markers',\n",
    "        name='Avg Loss',\n",
    "        line=dict(color='red', width=3),\n",
    "        marker=dict(size=8, symbol='diamond'),\n",
    "        hovertemplate=\"Round: %{x}<br>Avg Loss: %{y:.3f}<extra></extra>\"\n",
    "    ),\n",
    "    secondary_y=True\n",
    ")\n",
    "\n",
    "fig_rounds.update_layout(\n",
    "    title=\"Training Progress Across Rounds\",\n",
    "    xaxis_title=\"Round Number\",\n",
    "    template=\"plotly_white\",\n",
    "    height=500\n",
    ")\n",
    "\n",
    "fig_rounds.update_yaxes(title_text=\"Average Duration (s)\", secondary_y=False)\n",
    "fig_rounds.update_yaxes(title_text=\"Average Loss\", secondary_y=True)\n",
    "\n",
    "fig_rounds.show()\n"
   ]
  },
  {
   "cell_type": "markdown",
   "id": "cfcac7e6",
   "metadata": {},
   "source": [
    "##### Performance Rankings"
   ]
  },
  {
   "cell_type": "code",
   "execution_count": 59,
   "id": "444618f7",
   "metadata": {},
   "outputs": [
    {
     "data": {
      "application/vnd.plotly.v1+json": {
       "config": {
        "plotlyServerURL": "https://plot.ly"
       },
       "data": [
        {
         "hovertemplate": "Client: %{y}<br>Duration: %{x:.3f}s<extra></extra>",
         "marker": {
          "color": "green"
         },
         "name": "Fastest",
         "orientation": "h",
         "type": "bar",
         "x": {
          "bdata": "oBov3SQG8T8yMzMzMzPzP9V46SYxCPQ/YhBYObTI+j81XrpJDAIBQA==",
          "dtype": "f8"
         },
         "xaxis": "x",
         "y": [
          "3",
          "2",
          "6",
          "0",
          "8"
         ],
         "yaxis": "y"
        },
        {
         "hovertemplate": "Client: %{y}<br>Loss: %{x:.3f}<extra></extra>",
         "marker": {
          "color": "orange"
         },
         "name": "Best Performance",
         "orientation": "h",
         "type": "bar",
         "x": {
          "bdata": "AcC4UF6/yD+IGehYExzMP0BDUMnM4M0/TrQbmjQ50D8XXolDiqbQPw==",
          "dtype": "f8"
         },
         "xaxis": "x2",
         "y": [
          "2",
          "3",
          "7",
          "6",
          "5"
         ],
         "yaxis": "y2"
        }
       ],
       "layout": {
        "annotations": [
         {
          "font": {
           "size": 16
          },
          "showarrow": false,
          "text": "Fastest Clients (Lowest Duration)",
          "x": 0.225,
          "xanchor": "center",
          "xref": "paper",
          "y": 1,
          "yanchor": "bottom",
          "yref": "paper"
         },
         {
          "font": {
           "size": 16
          },
          "showarrow": false,
          "text": "Best Performing Clients (Lowest Loss)",
          "x": 0.775,
          "xanchor": "center",
          "xref": "paper",
          "y": 1,
          "yanchor": "bottom",
          "yref": "paper"
         }
        ],
        "height": 400,
        "showlegend": false,
        "template": {
         "data": {
          "bar": [
           {
            "error_x": {
             "color": "#2a3f5f"
            },
            "error_y": {
             "color": "#2a3f5f"
            },
            "marker": {
             "line": {
              "color": "white",
              "width": 0.5
             },
             "pattern": {
              "fillmode": "overlay",
              "size": 10,
              "solidity": 0.2
             }
            },
            "type": "bar"
           }
          ],
          "barpolar": [
           {
            "marker": {
             "line": {
              "color": "white",
              "width": 0.5
             },
             "pattern": {
              "fillmode": "overlay",
              "size": 10,
              "solidity": 0.2
             }
            },
            "type": "barpolar"
           }
          ],
          "carpet": [
           {
            "aaxis": {
             "endlinecolor": "#2a3f5f",
             "gridcolor": "#C8D4E3",
             "linecolor": "#C8D4E3",
             "minorgridcolor": "#C8D4E3",
             "startlinecolor": "#2a3f5f"
            },
            "baxis": {
             "endlinecolor": "#2a3f5f",
             "gridcolor": "#C8D4E3",
             "linecolor": "#C8D4E3",
             "minorgridcolor": "#C8D4E3",
             "startlinecolor": "#2a3f5f"
            },
            "type": "carpet"
           }
          ],
          "choropleth": [
           {
            "colorbar": {
             "outlinewidth": 0,
             "ticks": ""
            },
            "type": "choropleth"
           }
          ],
          "contour": [
           {
            "colorbar": {
             "outlinewidth": 0,
             "ticks": ""
            },
            "colorscale": [
             [
              0,
              "#0d0887"
             ],
             [
              0.1111111111111111,
              "#46039f"
             ],
             [
              0.2222222222222222,
              "#7201a8"
             ],
             [
              0.3333333333333333,
              "#9c179e"
             ],
             [
              0.4444444444444444,
              "#bd3786"
             ],
             [
              0.5555555555555556,
              "#d8576b"
             ],
             [
              0.6666666666666666,
              "#ed7953"
             ],
             [
              0.7777777777777778,
              "#fb9f3a"
             ],
             [
              0.8888888888888888,
              "#fdca26"
             ],
             [
              1,
              "#f0f921"
             ]
            ],
            "type": "contour"
           }
          ],
          "contourcarpet": [
           {
            "colorbar": {
             "outlinewidth": 0,
             "ticks": ""
            },
            "type": "contourcarpet"
           }
          ],
          "heatmap": [
           {
            "colorbar": {
             "outlinewidth": 0,
             "ticks": ""
            },
            "colorscale": [
             [
              0,
              "#0d0887"
             ],
             [
              0.1111111111111111,
              "#46039f"
             ],
             [
              0.2222222222222222,
              "#7201a8"
             ],
             [
              0.3333333333333333,
              "#9c179e"
             ],
             [
              0.4444444444444444,
              "#bd3786"
             ],
             [
              0.5555555555555556,
              "#d8576b"
             ],
             [
              0.6666666666666666,
              "#ed7953"
             ],
             [
              0.7777777777777778,
              "#fb9f3a"
             ],
             [
              0.8888888888888888,
              "#fdca26"
             ],
             [
              1,
              "#f0f921"
             ]
            ],
            "type": "heatmap"
           }
          ],
          "histogram": [
           {
            "marker": {
             "pattern": {
              "fillmode": "overlay",
              "size": 10,
              "solidity": 0.2
             }
            },
            "type": "histogram"
           }
          ],
          "histogram2d": [
           {
            "colorbar": {
             "outlinewidth": 0,
             "ticks": ""
            },
            "colorscale": [
             [
              0,
              "#0d0887"
             ],
             [
              0.1111111111111111,
              "#46039f"
             ],
             [
              0.2222222222222222,
              "#7201a8"
             ],
             [
              0.3333333333333333,
              "#9c179e"
             ],
             [
              0.4444444444444444,
              "#bd3786"
             ],
             [
              0.5555555555555556,
              "#d8576b"
             ],
             [
              0.6666666666666666,
              "#ed7953"
             ],
             [
              0.7777777777777778,
              "#fb9f3a"
             ],
             [
              0.8888888888888888,
              "#fdca26"
             ],
             [
              1,
              "#f0f921"
             ]
            ],
            "type": "histogram2d"
           }
          ],
          "histogram2dcontour": [
           {
            "colorbar": {
             "outlinewidth": 0,
             "ticks": ""
            },
            "colorscale": [
             [
              0,
              "#0d0887"
             ],
             [
              0.1111111111111111,
              "#46039f"
             ],
             [
              0.2222222222222222,
              "#7201a8"
             ],
             [
              0.3333333333333333,
              "#9c179e"
             ],
             [
              0.4444444444444444,
              "#bd3786"
             ],
             [
              0.5555555555555556,
              "#d8576b"
             ],
             [
              0.6666666666666666,
              "#ed7953"
             ],
             [
              0.7777777777777778,
              "#fb9f3a"
             ],
             [
              0.8888888888888888,
              "#fdca26"
             ],
             [
              1,
              "#f0f921"
             ]
            ],
            "type": "histogram2dcontour"
           }
          ],
          "mesh3d": [
           {
            "colorbar": {
             "outlinewidth": 0,
             "ticks": ""
            },
            "type": "mesh3d"
           }
          ],
          "parcoords": [
           {
            "line": {
             "colorbar": {
              "outlinewidth": 0,
              "ticks": ""
             }
            },
            "type": "parcoords"
           }
          ],
          "pie": [
           {
            "automargin": true,
            "type": "pie"
           }
          ],
          "scatter": [
           {
            "fillpattern": {
             "fillmode": "overlay",
             "size": 10,
             "solidity": 0.2
            },
            "type": "scatter"
           }
          ],
          "scatter3d": [
           {
            "line": {
             "colorbar": {
              "outlinewidth": 0,
              "ticks": ""
             }
            },
            "marker": {
             "colorbar": {
              "outlinewidth": 0,
              "ticks": ""
             }
            },
            "type": "scatter3d"
           }
          ],
          "scattercarpet": [
           {
            "marker": {
             "colorbar": {
              "outlinewidth": 0,
              "ticks": ""
             }
            },
            "type": "scattercarpet"
           }
          ],
          "scattergeo": [
           {
            "marker": {
             "colorbar": {
              "outlinewidth": 0,
              "ticks": ""
             }
            },
            "type": "scattergeo"
           }
          ],
          "scattergl": [
           {
            "marker": {
             "colorbar": {
              "outlinewidth": 0,
              "ticks": ""
             }
            },
            "type": "scattergl"
           }
          ],
          "scattermap": [
           {
            "marker": {
             "colorbar": {
              "outlinewidth": 0,
              "ticks": ""
             }
            },
            "type": "scattermap"
           }
          ],
          "scattermapbox": [
           {
            "marker": {
             "colorbar": {
              "outlinewidth": 0,
              "ticks": ""
             }
            },
            "type": "scattermapbox"
           }
          ],
          "scatterpolar": [
           {
            "marker": {
             "colorbar": {
              "outlinewidth": 0,
              "ticks": ""
             }
            },
            "type": "scatterpolar"
           }
          ],
          "scatterpolargl": [
           {
            "marker": {
             "colorbar": {
              "outlinewidth": 0,
              "ticks": ""
             }
            },
            "type": "scatterpolargl"
           }
          ],
          "scatterternary": [
           {
            "marker": {
             "colorbar": {
              "outlinewidth": 0,
              "ticks": ""
             }
            },
            "type": "scatterternary"
           }
          ],
          "surface": [
           {
            "colorbar": {
             "outlinewidth": 0,
             "ticks": ""
            },
            "colorscale": [
             [
              0,
              "#0d0887"
             ],
             [
              0.1111111111111111,
              "#46039f"
             ],
             [
              0.2222222222222222,
              "#7201a8"
             ],
             [
              0.3333333333333333,
              "#9c179e"
             ],
             [
              0.4444444444444444,
              "#bd3786"
             ],
             [
              0.5555555555555556,
              "#d8576b"
             ],
             [
              0.6666666666666666,
              "#ed7953"
             ],
             [
              0.7777777777777778,
              "#fb9f3a"
             ],
             [
              0.8888888888888888,
              "#fdca26"
             ],
             [
              1,
              "#f0f921"
             ]
            ],
            "type": "surface"
           }
          ],
          "table": [
           {
            "cells": {
             "fill": {
              "color": "#EBF0F8"
             },
             "line": {
              "color": "white"
             }
            },
            "header": {
             "fill": {
              "color": "#C8D4E3"
             },
             "line": {
              "color": "white"
             }
            },
            "type": "table"
           }
          ]
         },
         "layout": {
          "annotationdefaults": {
           "arrowcolor": "#2a3f5f",
           "arrowhead": 0,
           "arrowwidth": 1
          },
          "autotypenumbers": "strict",
          "coloraxis": {
           "colorbar": {
            "outlinewidth": 0,
            "ticks": ""
           }
          },
          "colorscale": {
           "diverging": [
            [
             0,
             "#8e0152"
            ],
            [
             0.1,
             "#c51b7d"
            ],
            [
             0.2,
             "#de77ae"
            ],
            [
             0.3,
             "#f1b6da"
            ],
            [
             0.4,
             "#fde0ef"
            ],
            [
             0.5,
             "#f7f7f7"
            ],
            [
             0.6,
             "#e6f5d0"
            ],
            [
             0.7,
             "#b8e186"
            ],
            [
             0.8,
             "#7fbc41"
            ],
            [
             0.9,
             "#4d9221"
            ],
            [
             1,
             "#276419"
            ]
           ],
           "sequential": [
            [
             0,
             "#0d0887"
            ],
            [
             0.1111111111111111,
             "#46039f"
            ],
            [
             0.2222222222222222,
             "#7201a8"
            ],
            [
             0.3333333333333333,
             "#9c179e"
            ],
            [
             0.4444444444444444,
             "#bd3786"
            ],
            [
             0.5555555555555556,
             "#d8576b"
            ],
            [
             0.6666666666666666,
             "#ed7953"
            ],
            [
             0.7777777777777778,
             "#fb9f3a"
            ],
            [
             0.8888888888888888,
             "#fdca26"
            ],
            [
             1,
             "#f0f921"
            ]
           ],
           "sequentialminus": [
            [
             0,
             "#0d0887"
            ],
            [
             0.1111111111111111,
             "#46039f"
            ],
            [
             0.2222222222222222,
             "#7201a8"
            ],
            [
             0.3333333333333333,
             "#9c179e"
            ],
            [
             0.4444444444444444,
             "#bd3786"
            ],
            [
             0.5555555555555556,
             "#d8576b"
            ],
            [
             0.6666666666666666,
             "#ed7953"
            ],
            [
             0.7777777777777778,
             "#fb9f3a"
            ],
            [
             0.8888888888888888,
             "#fdca26"
            ],
            [
             1,
             "#f0f921"
            ]
           ]
          },
          "colorway": [
           "#636efa",
           "#EF553B",
           "#00cc96",
           "#ab63fa",
           "#FFA15A",
           "#19d3f3",
           "#FF6692",
           "#B6E880",
           "#FF97FF",
           "#FECB52"
          ],
          "font": {
           "color": "#2a3f5f"
          },
          "geo": {
           "bgcolor": "white",
           "lakecolor": "white",
           "landcolor": "white",
           "showlakes": true,
           "showland": true,
           "subunitcolor": "#C8D4E3"
          },
          "hoverlabel": {
           "align": "left"
          },
          "hovermode": "closest",
          "mapbox": {
           "style": "light"
          },
          "paper_bgcolor": "white",
          "plot_bgcolor": "white",
          "polar": {
           "angularaxis": {
            "gridcolor": "#EBF0F8",
            "linecolor": "#EBF0F8",
            "ticks": ""
           },
           "bgcolor": "white",
           "radialaxis": {
            "gridcolor": "#EBF0F8",
            "linecolor": "#EBF0F8",
            "ticks": ""
           }
          },
          "scene": {
           "xaxis": {
            "backgroundcolor": "white",
            "gridcolor": "#DFE8F3",
            "gridwidth": 2,
            "linecolor": "#EBF0F8",
            "showbackground": true,
            "ticks": "",
            "zerolinecolor": "#EBF0F8"
           },
           "yaxis": {
            "backgroundcolor": "white",
            "gridcolor": "#DFE8F3",
            "gridwidth": 2,
            "linecolor": "#EBF0F8",
            "showbackground": true,
            "ticks": "",
            "zerolinecolor": "#EBF0F8"
           },
           "zaxis": {
            "backgroundcolor": "white",
            "gridcolor": "#DFE8F3",
            "gridwidth": 2,
            "linecolor": "#EBF0F8",
            "showbackground": true,
            "ticks": "",
            "zerolinecolor": "#EBF0F8"
           }
          },
          "shapedefaults": {
           "line": {
            "color": "#2a3f5f"
           }
          },
          "ternary": {
           "aaxis": {
            "gridcolor": "#DFE8F3",
            "linecolor": "#A2B1C6",
            "ticks": ""
           },
           "baxis": {
            "gridcolor": "#DFE8F3",
            "linecolor": "#A2B1C6",
            "ticks": ""
           },
           "bgcolor": "white",
           "caxis": {
            "gridcolor": "#DFE8F3",
            "linecolor": "#A2B1C6",
            "ticks": ""
           }
          },
          "title": {
           "x": 0.05
          },
          "xaxis": {
           "automargin": true,
           "gridcolor": "#EBF0F8",
           "linecolor": "#EBF0F8",
           "ticks": "",
           "title": {
            "standoff": 15
           },
           "zerolinecolor": "#EBF0F8",
           "zerolinewidth": 2
          },
          "yaxis": {
           "automargin": true,
           "gridcolor": "#EBF0F8",
           "linecolor": "#EBF0F8",
           "ticks": "",
           "title": {
            "standoff": 15
           },
           "zerolinecolor": "#EBF0F8",
           "zerolinewidth": 2
          }
         }
        },
        "xaxis": {
         "anchor": "y",
         "domain": [
          0,
          0.45
         ],
         "title": {
          "text": "Duration (s)"
         }
        },
        "xaxis2": {
         "anchor": "y2",
         "domain": [
          0.55,
          1
         ],
         "title": {
          "text": "Loss"
         }
        },
        "yaxis": {
         "anchor": "x",
         "categoryarray": [
          "3",
          "2",
          "6",
          "0",
          "8"
         ],
         "categoryorder": "array",
         "domain": [
          0,
          1
         ],
         "title": {
          "text": "Client ID"
         }
        },
        "yaxis2": {
         "anchor": "x2",
         "categoryarray": [
          "2",
          "3",
          "7",
          "6",
          "5"
         ],
         "categoryorder": "array",
         "domain": [
          0,
          1
         ],
         "title": {
          "text": "Client ID"
         }
        }
       }
      }
     },
     "metadata": {},
     "output_type": "display_data"
    }
   ],
   "source": [
    "# Fastest clients\n",
    "fastest_clients = client_avg_duration.nsmallest(5)\n",
    "# Best performing clients (lowest loss)\n",
    "best_clients = client_avg_loss.nsmallest(5)\n",
    "\n",
    "fig_performers = make_subplots(\n",
    "    rows=1, cols=2,\n",
    "    subplot_titles=('Fastest Clients (Lowest Duration)', 'Best Performing Clients (Lowest Loss)')\n",
    ")\n",
    "\n",
    "fig_performers.add_trace(\n",
    "    go.Bar(\n",
    "        x=fastest_clients.values,\n",
    "        y=fastest_clients.index.astype(str),  # ensure categorical\n",
    "        orientation='h',\n",
    "        marker_color='green',\n",
    "        name='Fastest',\n",
    "        hovertemplate=\"Client: %{y}<br>Duration: %{x:.3f}s<extra></extra>\"\n",
    "    ),\n",
    "    row=1, col=1\n",
    ")\n",
    "\n",
    "fig_performers.add_trace(\n",
    "    go.Bar(\n",
    "        x=best_clients.values,\n",
    "        y=best_clients.index.astype(str),\n",
    "        orientation='h',\n",
    "        marker_color='orange',\n",
    "        name='Best Performance',\n",
    "        hovertemplate=\"Client: %{y}<br>Loss: %{x:.3f}<extra></extra>\"\n",
    "    ),\n",
    "    row=1, col=2\n",
    ")\n",
    "\n",
    "# Ensure only those 5 client indices appear on each y-axis\n",
    "fig_performers.update_yaxes(\n",
    "    categoryorder=\"array\",\n",
    "    categoryarray=fastest_clients.index.astype(str).tolist(),\n",
    "    title_text=\"Client ID\",\n",
    "    row=1, col=1\n",
    ")\n",
    "\n",
    "fig_performers.update_yaxes(\n",
    "    categoryorder=\"array\",\n",
    "    categoryarray=best_clients.index.astype(str).tolist(),\n",
    "    title_text=\"Client ID\",\n",
    "    row=1, col=2\n",
    ")\n",
    "\n",
    "fig_performers.update_xaxes(title_text=\"Duration (s)\", row=1, col=1)\n",
    "fig_performers.update_xaxes(title_text=\"Loss\", row=1, col=2)\n",
    "\n",
    "fig_performers.update_layout(\n",
    "    height=400,\n",
    "    template=\"plotly_white\",\n",
    "    showlegend=False\n",
    ")\n",
    "\n",
    "fig_performers.show()"
   ]
  },
  {
   "cell_type": "markdown",
   "id": "a83a7e76",
   "metadata": {},
   "source": [
    "##### Key Insights"
   ]
  },
  {
   "cell_type": "code",
   "execution_count": 60,
   "id": "46c14d73",
   "metadata": {},
   "outputs": [
    {
     "name": "stdout",
     "output_type": "stream",
     "text": [
      "• 🎯 10 clients participated in 5 training rounds\n",
      "• ⏱️  Total training time: 111.0 seconds (1.8 minutes)\n",
      "• 📊 Processed 239,975 training examples in total\n",
      "• 📉 Model improved by 21.5% from first to last round\n",
      "• 🏆 Fastest client: Client 3 (1.064s per round)\n",
      "• 🎯 Best performer: Client 2 (0.193 average loss)\n",
      "• ⚡ Average round duration: 2.220 seconds\n",
      "• 📈 Training shows positive progress across rounds\n"
     ]
    }
   ],
   "source": [
    "total_training_time = df_duration.sum().sum()\n",
    "avg_loss_improvement = (df_loss.iloc[:, 0].mean() - df_loss.iloc[:, -1].mean()) / df_loss.iloc[:, 0].mean() * 100\n",
    "\n",
    "insights = [\n",
    "    f\"• 🎯 {len(df_duration)} clients participated in {len(df_duration.columns)} training rounds\",\n",
    "    f\"• ⏱️  Total training time: {total_training_time:.1f} seconds ({total_training_time/60:.1f} minutes)\",\n",
    "    f\"• 📊 Processed {df_examples.sum().sum():,} training examples in total\",\n",
    "    f\"• 📉 Model improved by {avg_loss_improvement:.1f}% from first to last round\",\n",
    "    f\"• 🏆 Fastest client: Client {client_avg_duration.idxmin()} ({client_avg_duration.min():.3f}s per round)\",\n",
    "    f\"• 🎯 Best performer: Client {client_avg_loss.idxmin()} ({client_avg_loss.min():.3f} average loss)\",\n",
    "    f\"• ⚡ Average round duration: {df_duration.mean().mean():.3f} seconds\",\n",
    "    f\"• 📈 Training shows {'positive' if avg_loss_improvement > 0 else 'negative'} progress across rounds\"\n",
    "]\n",
    "\n",
    "for insight in insights:\n",
    "    print(insight)"
   ]
  },
  {
   "cell_type": "code",
   "execution_count": 61,
   "id": "9b1bf5a3",
   "metadata": {},
   "outputs": [
    {
     "name": "stdout",
     "output_type": "stream",
     "text": [
      "✅ Clients with complete data across all rounds:\n",
      "[0, 1, 2, 3, 4, 5, 6, 7, 8, 9]\n"
     ]
    }
   ],
   "source": [
    "print(\"✅ Clients with complete data across all rounds:\")\n",
    "print(df_duration.index.tolist())"
   ]
  },
  {
   "cell_type": "code",
   "execution_count": 62,
   "id": "f664fb0a",
   "metadata": {},
   "outputs": [],
   "source": [
    "import matplotlib.pyplot as plt\n",
    "\n",
    "# Ensure plots are large and readable\n",
    "plt.rcParams[\"figure.figsize\"] = (10, 6)"
   ]
  },
  {
   "cell_type": "markdown",
   "id": "fe18be30",
   "metadata": {},
   "source": [
    "#### 🎯 Purpose of This Visualization\n",
    "\n",
    "This visualization provides an interactive overview of how different clients perform across multiple training rounds in a federated learning setup. It highlights three key metrics:  \n",
    "\n",
    "- **Round Duration** — how long each client took per round.  \n",
    "- **Loss** — how well each client’s model performed on average.  \n",
    "- **Number of Examples** — how much data each client contributed.  \n",
    "\n",
    "By combining bars and lines on dual axes, the plot helps identify performance trends, imbalances, and correlations between computation time, model accuracy, and data volume across clients.  \n",
    "\n",
    "In short, it offers a clear, comparative view of **client efficiency, reliability, and contribution** throughout the training process.\n"
   ]
  },
  {
   "cell_type": "code",
   "execution_count": 63,
   "id": "5be84507",
   "metadata": {},
   "outputs": [
    {
     "data": {
      "application/vnd.plotly.v1+json": {
       "config": {
        "plotlyServerURL": "https://plot.ly"
       },
       "data": [
        {
         "customdata": {
          "bdata": "B3WAck8h1j8AAAAAAOarQOQlKFVMNt0/AAAAAABgvEBI4bmXasnPPwAAAAAAAKRAcJcKN9sv0T8AAAAAALihQJDEthK1ptQ/AAAAAAC0tUAEKmsvy5vTPwAAAAAA0rtAEwlq8L0V0z8AAAAAAMCjQP8I/xPRhdA/AAAAAAB+skCamRmReLvcPwAAAAAAubBAiUQi8GPz2j8AAAAAAK+/QA==",
          "dtype": "f8",
          "shape": "10, 2"
         },
         "hovertemplate": "Client: %{x}<br>Round: 1<br>Duration: %{y:.4f}s<br>Loss: %{customdata[0]:.4f}<br>Examples: %{customdata[1]:.0f}<extra></extra>",
         "legendgroup": "1",
         "marker": {
          "color": "rgb(141,211,199)"
         },
         "name": "1",
         "showlegend": true,
         "text": {
          "bdata": "rkfhehSu+z+4HoXrUbgKQFyPwvUoXPM/mpmZmZmZ8T+PwvUoXI8EQOF6FK5H4QxAj8L1KFyP8j+kcD0K16MCQK5H4XoUrv8/4XoUrkfhBkA=",
          "dtype": "f8"
         },
         "textposition": "outside",
         "texttemplate": "%{text:.3f}s",
         "type": "bar",
         "x": [
          "0",
          "1",
          "2",
          "3",
          "4",
          "5",
          "6",
          "7",
          "8",
          "9"
         ],
         "xaxis": "x",
         "y": {
          "bdata": "rkfhehSu+z+4HoXrUbgKQFyPwvUoXPM/mpmZmZmZ8T+PwvUoXI8EQOF6FK5H4QxAj8L1KFyP8j+kcD0K16MCQK5H4XoUrv8/4XoUrkfhBkA=",
          "dtype": "f8"
         },
         "yaxis": "y"
        },
        {
         "customdata": {
          "bdata": "dVD5uz+r0z8AAAAAAOarQI1SjuClBds/AAAAAABgvED2qEFn4kvMPwAAAAAAAKRAEUOR/FOuzj8AAAAAALihQIf5SCYm6NM/AAAAAAC0tUBkpNyhR8zRPwAAAAAA0rtA2FZO2OVn0D8AAAAAAMCjQPojJmDs7c8/AAAAAAB+skBJYN5ybOTXPwAAAAAAubBA66iH7y6w2T8AAAAAAK+/QA==",
          "dtype": "f8",
          "shape": "10, 2"
         },
         "hovertemplate": "Client: %{x}<br>Round: 2<br>Duration: %{y:.4f}s<br>Loss: %{customdata[0]:.4f}<br>Examples: %{customdata[1]:.0f}<extra></extra>",
         "legendgroup": "2",
         "marker": {
          "color": "rgb(255,255,179)"
         },
         "name": "2",
         "showlegend": true,
         "text": {
          "bdata": "ZmZmZmZm+j/NzMzMzMwOQArXo3A9CvM/9ihcj8L18D+4HoXrUbgEQKRwPQrXowpA4XoUrkfh8j97FK5H4XoCQFK4HoXrUQJA4XoUrkfhBkA=",
          "dtype": "f8"
         },
         "textposition": "outside",
         "texttemplate": "%{text:.3f}s",
         "type": "bar",
         "x": [
          "0",
          "1",
          "2",
          "3",
          "4",
          "5",
          "6",
          "7",
          "8",
          "9"
         ],
         "xaxis": "x",
         "y": {
          "bdata": "ZmZmZmZm+j/NzMzMzMwOQArXo3A9CvM/9ihcj8L18D+4HoXrUbgEQKRwPQrXowpA4XoUrkfh8j97FK5H4XoCQFK4HoXrUQJA4XoUrkfhBkA=",
          "dtype": "f8"
         },
         "yaxis": "y"
        },
        {
         "customdata": {
          "bdata": "6qA2FiMQ0T8AAAAAAOarQOK7sc7jENk/AAAAAABgvEApnBtHEUjFPwAAAAAAAKRA3sR1DJTxyz8AAAAAALihQMkp04P0D9E/AAAAAAC0tUCMZ0dLHRbPPwAAAAAA0rtA9VIATg+r0z8AAAAAAMCjQNiEkDfys80/AAAAAAB+skBdmuoq2W7WPwAAAAAAubBARSKRPuiL2D8AAAAAAK+/QA==",
          "dtype": "f8",
          "shape": "10, 2"
         },
         "hovertemplate": "Client: %{x}<br>Round: 3<br>Duration: %{y:.4f}s<br>Loss: %{customdata[0]:.4f}<br>Examples: %{customdata[1]:.0f}<extra></extra>",
         "legendgroup": "3",
         "marker": {
          "color": "rgb(190,186,218)"
         },
         "name": "3",
         "showlegend": true,
         "text": {
          "bdata": "uB6F61G4+j9I4XoUrkcLQDMzMzMzM/M/pHA9Ctej8D9xPQrXo3AJQD0K16NwPQpAMzMzMzMz8z+F61G4HoUBQK5H4XoUrv8/9ihcj8L1BkA=",
          "dtype": "f8"
         },
         "textposition": "outside",
         "texttemplate": "%{text:.3f}s",
         "type": "bar",
         "x": [
          "0",
          "1",
          "2",
          "3",
          "4",
          "5",
          "6",
          "7",
          "8",
          "9"
         ],
         "xaxis": "x",
         "y": {
          "bdata": "uB6F61G4+j9I4XoUrkcLQDMzMzMzM/M/pHA9Ctej8D9xPQrXo3AJQD0K16NwPQpAMzMzMzMz8z+F61G4HoUBQK5H4XoUrv8/9ihcj8L1BkA=",
          "dtype": "f8"
         },
         "yaxis": "y"
        },
        {
         "customdata": {
          "bdata": "X/GJ3thi0D8AAAAAAOarQMPvN29O7tg/AAAAAABgvEAfhSe+KV3DPwAAAAAAAKRAcyBhhOnNxT8AAAAAALihQDEfOW8Bs9A/AAAAAAC0tUBxfAZldD7PPwAAAAAA0rtAxXB2nrvlyD8AAAAAAMCjQPVH/Bb/5cs/AAAAAAB+skAy4mh70P7VPwAAAAAAubBAOBzO60q61z8AAAAAAK+/QA==",
          "dtype": "f8",
          "shape": "10, 2"
         },
         "hovertemplate": "Client: %{x}<br>Round: 4<br>Duration: %{y:.4f}s<br>Loss: %{customdata[0]:.4f}<br>Examples: %{customdata[1]:.0f}<extra></extra>",
         "legendgroup": "4",
         "marker": {
          "color": "rgb(251,128,114)"
         },
         "name": "4",
         "showlegend": true,
         "text": {
          "bdata": "j8L1KFyP+j8K16NwPQoLQIXrUbgehfM/H4XrUbge8T/2KFyPwvUEQLgehetRuApA4XoUrkfh8j/sUbgehesBQM3MzMzMzAJAj8L1KFyPBkA=",
          "dtype": "f8"
         },
         "textposition": "outside",
         "texttemplate": "%{text:.3f}s",
         "type": "bar",
         "x": [
          "0",
          "1",
          "2",
          "3",
          "4",
          "5",
          "6",
          "7",
          "8",
          "9"
         ],
         "xaxis": "x",
         "y": {
          "bdata": "j8L1KFyP+j8K16NwPQoLQIXrUbgehfM/H4XrUbge8T/2KFyPwvUEQLgehetRuApA4XoUrkfh8j/sUbgehesBQM3MzMzMzAJAj8L1KFyPBkA=",
          "dtype": "f8"
         },
         "yaxis": "y"
        },
        {
         "customdata": {
          "bdata": "8RUjz5uTzj8AAAAAAOarQA7Pttf19dc/AAAAAABgvEB7FF2PTwLHPwAAAAAAAKRAYigLwdi+yT8AAAAAALihQF4geyF+G9I/AAAAAAC0tUAVLIBQr1zNPwAAAAAA0rtAfzQtOewEyz8AAAAAAMCjQH5N4BeA0Mo/AAAAAAB+skDwWkeLOwLWPwAAAAAAubBAhik7tzU+2D8AAAAAAK+/QA==",
          "dtype": "f8",
          "shape": "10, 2"
         },
         "hovertemplate": "Client: %{x}<br>Round: 5<br>Duration: %{y:.4f}s<br>Loss: %{customdata[0]:.4f}<br>Examples: %{customdata[1]:.0f}<extra></extra>",
         "legendgroup": "5",
         "marker": {
          "color": "rgb(128,177,211)"
         },
         "name": "5",
         "showlegend": true,
         "text": {
          "bdata": "j8L1KFyP+j8K16NwPQoLQOF6FK5H4fI/zczMzMzM8D+PwvUoXI8EQGZmZmZmZhFApHA9Ctej+D9SuB6F61ECQD0K16NwPQBAuB6F61G4BkA=",
          "dtype": "f8"
         },
         "textposition": "outside",
         "texttemplate": "%{text:.3f}s",
         "type": "bar",
         "x": [
          "0",
          "1",
          "2",
          "3",
          "4",
          "5",
          "6",
          "7",
          "8",
          "9"
         ],
         "xaxis": "x",
         "y": {
          "bdata": "j8L1KFyP+j8K16NwPQoLQOF6FK5H4fI/zczMzMzM8D+PwvUoXI8EQGZmZmZmZhFApHA9Ctej+D9SuB6F61ECQD0K16NwPQBAuB6F61G4BkA=",
          "dtype": "f8"
         },
         "yaxis": "y"
        },
        {
         "hovertemplate": "Client: %{x}<br>Average Loss: %{y:.4f}<extra></extra>",
         "line": {
          "color": "red",
          "dash": "dot",
          "width": 3
         },
         "marker": {
          "size": 8,
          "symbol": "diamond"
         },
         "mode": "lines+markers",
         "name": "Avg Loss",
         "type": "scatter",
         "x": [
          "0",
          "1",
          "2",
          "3",
          "4",
          "5",
          "6",
          "7",
          "8",
          "9"
         ],
         "xaxis": "x",
         "y": {
          "bdata": "JvpbNXgb0j/TYxEP0gnaPwHAuFBev8g/iBnoWBMczD9KboEPQ3zSPxdeiUOKptA/TrQbmjQ50D9AQ1DJzODNP+Ap6j31z9c/S0SnJv8H2T8=",
          "dtype": "f8"
         },
         "yaxis": "y2"
        },
        {
         "hovertemplate": "Client: %{x}<br>Average Examples: %{y:.0f}<extra></extra>",
         "line": {
          "color": "blue",
          "width": 3
         },
         "marker": {
          "size": 8,
          "symbol": "circle"
         },
         "mode": "lines+markers",
         "name": "Avg Examples",
         "type": "scatter",
         "x": [
          "0",
          "1",
          "2",
          "3",
          "4",
          "5",
          "6",
          "7",
          "8",
          "9"
         ],
         "xaxis": "x",
         "y": {
          "bdata": "AAAAAADmq0AAAAAAAGC8QAAAAAAAAKRAAAAAAAC4oUAAAAAAALS1QAAAAAAA0rtAAAAAAADAo0AAAAAAAH6yQAAAAAAAubBAAAAAAACvv0A=",
          "dtype": "f8"
         },
         "yaxis": "y2"
        }
       ],
       "layout": {
        "bargap": 0.2,
        "bargroupgap": 0.05,
        "font": {
         "size": 10
        },
        "hovermode": "closest",
        "legend": {
         "orientation": "h",
         "title": {
          "text": "Metrics & Rounds"
         },
         "x": 1,
         "xanchor": "right",
         "y": 1.02,
         "yanchor": "bottom"
        },
        "showlegend": true,
        "template": {
         "data": {
          "bar": [
           {
            "error_x": {
             "color": "#2a3f5f"
            },
            "error_y": {
             "color": "#2a3f5f"
            },
            "marker": {
             "line": {
              "color": "white",
              "width": 0.5
             },
             "pattern": {
              "fillmode": "overlay",
              "size": 10,
              "solidity": 0.2
             }
            },
            "type": "bar"
           }
          ],
          "barpolar": [
           {
            "marker": {
             "line": {
              "color": "white",
              "width": 0.5
             },
             "pattern": {
              "fillmode": "overlay",
              "size": 10,
              "solidity": 0.2
             }
            },
            "type": "barpolar"
           }
          ],
          "carpet": [
           {
            "aaxis": {
             "endlinecolor": "#2a3f5f",
             "gridcolor": "#C8D4E3",
             "linecolor": "#C8D4E3",
             "minorgridcolor": "#C8D4E3",
             "startlinecolor": "#2a3f5f"
            },
            "baxis": {
             "endlinecolor": "#2a3f5f",
             "gridcolor": "#C8D4E3",
             "linecolor": "#C8D4E3",
             "minorgridcolor": "#C8D4E3",
             "startlinecolor": "#2a3f5f"
            },
            "type": "carpet"
           }
          ],
          "choropleth": [
           {
            "colorbar": {
             "outlinewidth": 0,
             "ticks": ""
            },
            "type": "choropleth"
           }
          ],
          "contour": [
           {
            "colorbar": {
             "outlinewidth": 0,
             "ticks": ""
            },
            "colorscale": [
             [
              0,
              "#0d0887"
             ],
             [
              0.1111111111111111,
              "#46039f"
             ],
             [
              0.2222222222222222,
              "#7201a8"
             ],
             [
              0.3333333333333333,
              "#9c179e"
             ],
             [
              0.4444444444444444,
              "#bd3786"
             ],
             [
              0.5555555555555556,
              "#d8576b"
             ],
             [
              0.6666666666666666,
              "#ed7953"
             ],
             [
              0.7777777777777778,
              "#fb9f3a"
             ],
             [
              0.8888888888888888,
              "#fdca26"
             ],
             [
              1,
              "#f0f921"
             ]
            ],
            "type": "contour"
           }
          ],
          "contourcarpet": [
           {
            "colorbar": {
             "outlinewidth": 0,
             "ticks": ""
            },
            "type": "contourcarpet"
           }
          ],
          "heatmap": [
           {
            "colorbar": {
             "outlinewidth": 0,
             "ticks": ""
            },
            "colorscale": [
             [
              0,
              "#0d0887"
             ],
             [
              0.1111111111111111,
              "#46039f"
             ],
             [
              0.2222222222222222,
              "#7201a8"
             ],
             [
              0.3333333333333333,
              "#9c179e"
             ],
             [
              0.4444444444444444,
              "#bd3786"
             ],
             [
              0.5555555555555556,
              "#d8576b"
             ],
             [
              0.6666666666666666,
              "#ed7953"
             ],
             [
              0.7777777777777778,
              "#fb9f3a"
             ],
             [
              0.8888888888888888,
              "#fdca26"
             ],
             [
              1,
              "#f0f921"
             ]
            ],
            "type": "heatmap"
           }
          ],
          "histogram": [
           {
            "marker": {
             "pattern": {
              "fillmode": "overlay",
              "size": 10,
              "solidity": 0.2
             }
            },
            "type": "histogram"
           }
          ],
          "histogram2d": [
           {
            "colorbar": {
             "outlinewidth": 0,
             "ticks": ""
            },
            "colorscale": [
             [
              0,
              "#0d0887"
             ],
             [
              0.1111111111111111,
              "#46039f"
             ],
             [
              0.2222222222222222,
              "#7201a8"
             ],
             [
              0.3333333333333333,
              "#9c179e"
             ],
             [
              0.4444444444444444,
              "#bd3786"
             ],
             [
              0.5555555555555556,
              "#d8576b"
             ],
             [
              0.6666666666666666,
              "#ed7953"
             ],
             [
              0.7777777777777778,
              "#fb9f3a"
             ],
             [
              0.8888888888888888,
              "#fdca26"
             ],
             [
              1,
              "#f0f921"
             ]
            ],
            "type": "histogram2d"
           }
          ],
          "histogram2dcontour": [
           {
            "colorbar": {
             "outlinewidth": 0,
             "ticks": ""
            },
            "colorscale": [
             [
              0,
              "#0d0887"
             ],
             [
              0.1111111111111111,
              "#46039f"
             ],
             [
              0.2222222222222222,
              "#7201a8"
             ],
             [
              0.3333333333333333,
              "#9c179e"
             ],
             [
              0.4444444444444444,
              "#bd3786"
             ],
             [
              0.5555555555555556,
              "#d8576b"
             ],
             [
              0.6666666666666666,
              "#ed7953"
             ],
             [
              0.7777777777777778,
              "#fb9f3a"
             ],
             [
              0.8888888888888888,
              "#fdca26"
             ],
             [
              1,
              "#f0f921"
             ]
            ],
            "type": "histogram2dcontour"
           }
          ],
          "mesh3d": [
           {
            "colorbar": {
             "outlinewidth": 0,
             "ticks": ""
            },
            "type": "mesh3d"
           }
          ],
          "parcoords": [
           {
            "line": {
             "colorbar": {
              "outlinewidth": 0,
              "ticks": ""
             }
            },
            "type": "parcoords"
           }
          ],
          "pie": [
           {
            "automargin": true,
            "type": "pie"
           }
          ],
          "scatter": [
           {
            "fillpattern": {
             "fillmode": "overlay",
             "size": 10,
             "solidity": 0.2
            },
            "type": "scatter"
           }
          ],
          "scatter3d": [
           {
            "line": {
             "colorbar": {
              "outlinewidth": 0,
              "ticks": ""
             }
            },
            "marker": {
             "colorbar": {
              "outlinewidth": 0,
              "ticks": ""
             }
            },
            "type": "scatter3d"
           }
          ],
          "scattercarpet": [
           {
            "marker": {
             "colorbar": {
              "outlinewidth": 0,
              "ticks": ""
             }
            },
            "type": "scattercarpet"
           }
          ],
          "scattergeo": [
           {
            "marker": {
             "colorbar": {
              "outlinewidth": 0,
              "ticks": ""
             }
            },
            "type": "scattergeo"
           }
          ],
          "scattergl": [
           {
            "marker": {
             "colorbar": {
              "outlinewidth": 0,
              "ticks": ""
             }
            },
            "type": "scattergl"
           }
          ],
          "scattermap": [
           {
            "marker": {
             "colorbar": {
              "outlinewidth": 0,
              "ticks": ""
             }
            },
            "type": "scattermap"
           }
          ],
          "scattermapbox": [
           {
            "marker": {
             "colorbar": {
              "outlinewidth": 0,
              "ticks": ""
             }
            },
            "type": "scattermapbox"
           }
          ],
          "scatterpolar": [
           {
            "marker": {
             "colorbar": {
              "outlinewidth": 0,
              "ticks": ""
             }
            },
            "type": "scatterpolar"
           }
          ],
          "scatterpolargl": [
           {
            "marker": {
             "colorbar": {
              "outlinewidth": 0,
              "ticks": ""
             }
            },
            "type": "scatterpolargl"
           }
          ],
          "scatterternary": [
           {
            "marker": {
             "colorbar": {
              "outlinewidth": 0,
              "ticks": ""
             }
            },
            "type": "scatterternary"
           }
          ],
          "surface": [
           {
            "colorbar": {
             "outlinewidth": 0,
             "ticks": ""
            },
            "colorscale": [
             [
              0,
              "#0d0887"
             ],
             [
              0.1111111111111111,
              "#46039f"
             ],
             [
              0.2222222222222222,
              "#7201a8"
             ],
             [
              0.3333333333333333,
              "#9c179e"
             ],
             [
              0.4444444444444444,
              "#bd3786"
             ],
             [
              0.5555555555555556,
              "#d8576b"
             ],
             [
              0.6666666666666666,
              "#ed7953"
             ],
             [
              0.7777777777777778,
              "#fb9f3a"
             ],
             [
              0.8888888888888888,
              "#fdca26"
             ],
             [
              1,
              "#f0f921"
             ]
            ],
            "type": "surface"
           }
          ],
          "table": [
           {
            "cells": {
             "fill": {
              "color": "#EBF0F8"
             },
             "line": {
              "color": "white"
             }
            },
            "header": {
             "fill": {
              "color": "#C8D4E3"
             },
             "line": {
              "color": "white"
             }
            },
            "type": "table"
           }
          ]
         },
         "layout": {
          "annotationdefaults": {
           "arrowcolor": "#2a3f5f",
           "arrowhead": 0,
           "arrowwidth": 1
          },
          "autotypenumbers": "strict",
          "coloraxis": {
           "colorbar": {
            "outlinewidth": 0,
            "ticks": ""
           }
          },
          "colorscale": {
           "diverging": [
            [
             0,
             "#8e0152"
            ],
            [
             0.1,
             "#c51b7d"
            ],
            [
             0.2,
             "#de77ae"
            ],
            [
             0.3,
             "#f1b6da"
            ],
            [
             0.4,
             "#fde0ef"
            ],
            [
             0.5,
             "#f7f7f7"
            ],
            [
             0.6,
             "#e6f5d0"
            ],
            [
             0.7,
             "#b8e186"
            ],
            [
             0.8,
             "#7fbc41"
            ],
            [
             0.9,
             "#4d9221"
            ],
            [
             1,
             "#276419"
            ]
           ],
           "sequential": [
            [
             0,
             "#0d0887"
            ],
            [
             0.1111111111111111,
             "#46039f"
            ],
            [
             0.2222222222222222,
             "#7201a8"
            ],
            [
             0.3333333333333333,
             "#9c179e"
            ],
            [
             0.4444444444444444,
             "#bd3786"
            ],
            [
             0.5555555555555556,
             "#d8576b"
            ],
            [
             0.6666666666666666,
             "#ed7953"
            ],
            [
             0.7777777777777778,
             "#fb9f3a"
            ],
            [
             0.8888888888888888,
             "#fdca26"
            ],
            [
             1,
             "#f0f921"
            ]
           ],
           "sequentialminus": [
            [
             0,
             "#0d0887"
            ],
            [
             0.1111111111111111,
             "#46039f"
            ],
            [
             0.2222222222222222,
             "#7201a8"
            ],
            [
             0.3333333333333333,
             "#9c179e"
            ],
            [
             0.4444444444444444,
             "#bd3786"
            ],
            [
             0.5555555555555556,
             "#d8576b"
            ],
            [
             0.6666666666666666,
             "#ed7953"
            ],
            [
             0.7777777777777778,
             "#fb9f3a"
            ],
            [
             0.8888888888888888,
             "#fdca26"
            ],
            [
             1,
             "#f0f921"
            ]
           ]
          },
          "colorway": [
           "#636efa",
           "#EF553B",
           "#00cc96",
           "#ab63fa",
           "#FFA15A",
           "#19d3f3",
           "#FF6692",
           "#B6E880",
           "#FF97FF",
           "#FECB52"
          ],
          "font": {
           "color": "#2a3f5f"
          },
          "geo": {
           "bgcolor": "white",
           "lakecolor": "white",
           "landcolor": "white",
           "showlakes": true,
           "showland": true,
           "subunitcolor": "#C8D4E3"
          },
          "hoverlabel": {
           "align": "left"
          },
          "hovermode": "closest",
          "mapbox": {
           "style": "light"
          },
          "paper_bgcolor": "white",
          "plot_bgcolor": "white",
          "polar": {
           "angularaxis": {
            "gridcolor": "#EBF0F8",
            "linecolor": "#EBF0F8",
            "ticks": ""
           },
           "bgcolor": "white",
           "radialaxis": {
            "gridcolor": "#EBF0F8",
            "linecolor": "#EBF0F8",
            "ticks": ""
           }
          },
          "scene": {
           "xaxis": {
            "backgroundcolor": "white",
            "gridcolor": "#DFE8F3",
            "gridwidth": 2,
            "linecolor": "#EBF0F8",
            "showbackground": true,
            "ticks": "",
            "zerolinecolor": "#EBF0F8"
           },
           "yaxis": {
            "backgroundcolor": "white",
            "gridcolor": "#DFE8F3",
            "gridwidth": 2,
            "linecolor": "#EBF0F8",
            "showbackground": true,
            "ticks": "",
            "zerolinecolor": "#EBF0F8"
           },
           "zaxis": {
            "backgroundcolor": "white",
            "gridcolor": "#DFE8F3",
            "gridwidth": 2,
            "linecolor": "#EBF0F8",
            "showbackground": true,
            "ticks": "",
            "zerolinecolor": "#EBF0F8"
           }
          },
          "shapedefaults": {
           "line": {
            "color": "#2a3f5f"
           }
          },
          "ternary": {
           "aaxis": {
            "gridcolor": "#DFE8F3",
            "linecolor": "#A2B1C6",
            "ticks": ""
           },
           "baxis": {
            "gridcolor": "#DFE8F3",
            "linecolor": "#A2B1C6",
            "ticks": ""
           },
           "bgcolor": "white",
           "caxis": {
            "gridcolor": "#DFE8F3",
            "linecolor": "#A2B1C6",
            "ticks": ""
           }
          },
          "title": {
           "x": 0.05
          },
          "xaxis": {
           "automargin": true,
           "gridcolor": "#EBF0F8",
           "linecolor": "#EBF0F8",
           "ticks": "",
           "title": {
            "standoff": 15
           },
           "zerolinecolor": "#EBF0F8",
           "zerolinewidth": 2
          },
          "yaxis": {
           "automargin": true,
           "gridcolor": "#EBF0F8",
           "linecolor": "#EBF0F8",
           "ticks": "",
           "title": {
            "standoff": 15
           },
           "zerolinecolor": "#EBF0F8",
           "zerolinewidth": 2
          }
         }
        },
        "title": {
         "text": "Clients Metrics (The Loss, and Duration) for each round with respect to the Number of Examples"
        },
        "xaxis": {
         "anchor": "y",
         "domain": [
          0,
          0.94
         ],
         "title": {
          "text": "Client ID"
         }
        },
        "yaxis": {
         "anchor": "x",
         "domain": [
          0,
          1
         ],
         "title": {
          "text": "Round Duration (s)"
         }
        },
        "yaxis2": {
         "anchor": "x",
         "overlaying": "y",
         "side": "right",
         "title": {
          "text": "Loss / Number of Examples"
         }
        }
       }
      }
     },
     "metadata": {},
     "output_type": "display_data"
    }
   ],
   "source": [
    "import plotly.express as px\n",
    "import pandas as pd\n",
    "import plotly.graph_objects as go\n",
    "from plotly.subplots import make_subplots\n",
    "\n",
    "# Sort and convert client IDs to strings for categorical spacing\n",
    "df_duration = df_duration.sort_index()\n",
    "df_duration.index = df_duration.index.astype(str)\n",
    "df_loss = df_loss.sort_index()\n",
    "df_loss.index = df_loss.index.astype(str)\n",
    "df_examples = df_examples.sort_index()\n",
    "df_examples.index = df_examples.index.astype(str)\n",
    "\n",
    "# Melt all DataFrames\n",
    "df_duration_melted = df_duration.reset_index().melt(\n",
    "    id_vars=\"client_id\",\n",
    "    var_name=\"Round\",\n",
    "    value_name=\"Duration\"\n",
    ")\n",
    "\n",
    "df_loss_melted = df_loss.reset_index().melt(\n",
    "    id_vars=\"client_id\", \n",
    "    var_name=\"Round\",\n",
    "    value_name=\"Loss\"\n",
    ")\n",
    "\n",
    "df_examples_melted = df_examples.reset_index().melt(\n",
    "    id_vars=\"client_id\",\n",
    "    var_name=\"Round\", \n",
    "    value_name=\"Examples\"\n",
    ")\n",
    "\n",
    "# Merge all data\n",
    "df_merged = df_duration_melted.merge(\n",
    "    df_loss_melted, on=[\"client_id\", \"Round\"]\n",
    ").merge(\n",
    "    df_examples_melted, on=[\"client_id\", \"Round\"]\n",
    ")\n",
    "\n",
    "# Create subplot with secondary y-axis\n",
    "fig = make_subplots(\n",
    "    specs=[[{\"secondary_y\": True}]]\n",
    ")\n",
    "\n",
    "# Get unique rounds for coloring\n",
    "rounds = df_merged['Round'].unique()\n",
    "colors = px.colors.qualitative.Set3\n",
    "\n",
    "# Add bars for each round\n",
    "for i, round_name in enumerate(rounds):\n",
    "    round_data = df_merged[df_merged['Round'] == round_name]\n",
    "    \n",
    "    fig.add_trace(\n",
    "        go.Bar(\n",
    "            x=round_data['client_id'],\n",
    "            y=round_data['Duration'],\n",
    "            name=f\"{round_name}\",\n",
    "            legendgroup=round_name,\n",
    "            marker_color=colors[i % len(colors)],\n",
    "            hovertemplate=(\n",
    "                \"Client: %{x}<br>\"\n",
    "                f\"Round: {round_name}<br>\"\n",
    "                \"Duration: %{y:.4f}s<br>\"\n",
    "                \"Loss: %{customdata[0]:.4f}<br>\"\n",
    "                \"Examples: %{customdata[1]:.0f}<extra></extra>\"\n",
    "            ),\n",
    "            customdata=round_data[['Loss', 'Examples']],\n",
    "            text=round_data['Duration'].round(4),\n",
    "            textposition='outside',\n",
    "            texttemplate='%{text:.3f}s',\n",
    "            showlegend=True\n",
    "        ),\n",
    "        secondary_y=False,\n",
    "    )\n",
    "\n",
    "# Add loss line\n",
    "fig.add_trace(\n",
    "    go.Scatter(\n",
    "        x=df_merged['client_id'].unique(),\n",
    "        y=df_loss.mean(axis=1),  # Average loss per client across rounds\n",
    "        mode='lines+markers',\n",
    "        name='Avg Loss',\n",
    "        line=dict(color='red', width=3, dash='dot'),\n",
    "        marker=dict(size=8, symbol='diamond'),\n",
    "        hovertemplate=(\n",
    "            \"Client: %{x}<br>\"\n",
    "            \"Average Loss: %{y:.4f}<extra></extra>\"\n",
    "        ),\n",
    "        yaxis='y2'\n",
    "    ),\n",
    "    secondary_y=True,\n",
    ")\n",
    "\n",
    "# Add examples line  \n",
    "fig.add_trace(\n",
    "    go.Scatter(\n",
    "        x=df_merged['client_id'].unique(),\n",
    "        y=df_examples.mean(axis=1),  # Average examples per client across rounds\n",
    "        mode='lines+markers',\n",
    "        name='Avg Examples',\n",
    "        line=dict(color='blue', width=3),\n",
    "        marker=dict(size=8, symbol='circle'),\n",
    "        hovertemplate=(\n",
    "            \"Client: %{x}<br>\"\n",
    "            \"Average Examples: %{y:.0f}<extra></extra>\"\n",
    "        ),\n",
    "        yaxis='y2'\n",
    "    ),\n",
    "    secondary_y=True,\n",
    ")\n",
    "\n",
    "# Update layout\n",
    "fig.update_layout(\n",
    "    title=\"Clients Metrics (The Loss, and Duration) for each round with respect to the Number of Examples\",\n",
    "    xaxis_title=\"Client ID\",\n",
    "    yaxis_title=\"Round Duration (seconds)\",\n",
    "    yaxis2_title=\"Loss / Number of Examples\",\n",
    "    legend_title=\"Metrics & Rounds\",\n",
    "    template=\"plotly_white\",\n",
    "    hovermode=\"closest\",\n",
    "    font=dict(size=10),\n",
    "    bargap=0.2,\n",
    "    bargroupgap=0.05,\n",
    "    showlegend=True,\n",
    "    legend=dict(\n",
    "        orientation=\"h\",\n",
    "        yanchor=\"bottom\",\n",
    "        y=1.02,\n",
    "        xanchor=\"right\",\n",
    "        x=1\n",
    "    )\n",
    ")\n",
    "\n",
    "# Update y-axes\n",
    "fig.update_yaxes(\n",
    "    title_text=\"Round Duration (s)\",\n",
    "    secondary_y=False\n",
    ")\n",
    "\n",
    "fig.update_yaxes(\n",
    "    title_text=\"Loss / Number of Examples\", \n",
    "    secondary_y=True,\n",
    "    # Optional: if you want to separate the scales more clearly\n",
    "    # range=[0, max(df_examples.max().max(), df_loss.max().max()) * 1.1]\n",
    ")\n",
    "\n",
    "fig.show()"
   ]
  },
  {
   "cell_type": "markdown",
   "id": "8bb6cfa0",
   "metadata": {},
   "source": [
    "END OF NOTEBOOK"
   ]
  }
 ],
 "metadata": {
  "kernelspec": {
   "display_name": "flower-benchmarks",
   "language": "python",
   "name": "python3"
  },
  "language_info": {
   "codemirror_mode": {
    "name": "ipython",
    "version": 3
   },
   "file_extension": ".py",
   "mimetype": "text/x-python",
   "name": "python",
   "nbconvert_exporter": "python",
   "pygments_lexer": "ipython3",
   "version": "3.10.18"
  }
 },
 "nbformat": 4,
 "nbformat_minor": 5
}
