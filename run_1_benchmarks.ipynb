{
 "cells": [
  {
   "cell_type": "markdown",
   "id": "0216ccb2",
   "metadata": {},
   "source": [
    "# Benchmarking Results for Flower Federated Learning Framework 🌸\n",
    "\n",
    "## General Experiment Configuration\n",
    "- **Federation Type**: Local Simulation\n",
    "- **Dataset**: Fashion-MNIST (With Non-IID partitioning using Dirichlet distribution, α=0.3)\n",
    "- **Model**: Simple CNN\n",
    "- **Learning Rate**: 0.01\n",
    "- **Flower Version**: 1.22.0\n",
    "- **Python Version**: 3.10.18  "
   ]
  },
  {
   "cell_type": "markdown",
   "id": "40662616",
   "metadata": {},
   "source": [
    "### Experiment Specific Configuration\n",
    "- **Number of SuperNodes**: 50 (Clients, analyzing only clients who participated in all rounds)\n",
    "- **Number of Server Rounds**: 10\n",
    "- **Fraction of Clients per Round**: 0.75\n",
    "- **Fraction of Clients for Evaluation**: 0.75\n",
    "- **Local Epochs**: 5\n",
    "- **Log file**: `EXP_CNN_fashion_mnist_dataset_1_logs.json`"
   ]
  },
  {
   "cell_type": "code",
   "execution_count": 382,
   "id": "84265375",
   "metadata": {},
   "outputs": [],
   "source": [
    "import json\n",
    "import pandas as pd\n",
    "\n",
    "# Load the JSON file\n",
    "with open(\"EXP_CNN_fashion_mnist_dataset_1_logs.json\", \"r\") as f:\n",
    "    data = json.load(f)"
   ]
  },
  {
   "cell_type": "markdown",
   "id": "01745f8b",
   "metadata": {},
   "source": [
    "#### Round-level Statistics\n",
    "The following table summarizes the round-level statistics, including average duration, accuracy, and data processed per round."
   ]
  },
  {
   "cell_type": "code",
   "execution_count": 383,
   "id": "71f80fd4",
   "metadata": {},
   "outputs": [
    {
     "data": {
      "text/html": [
       "<div>\n",
       "<style scoped>\n",
       "    .dataframe tbody tr th:only-of-type {\n",
       "        vertical-align: middle;\n",
       "    }\n",
       "\n",
       "    .dataframe tbody tr th {\n",
       "        vertical-align: top;\n",
       "    }\n",
       "\n",
       "    .dataframe thead th {\n",
       "        text-align: right;\n",
       "    }\n",
       "</style>\n",
       "<table border=\"1\" class=\"dataframe\">\n",
       "  <thead>\n",
       "    <tr style=\"text-align: right;\">\n",
       "      <th></th>\n",
       "      <th>round</th>\n",
       "      <th>total_examples</th>\n",
       "      <th>avg_duration</th>\n",
       "      <th>accuracy</th>\n",
       "      <th>data_mb</th>\n",
       "    </tr>\n",
       "  </thead>\n",
       "  <tbody>\n",
       "    <tr>\n",
       "      <th>0</th>\n",
       "      <td>1</td>\n",
       "      <td>35066</td>\n",
       "      <td>0.457403</td>\n",
       "      <td>14.82</td>\n",
       "      <td>6.2738</td>\n",
       "    </tr>\n",
       "    <tr>\n",
       "      <th>1</th>\n",
       "      <td>2</td>\n",
       "      <td>33697</td>\n",
       "      <td>0.433378</td>\n",
       "      <td>64.97</td>\n",
       "      <td>6.2738</td>\n",
       "    </tr>\n",
       "    <tr>\n",
       "      <th>2</th>\n",
       "      <td>3</td>\n",
       "      <td>35359</td>\n",
       "      <td>0.445654</td>\n",
       "      <td>78.87</td>\n",
       "      <td>6.2738</td>\n",
       "    </tr>\n",
       "    <tr>\n",
       "      <th>3</th>\n",
       "      <td>4</td>\n",
       "      <td>37272</td>\n",
       "      <td>0.496218</td>\n",
       "      <td>81.86</td>\n",
       "      <td>6.2738</td>\n",
       "    </tr>\n",
       "    <tr>\n",
       "      <th>4</th>\n",
       "      <td>5</td>\n",
       "      <td>33870</td>\n",
       "      <td>0.430839</td>\n",
       "      <td>82.37</td>\n",
       "      <td>6.2738</td>\n",
       "    </tr>\n",
       "    <tr>\n",
       "      <th>5</th>\n",
       "      <td>6</td>\n",
       "      <td>35130</td>\n",
       "      <td>0.439586</td>\n",
       "      <td>83.62</td>\n",
       "      <td>6.2738</td>\n",
       "    </tr>\n",
       "    <tr>\n",
       "      <th>6</th>\n",
       "      <td>7</td>\n",
       "      <td>36411</td>\n",
       "      <td>0.477300</td>\n",
       "      <td>83.99</td>\n",
       "      <td>6.2738</td>\n",
       "    </tr>\n",
       "    <tr>\n",
       "      <th>7</th>\n",
       "      <td>8</td>\n",
       "      <td>35323</td>\n",
       "      <td>0.443118</td>\n",
       "      <td>83.32</td>\n",
       "      <td>6.2738</td>\n",
       "    </tr>\n",
       "    <tr>\n",
       "      <th>8</th>\n",
       "      <td>9</td>\n",
       "      <td>33836</td>\n",
       "      <td>0.431253</td>\n",
       "      <td>84.21</td>\n",
       "      <td>6.2738</td>\n",
       "    </tr>\n",
       "    <tr>\n",
       "      <th>9</th>\n",
       "      <td>10</td>\n",
       "      <td>35051</td>\n",
       "      <td>0.448954</td>\n",
       "      <td>85.17</td>\n",
       "      <td>6.2738</td>\n",
       "    </tr>\n",
       "  </tbody>\n",
       "</table>\n",
       "</div>"
      ],
      "text/plain": [
       "   round  total_examples  avg_duration  accuracy  data_mb\n",
       "0      1           35066      0.457403     14.82   6.2738\n",
       "1      2           33697      0.433378     64.97   6.2738\n",
       "2      3           35359      0.445654     78.87   6.2738\n",
       "3      4           37272      0.496218     81.86   6.2738\n",
       "4      5           33870      0.430839     82.37   6.2738\n",
       "5      6           35130      0.439586     83.62   6.2738\n",
       "6      7           36411      0.477300     83.99   6.2738\n",
       "7      8           35323      0.443118     83.32   6.2738\n",
       "8      9           33836      0.431253     84.21   6.2738\n",
       "9     10           35051      0.448954     85.17   6.2738"
      ]
     },
     "execution_count": 383,
     "metadata": {},
     "output_type": "execute_result"
    }
   ],
   "source": [
    "# Prepare round-level data\n",
    "round_data = []\n",
    "for round_entry in data:\n",
    "    clients = round_entry[\"clients_logs\"]\n",
    "    round_number = clients[0][\"server_round_number\"]\n",
    "    total_examples = sum(c[\"num-examples\"] for c in clients)\n",
    "    avg_duration = sum(c[\"round_duration\"] for c in clients) / len(clients)\n",
    "    round_acc = round_entry.get(\"round_acc\", None)\n",
    "    total_data = round_entry.get(\"total_amount_data_round_mb\", None)\n",
    "    num_rounds = clients[0][\"num_rounds\"]\n",
    "    lr = clients[0][\"lr\"]\n",
    "\n",
    "    round_data.append({\n",
    "        \"round\": round_number,\n",
    "        \"total_examples\": total_examples,\n",
    "        \"avg_duration\": avg_duration,\n",
    "        \"accuracy\": round_acc,\n",
    "        \"data_mb\": total_data,\n",
    "    })\n",
    "\n",
    "df_rounds = pd.DataFrame(round_data)\n",
    "df_rounds"
   ]
  },
  {
   "cell_type": "code",
   "execution_count": 384,
   "id": "dc454cfe",
   "metadata": {},
   "outputs": [
    {
     "data": {
      "application/vnd.plotly.v1+json": {
       "config": {
        "plotlyServerURL": "https://plot.ly"
       },
       "data": [
        {
         "hovertemplate": "round=%{x}<br>avg_duration=%{y}<extra></extra>",
         "legendgroup": "",
         "line": {
          "color": "#636efa",
          "dash": "solid"
         },
         "marker": {
          "symbol": "circle"
         },
         "mode": "lines",
         "name": "",
         "orientation": "v",
         "showlegend": false,
         "type": "scatter",
         "x": {
          "bdata": "AQIDBAUGBwgJCg==",
          "dtype": "i1"
         },
         "xaxis": "x",
         "y": {
          "bdata": "8tm4vhVG3T8HE/VqeLzbPz7rSTyXhdw/wtTglwrC3z+t2xvD35LbP2jd2EIrItw/KnI/HBWM3j8czNkZDVzcP9aNld2mmds/1g1jjqe73D8=",
          "dtype": "f8"
         },
         "yaxis": "y"
        }
       ],
       "layout": {
        "legend": {
         "tracegroupgap": 0
        },
        "template": {
         "data": {
          "bar": [
           {
            "error_x": {
             "color": "#2a3f5f"
            },
            "error_y": {
             "color": "#2a3f5f"
            },
            "marker": {
             "line": {
              "color": "#E5ECF6",
              "width": 0.5
             },
             "pattern": {
              "fillmode": "overlay",
              "size": 10,
              "solidity": 0.2
             }
            },
            "type": "bar"
           }
          ],
          "barpolar": [
           {
            "marker": {
             "line": {
              "color": "#E5ECF6",
              "width": 0.5
             },
             "pattern": {
              "fillmode": "overlay",
              "size": 10,
              "solidity": 0.2
             }
            },
            "type": "barpolar"
           }
          ],
          "carpet": [
           {
            "aaxis": {
             "endlinecolor": "#2a3f5f",
             "gridcolor": "white",
             "linecolor": "white",
             "minorgridcolor": "white",
             "startlinecolor": "#2a3f5f"
            },
            "baxis": {
             "endlinecolor": "#2a3f5f",
             "gridcolor": "white",
             "linecolor": "white",
             "minorgridcolor": "white",
             "startlinecolor": "#2a3f5f"
            },
            "type": "carpet"
           }
          ],
          "choropleth": [
           {
            "colorbar": {
             "outlinewidth": 0,
             "ticks": ""
            },
            "type": "choropleth"
           }
          ],
          "contour": [
           {
            "colorbar": {
             "outlinewidth": 0,
             "ticks": ""
            },
            "colorscale": [
             [
              0,
              "#0d0887"
             ],
             [
              0.1111111111111111,
              "#46039f"
             ],
             [
              0.2222222222222222,
              "#7201a8"
             ],
             [
              0.3333333333333333,
              "#9c179e"
             ],
             [
              0.4444444444444444,
              "#bd3786"
             ],
             [
              0.5555555555555556,
              "#d8576b"
             ],
             [
              0.6666666666666666,
              "#ed7953"
             ],
             [
              0.7777777777777778,
              "#fb9f3a"
             ],
             [
              0.8888888888888888,
              "#fdca26"
             ],
             [
              1,
              "#f0f921"
             ]
            ],
            "type": "contour"
           }
          ],
          "contourcarpet": [
           {
            "colorbar": {
             "outlinewidth": 0,
             "ticks": ""
            },
            "type": "contourcarpet"
           }
          ],
          "heatmap": [
           {
            "colorbar": {
             "outlinewidth": 0,
             "ticks": ""
            },
            "colorscale": [
             [
              0,
              "#0d0887"
             ],
             [
              0.1111111111111111,
              "#46039f"
             ],
             [
              0.2222222222222222,
              "#7201a8"
             ],
             [
              0.3333333333333333,
              "#9c179e"
             ],
             [
              0.4444444444444444,
              "#bd3786"
             ],
             [
              0.5555555555555556,
              "#d8576b"
             ],
             [
              0.6666666666666666,
              "#ed7953"
             ],
             [
              0.7777777777777778,
              "#fb9f3a"
             ],
             [
              0.8888888888888888,
              "#fdca26"
             ],
             [
              1,
              "#f0f921"
             ]
            ],
            "type": "heatmap"
           }
          ],
          "histogram": [
           {
            "marker": {
             "pattern": {
              "fillmode": "overlay",
              "size": 10,
              "solidity": 0.2
             }
            },
            "type": "histogram"
           }
          ],
          "histogram2d": [
           {
            "colorbar": {
             "outlinewidth": 0,
             "ticks": ""
            },
            "colorscale": [
             [
              0,
              "#0d0887"
             ],
             [
              0.1111111111111111,
              "#46039f"
             ],
             [
              0.2222222222222222,
              "#7201a8"
             ],
             [
              0.3333333333333333,
              "#9c179e"
             ],
             [
              0.4444444444444444,
              "#bd3786"
             ],
             [
              0.5555555555555556,
              "#d8576b"
             ],
             [
              0.6666666666666666,
              "#ed7953"
             ],
             [
              0.7777777777777778,
              "#fb9f3a"
             ],
             [
              0.8888888888888888,
              "#fdca26"
             ],
             [
              1,
              "#f0f921"
             ]
            ],
            "type": "histogram2d"
           }
          ],
          "histogram2dcontour": [
           {
            "colorbar": {
             "outlinewidth": 0,
             "ticks": ""
            },
            "colorscale": [
             [
              0,
              "#0d0887"
             ],
             [
              0.1111111111111111,
              "#46039f"
             ],
             [
              0.2222222222222222,
              "#7201a8"
             ],
             [
              0.3333333333333333,
              "#9c179e"
             ],
             [
              0.4444444444444444,
              "#bd3786"
             ],
             [
              0.5555555555555556,
              "#d8576b"
             ],
             [
              0.6666666666666666,
              "#ed7953"
             ],
             [
              0.7777777777777778,
              "#fb9f3a"
             ],
             [
              0.8888888888888888,
              "#fdca26"
             ],
             [
              1,
              "#f0f921"
             ]
            ],
            "type": "histogram2dcontour"
           }
          ],
          "mesh3d": [
           {
            "colorbar": {
             "outlinewidth": 0,
             "ticks": ""
            },
            "type": "mesh3d"
           }
          ],
          "parcoords": [
           {
            "line": {
             "colorbar": {
              "outlinewidth": 0,
              "ticks": ""
             }
            },
            "type": "parcoords"
           }
          ],
          "pie": [
           {
            "automargin": true,
            "type": "pie"
           }
          ],
          "scatter": [
           {
            "fillpattern": {
             "fillmode": "overlay",
             "size": 10,
             "solidity": 0.2
            },
            "type": "scatter"
           }
          ],
          "scatter3d": [
           {
            "line": {
             "colorbar": {
              "outlinewidth": 0,
              "ticks": ""
             }
            },
            "marker": {
             "colorbar": {
              "outlinewidth": 0,
              "ticks": ""
             }
            },
            "type": "scatter3d"
           }
          ],
          "scattercarpet": [
           {
            "marker": {
             "colorbar": {
              "outlinewidth": 0,
              "ticks": ""
             }
            },
            "type": "scattercarpet"
           }
          ],
          "scattergeo": [
           {
            "marker": {
             "colorbar": {
              "outlinewidth": 0,
              "ticks": ""
             }
            },
            "type": "scattergeo"
           }
          ],
          "scattergl": [
           {
            "marker": {
             "colorbar": {
              "outlinewidth": 0,
              "ticks": ""
             }
            },
            "type": "scattergl"
           }
          ],
          "scattermap": [
           {
            "marker": {
             "colorbar": {
              "outlinewidth": 0,
              "ticks": ""
             }
            },
            "type": "scattermap"
           }
          ],
          "scattermapbox": [
           {
            "marker": {
             "colorbar": {
              "outlinewidth": 0,
              "ticks": ""
             }
            },
            "type": "scattermapbox"
           }
          ],
          "scatterpolar": [
           {
            "marker": {
             "colorbar": {
              "outlinewidth": 0,
              "ticks": ""
             }
            },
            "type": "scatterpolar"
           }
          ],
          "scatterpolargl": [
           {
            "marker": {
             "colorbar": {
              "outlinewidth": 0,
              "ticks": ""
             }
            },
            "type": "scatterpolargl"
           }
          ],
          "scatterternary": [
           {
            "marker": {
             "colorbar": {
              "outlinewidth": 0,
              "ticks": ""
             }
            },
            "type": "scatterternary"
           }
          ],
          "surface": [
           {
            "colorbar": {
             "outlinewidth": 0,
             "ticks": ""
            },
            "colorscale": [
             [
              0,
              "#0d0887"
             ],
             [
              0.1111111111111111,
              "#46039f"
             ],
             [
              0.2222222222222222,
              "#7201a8"
             ],
             [
              0.3333333333333333,
              "#9c179e"
             ],
             [
              0.4444444444444444,
              "#bd3786"
             ],
             [
              0.5555555555555556,
              "#d8576b"
             ],
             [
              0.6666666666666666,
              "#ed7953"
             ],
             [
              0.7777777777777778,
              "#fb9f3a"
             ],
             [
              0.8888888888888888,
              "#fdca26"
             ],
             [
              1,
              "#f0f921"
             ]
            ],
            "type": "surface"
           }
          ],
          "table": [
           {
            "cells": {
             "fill": {
              "color": "#EBF0F8"
             },
             "line": {
              "color": "white"
             }
            },
            "header": {
             "fill": {
              "color": "#C8D4E3"
             },
             "line": {
              "color": "white"
             }
            },
            "type": "table"
           }
          ]
         },
         "layout": {
          "annotationdefaults": {
           "arrowcolor": "#2a3f5f",
           "arrowhead": 0,
           "arrowwidth": 1
          },
          "autotypenumbers": "strict",
          "coloraxis": {
           "colorbar": {
            "outlinewidth": 0,
            "ticks": ""
           }
          },
          "colorscale": {
           "diverging": [
            [
             0,
             "#8e0152"
            ],
            [
             0.1,
             "#c51b7d"
            ],
            [
             0.2,
             "#de77ae"
            ],
            [
             0.3,
             "#f1b6da"
            ],
            [
             0.4,
             "#fde0ef"
            ],
            [
             0.5,
             "#f7f7f7"
            ],
            [
             0.6,
             "#e6f5d0"
            ],
            [
             0.7,
             "#b8e186"
            ],
            [
             0.8,
             "#7fbc41"
            ],
            [
             0.9,
             "#4d9221"
            ],
            [
             1,
             "#276419"
            ]
           ],
           "sequential": [
            [
             0,
             "#0d0887"
            ],
            [
             0.1111111111111111,
             "#46039f"
            ],
            [
             0.2222222222222222,
             "#7201a8"
            ],
            [
             0.3333333333333333,
             "#9c179e"
            ],
            [
             0.4444444444444444,
             "#bd3786"
            ],
            [
             0.5555555555555556,
             "#d8576b"
            ],
            [
             0.6666666666666666,
             "#ed7953"
            ],
            [
             0.7777777777777778,
             "#fb9f3a"
            ],
            [
             0.8888888888888888,
             "#fdca26"
            ],
            [
             1,
             "#f0f921"
            ]
           ],
           "sequentialminus": [
            [
             0,
             "#0d0887"
            ],
            [
             0.1111111111111111,
             "#46039f"
            ],
            [
             0.2222222222222222,
             "#7201a8"
            ],
            [
             0.3333333333333333,
             "#9c179e"
            ],
            [
             0.4444444444444444,
             "#bd3786"
            ],
            [
             0.5555555555555556,
             "#d8576b"
            ],
            [
             0.6666666666666666,
             "#ed7953"
            ],
            [
             0.7777777777777778,
             "#fb9f3a"
            ],
            [
             0.8888888888888888,
             "#fdca26"
            ],
            [
             1,
             "#f0f921"
            ]
           ]
          },
          "colorway": [
           "#636efa",
           "#EF553B",
           "#00cc96",
           "#ab63fa",
           "#FFA15A",
           "#19d3f3",
           "#FF6692",
           "#B6E880",
           "#FF97FF",
           "#FECB52"
          ],
          "font": {
           "color": "#2a3f5f"
          },
          "geo": {
           "bgcolor": "white",
           "lakecolor": "white",
           "landcolor": "#E5ECF6",
           "showlakes": true,
           "showland": true,
           "subunitcolor": "white"
          },
          "hoverlabel": {
           "align": "left"
          },
          "hovermode": "closest",
          "mapbox": {
           "style": "light"
          },
          "paper_bgcolor": "white",
          "plot_bgcolor": "#E5ECF6",
          "polar": {
           "angularaxis": {
            "gridcolor": "white",
            "linecolor": "white",
            "ticks": ""
           },
           "bgcolor": "#E5ECF6",
           "radialaxis": {
            "gridcolor": "white",
            "linecolor": "white",
            "ticks": ""
           }
          },
          "scene": {
           "xaxis": {
            "backgroundcolor": "#E5ECF6",
            "gridcolor": "white",
            "gridwidth": 2,
            "linecolor": "white",
            "showbackground": true,
            "ticks": "",
            "zerolinecolor": "white"
           },
           "yaxis": {
            "backgroundcolor": "#E5ECF6",
            "gridcolor": "white",
            "gridwidth": 2,
            "linecolor": "white",
            "showbackground": true,
            "ticks": "",
            "zerolinecolor": "white"
           },
           "zaxis": {
            "backgroundcolor": "#E5ECF6",
            "gridcolor": "white",
            "gridwidth": 2,
            "linecolor": "white",
            "showbackground": true,
            "ticks": "",
            "zerolinecolor": "white"
           }
          },
          "shapedefaults": {
           "line": {
            "color": "#2a3f5f"
           }
          },
          "ternary": {
           "aaxis": {
            "gridcolor": "white",
            "linecolor": "white",
            "ticks": ""
           },
           "baxis": {
            "gridcolor": "white",
            "linecolor": "white",
            "ticks": ""
           },
           "bgcolor": "#E5ECF6",
           "caxis": {
            "gridcolor": "white",
            "linecolor": "white",
            "ticks": ""
           }
          },
          "title": {
           "x": 0.05
          },
          "xaxis": {
           "automargin": true,
           "gridcolor": "white",
           "linecolor": "white",
           "ticks": "",
           "title": {
            "standoff": 15
           },
           "zerolinecolor": "white",
           "zerolinewidth": 2
          },
          "yaxis": {
           "automargin": true,
           "gridcolor": "white",
           "linecolor": "white",
           "ticks": "",
           "title": {
            "standoff": 15
           },
           "zerolinecolor": "white",
           "zerolinewidth": 2
          }
         }
        },
        "title": {
         "text": "Average Round Duration"
        },
        "xaxis": {
         "anchor": "y",
         "domain": [
          0,
          1
         ],
         "title": {
          "text": "round"
         }
        },
        "yaxis": {
         "anchor": "x",
         "domain": [
          0,
          1
         ],
         "title": {
          "text": "avg_duration"
         }
        }
       }
      }
     },
     "metadata": {},
     "output_type": "display_data"
    }
   ],
   "source": [
    "import plotly.express as px\n",
    "fig2 = px.line(\n",
    "    df_rounds, x=\"round\", y=\"avg_duration\",\n",
    "    title=\"Average Round Duration\",\n",
    "    hover_data=[\"round\", \"avg_duration\"]\n",
    ")\n",
    "fig2.show()"
   ]
  },
  {
   "cell_type": "code",
   "execution_count": 385,
   "id": "9c6a7d68",
   "metadata": {},
   "outputs": [
    {
     "data": {
      "application/vnd.plotly.v1+json": {
       "config": {
        "plotlyServerURL": "https://plot.ly"
       },
       "data": [
        {
         "hovertemplate": "round=%{x}<br>accuracy=%{y}<extra></extra>",
         "legendgroup": "",
         "line": {
          "color": "#636efa",
          "dash": "solid"
         },
         "marker": {
          "symbol": "circle"
         },
         "mode": "lines",
         "name": "",
         "orientation": "v",
         "showlegend": false,
         "type": "scatter",
         "x": {
          "bdata": "AQIDBAUGBwgJCg==",
          "dtype": "i1"
         },
         "xaxis": "x",
         "y": {
          "bdata": "pHA9CtejLUCuR+F6FD5QQEjhehSut1NA16NwPQp3VEBI4XoUrpdUQEjhehSu51RAj8L1KFz/VEAUrkfhetRUQD0K16NwDVVAexSuR+FKVUA=",
          "dtype": "f8"
         },
         "yaxis": "y"
        }
       ],
       "layout": {
        "legend": {
         "tracegroupgap": 0
        },
        "template": {
         "data": {
          "bar": [
           {
            "error_x": {
             "color": "#2a3f5f"
            },
            "error_y": {
             "color": "#2a3f5f"
            },
            "marker": {
             "line": {
              "color": "#E5ECF6",
              "width": 0.5
             },
             "pattern": {
              "fillmode": "overlay",
              "size": 10,
              "solidity": 0.2
             }
            },
            "type": "bar"
           }
          ],
          "barpolar": [
           {
            "marker": {
             "line": {
              "color": "#E5ECF6",
              "width": 0.5
             },
             "pattern": {
              "fillmode": "overlay",
              "size": 10,
              "solidity": 0.2
             }
            },
            "type": "barpolar"
           }
          ],
          "carpet": [
           {
            "aaxis": {
             "endlinecolor": "#2a3f5f",
             "gridcolor": "white",
             "linecolor": "white",
             "minorgridcolor": "white",
             "startlinecolor": "#2a3f5f"
            },
            "baxis": {
             "endlinecolor": "#2a3f5f",
             "gridcolor": "white",
             "linecolor": "white",
             "minorgridcolor": "white",
             "startlinecolor": "#2a3f5f"
            },
            "type": "carpet"
           }
          ],
          "choropleth": [
           {
            "colorbar": {
             "outlinewidth": 0,
             "ticks": ""
            },
            "type": "choropleth"
           }
          ],
          "contour": [
           {
            "colorbar": {
             "outlinewidth": 0,
             "ticks": ""
            },
            "colorscale": [
             [
              0,
              "#0d0887"
             ],
             [
              0.1111111111111111,
              "#46039f"
             ],
             [
              0.2222222222222222,
              "#7201a8"
             ],
             [
              0.3333333333333333,
              "#9c179e"
             ],
             [
              0.4444444444444444,
              "#bd3786"
             ],
             [
              0.5555555555555556,
              "#d8576b"
             ],
             [
              0.6666666666666666,
              "#ed7953"
             ],
             [
              0.7777777777777778,
              "#fb9f3a"
             ],
             [
              0.8888888888888888,
              "#fdca26"
             ],
             [
              1,
              "#f0f921"
             ]
            ],
            "type": "contour"
           }
          ],
          "contourcarpet": [
           {
            "colorbar": {
             "outlinewidth": 0,
             "ticks": ""
            },
            "type": "contourcarpet"
           }
          ],
          "heatmap": [
           {
            "colorbar": {
             "outlinewidth": 0,
             "ticks": ""
            },
            "colorscale": [
             [
              0,
              "#0d0887"
             ],
             [
              0.1111111111111111,
              "#46039f"
             ],
             [
              0.2222222222222222,
              "#7201a8"
             ],
             [
              0.3333333333333333,
              "#9c179e"
             ],
             [
              0.4444444444444444,
              "#bd3786"
             ],
             [
              0.5555555555555556,
              "#d8576b"
             ],
             [
              0.6666666666666666,
              "#ed7953"
             ],
             [
              0.7777777777777778,
              "#fb9f3a"
             ],
             [
              0.8888888888888888,
              "#fdca26"
             ],
             [
              1,
              "#f0f921"
             ]
            ],
            "type": "heatmap"
           }
          ],
          "histogram": [
           {
            "marker": {
             "pattern": {
              "fillmode": "overlay",
              "size": 10,
              "solidity": 0.2
             }
            },
            "type": "histogram"
           }
          ],
          "histogram2d": [
           {
            "colorbar": {
             "outlinewidth": 0,
             "ticks": ""
            },
            "colorscale": [
             [
              0,
              "#0d0887"
             ],
             [
              0.1111111111111111,
              "#46039f"
             ],
             [
              0.2222222222222222,
              "#7201a8"
             ],
             [
              0.3333333333333333,
              "#9c179e"
             ],
             [
              0.4444444444444444,
              "#bd3786"
             ],
             [
              0.5555555555555556,
              "#d8576b"
             ],
             [
              0.6666666666666666,
              "#ed7953"
             ],
             [
              0.7777777777777778,
              "#fb9f3a"
             ],
             [
              0.8888888888888888,
              "#fdca26"
             ],
             [
              1,
              "#f0f921"
             ]
            ],
            "type": "histogram2d"
           }
          ],
          "histogram2dcontour": [
           {
            "colorbar": {
             "outlinewidth": 0,
             "ticks": ""
            },
            "colorscale": [
             [
              0,
              "#0d0887"
             ],
             [
              0.1111111111111111,
              "#46039f"
             ],
             [
              0.2222222222222222,
              "#7201a8"
             ],
             [
              0.3333333333333333,
              "#9c179e"
             ],
             [
              0.4444444444444444,
              "#bd3786"
             ],
             [
              0.5555555555555556,
              "#d8576b"
             ],
             [
              0.6666666666666666,
              "#ed7953"
             ],
             [
              0.7777777777777778,
              "#fb9f3a"
             ],
             [
              0.8888888888888888,
              "#fdca26"
             ],
             [
              1,
              "#f0f921"
             ]
            ],
            "type": "histogram2dcontour"
           }
          ],
          "mesh3d": [
           {
            "colorbar": {
             "outlinewidth": 0,
             "ticks": ""
            },
            "type": "mesh3d"
           }
          ],
          "parcoords": [
           {
            "line": {
             "colorbar": {
              "outlinewidth": 0,
              "ticks": ""
             }
            },
            "type": "parcoords"
           }
          ],
          "pie": [
           {
            "automargin": true,
            "type": "pie"
           }
          ],
          "scatter": [
           {
            "fillpattern": {
             "fillmode": "overlay",
             "size": 10,
             "solidity": 0.2
            },
            "type": "scatter"
           }
          ],
          "scatter3d": [
           {
            "line": {
             "colorbar": {
              "outlinewidth": 0,
              "ticks": ""
             }
            },
            "marker": {
             "colorbar": {
              "outlinewidth": 0,
              "ticks": ""
             }
            },
            "type": "scatter3d"
           }
          ],
          "scattercarpet": [
           {
            "marker": {
             "colorbar": {
              "outlinewidth": 0,
              "ticks": ""
             }
            },
            "type": "scattercarpet"
           }
          ],
          "scattergeo": [
           {
            "marker": {
             "colorbar": {
              "outlinewidth": 0,
              "ticks": ""
             }
            },
            "type": "scattergeo"
           }
          ],
          "scattergl": [
           {
            "marker": {
             "colorbar": {
              "outlinewidth": 0,
              "ticks": ""
             }
            },
            "type": "scattergl"
           }
          ],
          "scattermap": [
           {
            "marker": {
             "colorbar": {
              "outlinewidth": 0,
              "ticks": ""
             }
            },
            "type": "scattermap"
           }
          ],
          "scattermapbox": [
           {
            "marker": {
             "colorbar": {
              "outlinewidth": 0,
              "ticks": ""
             }
            },
            "type": "scattermapbox"
           }
          ],
          "scatterpolar": [
           {
            "marker": {
             "colorbar": {
              "outlinewidth": 0,
              "ticks": ""
             }
            },
            "type": "scatterpolar"
           }
          ],
          "scatterpolargl": [
           {
            "marker": {
             "colorbar": {
              "outlinewidth": 0,
              "ticks": ""
             }
            },
            "type": "scatterpolargl"
           }
          ],
          "scatterternary": [
           {
            "marker": {
             "colorbar": {
              "outlinewidth": 0,
              "ticks": ""
             }
            },
            "type": "scatterternary"
           }
          ],
          "surface": [
           {
            "colorbar": {
             "outlinewidth": 0,
             "ticks": ""
            },
            "colorscale": [
             [
              0,
              "#0d0887"
             ],
             [
              0.1111111111111111,
              "#46039f"
             ],
             [
              0.2222222222222222,
              "#7201a8"
             ],
             [
              0.3333333333333333,
              "#9c179e"
             ],
             [
              0.4444444444444444,
              "#bd3786"
             ],
             [
              0.5555555555555556,
              "#d8576b"
             ],
             [
              0.6666666666666666,
              "#ed7953"
             ],
             [
              0.7777777777777778,
              "#fb9f3a"
             ],
             [
              0.8888888888888888,
              "#fdca26"
             ],
             [
              1,
              "#f0f921"
             ]
            ],
            "type": "surface"
           }
          ],
          "table": [
           {
            "cells": {
             "fill": {
              "color": "#EBF0F8"
             },
             "line": {
              "color": "white"
             }
            },
            "header": {
             "fill": {
              "color": "#C8D4E3"
             },
             "line": {
              "color": "white"
             }
            },
            "type": "table"
           }
          ]
         },
         "layout": {
          "annotationdefaults": {
           "arrowcolor": "#2a3f5f",
           "arrowhead": 0,
           "arrowwidth": 1
          },
          "autotypenumbers": "strict",
          "coloraxis": {
           "colorbar": {
            "outlinewidth": 0,
            "ticks": ""
           }
          },
          "colorscale": {
           "diverging": [
            [
             0,
             "#8e0152"
            ],
            [
             0.1,
             "#c51b7d"
            ],
            [
             0.2,
             "#de77ae"
            ],
            [
             0.3,
             "#f1b6da"
            ],
            [
             0.4,
             "#fde0ef"
            ],
            [
             0.5,
             "#f7f7f7"
            ],
            [
             0.6,
             "#e6f5d0"
            ],
            [
             0.7,
             "#b8e186"
            ],
            [
             0.8,
             "#7fbc41"
            ],
            [
             0.9,
             "#4d9221"
            ],
            [
             1,
             "#276419"
            ]
           ],
           "sequential": [
            [
             0,
             "#0d0887"
            ],
            [
             0.1111111111111111,
             "#46039f"
            ],
            [
             0.2222222222222222,
             "#7201a8"
            ],
            [
             0.3333333333333333,
             "#9c179e"
            ],
            [
             0.4444444444444444,
             "#bd3786"
            ],
            [
             0.5555555555555556,
             "#d8576b"
            ],
            [
             0.6666666666666666,
             "#ed7953"
            ],
            [
             0.7777777777777778,
             "#fb9f3a"
            ],
            [
             0.8888888888888888,
             "#fdca26"
            ],
            [
             1,
             "#f0f921"
            ]
           ],
           "sequentialminus": [
            [
             0,
             "#0d0887"
            ],
            [
             0.1111111111111111,
             "#46039f"
            ],
            [
             0.2222222222222222,
             "#7201a8"
            ],
            [
             0.3333333333333333,
             "#9c179e"
            ],
            [
             0.4444444444444444,
             "#bd3786"
            ],
            [
             0.5555555555555556,
             "#d8576b"
            ],
            [
             0.6666666666666666,
             "#ed7953"
            ],
            [
             0.7777777777777778,
             "#fb9f3a"
            ],
            [
             0.8888888888888888,
             "#fdca26"
            ],
            [
             1,
             "#f0f921"
            ]
           ]
          },
          "colorway": [
           "#636efa",
           "#EF553B",
           "#00cc96",
           "#ab63fa",
           "#FFA15A",
           "#19d3f3",
           "#FF6692",
           "#B6E880",
           "#FF97FF",
           "#FECB52"
          ],
          "font": {
           "color": "#2a3f5f"
          },
          "geo": {
           "bgcolor": "white",
           "lakecolor": "white",
           "landcolor": "#E5ECF6",
           "showlakes": true,
           "showland": true,
           "subunitcolor": "white"
          },
          "hoverlabel": {
           "align": "left"
          },
          "hovermode": "closest",
          "mapbox": {
           "style": "light"
          },
          "paper_bgcolor": "white",
          "plot_bgcolor": "#E5ECF6",
          "polar": {
           "angularaxis": {
            "gridcolor": "white",
            "linecolor": "white",
            "ticks": ""
           },
           "bgcolor": "#E5ECF6",
           "radialaxis": {
            "gridcolor": "white",
            "linecolor": "white",
            "ticks": ""
           }
          },
          "scene": {
           "xaxis": {
            "backgroundcolor": "#E5ECF6",
            "gridcolor": "white",
            "gridwidth": 2,
            "linecolor": "white",
            "showbackground": true,
            "ticks": "",
            "zerolinecolor": "white"
           },
           "yaxis": {
            "backgroundcolor": "#E5ECF6",
            "gridcolor": "white",
            "gridwidth": 2,
            "linecolor": "white",
            "showbackground": true,
            "ticks": "",
            "zerolinecolor": "white"
           },
           "zaxis": {
            "backgroundcolor": "#E5ECF6",
            "gridcolor": "white",
            "gridwidth": 2,
            "linecolor": "white",
            "showbackground": true,
            "ticks": "",
            "zerolinecolor": "white"
           }
          },
          "shapedefaults": {
           "line": {
            "color": "#2a3f5f"
           }
          },
          "ternary": {
           "aaxis": {
            "gridcolor": "white",
            "linecolor": "white",
            "ticks": ""
           },
           "baxis": {
            "gridcolor": "white",
            "linecolor": "white",
            "ticks": ""
           },
           "bgcolor": "#E5ECF6",
           "caxis": {
            "gridcolor": "white",
            "linecolor": "white",
            "ticks": ""
           }
          },
          "title": {
           "x": 0.05
          },
          "xaxis": {
           "automargin": true,
           "gridcolor": "white",
           "linecolor": "white",
           "ticks": "",
           "title": {
            "standoff": 15
           },
           "zerolinecolor": "white",
           "zerolinewidth": 2
          },
          "yaxis": {
           "automargin": true,
           "gridcolor": "white",
           "linecolor": "white",
           "ticks": "",
           "title": {
            "standoff": 15
           },
           "zerolinecolor": "white",
           "zerolinewidth": 2
          }
         }
        },
        "title": {
         "text": "Accuracy per Round"
        },
        "xaxis": {
         "anchor": "y",
         "domain": [
          0,
          1
         ],
         "title": {
          "text": "round"
         }
        },
        "yaxis": {
         "anchor": "x",
         "domain": [
          0,
          1
         ],
         "title": {
          "text": "accuracy"
         }
        }
       }
      }
     },
     "metadata": {},
     "output_type": "display_data"
    }
   ],
   "source": [
    "fig3 = px.line(\n",
    "    df_rounds, x=\"round\", y=\"accuracy\",\n",
    "    title=\"Accuracy per Round\",\n",
    "    hover_data=[\"round\", \"accuracy\"]\n",
    ")\n",
    "fig3.show()"
   ]
  },
  {
   "cell_type": "markdown",
   "id": "18d54f13",
   "metadata": {},
   "source": [
    "#### Rounds, Number of Examples, and Loss per Client Statistics"
   ]
  },
  {
   "cell_type": "code",
   "execution_count": 386,
   "id": "ca149bf5",
   "metadata": {},
   "outputs": [],
   "source": [
    "# Flatten the nested structure\n",
    "records = []\n",
    "for round_entry in data:\n",
    "    round_number = round_entry.get(\"clients_logs\", [])[0][\"server_round_number\"]\n",
    "    for log in round_entry[\"clients_logs\"]:\n",
    "        records.append({\n",
    "            \"client_id\": log[\"client_id\"],\n",
    "            \"server_round_number\": log[\"server_round_number\"],\n",
    "            \"round_duration\": log[\"round_duration\"],\n",
    "            \"num_examples\": log[\"num-examples\"],\n",
    "            \"round_loss\": log[\"round_loss\"]\n",
    "        })"
   ]
  },
  {
   "cell_type": "code",
   "execution_count": 387,
   "id": "4870bdcd",
   "metadata": {},
   "outputs": [],
   "source": [
    "df = pd.DataFrame(records)"
   ]
  },
  {
   "cell_type": "code",
   "execution_count": 388,
   "id": "3014238a",
   "metadata": {},
   "outputs": [
    {
     "data": {
      "text/html": [
       "<div>\n",
       "<style scoped>\n",
       "    .dataframe tbody tr th:only-of-type {\n",
       "        vertical-align: middle;\n",
       "    }\n",
       "\n",
       "    .dataframe tbody tr th {\n",
       "        vertical-align: top;\n",
       "    }\n",
       "\n",
       "    .dataframe thead th {\n",
       "        text-align: right;\n",
       "    }\n",
       "</style>\n",
       "<table border=\"1\" class=\"dataframe\">\n",
       "  <thead>\n",
       "    <tr style=\"text-align: right;\">\n",
       "      <th>server_round_number</th>\n",
       "      <th>1</th>\n",
       "      <th>2</th>\n",
       "      <th>3</th>\n",
       "      <th>4</th>\n",
       "      <th>5</th>\n",
       "      <th>6</th>\n",
       "      <th>7</th>\n",
       "      <th>8</th>\n",
       "      <th>9</th>\n",
       "      <th>10</th>\n",
       "    </tr>\n",
       "    <tr>\n",
       "      <th>client_id</th>\n",
       "      <th></th>\n",
       "      <th></th>\n",
       "      <th></th>\n",
       "      <th></th>\n",
       "      <th></th>\n",
       "      <th></th>\n",
       "      <th></th>\n",
       "      <th></th>\n",
       "      <th></th>\n",
       "      <th></th>\n",
       "    </tr>\n",
       "  </thead>\n",
       "  <tbody>\n",
       "    <tr>\n",
       "      <th>0</th>\n",
       "      <td>0.54</td>\n",
       "      <td>0.52</td>\n",
       "      <td>0.55</td>\n",
       "      <td>0.55</td>\n",
       "      <td>0.51</td>\n",
       "      <td>0.52</td>\n",
       "      <td>0.53</td>\n",
       "      <td>0.53</td>\n",
       "      <td>0.59</td>\n",
       "      <td>0.53</td>\n",
       "    </tr>\n",
       "    <tr>\n",
       "      <th>1</th>\n",
       "      <td>0.28</td>\n",
       "      <td>0.32</td>\n",
       "      <td>0.30</td>\n",
       "      <td>NaN</td>\n",
       "      <td>0.31</td>\n",
       "      <td>NaN</td>\n",
       "      <td>NaN</td>\n",
       "      <td>0.31</td>\n",
       "      <td>0.32</td>\n",
       "      <td>0.31</td>\n",
       "    </tr>\n",
       "    <tr>\n",
       "      <th>2</th>\n",
       "      <td>0.22</td>\n",
       "      <td>0.22</td>\n",
       "      <td>0.23</td>\n",
       "      <td>NaN</td>\n",
       "      <td>0.23</td>\n",
       "      <td>0.23</td>\n",
       "      <td>0.23</td>\n",
       "      <td>0.22</td>\n",
       "      <td>NaN</td>\n",
       "      <td>0.24</td>\n",
       "    </tr>\n",
       "    <tr>\n",
       "      <th>3</th>\n",
       "      <td>NaN</td>\n",
       "      <td>0.43</td>\n",
       "      <td>NaN</td>\n",
       "      <td>NaN</td>\n",
       "      <td>0.42</td>\n",
       "      <td>0.41</td>\n",
       "      <td>0.44</td>\n",
       "      <td>0.43</td>\n",
       "      <td>0.41</td>\n",
       "      <td>0.51</td>\n",
       "    </tr>\n",
       "    <tr>\n",
       "      <th>4</th>\n",
       "      <td>0.27</td>\n",
       "      <td>0.36</td>\n",
       "      <td>0.28</td>\n",
       "      <td>0.28</td>\n",
       "      <td>NaN</td>\n",
       "      <td>0.32</td>\n",
       "      <td>NaN</td>\n",
       "      <td>0.30</td>\n",
       "      <td>0.28</td>\n",
       "      <td>0.29</td>\n",
       "    </tr>\n",
       "  </tbody>\n",
       "</table>\n",
       "</div>"
      ],
      "text/plain": [
       "server_round_number    1     2     3     4     5     6     7     8     9   \\\n",
       "client_id                                                                   \n",
       "0                    0.54  0.52  0.55  0.55  0.51  0.52  0.53  0.53  0.59   \n",
       "1                    0.28  0.32  0.30   NaN  0.31   NaN   NaN  0.31  0.32   \n",
       "2                    0.22  0.22  0.23   NaN  0.23  0.23  0.23  0.22   NaN   \n",
       "3                     NaN  0.43   NaN   NaN  0.42  0.41  0.44  0.43  0.41   \n",
       "4                    0.27  0.36  0.28  0.28   NaN  0.32   NaN  0.30  0.28   \n",
       "\n",
       "server_round_number    10  \n",
       "client_id                  \n",
       "0                    0.53  \n",
       "1                    0.31  \n",
       "2                    0.24  \n",
       "3                    0.51  \n",
       "4                    0.29  "
      ]
     },
     "execution_count": 388,
     "metadata": {},
     "output_type": "execute_result"
    }
   ],
   "source": [
    "# 1️⃣ Clients × Round Durations\n",
    "df_duration = df.pivot(index=\"client_id\", columns=\"server_round_number\", values=\"round_duration\")\n",
    "df_duration = df_duration.round(2)\n",
    "df_duration.head()"
   ]
  },
  {
   "cell_type": "code",
   "execution_count": 389,
   "id": "84e7d59a",
   "metadata": {},
   "outputs": [
    {
     "data": {
      "text/html": [
       "<div>\n",
       "<style scoped>\n",
       "    .dataframe tbody tr th:only-of-type {\n",
       "        vertical-align: middle;\n",
       "    }\n",
       "\n",
       "    .dataframe tbody tr th {\n",
       "        vertical-align: top;\n",
       "    }\n",
       "\n",
       "    .dataframe thead th {\n",
       "        text-align: right;\n",
       "    }\n",
       "</style>\n",
       "<table border=\"1\" class=\"dataframe\">\n",
       "  <thead>\n",
       "    <tr style=\"text-align: right;\">\n",
       "      <th>server_round_number</th>\n",
       "      <th>1</th>\n",
       "      <th>2</th>\n",
       "      <th>3</th>\n",
       "      <th>4</th>\n",
       "      <th>5</th>\n",
       "      <th>6</th>\n",
       "      <th>7</th>\n",
       "      <th>8</th>\n",
       "      <th>9</th>\n",
       "      <th>10</th>\n",
       "    </tr>\n",
       "    <tr>\n",
       "      <th>client_id</th>\n",
       "      <th></th>\n",
       "      <th></th>\n",
       "      <th></th>\n",
       "      <th></th>\n",
       "      <th></th>\n",
       "      <th></th>\n",
       "      <th></th>\n",
       "      <th></th>\n",
       "      <th></th>\n",
       "      <th></th>\n",
       "    </tr>\n",
       "  </thead>\n",
       "  <tbody>\n",
       "    <tr>\n",
       "      <th>0</th>\n",
       "      <td>1131.0</td>\n",
       "      <td>1131.0</td>\n",
       "      <td>1131.0</td>\n",
       "      <td>1131.0</td>\n",
       "      <td>1131.0</td>\n",
       "      <td>1131.0</td>\n",
       "      <td>1131.0</td>\n",
       "      <td>1131.0</td>\n",
       "      <td>1131.0</td>\n",
       "      <td>1131.0</td>\n",
       "    </tr>\n",
       "    <tr>\n",
       "      <th>1</th>\n",
       "      <td>664.0</td>\n",
       "      <td>664.0</td>\n",
       "      <td>664.0</td>\n",
       "      <td>NaN</td>\n",
       "      <td>664.0</td>\n",
       "      <td>NaN</td>\n",
       "      <td>NaN</td>\n",
       "      <td>664.0</td>\n",
       "      <td>664.0</td>\n",
       "      <td>664.0</td>\n",
       "    </tr>\n",
       "    <tr>\n",
       "      <th>2</th>\n",
       "      <td>483.0</td>\n",
       "      <td>483.0</td>\n",
       "      <td>483.0</td>\n",
       "      <td>NaN</td>\n",
       "      <td>483.0</td>\n",
       "      <td>483.0</td>\n",
       "      <td>483.0</td>\n",
       "      <td>483.0</td>\n",
       "      <td>NaN</td>\n",
       "      <td>483.0</td>\n",
       "    </tr>\n",
       "    <tr>\n",
       "      <th>3</th>\n",
       "      <td>NaN</td>\n",
       "      <td>898.0</td>\n",
       "      <td>NaN</td>\n",
       "      <td>NaN</td>\n",
       "      <td>898.0</td>\n",
       "      <td>898.0</td>\n",
       "      <td>898.0</td>\n",
       "      <td>898.0</td>\n",
       "      <td>898.0</td>\n",
       "      <td>898.0</td>\n",
       "    </tr>\n",
       "    <tr>\n",
       "      <th>4</th>\n",
       "      <td>617.0</td>\n",
       "      <td>617.0</td>\n",
       "      <td>617.0</td>\n",
       "      <td>617.0</td>\n",
       "      <td>NaN</td>\n",
       "      <td>617.0</td>\n",
       "      <td>NaN</td>\n",
       "      <td>617.0</td>\n",
       "      <td>617.0</td>\n",
       "      <td>617.0</td>\n",
       "    </tr>\n",
       "  </tbody>\n",
       "</table>\n",
       "</div>"
      ],
      "text/plain": [
       "server_round_number      1       2       3       4       5       6       7   \\\n",
       "client_id                                                                     \n",
       "0                    1131.0  1131.0  1131.0  1131.0  1131.0  1131.0  1131.0   \n",
       "1                     664.0   664.0   664.0     NaN   664.0     NaN     NaN   \n",
       "2                     483.0   483.0   483.0     NaN   483.0   483.0   483.0   \n",
       "3                       NaN   898.0     NaN     NaN   898.0   898.0   898.0   \n",
       "4                     617.0   617.0   617.0   617.0     NaN   617.0     NaN   \n",
       "\n",
       "server_round_number      8       9       10  \n",
       "client_id                                    \n",
       "0                    1131.0  1131.0  1131.0  \n",
       "1                     664.0   664.0   664.0  \n",
       "2                     483.0     NaN   483.0  \n",
       "3                     898.0   898.0   898.0  \n",
       "4                     617.0   617.0   617.0  "
      ]
     },
     "execution_count": 389,
     "metadata": {},
     "output_type": "execute_result"
    }
   ],
   "source": [
    "# 2️⃣ Clients × Num Examples\n",
    "df_examples = df.pivot(index=\"client_id\", columns=\"server_round_number\", values=\"num_examples\")\n",
    "df_examples.head()"
   ]
  },
  {
   "cell_type": "code",
   "execution_count": 390,
   "id": "125293a5",
   "metadata": {},
   "outputs": [
    {
     "data": {
      "text/html": [
       "<div>\n",
       "<style scoped>\n",
       "    .dataframe tbody tr th:only-of-type {\n",
       "        vertical-align: middle;\n",
       "    }\n",
       "\n",
       "    .dataframe tbody tr th {\n",
       "        vertical-align: top;\n",
       "    }\n",
       "\n",
       "    .dataframe thead th {\n",
       "        text-align: right;\n",
       "    }\n",
       "</style>\n",
       "<table border=\"1\" class=\"dataframe\">\n",
       "  <thead>\n",
       "    <tr style=\"text-align: right;\">\n",
       "      <th>server_round_number</th>\n",
       "      <th>1</th>\n",
       "      <th>2</th>\n",
       "      <th>3</th>\n",
       "      <th>4</th>\n",
       "      <th>5</th>\n",
       "      <th>6</th>\n",
       "      <th>7</th>\n",
       "      <th>8</th>\n",
       "      <th>9</th>\n",
       "      <th>10</th>\n",
       "    </tr>\n",
       "    <tr>\n",
       "      <th>client_id</th>\n",
       "      <th></th>\n",
       "      <th></th>\n",
       "      <th></th>\n",
       "      <th></th>\n",
       "      <th></th>\n",
       "      <th></th>\n",
       "      <th></th>\n",
       "      <th></th>\n",
       "      <th></th>\n",
       "      <th></th>\n",
       "    </tr>\n",
       "  </thead>\n",
       "  <tbody>\n",
       "    <tr>\n",
       "      <th>0</th>\n",
       "      <td>0.536618</td>\n",
       "      <td>0.404231</td>\n",
       "      <td>0.297476</td>\n",
       "      <td>0.276636</td>\n",
       "      <td>0.269998</td>\n",
       "      <td>0.264570</td>\n",
       "      <td>0.241023</td>\n",
       "      <td>0.268542</td>\n",
       "      <td>0.269131</td>\n",
       "      <td>0.221413</td>\n",
       "    </tr>\n",
       "    <tr>\n",
       "      <th>1</th>\n",
       "      <td>0.828988</td>\n",
       "      <td>0.487169</td>\n",
       "      <td>0.292326</td>\n",
       "      <td>NaN</td>\n",
       "      <td>0.261384</td>\n",
       "      <td>NaN</td>\n",
       "      <td>NaN</td>\n",
       "      <td>0.241854</td>\n",
       "      <td>0.237090</td>\n",
       "      <td>0.277091</td>\n",
       "    </tr>\n",
       "    <tr>\n",
       "      <th>2</th>\n",
       "      <td>0.894114</td>\n",
       "      <td>0.605754</td>\n",
       "      <td>0.346608</td>\n",
       "      <td>NaN</td>\n",
       "      <td>0.295848</td>\n",
       "      <td>0.283803</td>\n",
       "      <td>0.237611</td>\n",
       "      <td>0.358951</td>\n",
       "      <td>NaN</td>\n",
       "      <td>0.301941</td>\n",
       "    </tr>\n",
       "    <tr>\n",
       "      <th>3</th>\n",
       "      <td>NaN</td>\n",
       "      <td>0.419007</td>\n",
       "      <td>NaN</td>\n",
       "      <td>NaN</td>\n",
       "      <td>0.233269</td>\n",
       "      <td>0.193713</td>\n",
       "      <td>0.274899</td>\n",
       "      <td>0.260645</td>\n",
       "      <td>0.190046</td>\n",
       "      <td>0.243337</td>\n",
       "    </tr>\n",
       "    <tr>\n",
       "      <th>4</th>\n",
       "      <td>0.863409</td>\n",
       "      <td>0.672737</td>\n",
       "      <td>0.430902</td>\n",
       "      <td>0.391256</td>\n",
       "      <td>NaN</td>\n",
       "      <td>0.326518</td>\n",
       "      <td>NaN</td>\n",
       "      <td>0.288202</td>\n",
       "      <td>0.336713</td>\n",
       "      <td>0.366361</td>\n",
       "    </tr>\n",
       "  </tbody>\n",
       "</table>\n",
       "</div>"
      ],
      "text/plain": [
       "server_round_number        1         2         3         4         5   \\\n",
       "client_id                                                               \n",
       "0                    0.536618  0.404231  0.297476  0.276636  0.269998   \n",
       "1                    0.828988  0.487169  0.292326       NaN  0.261384   \n",
       "2                    0.894114  0.605754  0.346608       NaN  0.295848   \n",
       "3                         NaN  0.419007       NaN       NaN  0.233269   \n",
       "4                    0.863409  0.672737  0.430902  0.391256       NaN   \n",
       "\n",
       "server_round_number        6         7         8         9         10  \n",
       "client_id                                                              \n",
       "0                    0.264570  0.241023  0.268542  0.269131  0.221413  \n",
       "1                         NaN       NaN  0.241854  0.237090  0.277091  \n",
       "2                    0.283803  0.237611  0.358951       NaN  0.301941  \n",
       "3                    0.193713  0.274899  0.260645  0.190046  0.243337  \n",
       "4                    0.326518       NaN  0.288202  0.336713  0.366361  "
      ]
     },
     "execution_count": 390,
     "metadata": {},
     "output_type": "execute_result"
    }
   ],
   "source": [
    "# 3️⃣ Clients × Loss\n",
    "df_loss = df.pivot(index=\"client_id\", columns=\"server_round_number\", values=\"round_loss\")\n",
    "df_loss.head()"
   ]
  },
  {
   "cell_type": "markdown",
   "id": "48d5888d",
   "metadata": {},
   "source": [
    "#### Client Specific Statistics"
   ]
  },
  {
   "cell_type": "code",
   "execution_count": 391,
   "id": "a00e8ac3",
   "metadata": {},
   "outputs": [],
   "source": [
    "import plotly.express as px\n",
    "import pandas as pd\n",
    "import plotly.graph_objects as go\n",
    "from plotly.subplots import make_subplots\n",
    "\n",
    "def plot_client_metrics(client_id, df_duration, df_loss, df_examples):\n",
    "    \"\"\"\n",
    "    Plot round duration, loss, and examples for a specific client\n",
    "    \n",
    "    Parameters:\n",
    "    client_id (str/int): The client ID to plot\n",
    "    df_duration (DataFrame): DataFrame with round durations\n",
    "    df_loss (DataFrame): DataFrame with round losses  \n",
    "    df_examples (DataFrame): DataFrame with round examples\n",
    "    \"\"\"\n",
    "    \n",
    "    # Convert client_id to string for consistent matching\n",
    "    client_id_str = client_id\n",
    "    \n",
    "    # Check if client exists in all dataframes\n",
    "    if client_id_str not in df_duration.index:\n",
    "        print(f\"Client {client_id} not found in duration data\")\n",
    "        return\n",
    "    if client_id_str not in df_loss.index:\n",
    "        print(f\"Client {client_id} not found in loss data\")\n",
    "        return\n",
    "    if client_id_str not in df_examples.index:\n",
    "        print(f\"Client {client_id} not found in examples data\")\n",
    "        return\n",
    "    \n",
    "    # Get data for the specific client\n",
    "    client_duration = df_duration.loc[client_id_str]\n",
    "    client_loss = df_loss.loc[client_id_str]\n",
    "    client_examples = df_examples.loc[client_id_str]\n",
    "    \n",
    "    # Create DataFrames for plotting\n",
    "    rounds = client_duration.index.tolist()\n",
    "    \n",
    "    client_data = pd.DataFrame({\n",
    "        'Round': rounds,\n",
    "        'Duration': client_duration.values,\n",
    "        'Loss': client_loss.values,\n",
    "        'Examples': client_examples.values\n",
    "    })\n",
    "    \n",
    "    # Create subplot with secondary y-axis\n",
    "    fig = make_subplots(\n",
    "        specs=[[{\"secondary_y\": True}]],\n",
    "        subplot_titles=[f\"Client {client_id} - Round Metrics\"]\n",
    "    )\n",
    "    \n",
    "    # Add duration bars\n",
    "    fig.add_trace(\n",
    "        go.Bar(\n",
    "            x=client_data['Round'],\n",
    "            y=client_data['Duration'],\n",
    "            name='Duration',\n",
    "            marker_color='lightblue',\n",
    "            hovertemplate=(\n",
    "                \"Round: %{x}<br>\"\n",
    "                \"Duration: %{y:.4f}s<br>\"\n",
    "                \"Loss: %{customdata[0]:.4f}<br>\"\n",
    "                \"Examples: %{customdata[1]:.0f}<extra></extra>\"\n",
    "            ),\n",
    "            customdata=client_data[['Loss', 'Examples']],\n",
    "            text=client_data['Duration'].round(4),\n",
    "            textposition='outside',\n",
    "            texttemplate='%{text:.3f}s',\n",
    "            showlegend=True\n",
    "        ),\n",
    "        secondary_y=False,\n",
    "    )\n",
    "    \n",
    "    # Add loss line\n",
    "    fig.add_trace(\n",
    "        go.Scatter(\n",
    "            x=client_data['Round'],\n",
    "            y=client_data['Loss'],\n",
    "            mode='lines+markers+text',\n",
    "            name='Loss',\n",
    "            line=dict(color='red', width=3),\n",
    "            marker=dict(size=8, symbol='diamond'),\n",
    "            text=client_data['Loss'].round(4),\n",
    "            textposition='top center',\n",
    "            texttemplate='%{text:.3f}',\n",
    "            hovertemplate=(\n",
    "                \"Round: %{x}<br>\"\n",
    "                \"Loss: %{y:.4f}<br>\"\n",
    "                \"Duration: %{customdata[0]:.4f}s<br>\"\n",
    "                \"Examples: %{customdata[1]:.0f}<extra></extra>\"\n",
    "            ),\n",
    "            customdata=client_data[['Duration', 'Examples']],\n",
    "            yaxis='y2'\n",
    "        ),\n",
    "        secondary_y=True,\n",
    "    )\n",
    "    \n",
    "    # Add examples line  \n",
    "    fig.add_trace(\n",
    "        go.Scatter(\n",
    "            x=client_data['Round'],\n",
    "            y=client_data['Examples'],\n",
    "            mode='lines+markers+text',\n",
    "            name='Examples',\n",
    "            line=dict(color='green', width=3, dash='dot'),\n",
    "            marker=dict(size=8, symbol='circle'),\n",
    "            text=client_data['Examples'].round(0),\n",
    "            textposition='bottom center',\n",
    "            texttemplate='%{text:.0f}',\n",
    "            hovertemplate=(\n",
    "                \"Round: %{x}<br>\"\n",
    "                \"Examples: %{y:.0f}<br>\"\n",
    "                \"Duration: %{customdata[0]:.4f}s<br>\"\n",
    "                \"Loss: %{customdata[1]:.4f}<extra></extra>\"\n",
    "            ),\n",
    "            customdata=client_data[['Duration', 'Loss']],\n",
    "            yaxis='y2'\n",
    "        ),\n",
    "        secondary_y=True,\n",
    "    )\n",
    "    \n",
    "    # Update layout\n",
    "    fig.update_layout(\n",
    "        title=f\"Client {client_id} - Round Duration, Loss and Examples\",\n",
    "        xaxis_title=\"Rounds\",\n",
    "        yaxis_title=\"Round Duration (s)\",\n",
    "        yaxis2_title=\"Loss / Number of Examples\",\n",
    "        legend_title=\"Metrics\",\n",
    "        template=\"plotly_white\",\n",
    "        hovermode=\"closest\",\n",
    "        font=dict(size=12),\n",
    "        bargap=0.3,\n",
    "        showlegend=True,\n",
    "        legend=dict(\n",
    "            orientation=\"h\",\n",
    "            yanchor=\"bottom\",\n",
    "            y=1.02,\n",
    "            xanchor=\"right\",\n",
    "            x=1\n",
    "        ),\n",
    "        height=600\n",
    "    )\n",
    "    \n",
    "    # Update y-axes\n",
    "    fig.update_yaxes(\n",
    "        title_text=\"Round Duration (s)\",\n",
    "        secondary_y=False\n",
    "    )\n",
    "    \n",
    "    fig.update_yaxes(\n",
    "        title_text=\"Loss / Number of Examples\", \n",
    "        secondary_y=True\n",
    "    )\n",
    "    \n",
    "    # Update x-axis to show all rounds clearly\n",
    "    fig.update_xaxes(tickangle=45)\n",
    "    \n",
    "    fig.show()\n",
    "    \n",
    "    # Return summary statistics\n",
    "    summary = {\n",
    "        'client_id': client_id,\n",
    "        'avg_duration': client_duration.mean(),\n",
    "        'avg_loss': client_loss.mean(),\n",
    "        'total_examples': client_examples.iloc[0],  # Since examples are constant per client\n",
    "        'rounds_analyzed': len(rounds)\n",
    "    }\n",
    "    \n",
    "    print(f\"\\nSummary for Client {client_id}:\")\n",
    "    print(f\"Average Duration: {summary['avg_duration']:.4f}s\")\n",
    "    print(f\"Average Loss: {summary['avg_loss']:.4f}\")\n",
    "    print(f\"Total Examples: {summary['total_examples']:.0f}\")\n",
    "    print(f\"Rounds Analyzed: {summary['rounds_analyzed']}\")\n",
    "    \n",
    "    return fig, summary"
   ]
  },
  {
   "cell_type": "code",
   "execution_count": 392,
   "id": "b542909a",
   "metadata": {},
   "outputs": [
    {
     "data": {
      "application/vnd.plotly.v1+json": {
       "config": {
        "plotlyServerURL": "https://plot.ly"
       },
       "data": [
        {
         "customdata": {
          "bdata": "VVVV1z2H7D8AAAAAAKCHQAAAAAAAAPh/AAAAAAAA+H8AAAAAAAD4fwAAAAAAAPh/AAAAAAAA+H8AAAAAAAD4f97dXc25M9M/AAAAAACgh0B3d/esdNjTPwAAAAAAoIdAAAAA4QTa0j8AAAAAAKCHQBEREY+dL9M/AAAAAACgh0B3d3ezNHbUPwAAAAAAoIdAAACAYH/I1T8AAAAAAKCHQA==",
          "dtype": "f8",
          "shape": "10, 2"
         },
         "hovertemplate": "Round: %{x}<br>Duration: %{y:.4f}s<br>Loss: %{customdata[0]:.4f}<br>Examples: %{customdata[1]:.0f}<extra></extra>",
         "marker": {
          "color": "lightblue"
         },
         "name": "Duration",
         "showlegend": true,
         "text": {
          "bdata": "ZmZmZmZm1j8AAAAAAAD4fwAAAAAAAPh/AAAAAAAA+H8K16NwPQrXP8P1KFyPwtU/ZmZmZmZm1j/D9Shcj8LVPylcj8L1KNw/KVyPwvUo3D8=",
          "dtype": "f8"
         },
         "textposition": "outside",
         "texttemplate": "%{text:.3f}s",
         "type": "bar",
         "x": {
          "bdata": "AQIDBAUGBwgJCg==",
          "dtype": "i1"
         },
         "xaxis": "x",
         "y": {
          "bdata": "ZmZmZmZm1j8AAAAAAAD4fwAAAAAAAPh/AAAAAAAA+H8K16NwPQrXP8P1KFyPwtU/ZmZmZmZm1j/D9Shcj8LVPylcj8L1KNw/KVyPwvUo3D8=",
          "dtype": "f8"
         },
         "yaxis": "y"
        },
        {
         "customdata": {
          "bdata": "ZmZmZmZm1j8AAAAAAKCHQAAAAAAAAPh/AAAAAAAA+H8AAAAAAAD4fwAAAAAAAPh/AAAAAAAA+H8AAAAAAAD4fwrXo3A9Ctc/AAAAAACgh0DD9Shcj8LVPwAAAAAAoIdAZmZmZmZm1j8AAAAAAKCHQMP1KFyPwtU/AAAAAACgh0ApXI/C9SjcPwAAAAAAoIdAKVyPwvUo3D8AAAAAAKCHQA==",
          "dtype": "f8",
          "shape": "10, 2"
         },
         "hovertemplate": "Round: %{x}<br>Loss: %{y:.4f}<br>Duration: %{customdata[0]:.4f}s<br>Examples: %{customdata[1]:.0f}<extra></extra>",
         "line": {
          "color": "red",
          "width": 3
         },
         "marker": {
          "size": 8,
          "symbol": "diamond"
         },
         "mode": "lines+markers+text",
         "name": "Loss",
         "text": {
          "bdata": "ukkMAiuH7D8AAAAAAAD4fwAAAAAAAPh/AAAAAAAA+H8zMzMzMzPTP5tVn6ut2NM/0LNZ9bna0j+rz9VW7C/TPy7/If32ddQ/07zjFB3J1T8=",
          "dtype": "f8"
         },
         "textposition": "top center",
         "texttemplate": "%{text:.3f}",
         "type": "scatter",
         "x": {
          "bdata": "AQIDBAUGBwgJCg==",
          "dtype": "i1"
         },
         "xaxis": "x",
         "y": {
          "bdata": "VVVV1z2H7D8AAAAAAAD4fwAAAAAAAPh/AAAAAAAA+H/e3V3NuTPTP3d396x02NM/AAAA4QTa0j8RERGPnS/TP3d3d7M0dtQ/AACAYH/I1T8=",
          "dtype": "f8"
         },
         "yaxis": "y2"
        },
        {
         "customdata": {
          "bdata": "ZmZmZmZm1j9VVVXXPYfsPwAAAAAAAPh/AAAAAAAA+H8AAAAAAAD4fwAAAAAAAPh/AAAAAAAA+H8AAAAAAAD4fwrXo3A9Ctc/3t1dzbkz0z/D9Shcj8LVP3d396x02NM/ZmZmZmZm1j8AAADhBNrSP8P1KFyPwtU/ERERj50v0z8pXI/C9SjcP3d3d7M0dtQ/KVyPwvUo3D8AAIBgf8jVPw==",
          "dtype": "f8",
          "shape": "10, 2"
         },
         "hovertemplate": "Round: %{x}<br>Examples: %{y:.0f}<br>Duration: %{customdata[0]:.4f}s<br>Loss: %{customdata[1]:.4f}<extra></extra>",
         "line": {
          "color": "green",
          "dash": "dot",
          "width": 3
         },
         "marker": {
          "size": 8,
          "symbol": "circle"
         },
         "mode": "lines+markers+text",
         "name": "Examples",
         "text": {
          "bdata": "AAAAAACgh0AAAAAAAAD4fwAAAAAAAPh/AAAAAAAA+H8AAAAAAKCHQAAAAAAAoIdAAAAAAACgh0AAAAAAAKCHQAAAAAAAoIdAAAAAAACgh0A=",
          "dtype": "f8"
         },
         "textposition": "bottom center",
         "texttemplate": "%{text:.0f}",
         "type": "scatter",
         "x": {
          "bdata": "AQIDBAUGBwgJCg==",
          "dtype": "i1"
         },
         "xaxis": "x",
         "y": {
          "bdata": "AAAAAACgh0AAAAAAAAD4fwAAAAAAAPh/AAAAAAAA+H8AAAAAAKCHQAAAAAAAoIdAAAAAAACgh0AAAAAAAKCHQAAAAAAAoIdAAAAAAACgh0A=",
          "dtype": "f8"
         },
         "yaxis": "y2"
        }
       ],
       "layout": {
        "annotations": [
         {
          "font": {
           "size": 16
          },
          "showarrow": false,
          "text": "Client 20 - Round Metrics",
          "x": 0.47,
          "xanchor": "center",
          "xref": "paper",
          "y": 1,
          "yanchor": "bottom",
          "yref": "paper"
         }
        ],
        "bargap": 0.3,
        "font": {
         "size": 12
        },
        "height": 600,
        "hovermode": "closest",
        "legend": {
         "orientation": "h",
         "title": {
          "text": "Metrics"
         },
         "x": 1,
         "xanchor": "right",
         "y": 1.02,
         "yanchor": "bottom"
        },
        "showlegend": true,
        "template": {
         "data": {
          "bar": [
           {
            "error_x": {
             "color": "#2a3f5f"
            },
            "error_y": {
             "color": "#2a3f5f"
            },
            "marker": {
             "line": {
              "color": "white",
              "width": 0.5
             },
             "pattern": {
              "fillmode": "overlay",
              "size": 10,
              "solidity": 0.2
             }
            },
            "type": "bar"
           }
          ],
          "barpolar": [
           {
            "marker": {
             "line": {
              "color": "white",
              "width": 0.5
             },
             "pattern": {
              "fillmode": "overlay",
              "size": 10,
              "solidity": 0.2
             }
            },
            "type": "barpolar"
           }
          ],
          "carpet": [
           {
            "aaxis": {
             "endlinecolor": "#2a3f5f",
             "gridcolor": "#C8D4E3",
             "linecolor": "#C8D4E3",
             "minorgridcolor": "#C8D4E3",
             "startlinecolor": "#2a3f5f"
            },
            "baxis": {
             "endlinecolor": "#2a3f5f",
             "gridcolor": "#C8D4E3",
             "linecolor": "#C8D4E3",
             "minorgridcolor": "#C8D4E3",
             "startlinecolor": "#2a3f5f"
            },
            "type": "carpet"
           }
          ],
          "choropleth": [
           {
            "colorbar": {
             "outlinewidth": 0,
             "ticks": ""
            },
            "type": "choropleth"
           }
          ],
          "contour": [
           {
            "colorbar": {
             "outlinewidth": 0,
             "ticks": ""
            },
            "colorscale": [
             [
              0,
              "#0d0887"
             ],
             [
              0.1111111111111111,
              "#46039f"
             ],
             [
              0.2222222222222222,
              "#7201a8"
             ],
             [
              0.3333333333333333,
              "#9c179e"
             ],
             [
              0.4444444444444444,
              "#bd3786"
             ],
             [
              0.5555555555555556,
              "#d8576b"
             ],
             [
              0.6666666666666666,
              "#ed7953"
             ],
             [
              0.7777777777777778,
              "#fb9f3a"
             ],
             [
              0.8888888888888888,
              "#fdca26"
             ],
             [
              1,
              "#f0f921"
             ]
            ],
            "type": "contour"
           }
          ],
          "contourcarpet": [
           {
            "colorbar": {
             "outlinewidth": 0,
             "ticks": ""
            },
            "type": "contourcarpet"
           }
          ],
          "heatmap": [
           {
            "colorbar": {
             "outlinewidth": 0,
             "ticks": ""
            },
            "colorscale": [
             [
              0,
              "#0d0887"
             ],
             [
              0.1111111111111111,
              "#46039f"
             ],
             [
              0.2222222222222222,
              "#7201a8"
             ],
             [
              0.3333333333333333,
              "#9c179e"
             ],
             [
              0.4444444444444444,
              "#bd3786"
             ],
             [
              0.5555555555555556,
              "#d8576b"
             ],
             [
              0.6666666666666666,
              "#ed7953"
             ],
             [
              0.7777777777777778,
              "#fb9f3a"
             ],
             [
              0.8888888888888888,
              "#fdca26"
             ],
             [
              1,
              "#f0f921"
             ]
            ],
            "type": "heatmap"
           }
          ],
          "histogram": [
           {
            "marker": {
             "pattern": {
              "fillmode": "overlay",
              "size": 10,
              "solidity": 0.2
             }
            },
            "type": "histogram"
           }
          ],
          "histogram2d": [
           {
            "colorbar": {
             "outlinewidth": 0,
             "ticks": ""
            },
            "colorscale": [
             [
              0,
              "#0d0887"
             ],
             [
              0.1111111111111111,
              "#46039f"
             ],
             [
              0.2222222222222222,
              "#7201a8"
             ],
             [
              0.3333333333333333,
              "#9c179e"
             ],
             [
              0.4444444444444444,
              "#bd3786"
             ],
             [
              0.5555555555555556,
              "#d8576b"
             ],
             [
              0.6666666666666666,
              "#ed7953"
             ],
             [
              0.7777777777777778,
              "#fb9f3a"
             ],
             [
              0.8888888888888888,
              "#fdca26"
             ],
             [
              1,
              "#f0f921"
             ]
            ],
            "type": "histogram2d"
           }
          ],
          "histogram2dcontour": [
           {
            "colorbar": {
             "outlinewidth": 0,
             "ticks": ""
            },
            "colorscale": [
             [
              0,
              "#0d0887"
             ],
             [
              0.1111111111111111,
              "#46039f"
             ],
             [
              0.2222222222222222,
              "#7201a8"
             ],
             [
              0.3333333333333333,
              "#9c179e"
             ],
             [
              0.4444444444444444,
              "#bd3786"
             ],
             [
              0.5555555555555556,
              "#d8576b"
             ],
             [
              0.6666666666666666,
              "#ed7953"
             ],
             [
              0.7777777777777778,
              "#fb9f3a"
             ],
             [
              0.8888888888888888,
              "#fdca26"
             ],
             [
              1,
              "#f0f921"
             ]
            ],
            "type": "histogram2dcontour"
           }
          ],
          "mesh3d": [
           {
            "colorbar": {
             "outlinewidth": 0,
             "ticks": ""
            },
            "type": "mesh3d"
           }
          ],
          "parcoords": [
           {
            "line": {
             "colorbar": {
              "outlinewidth": 0,
              "ticks": ""
             }
            },
            "type": "parcoords"
           }
          ],
          "pie": [
           {
            "automargin": true,
            "type": "pie"
           }
          ],
          "scatter": [
           {
            "fillpattern": {
             "fillmode": "overlay",
             "size": 10,
             "solidity": 0.2
            },
            "type": "scatter"
           }
          ],
          "scatter3d": [
           {
            "line": {
             "colorbar": {
              "outlinewidth": 0,
              "ticks": ""
             }
            },
            "marker": {
             "colorbar": {
              "outlinewidth": 0,
              "ticks": ""
             }
            },
            "type": "scatter3d"
           }
          ],
          "scattercarpet": [
           {
            "marker": {
             "colorbar": {
              "outlinewidth": 0,
              "ticks": ""
             }
            },
            "type": "scattercarpet"
           }
          ],
          "scattergeo": [
           {
            "marker": {
             "colorbar": {
              "outlinewidth": 0,
              "ticks": ""
             }
            },
            "type": "scattergeo"
           }
          ],
          "scattergl": [
           {
            "marker": {
             "colorbar": {
              "outlinewidth": 0,
              "ticks": ""
             }
            },
            "type": "scattergl"
           }
          ],
          "scattermap": [
           {
            "marker": {
             "colorbar": {
              "outlinewidth": 0,
              "ticks": ""
             }
            },
            "type": "scattermap"
           }
          ],
          "scattermapbox": [
           {
            "marker": {
             "colorbar": {
              "outlinewidth": 0,
              "ticks": ""
             }
            },
            "type": "scattermapbox"
           }
          ],
          "scatterpolar": [
           {
            "marker": {
             "colorbar": {
              "outlinewidth": 0,
              "ticks": ""
             }
            },
            "type": "scatterpolar"
           }
          ],
          "scatterpolargl": [
           {
            "marker": {
             "colorbar": {
              "outlinewidth": 0,
              "ticks": ""
             }
            },
            "type": "scatterpolargl"
           }
          ],
          "scatterternary": [
           {
            "marker": {
             "colorbar": {
              "outlinewidth": 0,
              "ticks": ""
             }
            },
            "type": "scatterternary"
           }
          ],
          "surface": [
           {
            "colorbar": {
             "outlinewidth": 0,
             "ticks": ""
            },
            "colorscale": [
             [
              0,
              "#0d0887"
             ],
             [
              0.1111111111111111,
              "#46039f"
             ],
             [
              0.2222222222222222,
              "#7201a8"
             ],
             [
              0.3333333333333333,
              "#9c179e"
             ],
             [
              0.4444444444444444,
              "#bd3786"
             ],
             [
              0.5555555555555556,
              "#d8576b"
             ],
             [
              0.6666666666666666,
              "#ed7953"
             ],
             [
              0.7777777777777778,
              "#fb9f3a"
             ],
             [
              0.8888888888888888,
              "#fdca26"
             ],
             [
              1,
              "#f0f921"
             ]
            ],
            "type": "surface"
           }
          ],
          "table": [
           {
            "cells": {
             "fill": {
              "color": "#EBF0F8"
             },
             "line": {
              "color": "white"
             }
            },
            "header": {
             "fill": {
              "color": "#C8D4E3"
             },
             "line": {
              "color": "white"
             }
            },
            "type": "table"
           }
          ]
         },
         "layout": {
          "annotationdefaults": {
           "arrowcolor": "#2a3f5f",
           "arrowhead": 0,
           "arrowwidth": 1
          },
          "autotypenumbers": "strict",
          "coloraxis": {
           "colorbar": {
            "outlinewidth": 0,
            "ticks": ""
           }
          },
          "colorscale": {
           "diverging": [
            [
             0,
             "#8e0152"
            ],
            [
             0.1,
             "#c51b7d"
            ],
            [
             0.2,
             "#de77ae"
            ],
            [
             0.3,
             "#f1b6da"
            ],
            [
             0.4,
             "#fde0ef"
            ],
            [
             0.5,
             "#f7f7f7"
            ],
            [
             0.6,
             "#e6f5d0"
            ],
            [
             0.7,
             "#b8e186"
            ],
            [
             0.8,
             "#7fbc41"
            ],
            [
             0.9,
             "#4d9221"
            ],
            [
             1,
             "#276419"
            ]
           ],
           "sequential": [
            [
             0,
             "#0d0887"
            ],
            [
             0.1111111111111111,
             "#46039f"
            ],
            [
             0.2222222222222222,
             "#7201a8"
            ],
            [
             0.3333333333333333,
             "#9c179e"
            ],
            [
             0.4444444444444444,
             "#bd3786"
            ],
            [
             0.5555555555555556,
             "#d8576b"
            ],
            [
             0.6666666666666666,
             "#ed7953"
            ],
            [
             0.7777777777777778,
             "#fb9f3a"
            ],
            [
             0.8888888888888888,
             "#fdca26"
            ],
            [
             1,
             "#f0f921"
            ]
           ],
           "sequentialminus": [
            [
             0,
             "#0d0887"
            ],
            [
             0.1111111111111111,
             "#46039f"
            ],
            [
             0.2222222222222222,
             "#7201a8"
            ],
            [
             0.3333333333333333,
             "#9c179e"
            ],
            [
             0.4444444444444444,
             "#bd3786"
            ],
            [
             0.5555555555555556,
             "#d8576b"
            ],
            [
             0.6666666666666666,
             "#ed7953"
            ],
            [
             0.7777777777777778,
             "#fb9f3a"
            ],
            [
             0.8888888888888888,
             "#fdca26"
            ],
            [
             1,
             "#f0f921"
            ]
           ]
          },
          "colorway": [
           "#636efa",
           "#EF553B",
           "#00cc96",
           "#ab63fa",
           "#FFA15A",
           "#19d3f3",
           "#FF6692",
           "#B6E880",
           "#FF97FF",
           "#FECB52"
          ],
          "font": {
           "color": "#2a3f5f"
          },
          "geo": {
           "bgcolor": "white",
           "lakecolor": "white",
           "landcolor": "white",
           "showlakes": true,
           "showland": true,
           "subunitcolor": "#C8D4E3"
          },
          "hoverlabel": {
           "align": "left"
          },
          "hovermode": "closest",
          "mapbox": {
           "style": "light"
          },
          "paper_bgcolor": "white",
          "plot_bgcolor": "white",
          "polar": {
           "angularaxis": {
            "gridcolor": "#EBF0F8",
            "linecolor": "#EBF0F8",
            "ticks": ""
           },
           "bgcolor": "white",
           "radialaxis": {
            "gridcolor": "#EBF0F8",
            "linecolor": "#EBF0F8",
            "ticks": ""
           }
          },
          "scene": {
           "xaxis": {
            "backgroundcolor": "white",
            "gridcolor": "#DFE8F3",
            "gridwidth": 2,
            "linecolor": "#EBF0F8",
            "showbackground": true,
            "ticks": "",
            "zerolinecolor": "#EBF0F8"
           },
           "yaxis": {
            "backgroundcolor": "white",
            "gridcolor": "#DFE8F3",
            "gridwidth": 2,
            "linecolor": "#EBF0F8",
            "showbackground": true,
            "ticks": "",
            "zerolinecolor": "#EBF0F8"
           },
           "zaxis": {
            "backgroundcolor": "white",
            "gridcolor": "#DFE8F3",
            "gridwidth": 2,
            "linecolor": "#EBF0F8",
            "showbackground": true,
            "ticks": "",
            "zerolinecolor": "#EBF0F8"
           }
          },
          "shapedefaults": {
           "line": {
            "color": "#2a3f5f"
           }
          },
          "ternary": {
           "aaxis": {
            "gridcolor": "#DFE8F3",
            "linecolor": "#A2B1C6",
            "ticks": ""
           },
           "baxis": {
            "gridcolor": "#DFE8F3",
            "linecolor": "#A2B1C6",
            "ticks": ""
           },
           "bgcolor": "white",
           "caxis": {
            "gridcolor": "#DFE8F3",
            "linecolor": "#A2B1C6",
            "ticks": ""
           }
          },
          "title": {
           "x": 0.05
          },
          "xaxis": {
           "automargin": true,
           "gridcolor": "#EBF0F8",
           "linecolor": "#EBF0F8",
           "ticks": "",
           "title": {
            "standoff": 15
           },
           "zerolinecolor": "#EBF0F8",
           "zerolinewidth": 2
          },
          "yaxis": {
           "automargin": true,
           "gridcolor": "#EBF0F8",
           "linecolor": "#EBF0F8",
           "ticks": "",
           "title": {
            "standoff": 15
           },
           "zerolinecolor": "#EBF0F8",
           "zerolinewidth": 2
          }
         }
        },
        "title": {
         "text": "Client 20 - Round Duration, Loss and Examples"
        },
        "xaxis": {
         "anchor": "y",
         "domain": [
          0,
          0.94
         ],
         "tickangle": 45,
         "title": {
          "text": "Rounds"
         }
        },
        "yaxis": {
         "anchor": "x",
         "domain": [
          0,
          1
         ],
         "title": {
          "text": "Round Duration (s)"
         }
        },
        "yaxis2": {
         "anchor": "x",
         "overlaying": "y",
         "side": "right",
         "title": {
          "text": "Loss / Number of Examples"
         }
        }
       }
      }
     },
     "metadata": {},
     "output_type": "display_data"
    },
    {
     "name": "stdout",
     "output_type": "stream",
     "text": [
      "\n",
      "Summary for Client 20:\n",
      "Average Duration: 0.3743s\n",
      "Average Loss: 0.3937\n",
      "Total Examples: 756\n",
      "Rounds Analyzed: 10\n"
     ]
    }
   ],
   "source": [
    "# Plot for a specific client\n",
    "fig, summary = plot_client_metrics(20, df_duration, df_loss, df_examples)"
   ]
  },
  {
   "cell_type": "markdown",
   "id": "0eec4320",
   "metadata": {},
   "source": [
    "**** Making sure that we're only processing clients that participated in all rounds ****"
   ]
  },
  {
   "cell_type": "code",
   "execution_count": 393,
   "id": "212cd772",
   "metadata": {},
   "outputs": [],
   "source": [
    "# Ensure all dataframes share the same clients first\n",
    "common_clients = set(df_duration.index) & set(df_examples.index) & set(df_loss.index)\n",
    "\n",
    "# Align them and drop NaNs\n",
    "df_duration = df_duration.loc[sorted(common_clients)].dropna(how=\"any\")\n",
    "df_examples = df_examples.loc[sorted(common_clients)].dropna(how=\"any\")\n",
    "df_loss = df_loss.loc[sorted(common_clients)].dropna(how=\"any\")\n",
    "\n",
    "# Now ensure all have the same clients after dropping\n",
    "common_clients_final = set(df_duration.index) & set(df_examples.index) & set(df_loss.index)\n",
    "df_duration = df_duration.loc[sorted(common_clients_final)]\n",
    "df_examples = df_examples.loc[sorted(common_clients_final)]\n",
    "df_loss = df_loss.loc[sorted(common_clients_final)]"
   ]
  },
  {
   "cell_type": "markdown",
   "id": "caf9065f",
   "metadata": {},
   "source": [
    "#### COMPREHENSIVE DATAFRAME SUMMARY STATISTICS"
   ]
  },
  {
   "cell_type": "code",
   "execution_count": 394,
   "id": "35d1a382",
   "metadata": {},
   "outputs": [
    {
     "name": "stdout",
     "output_type": "stream",
     "text": [
      "\n",
      "📊 BASIC DATAFRAME INFORMATION\n",
      "--------------------------------------------------\n",
      "\n",
      "Duration DataFrame:\n",
      "  Shape: (6, 10) (clients: 6, rounds: 10)\n",
      "  Total values: 60\n",
      "  Missing values: 0\n",
      "  Data types: [dtype('float64')]\n",
      "  Index type: <class 'pandas.core.indexes.base.Index'>\n",
      "\n",
      "Loss DataFrame:\n",
      "  Shape: (6, 10) (clients: 6, rounds: 10)\n",
      "  Total values: 60\n",
      "  Missing values: 0\n",
      "  Data types: [dtype('float64')]\n",
      "  Index type: <class 'pandas.core.indexes.base.Index'>\n",
      "\n",
      "Examples DataFrame:\n",
      "  Shape: (6, 10) (clients: 6, rounds: 10)\n",
      "  Total values: 60\n",
      "  Missing values: 0\n",
      "  Data types: [dtype('float64')]\n",
      "  Index type: <class 'pandas.core.indexes.base.Index'>\n"
     ]
    }
   ],
   "source": [
    "# Basic information about each dataframe\n",
    "print(\"\\n📊 BASIC DATAFRAME INFORMATION\")\n",
    "print(\"-\" * 50)\n",
    "\n",
    "for name, df in [(\"Duration\", df_duration), (\"Loss\", df_loss), (\"Examples\", df_examples)]:\n",
    "    print(f\"\\n{name} DataFrame:\")\n",
    "    print(f\"  Shape: {df.shape} (clients: {df.shape[0]}, rounds: {df.shape[1]})\")\n",
    "    print(f\"  Total values: {df.size}\")\n",
    "    print(f\"  Missing values: {df.isnull().sum().sum()}\")\n",
    "    print(f\"  Data types: {df.dtypes.unique()}\")\n",
    "    print(f\"  Index type: {type(df.index)}\")"
   ]
  },
  {
   "cell_type": "markdown",
   "id": "141f7e7e",
   "metadata": {},
   "source": [
    "#### Summary statistics per round"
   ]
  },
  {
   "cell_type": "code",
   "execution_count": 395,
   "id": "97123915",
   "metadata": {},
   "outputs": [
    {
     "name": "stdout",
     "output_type": "stream",
     "text": [
      "\n",
      "\n",
      "📈 SUMMARY STATISTICS PER ROUND\n",
      "--------------------------------------------------\n",
      "\n",
      "⏱️  ROUND DURATION (seconds):\n",
      "------------------------------\n",
      "server_round_number      1       2       3       4       5       6       7   \\\n",
      "count                6.0000  6.0000  6.0000  6.0000  6.0000  6.0000  6.0000   \n",
      "mean                 0.4700  0.4167  0.4433  0.4383  0.4133  0.4333  0.4267   \n",
      "std                  0.1049  0.0609  0.0631  0.0794  0.0565  0.0686  0.0599   \n",
      "min                  0.3500  0.3600  0.3700  0.3600  0.3600  0.3600  0.3600   \n",
      "25%                  0.3850  0.3700  0.4050  0.3700  0.3700  0.3725  0.4000   \n",
      "50%                  0.4700  0.4050  0.4350  0.4250  0.4050  0.4300  0.4050   \n",
      "75%                  0.5325  0.4400  0.4650  0.4950  0.4325  0.4875  0.4475   \n",
      "max                  0.6200  0.5200  0.5500  0.5500  0.5100  0.5200  0.5300   \n",
      "\n",
      "server_round_number      8       9       10  \n",
      "count                6.0000  6.0000  6.0000  \n",
      "mean                 0.4233  0.4500  0.4267  \n",
      "std                  0.0619  0.0769  0.0582  \n",
      "min                  0.3600  0.3600  0.3700  \n",
      "25%                  0.3800  0.4200  0.3875  \n",
      "50%                  0.4150  0.4350  0.4150  \n",
      "75%                  0.4425  0.4575  0.4425  \n",
      "max                  0.5300  0.5900  0.5300  \n",
      "\n",
      "Total duration across all clients and rounds: 26.05s\n",
      "Average duration per round: 0.4342s ± 0.0690s\n",
      "\n",
      "📉 ROUND LOSS:\n",
      "------------------------------\n",
      "server_round_number      1       2       3       4       5       6       7   \\\n",
      "count                6.0000  6.0000  6.0000  6.0000  6.0000  6.0000  6.0000   \n",
      "mean                 0.6655  0.4682  0.3240  0.2882  0.2742  0.2563  0.2581   \n",
      "std                  0.1971  0.0821  0.0665  0.0722  0.0614  0.0370  0.0440   \n",
      "min                  0.5276  0.3753  0.2461  0.1953  0.2020  0.2025  0.2140   \n",
      "25%                  0.5382  0.4092  0.2938  0.2418  0.2374  0.2372  0.2209   \n",
      "50%                  0.5792  0.4519  0.2977  0.2810  0.2549  0.2544  0.2504   \n",
      "75%                  0.7055  0.5261  0.3657  0.3419  0.3257  0.2825  0.2901   \n",
      "max                  1.0346  0.5845  0.4216  0.3811  0.3524  0.3034  0.3194   \n",
      "\n",
      "server_round_number      8       9       10  \n",
      "count                6.0000  6.0000  6.0000  \n",
      "mean                 0.2770  0.2652  0.2647  \n",
      "std                  0.0459  0.0501  0.0317  \n",
      "min                  0.2030  0.2038  0.2214  \n",
      "25%                  0.2667  0.2272  0.2460  \n",
      "50%                  0.2703  0.2638  0.2615  \n",
      "75%                  0.3112  0.3059  0.2914  \n",
      "max                  0.3278  0.3250  0.3016  \n",
      "\n",
      "Average loss per round: 0.3341 ± 0.0688\n",
      "Minimum loss: 0.1953\n",
      "Maximum loss: 1.0346\n",
      "\n",
      "🔢 NUMBER OF EXAMPLES:\n",
      "------------------------------\n",
      "server_round_number       1        2        3        4        5        6   \\\n",
      "count                   6.00     6.00     6.00     6.00     6.00     6.00   \n",
      "mean                  907.17   907.17   907.17   907.17   907.17   907.17   \n",
      "std                   129.47   129.47   129.47   129.47   129.47   129.47   \n",
      "min                   779.00   779.00   779.00   779.00   779.00   779.00   \n",
      "25%                   815.75   815.75   815.75   815.75   815.75   815.75   \n",
      "50%                   882.50   882.50   882.50   882.50   882.50   882.50   \n",
      "75%                   951.50   951.50   951.50   951.50   951.50   951.50   \n",
      "max                  1131.00  1131.00  1131.00  1131.00  1131.00  1131.00   \n",
      "\n",
      "server_round_number       7        8        9        10  \n",
      "count                   6.00     6.00     6.00     6.00  \n",
      "mean                  907.17   907.17   907.17   907.17  \n",
      "std                   129.47   129.47   129.47   129.47  \n",
      "min                   779.00   779.00   779.00   779.00  \n",
      "25%                   815.75   815.75   815.75   815.75  \n",
      "50%                   882.50   882.50   882.50   882.50  \n",
      "75%                   951.50   951.50   951.50   951.50  \n",
      "max                  1131.00  1131.00  1131.00  1131.00  \n",
      "\n",
      "Total examples across all clients and rounds: 54,430\n",
      "Average examples per client: 907 ± 129\n"
     ]
    }
   ],
   "source": [
    "print(\"\\n\\n📈 SUMMARY STATISTICS PER ROUND\")\n",
    "print(\"-\" * 50)\n",
    "\n",
    "# Duration statistics\n",
    "print(\"\\n⏱️  ROUND DURATION (seconds):\")\n",
    "print(\"-\" * 30)\n",
    "duration_stats = df_duration.describe()\n",
    "print(duration_stats.round(4))\n",
    "\n",
    "print(f\"\\nTotal duration across all clients and rounds: {df_duration.sum().sum():.2f}s\")\n",
    "print(f\"Average duration per round: {df_duration.mean().mean():.4f}s ± {df_duration.std().mean():.4f}s\")\n",
    "\n",
    "# Loss statistics\n",
    "print(\"\\n📉 ROUND LOSS:\")\n",
    "print(\"-\" * 30)\n",
    "loss_stats = df_loss.describe()\n",
    "print(loss_stats.round(4))\n",
    "\n",
    "print(f\"\\nAverage loss per round: {df_loss.mean().mean():.4f} ± {df_loss.std().mean():.4f}\")\n",
    "print(f\"Minimum loss: {df_loss.min().min():.4f}\")\n",
    "print(f\"Maximum loss: {df_loss.max().max():.4f}\")\n",
    "\n",
    "# Examples statistics\n",
    "print(\"\\n🔢 NUMBER OF EXAMPLES:\")\n",
    "print(\"-\" * 30)\n",
    "examples_stats = df_examples.describe()\n",
    "print(examples_stats.round(2))\n",
    "\n",
    "print(f\"\\nTotal examples across all clients and rounds: {df_examples.sum().sum():,.0f}\")\n",
    "print(f\"Average examples per client: {df_examples.mean(axis=1).mean():.0f} ± {df_examples.mean(axis=1).std():.0f}\")"
   ]
  },
  {
   "cell_type": "markdown",
   "id": "37545d9a",
   "metadata": {},
   "source": [
    "#### Client-level Statistics"
   ]
  },
  {
   "cell_type": "code",
   "execution_count": 396,
   "id": "27d909b1",
   "metadata": {},
   "outputs": [
    {
     "name": "stdout",
     "output_type": "stream",
     "text": [
      "\n",
      "\n",
      "👥 CLIENT-LEVEL STATISTICS\n",
      "--------------------------------------------------\n",
      "\n",
      "⏱️  DURATION BY CLIENT (average across rounds):\n",
      "Fastest client: Client 12 (0.3720s)\n",
      "Slowest client: Client 0 (0.5370s)\n",
      "Average across clients: 0.4342s ± 0.0596s\n",
      "\n",
      "📉 LOSS BY CLIENT (average across rounds):\n",
      "Best performing client: Client 10 (0.2676)\n",
      "Worst performing client: Client 19 (0.4330)\n",
      "Average across clients: 0.3341 ± 0.0641\n"
     ]
    }
   ],
   "source": [
    "print(\"\\n\\n👥 CLIENT-LEVEL STATISTICS\")\n",
    "print(\"-\" * 50)\n",
    "\n",
    "# Duration by client\n",
    "print(\"\\n⏱️  DURATION BY CLIENT (average across rounds):\")\n",
    "client_duration_avg = df_duration.mean(axis=1)\n",
    "print(f\"Fastest client: Client {client_duration_avg.idxmin()} ({client_duration_avg.min():.4f}s)\")\n",
    "print(f\"Slowest client: Client {client_duration_avg.idxmax()} ({client_duration_avg.max():.4f}s)\")\n",
    "print(f\"Average across clients: {client_duration_avg.mean():.4f}s ± {client_duration_avg.std():.4f}s\")\n",
    "\n",
    "# Loss by client\n",
    "print(\"\\n📉 LOSS BY CLIENT (average across rounds):\")\n",
    "client_loss_avg = df_loss.mean(axis=1)\n",
    "print(f\"Best performing client: Client {client_loss_avg.idxmin()} ({client_loss_avg.min():.4f})\")\n",
    "print(f\"Worst performing client: Client {client_loss_avg.idxmax()} ({client_loss_avg.max():.4f})\")\n",
    "print(f\"Average across clients: {client_loss_avg.mean():.4f} ± {client_loss_avg.std():.4f}\")"
   ]
  },
  {
   "cell_type": "markdown",
   "id": "e3523f8f",
   "metadata": {},
   "source": [
    "#### Round-level Statistics"
   ]
  },
  {
   "cell_type": "code",
   "execution_count": 397,
   "id": "5fdc9a6a",
   "metadata": {},
   "outputs": [
    {
     "name": "stdout",
     "output_type": "stream",
     "text": [
      "\n",
      "\n",
      "🔄 ROUND-LEVEL STATISTICS\n",
      "--------------------------------------------------\n",
      "\n",
      "⏱️  DURATION BY ROUND:\n",
      "Fastest round: 5 (0.4133s)\n",
      "Slowest round: 1 (0.4700s)\n",
      "\n",
      "📉 LOSS BY ROUND:\n",
      "Best round: 6 (0.2563)\n",
      "Worst round: 1 (0.6655)\n",
      "\n",
      "\n",
      "✅ DATA QUALITY CHECKS\n",
      "--------------------------------------------------\n",
      "✓ Examples are consistent for each client across all rounds\n",
      "✓ No missing values in any dataframe\n"
     ]
    }
   ],
   "source": [
    "print(\"\\n\\n🔄 ROUND-LEVEL STATISTICS\")\n",
    "print(\"-\" * 50)\n",
    "\n",
    "# Duration by round\n",
    "print(\"\\n⏱️  DURATION BY ROUND:\")\n",
    "round_duration_avg = df_duration.mean()\n",
    "fastest_round = round_duration_avg.idxmin()\n",
    "slowest_round = round_duration_avg.idxmax()\n",
    "print(f\"Fastest round: {fastest_round} ({round_duration_avg.min():.4f}s)\")\n",
    "print(f\"Slowest round: {slowest_round} ({round_duration_avg.max():.4f}s)\")\n",
    "\n",
    "# Loss by round\n",
    "print(\"\\n📉 LOSS BY ROUND:\")\n",
    "round_loss_avg = df_loss.mean()\n",
    "best_round = round_loss_avg.idxmin()\n",
    "worst_round = round_loss_avg.idxmax()\n",
    "print(f\"Best round: {best_round} ({round_loss_avg.min():.4f})\")\n",
    "print(f\"Worst round: {worst_round} ({round_loss_avg.max():.4f})\")\n",
    "\n",
    "# Examples consistency check\n",
    "print(\"\\n\\n✅ DATA QUALITY CHECKS\")\n",
    "print(\"-\" * 50)\n",
    "\n",
    "# Check if examples are consistent per client across rounds\n",
    "examples_consistent = True\n",
    "for client_id in df_examples.index:\n",
    "    if df_examples.loc[client_id].nunique() > 1:\n",
    "        examples_consistent = False\n",
    "        print(f\"⚠️  Client {client_id} has varying examples across rounds\")\n",
    "        break\n",
    "\n",
    "if examples_consistent:\n",
    "    print(\"✓ Examples are consistent for each client across all rounds\")\n",
    "else:\n",
    "    print(\"⚠️  Examples vary for some clients across rounds\")\n",
    "\n",
    "# Check for any missing values\n",
    "missing_duration = df_duration.isnull().sum().sum()\n",
    "missing_loss = df_loss.isnull().sum().sum()\n",
    "missing_examples = df_examples.isnull().sum().sum()\n",
    "\n",
    "if missing_duration == 0 and missing_loss == 0 and missing_examples == 0:\n",
    "    print(\"✓ No missing values in any dataframe\")\n",
    "else:\n",
    "    print(f\"⚠️  Missing values - Duration: {missing_duration}, Loss: {missing_loss}, Examples: {missing_examples}\")\n"
   ]
  },
  {
   "cell_type": "markdown",
   "id": "d52e7e5e",
   "metadata": {},
   "source": [
    "#### Final summary"
   ]
  },
  {
   "cell_type": "code",
   "execution_count": 398,
   "id": "57a08511",
   "metadata": {},
   "outputs": [
    {
     "name": "stdout",
     "output_type": "stream",
     "text": [
      "\n",
      "\n",
      "🎯 KEY INSIGHTS\n",
      "--------------------------------------------------\n",
      "• Total clients analyzed: 6\n",
      "• Total rounds completed: 10\n",
      "• Average round duration: 0.4342s\n",
      "• Average loss across all rounds: 0.3341\n",
      "• Total training examples: 54,430.0\n",
      "• Average examples per client: 907\n"
     ]
    }
   ],
   "source": [
    "print(\"\\n\\n🎯 KEY INSIGHTS\")\n",
    "print(\"-\" * 50)\n",
    "print(f\"• Total clients analyzed: {len(df_duration)}\")\n",
    "print(f\"• Total rounds completed: {len(df_duration.columns)}\")\n",
    "print(f\"• Average round duration: {df_duration.mean().mean():.4f}s\")\n",
    "print(f\"• Average loss across all rounds: {df_loss.mean().mean():.4f}\")\n",
    "print(f\"• Total training examples: {df_examples.sum().sum():,}\")\n",
    "print(f\"• Average examples per client: {df_examples.mean(axis=1).mean():.0f}\")"
   ]
  },
  {
   "cell_type": "markdown",
   "id": "a1f0b2d2",
   "metadata": {},
   "source": [
    "#### Statistics with Visualizations"
   ]
  },
  {
   "cell_type": "markdown",
   "id": "a0c8fbe5",
   "metadata": {},
   "source": [
    "##### Training Overview"
   ]
  },
  {
   "cell_type": "code",
   "execution_count": 399,
   "id": "53580793",
   "metadata": {},
   "outputs": [
    {
     "data": {
      "application/vnd.plotly.v1+json": {
       "config": {
        "plotlyServerURL": "https://plot.ly"
       },
       "data": [
        {
         "domain": {
          "column": 0,
          "row": 0
         },
         "mode": "number",
         "title": {
          "text": "Clients<br><span style='font-size:0.8em;color:gray'>Participating</span>"
         },
         "type": "indicator",
         "value": 6
        },
        {
         "domain": {
          "column": 1,
          "row": 0
         },
         "mode": "number",
         "title": {
          "text": "Rounds<br><span style='font-size:0.8em;color:gray'>Completed</span>"
         },
         "type": "indicator",
         "value": 10
        },
        {
         "domain": {
          "column": 2,
          "row": 0
         },
         "mode": "number",
         "number": {
          "valueformat": ","
         },
         "title": {
          "text": "Examples<br><span style='font-size:0.8em;color:gray'>Processed</span>"
         },
         "type": "indicator",
         "value": 54430
        },
        {
         "domain": {
          "column": 3,
          "row": 0
         },
         "mode": "number",
         "number": {
          "valueformat": ".3f"
         },
         "title": {
          "text": "Avg Duration<br><span style='font-size:0.8em;color:gray'>Seconds</span>"
         },
         "type": "indicator",
         "value": 0.4341666666666667
        }
       ],
       "layout": {
        "grid": {
         "columns": 4,
         "pattern": "independent",
         "rows": 1
        },
        "height": 200,
        "template": {
         "data": {
          "bar": [
           {
            "error_x": {
             "color": "#2a3f5f"
            },
            "error_y": {
             "color": "#2a3f5f"
            },
            "marker": {
             "line": {
              "color": "white",
              "width": 0.5
             },
             "pattern": {
              "fillmode": "overlay",
              "size": 10,
              "solidity": 0.2
             }
            },
            "type": "bar"
           }
          ],
          "barpolar": [
           {
            "marker": {
             "line": {
              "color": "white",
              "width": 0.5
             },
             "pattern": {
              "fillmode": "overlay",
              "size": 10,
              "solidity": 0.2
             }
            },
            "type": "barpolar"
           }
          ],
          "carpet": [
           {
            "aaxis": {
             "endlinecolor": "#2a3f5f",
             "gridcolor": "#C8D4E3",
             "linecolor": "#C8D4E3",
             "minorgridcolor": "#C8D4E3",
             "startlinecolor": "#2a3f5f"
            },
            "baxis": {
             "endlinecolor": "#2a3f5f",
             "gridcolor": "#C8D4E3",
             "linecolor": "#C8D4E3",
             "minorgridcolor": "#C8D4E3",
             "startlinecolor": "#2a3f5f"
            },
            "type": "carpet"
           }
          ],
          "choropleth": [
           {
            "colorbar": {
             "outlinewidth": 0,
             "ticks": ""
            },
            "type": "choropleth"
           }
          ],
          "contour": [
           {
            "colorbar": {
             "outlinewidth": 0,
             "ticks": ""
            },
            "colorscale": [
             [
              0,
              "#0d0887"
             ],
             [
              0.1111111111111111,
              "#46039f"
             ],
             [
              0.2222222222222222,
              "#7201a8"
             ],
             [
              0.3333333333333333,
              "#9c179e"
             ],
             [
              0.4444444444444444,
              "#bd3786"
             ],
             [
              0.5555555555555556,
              "#d8576b"
             ],
             [
              0.6666666666666666,
              "#ed7953"
             ],
             [
              0.7777777777777778,
              "#fb9f3a"
             ],
             [
              0.8888888888888888,
              "#fdca26"
             ],
             [
              1,
              "#f0f921"
             ]
            ],
            "type": "contour"
           }
          ],
          "contourcarpet": [
           {
            "colorbar": {
             "outlinewidth": 0,
             "ticks": ""
            },
            "type": "contourcarpet"
           }
          ],
          "heatmap": [
           {
            "colorbar": {
             "outlinewidth": 0,
             "ticks": ""
            },
            "colorscale": [
             [
              0,
              "#0d0887"
             ],
             [
              0.1111111111111111,
              "#46039f"
             ],
             [
              0.2222222222222222,
              "#7201a8"
             ],
             [
              0.3333333333333333,
              "#9c179e"
             ],
             [
              0.4444444444444444,
              "#bd3786"
             ],
             [
              0.5555555555555556,
              "#d8576b"
             ],
             [
              0.6666666666666666,
              "#ed7953"
             ],
             [
              0.7777777777777778,
              "#fb9f3a"
             ],
             [
              0.8888888888888888,
              "#fdca26"
             ],
             [
              1,
              "#f0f921"
             ]
            ],
            "type": "heatmap"
           }
          ],
          "histogram": [
           {
            "marker": {
             "pattern": {
              "fillmode": "overlay",
              "size": 10,
              "solidity": 0.2
             }
            },
            "type": "histogram"
           }
          ],
          "histogram2d": [
           {
            "colorbar": {
             "outlinewidth": 0,
             "ticks": ""
            },
            "colorscale": [
             [
              0,
              "#0d0887"
             ],
             [
              0.1111111111111111,
              "#46039f"
             ],
             [
              0.2222222222222222,
              "#7201a8"
             ],
             [
              0.3333333333333333,
              "#9c179e"
             ],
             [
              0.4444444444444444,
              "#bd3786"
             ],
             [
              0.5555555555555556,
              "#d8576b"
             ],
             [
              0.6666666666666666,
              "#ed7953"
             ],
             [
              0.7777777777777778,
              "#fb9f3a"
             ],
             [
              0.8888888888888888,
              "#fdca26"
             ],
             [
              1,
              "#f0f921"
             ]
            ],
            "type": "histogram2d"
           }
          ],
          "histogram2dcontour": [
           {
            "colorbar": {
             "outlinewidth": 0,
             "ticks": ""
            },
            "colorscale": [
             [
              0,
              "#0d0887"
             ],
             [
              0.1111111111111111,
              "#46039f"
             ],
             [
              0.2222222222222222,
              "#7201a8"
             ],
             [
              0.3333333333333333,
              "#9c179e"
             ],
             [
              0.4444444444444444,
              "#bd3786"
             ],
             [
              0.5555555555555556,
              "#d8576b"
             ],
             [
              0.6666666666666666,
              "#ed7953"
             ],
             [
              0.7777777777777778,
              "#fb9f3a"
             ],
             [
              0.8888888888888888,
              "#fdca26"
             ],
             [
              1,
              "#f0f921"
             ]
            ],
            "type": "histogram2dcontour"
           }
          ],
          "mesh3d": [
           {
            "colorbar": {
             "outlinewidth": 0,
             "ticks": ""
            },
            "type": "mesh3d"
           }
          ],
          "parcoords": [
           {
            "line": {
             "colorbar": {
              "outlinewidth": 0,
              "ticks": ""
             }
            },
            "type": "parcoords"
           }
          ],
          "pie": [
           {
            "automargin": true,
            "type": "pie"
           }
          ],
          "scatter": [
           {
            "fillpattern": {
             "fillmode": "overlay",
             "size": 10,
             "solidity": 0.2
            },
            "type": "scatter"
           }
          ],
          "scatter3d": [
           {
            "line": {
             "colorbar": {
              "outlinewidth": 0,
              "ticks": ""
             }
            },
            "marker": {
             "colorbar": {
              "outlinewidth": 0,
              "ticks": ""
             }
            },
            "type": "scatter3d"
           }
          ],
          "scattercarpet": [
           {
            "marker": {
             "colorbar": {
              "outlinewidth": 0,
              "ticks": ""
             }
            },
            "type": "scattercarpet"
           }
          ],
          "scattergeo": [
           {
            "marker": {
             "colorbar": {
              "outlinewidth": 0,
              "ticks": ""
             }
            },
            "type": "scattergeo"
           }
          ],
          "scattergl": [
           {
            "marker": {
             "colorbar": {
              "outlinewidth": 0,
              "ticks": ""
             }
            },
            "type": "scattergl"
           }
          ],
          "scattermap": [
           {
            "marker": {
             "colorbar": {
              "outlinewidth": 0,
              "ticks": ""
             }
            },
            "type": "scattermap"
           }
          ],
          "scattermapbox": [
           {
            "marker": {
             "colorbar": {
              "outlinewidth": 0,
              "ticks": ""
             }
            },
            "type": "scattermapbox"
           }
          ],
          "scatterpolar": [
           {
            "marker": {
             "colorbar": {
              "outlinewidth": 0,
              "ticks": ""
             }
            },
            "type": "scatterpolar"
           }
          ],
          "scatterpolargl": [
           {
            "marker": {
             "colorbar": {
              "outlinewidth": 0,
              "ticks": ""
             }
            },
            "type": "scatterpolargl"
           }
          ],
          "scatterternary": [
           {
            "marker": {
             "colorbar": {
              "outlinewidth": 0,
              "ticks": ""
             }
            },
            "type": "scatterternary"
           }
          ],
          "surface": [
           {
            "colorbar": {
             "outlinewidth": 0,
             "ticks": ""
            },
            "colorscale": [
             [
              0,
              "#0d0887"
             ],
             [
              0.1111111111111111,
              "#46039f"
             ],
             [
              0.2222222222222222,
              "#7201a8"
             ],
             [
              0.3333333333333333,
              "#9c179e"
             ],
             [
              0.4444444444444444,
              "#bd3786"
             ],
             [
              0.5555555555555556,
              "#d8576b"
             ],
             [
              0.6666666666666666,
              "#ed7953"
             ],
             [
              0.7777777777777778,
              "#fb9f3a"
             ],
             [
              0.8888888888888888,
              "#fdca26"
             ],
             [
              1,
              "#f0f921"
             ]
            ],
            "type": "surface"
           }
          ],
          "table": [
           {
            "cells": {
             "fill": {
              "color": "#EBF0F8"
             },
             "line": {
              "color": "white"
             }
            },
            "header": {
             "fill": {
              "color": "#C8D4E3"
             },
             "line": {
              "color": "white"
             }
            },
            "type": "table"
           }
          ]
         },
         "layout": {
          "annotationdefaults": {
           "arrowcolor": "#2a3f5f",
           "arrowhead": 0,
           "arrowwidth": 1
          },
          "autotypenumbers": "strict",
          "coloraxis": {
           "colorbar": {
            "outlinewidth": 0,
            "ticks": ""
           }
          },
          "colorscale": {
           "diverging": [
            [
             0,
             "#8e0152"
            ],
            [
             0.1,
             "#c51b7d"
            ],
            [
             0.2,
             "#de77ae"
            ],
            [
             0.3,
             "#f1b6da"
            ],
            [
             0.4,
             "#fde0ef"
            ],
            [
             0.5,
             "#f7f7f7"
            ],
            [
             0.6,
             "#e6f5d0"
            ],
            [
             0.7,
             "#b8e186"
            ],
            [
             0.8,
             "#7fbc41"
            ],
            [
             0.9,
             "#4d9221"
            ],
            [
             1,
             "#276419"
            ]
           ],
           "sequential": [
            [
             0,
             "#0d0887"
            ],
            [
             0.1111111111111111,
             "#46039f"
            ],
            [
             0.2222222222222222,
             "#7201a8"
            ],
            [
             0.3333333333333333,
             "#9c179e"
            ],
            [
             0.4444444444444444,
             "#bd3786"
            ],
            [
             0.5555555555555556,
             "#d8576b"
            ],
            [
             0.6666666666666666,
             "#ed7953"
            ],
            [
             0.7777777777777778,
             "#fb9f3a"
            ],
            [
             0.8888888888888888,
             "#fdca26"
            ],
            [
             1,
             "#f0f921"
            ]
           ],
           "sequentialminus": [
            [
             0,
             "#0d0887"
            ],
            [
             0.1111111111111111,
             "#46039f"
            ],
            [
             0.2222222222222222,
             "#7201a8"
            ],
            [
             0.3333333333333333,
             "#9c179e"
            ],
            [
             0.4444444444444444,
             "#bd3786"
            ],
            [
             0.5555555555555556,
             "#d8576b"
            ],
            [
             0.6666666666666666,
             "#ed7953"
            ],
            [
             0.7777777777777778,
             "#fb9f3a"
            ],
            [
             0.8888888888888888,
             "#fdca26"
            ],
            [
             1,
             "#f0f921"
            ]
           ]
          },
          "colorway": [
           "#636efa",
           "#EF553B",
           "#00cc96",
           "#ab63fa",
           "#FFA15A",
           "#19d3f3",
           "#FF6692",
           "#B6E880",
           "#FF97FF",
           "#FECB52"
          ],
          "font": {
           "color": "#2a3f5f"
          },
          "geo": {
           "bgcolor": "white",
           "lakecolor": "white",
           "landcolor": "white",
           "showlakes": true,
           "showland": true,
           "subunitcolor": "#C8D4E3"
          },
          "hoverlabel": {
           "align": "left"
          },
          "hovermode": "closest",
          "mapbox": {
           "style": "light"
          },
          "paper_bgcolor": "white",
          "plot_bgcolor": "white",
          "polar": {
           "angularaxis": {
            "gridcolor": "#EBF0F8",
            "linecolor": "#EBF0F8",
            "ticks": ""
           },
           "bgcolor": "white",
           "radialaxis": {
            "gridcolor": "#EBF0F8",
            "linecolor": "#EBF0F8",
            "ticks": ""
           }
          },
          "scene": {
           "xaxis": {
            "backgroundcolor": "white",
            "gridcolor": "#DFE8F3",
            "gridwidth": 2,
            "linecolor": "#EBF0F8",
            "showbackground": true,
            "ticks": "",
            "zerolinecolor": "#EBF0F8"
           },
           "yaxis": {
            "backgroundcolor": "white",
            "gridcolor": "#DFE8F3",
            "gridwidth": 2,
            "linecolor": "#EBF0F8",
            "showbackground": true,
            "ticks": "",
            "zerolinecolor": "#EBF0F8"
           },
           "zaxis": {
            "backgroundcolor": "white",
            "gridcolor": "#DFE8F3",
            "gridwidth": 2,
            "linecolor": "#EBF0F8",
            "showbackground": true,
            "ticks": "",
            "zerolinecolor": "#EBF0F8"
           }
          },
          "shapedefaults": {
           "line": {
            "color": "#2a3f5f"
           }
          },
          "ternary": {
           "aaxis": {
            "gridcolor": "#DFE8F3",
            "linecolor": "#A2B1C6",
            "ticks": ""
           },
           "baxis": {
            "gridcolor": "#DFE8F3",
            "linecolor": "#A2B1C6",
            "ticks": ""
           },
           "bgcolor": "white",
           "caxis": {
            "gridcolor": "#DFE8F3",
            "linecolor": "#A2B1C6",
            "ticks": ""
           }
          },
          "title": {
           "x": 0.05
          },
          "xaxis": {
           "automargin": true,
           "gridcolor": "#EBF0F8",
           "linecolor": "#EBF0F8",
           "ticks": "",
           "title": {
            "standoff": 15
           },
           "zerolinecolor": "#EBF0F8",
           "zerolinewidth": 2
          },
          "yaxis": {
           "automargin": true,
           "gridcolor": "#EBF0F8",
           "linecolor": "#EBF0F8",
           "ticks": "",
           "title": {
            "standoff": 15
           },
           "zerolinecolor": "#EBF0F8",
           "zerolinewidth": 2
          }
         }
        }
       }
      }
     },
     "metadata": {},
     "output_type": "display_data"
    }
   ],
   "source": [
    "import plotly.graph_objects as go\n",
    "from plotly.subplots import make_subplots\n",
    "\n",
    "# Precompute statistics\n",
    "client_avg_duration = df_duration.mean(axis=1)\n",
    "client_avg_loss = df_loss.mean(axis=1)\n",
    "client_examples = df_examples.iloc[:, 0]  # Examples are consistent across rounds\n",
    "\n",
    "round_avg_duration = df_duration.mean()\n",
    "round_avg_loss = df_loss.mean()\n",
    "\n",
    "fig_overview = go.Figure()\n",
    "\n",
    "# Key metrics boxes\n",
    "metrics_fig = go.Figure()\n",
    "\n",
    "metrics_fig.add_trace(go.Indicator(\n",
    "    mode=\"number\",\n",
    "    value=len(df_duration),\n",
    "    title={\"text\": \"Clients<br><span style='font-size:0.8em;color:gray'>Participating</span>\"},\n",
    "    domain={'row': 0, 'column': 0}\n",
    "))\n",
    "\n",
    "metrics_fig.add_trace(go.Indicator(\n",
    "    mode=\"number\",\n",
    "    value=len(df_duration.columns),\n",
    "    title={\"text\": \"Rounds<br><span style='font-size:0.8em;color:gray'>Completed</span>\"},\n",
    "    domain={'row': 0, 'column': 1}\n",
    "))\n",
    "\n",
    "metrics_fig.add_trace(go.Indicator(\n",
    "    mode=\"number\",\n",
    "    value=df_examples.sum().sum(),\n",
    "    number={'valueformat': \",\"},\n",
    "    title={\"text\": \"Examples<br><span style='font-size:0.8em;color:gray'>Processed</span>\"},\n",
    "    domain={'row': 0, 'column': 2}\n",
    "))\n",
    "\n",
    "metrics_fig.add_trace(go.Indicator(\n",
    "    mode=\"number\",\n",
    "    value=df_duration.mean().mean(),\n",
    "    number={'valueformat': \".3f\"},\n",
    "    title={\"text\": \"Avg Duration<br><span style='font-size:0.8em;color:gray'>Seconds</span>\"},\n",
    "    domain={'row': 0, 'column': 3}\n",
    "))\n",
    "\n",
    "metrics_fig.update_layout(\n",
    "    grid={'rows': 1, 'columns': 4, 'pattern': \"independent\"},\n",
    "    template=\"plotly_white\",\n",
    "    height=200\n",
    ")\n",
    "\n",
    "metrics_fig.show()\n"
   ]
  },
  {
   "cell_type": "markdown",
   "id": "b68d091b",
   "metadata": {},
   "source": [
    "##### Client Performance Distribution"
   ]
  },
  {
   "cell_type": "code",
   "execution_count": 400,
   "id": "88473405",
   "metadata": {},
   "outputs": [
    {
     "data": {
      "application/vnd.plotly.v1+json": {
       "config": {
        "plotlyServerURL": "https://plot.ly"
       },
       "data": [
        {
         "hovertemplate": "Client: %{x}<br>Avg Duration: %{y:.3f}s<extra></extra>",
         "marker": {
          "color": "lightblue"
         },
         "name": "Avg Duration",
         "type": "bar",
         "x": {
          "bdata": "AAoMDhMu",
          "dtype": "i1"
         },
         "xaxis": "x",
         "y": {
          "bdata": "yXa+nxov4T966SYxCKzcPwIrhxbZztc/gpVDi2zn2z/+1HjpJjHYPy2yne+nxts/",
          "dtype": "f8"
         },
         "yaxis": "y"
        },
        {
         "hovertemplate": "Client: %{x}<br>Avg Loss: %{y:.3f}<extra></extra>",
         "marker": {
          "color": "lightcoral"
         },
         "name": "Avg Loss",
         "type": "bar",
         "x": {
          "bdata": "AAoMDhMu",
          "dtype": "i1"
         },
         "xaxis": "x2",
         "y": {
          "bdata": "frGkg4eE0z/o5cDBaSDRPzVeurXdFtk/M/7bRu4r1D+m6MgW7rXbP/Zt0dDosdI/",
          "dtype": "f8"
         },
         "yaxis": "y2"
        },
        {
         "hovertemplate": "Client: %{x}<br>Examples: %{y:.0f}<extra></extra>",
         "marker": {
          "color": "lightgreen"
         },
         "name": "Examples",
         "type": "bar",
         "x": {
          "bdata": "AAoMDhMu",
          "dtype": "i1"
         },
         "xaxis": "x3",
         "y": {
          "bdata": "AAAAAACskUAAAAAAAEiOQAAAAAAAWIhAAAAAAAAQi0AAAAAAAPiIQAAAAAAAGIxA",
          "dtype": "f8"
         },
         "yaxis": "y3"
        },
        {
         "hovertemplate": "Client: %{text}<br>Duration: %{x:.3f}s<br>Loss: %{y:.3f}<br>Examples: %{marker.color:.0f}<extra></extra>",
         "marker": {
          "color": {
           "bdata": "AAAAAACskUAAAAAAAEiOQAAAAAAAWIhAAAAAAAAQi0AAAAAAAPiIQAAAAAAAGIxA",
           "dtype": "f8"
          },
          "colorbar": {
           "title": {
            "text": "Examples"
           }
          },
          "colorscale": [
           [
            0,
            "#440154"
           ],
           [
            0.1111111111111111,
            "#482878"
           ],
           [
            0.2222222222222222,
            "#3e4989"
           ],
           [
            0.3333333333333333,
            "#31688e"
           ],
           [
            0.4444444444444444,
            "#26828e"
           ],
           [
            0.5555555555555556,
            "#1f9e89"
           ],
           [
            0.6666666666666666,
            "#35b779"
           ],
           [
            0.7777777777777778,
            "#6ece58"
           ],
           [
            0.8888888888888888,
            "#b5de2b"
           ],
           [
            1,
            "#fde725"
           ]
          ],
          "showscale": true,
          "size": 10
         },
         "mode": "markers",
         "name": "Client Performance",
         "text": {
          "bdata": "AAAAAAAAAAAAAAAAAAAkQAAAAAAAAChAAAAAAAAALEAAAAAAAAAzQAAAAAAAAEdA",
          "dtype": "f8"
         },
         "type": "scatter",
         "x": {
          "bdata": "yXa+nxov4T966SYxCKzcPwIrhxbZztc/gpVDi2zn2z/+1HjpJjHYPy2yne+nxts/",
          "dtype": "f8"
         },
         "xaxis": "x4",
         "y": {
          "bdata": "frGkg4eE0z/o5cDBaSDRPzVeurXdFtk/M/7bRu4r1D+m6MgW7rXbP/Zt0dDosdI/",
          "dtype": "f8"
         },
         "yaxis": "y4"
        }
       ],
       "layout": {
        "annotations": [
         {
          "font": {
           "size": 16
          },
          "showarrow": false,
          "text": "Average Training Duration by Client",
          "x": 0.225,
          "xanchor": "center",
          "xref": "paper",
          "y": 1,
          "yanchor": "bottom",
          "yref": "paper"
         },
         {
          "font": {
           "size": 16
          },
          "showarrow": false,
          "text": "Average Loss by Client",
          "x": 0.775,
          "xanchor": "center",
          "xref": "paper",
          "y": 1,
          "yanchor": "bottom",
          "yref": "paper"
         },
         {
          "font": {
           "size": 16
          },
          "showarrow": false,
          "text": "Training Examples per Client",
          "x": 0.225,
          "xanchor": "center",
          "xref": "paper",
          "y": 0.375,
          "yanchor": "bottom",
          "yref": "paper"
         },
         {
          "font": {
           "size": 16
          },
          "showarrow": false,
          "text": "Duration vs Loss Correlation",
          "x": 0.775,
          "xanchor": "center",
          "xref": "paper",
          "y": 0.375,
          "yanchor": "bottom",
          "yref": "paper"
         }
        ],
        "height": 800,
        "showlegend": false,
        "template": {
         "data": {
          "bar": [
           {
            "error_x": {
             "color": "#2a3f5f"
            },
            "error_y": {
             "color": "#2a3f5f"
            },
            "marker": {
             "line": {
              "color": "white",
              "width": 0.5
             },
             "pattern": {
              "fillmode": "overlay",
              "size": 10,
              "solidity": 0.2
             }
            },
            "type": "bar"
           }
          ],
          "barpolar": [
           {
            "marker": {
             "line": {
              "color": "white",
              "width": 0.5
             },
             "pattern": {
              "fillmode": "overlay",
              "size": 10,
              "solidity": 0.2
             }
            },
            "type": "barpolar"
           }
          ],
          "carpet": [
           {
            "aaxis": {
             "endlinecolor": "#2a3f5f",
             "gridcolor": "#C8D4E3",
             "linecolor": "#C8D4E3",
             "minorgridcolor": "#C8D4E3",
             "startlinecolor": "#2a3f5f"
            },
            "baxis": {
             "endlinecolor": "#2a3f5f",
             "gridcolor": "#C8D4E3",
             "linecolor": "#C8D4E3",
             "minorgridcolor": "#C8D4E3",
             "startlinecolor": "#2a3f5f"
            },
            "type": "carpet"
           }
          ],
          "choropleth": [
           {
            "colorbar": {
             "outlinewidth": 0,
             "ticks": ""
            },
            "type": "choropleth"
           }
          ],
          "contour": [
           {
            "colorbar": {
             "outlinewidth": 0,
             "ticks": ""
            },
            "colorscale": [
             [
              0,
              "#0d0887"
             ],
             [
              0.1111111111111111,
              "#46039f"
             ],
             [
              0.2222222222222222,
              "#7201a8"
             ],
             [
              0.3333333333333333,
              "#9c179e"
             ],
             [
              0.4444444444444444,
              "#bd3786"
             ],
             [
              0.5555555555555556,
              "#d8576b"
             ],
             [
              0.6666666666666666,
              "#ed7953"
             ],
             [
              0.7777777777777778,
              "#fb9f3a"
             ],
             [
              0.8888888888888888,
              "#fdca26"
             ],
             [
              1,
              "#f0f921"
             ]
            ],
            "type": "contour"
           }
          ],
          "contourcarpet": [
           {
            "colorbar": {
             "outlinewidth": 0,
             "ticks": ""
            },
            "type": "contourcarpet"
           }
          ],
          "heatmap": [
           {
            "colorbar": {
             "outlinewidth": 0,
             "ticks": ""
            },
            "colorscale": [
             [
              0,
              "#0d0887"
             ],
             [
              0.1111111111111111,
              "#46039f"
             ],
             [
              0.2222222222222222,
              "#7201a8"
             ],
             [
              0.3333333333333333,
              "#9c179e"
             ],
             [
              0.4444444444444444,
              "#bd3786"
             ],
             [
              0.5555555555555556,
              "#d8576b"
             ],
             [
              0.6666666666666666,
              "#ed7953"
             ],
             [
              0.7777777777777778,
              "#fb9f3a"
             ],
             [
              0.8888888888888888,
              "#fdca26"
             ],
             [
              1,
              "#f0f921"
             ]
            ],
            "type": "heatmap"
           }
          ],
          "histogram": [
           {
            "marker": {
             "pattern": {
              "fillmode": "overlay",
              "size": 10,
              "solidity": 0.2
             }
            },
            "type": "histogram"
           }
          ],
          "histogram2d": [
           {
            "colorbar": {
             "outlinewidth": 0,
             "ticks": ""
            },
            "colorscale": [
             [
              0,
              "#0d0887"
             ],
             [
              0.1111111111111111,
              "#46039f"
             ],
             [
              0.2222222222222222,
              "#7201a8"
             ],
             [
              0.3333333333333333,
              "#9c179e"
             ],
             [
              0.4444444444444444,
              "#bd3786"
             ],
             [
              0.5555555555555556,
              "#d8576b"
             ],
             [
              0.6666666666666666,
              "#ed7953"
             ],
             [
              0.7777777777777778,
              "#fb9f3a"
             ],
             [
              0.8888888888888888,
              "#fdca26"
             ],
             [
              1,
              "#f0f921"
             ]
            ],
            "type": "histogram2d"
           }
          ],
          "histogram2dcontour": [
           {
            "colorbar": {
             "outlinewidth": 0,
             "ticks": ""
            },
            "colorscale": [
             [
              0,
              "#0d0887"
             ],
             [
              0.1111111111111111,
              "#46039f"
             ],
             [
              0.2222222222222222,
              "#7201a8"
             ],
             [
              0.3333333333333333,
              "#9c179e"
             ],
             [
              0.4444444444444444,
              "#bd3786"
             ],
             [
              0.5555555555555556,
              "#d8576b"
             ],
             [
              0.6666666666666666,
              "#ed7953"
             ],
             [
              0.7777777777777778,
              "#fb9f3a"
             ],
             [
              0.8888888888888888,
              "#fdca26"
             ],
             [
              1,
              "#f0f921"
             ]
            ],
            "type": "histogram2dcontour"
           }
          ],
          "mesh3d": [
           {
            "colorbar": {
             "outlinewidth": 0,
             "ticks": ""
            },
            "type": "mesh3d"
           }
          ],
          "parcoords": [
           {
            "line": {
             "colorbar": {
              "outlinewidth": 0,
              "ticks": ""
             }
            },
            "type": "parcoords"
           }
          ],
          "pie": [
           {
            "automargin": true,
            "type": "pie"
           }
          ],
          "scatter": [
           {
            "fillpattern": {
             "fillmode": "overlay",
             "size": 10,
             "solidity": 0.2
            },
            "type": "scatter"
           }
          ],
          "scatter3d": [
           {
            "line": {
             "colorbar": {
              "outlinewidth": 0,
              "ticks": ""
             }
            },
            "marker": {
             "colorbar": {
              "outlinewidth": 0,
              "ticks": ""
             }
            },
            "type": "scatter3d"
           }
          ],
          "scattercarpet": [
           {
            "marker": {
             "colorbar": {
              "outlinewidth": 0,
              "ticks": ""
             }
            },
            "type": "scattercarpet"
           }
          ],
          "scattergeo": [
           {
            "marker": {
             "colorbar": {
              "outlinewidth": 0,
              "ticks": ""
             }
            },
            "type": "scattergeo"
           }
          ],
          "scattergl": [
           {
            "marker": {
             "colorbar": {
              "outlinewidth": 0,
              "ticks": ""
             }
            },
            "type": "scattergl"
           }
          ],
          "scattermap": [
           {
            "marker": {
             "colorbar": {
              "outlinewidth": 0,
              "ticks": ""
             }
            },
            "type": "scattermap"
           }
          ],
          "scattermapbox": [
           {
            "marker": {
             "colorbar": {
              "outlinewidth": 0,
              "ticks": ""
             }
            },
            "type": "scattermapbox"
           }
          ],
          "scatterpolar": [
           {
            "marker": {
             "colorbar": {
              "outlinewidth": 0,
              "ticks": ""
             }
            },
            "type": "scatterpolar"
           }
          ],
          "scatterpolargl": [
           {
            "marker": {
             "colorbar": {
              "outlinewidth": 0,
              "ticks": ""
             }
            },
            "type": "scatterpolargl"
           }
          ],
          "scatterternary": [
           {
            "marker": {
             "colorbar": {
              "outlinewidth": 0,
              "ticks": ""
             }
            },
            "type": "scatterternary"
           }
          ],
          "surface": [
           {
            "colorbar": {
             "outlinewidth": 0,
             "ticks": ""
            },
            "colorscale": [
             [
              0,
              "#0d0887"
             ],
             [
              0.1111111111111111,
              "#46039f"
             ],
             [
              0.2222222222222222,
              "#7201a8"
             ],
             [
              0.3333333333333333,
              "#9c179e"
             ],
             [
              0.4444444444444444,
              "#bd3786"
             ],
             [
              0.5555555555555556,
              "#d8576b"
             ],
             [
              0.6666666666666666,
              "#ed7953"
             ],
             [
              0.7777777777777778,
              "#fb9f3a"
             ],
             [
              0.8888888888888888,
              "#fdca26"
             ],
             [
              1,
              "#f0f921"
             ]
            ],
            "type": "surface"
           }
          ],
          "table": [
           {
            "cells": {
             "fill": {
              "color": "#EBF0F8"
             },
             "line": {
              "color": "white"
             }
            },
            "header": {
             "fill": {
              "color": "#C8D4E3"
             },
             "line": {
              "color": "white"
             }
            },
            "type": "table"
           }
          ]
         },
         "layout": {
          "annotationdefaults": {
           "arrowcolor": "#2a3f5f",
           "arrowhead": 0,
           "arrowwidth": 1
          },
          "autotypenumbers": "strict",
          "coloraxis": {
           "colorbar": {
            "outlinewidth": 0,
            "ticks": ""
           }
          },
          "colorscale": {
           "diverging": [
            [
             0,
             "#8e0152"
            ],
            [
             0.1,
             "#c51b7d"
            ],
            [
             0.2,
             "#de77ae"
            ],
            [
             0.3,
             "#f1b6da"
            ],
            [
             0.4,
             "#fde0ef"
            ],
            [
             0.5,
             "#f7f7f7"
            ],
            [
             0.6,
             "#e6f5d0"
            ],
            [
             0.7,
             "#b8e186"
            ],
            [
             0.8,
             "#7fbc41"
            ],
            [
             0.9,
             "#4d9221"
            ],
            [
             1,
             "#276419"
            ]
           ],
           "sequential": [
            [
             0,
             "#0d0887"
            ],
            [
             0.1111111111111111,
             "#46039f"
            ],
            [
             0.2222222222222222,
             "#7201a8"
            ],
            [
             0.3333333333333333,
             "#9c179e"
            ],
            [
             0.4444444444444444,
             "#bd3786"
            ],
            [
             0.5555555555555556,
             "#d8576b"
            ],
            [
             0.6666666666666666,
             "#ed7953"
            ],
            [
             0.7777777777777778,
             "#fb9f3a"
            ],
            [
             0.8888888888888888,
             "#fdca26"
            ],
            [
             1,
             "#f0f921"
            ]
           ],
           "sequentialminus": [
            [
             0,
             "#0d0887"
            ],
            [
             0.1111111111111111,
             "#46039f"
            ],
            [
             0.2222222222222222,
             "#7201a8"
            ],
            [
             0.3333333333333333,
             "#9c179e"
            ],
            [
             0.4444444444444444,
             "#bd3786"
            ],
            [
             0.5555555555555556,
             "#d8576b"
            ],
            [
             0.6666666666666666,
             "#ed7953"
            ],
            [
             0.7777777777777778,
             "#fb9f3a"
            ],
            [
             0.8888888888888888,
             "#fdca26"
            ],
            [
             1,
             "#f0f921"
            ]
           ]
          },
          "colorway": [
           "#636efa",
           "#EF553B",
           "#00cc96",
           "#ab63fa",
           "#FFA15A",
           "#19d3f3",
           "#FF6692",
           "#B6E880",
           "#FF97FF",
           "#FECB52"
          ],
          "font": {
           "color": "#2a3f5f"
          },
          "geo": {
           "bgcolor": "white",
           "lakecolor": "white",
           "landcolor": "white",
           "showlakes": true,
           "showland": true,
           "subunitcolor": "#C8D4E3"
          },
          "hoverlabel": {
           "align": "left"
          },
          "hovermode": "closest",
          "mapbox": {
           "style": "light"
          },
          "paper_bgcolor": "white",
          "plot_bgcolor": "white",
          "polar": {
           "angularaxis": {
            "gridcolor": "#EBF0F8",
            "linecolor": "#EBF0F8",
            "ticks": ""
           },
           "bgcolor": "white",
           "radialaxis": {
            "gridcolor": "#EBF0F8",
            "linecolor": "#EBF0F8",
            "ticks": ""
           }
          },
          "scene": {
           "xaxis": {
            "backgroundcolor": "white",
            "gridcolor": "#DFE8F3",
            "gridwidth": 2,
            "linecolor": "#EBF0F8",
            "showbackground": true,
            "ticks": "",
            "zerolinecolor": "#EBF0F8"
           },
           "yaxis": {
            "backgroundcolor": "white",
            "gridcolor": "#DFE8F3",
            "gridwidth": 2,
            "linecolor": "#EBF0F8",
            "showbackground": true,
            "ticks": "",
            "zerolinecolor": "#EBF0F8"
           },
           "zaxis": {
            "backgroundcolor": "white",
            "gridcolor": "#DFE8F3",
            "gridwidth": 2,
            "linecolor": "#EBF0F8",
            "showbackground": true,
            "ticks": "",
            "zerolinecolor": "#EBF0F8"
           }
          },
          "shapedefaults": {
           "line": {
            "color": "#2a3f5f"
           }
          },
          "ternary": {
           "aaxis": {
            "gridcolor": "#DFE8F3",
            "linecolor": "#A2B1C6",
            "ticks": ""
           },
           "baxis": {
            "gridcolor": "#DFE8F3",
            "linecolor": "#A2B1C6",
            "ticks": ""
           },
           "bgcolor": "white",
           "caxis": {
            "gridcolor": "#DFE8F3",
            "linecolor": "#A2B1C6",
            "ticks": ""
           }
          },
          "title": {
           "x": 0.05
          },
          "xaxis": {
           "automargin": true,
           "gridcolor": "#EBF0F8",
           "linecolor": "#EBF0F8",
           "ticks": "",
           "title": {
            "standoff": 15
           },
           "zerolinecolor": "#EBF0F8",
           "zerolinewidth": 2
          },
          "yaxis": {
           "automargin": true,
           "gridcolor": "#EBF0F8",
           "linecolor": "#EBF0F8",
           "ticks": "",
           "title": {
            "standoff": 15
           },
           "zerolinecolor": "#EBF0F8",
           "zerolinewidth": 2
          }
         }
        },
        "title": {
         "text": "Client Performance Analysis"
        },
        "xaxis": {
         "anchor": "y",
         "domain": [
          0,
          0.45
         ],
         "title": {
          "text": "Client ID"
         }
        },
        "xaxis2": {
         "anchor": "y2",
         "domain": [
          0.55,
          1
         ],
         "title": {
          "text": "Client ID"
         }
        },
        "xaxis3": {
         "anchor": "y3",
         "domain": [
          0,
          0.45
         ],
         "title": {
          "text": "Client ID"
         }
        },
        "xaxis4": {
         "anchor": "y4",
         "domain": [
          0.55,
          1
         ],
         "title": {
          "text": "Duration (s)"
         }
        },
        "yaxis": {
         "anchor": "x",
         "domain": [
          0.625,
          1
         ],
         "title": {
          "text": "Duration (s)"
         }
        },
        "yaxis2": {
         "anchor": "x2",
         "domain": [
          0.625,
          1
         ],
         "title": {
          "text": "Loss"
         }
        },
        "yaxis3": {
         "anchor": "x3",
         "domain": [
          0,
          0.375
         ],
         "title": {
          "text": "Examples"
         }
        },
        "yaxis4": {
         "anchor": "x4",
         "domain": [
          0,
          0.375
         ],
         "title": {
          "text": "Loss"
         }
        }
       }
      }
     },
     "metadata": {},
     "output_type": "display_data"
    }
   ],
   "source": [
    "fig_clients = make_subplots(\n",
    "    rows=2, cols=2,\n",
    "    subplot_titles=(\n",
    "        'Average Training Duration by Client',\n",
    "        'Average Loss by Client', \n",
    "        'Training Examples per Client',\n",
    "        'Duration vs Loss Correlation'\n",
    "    ),\n",
    "    specs=[[{\"secondary_y\": False}, {\"secondary_y\": False}],\n",
    "            [{\"secondary_y\": False}, {\"secondary_y\": False}]]\n",
    ")\n",
    "\n",
    "# Duration distribution\n",
    "fig_clients.add_trace(\n",
    "    go.Bar(\n",
    "        x=client_avg_duration.index,\n",
    "        y=client_avg_duration.values,\n",
    "        name='Avg Duration',\n",
    "        marker_color='lightblue',\n",
    "        hovertemplate=\"Client: %{x}<br>Avg Duration: %{y:.3f}s<extra></extra>\"\n",
    "    ),\n",
    "    row=1, col=1\n",
    ")\n",
    "\n",
    "# Loss distribution\n",
    "fig_clients.add_trace(\n",
    "    go.Bar(\n",
    "        x=client_avg_loss.index,\n",
    "        y=client_avg_loss.values,\n",
    "        name='Avg Loss',\n",
    "        marker_color='lightcoral',\n",
    "        hovertemplate=\"Client: %{x}<br>Avg Loss: %{y:.3f}<extra></extra>\"\n",
    "    ),\n",
    "    row=1, col=2\n",
    ")\n",
    "\n",
    "# Examples distribution\n",
    "fig_clients.add_trace(\n",
    "    go.Bar(\n",
    "        x=client_examples.index,\n",
    "        y=client_examples.values,\n",
    "        name='Examples',\n",
    "        marker_color='lightgreen',\n",
    "        hovertemplate=\"Client: %{x}<br>Examples: %{y:.0f}<extra></extra>\"\n",
    "    ),\n",
    "    row=2, col=1\n",
    ")\n",
    "\n",
    "# Duration vs Loss scatter\n",
    "fig_clients.add_trace(\n",
    "    go.Scatter(\n",
    "        x=client_avg_duration.values,\n",
    "        y=client_avg_loss.values,\n",
    "        mode='markers',\n",
    "        marker=dict(\n",
    "            size=10,\n",
    "            color=client_examples.values,\n",
    "            colorscale='Viridis',\n",
    "            showscale=True,\n",
    "            colorbar=dict(title=\"Examples\")\n",
    "        ),\n",
    "        text=client_avg_duration.index,\n",
    "        hovertemplate=\"Client: %{text}<br>Duration: %{x:.3f}s<br>Loss: %{y:.3f}<br>Examples: %{marker.color:.0f}<extra></extra>\",\n",
    "        name='Client Performance'\n",
    "    ),\n",
    "    row=2, col=2\n",
    ")\n",
    "\n",
    "fig_clients.update_layout(\n",
    "    height=800,\n",
    "    showlegend=False,\n",
    "    template=\"plotly_white\",\n",
    "    title_text=\"Client Performance Analysis\"\n",
    ")\n",
    "\n",
    "fig_clients.update_xaxes(title_text=\"Client ID\", row=1, col=1)\n",
    "fig_clients.update_xaxes(title_text=\"Client ID\", row=1, col=2)\n",
    "fig_clients.update_xaxes(title_text=\"Client ID\", row=2, col=1)\n",
    "fig_clients.update_xaxes(title_text=\"Duration (s)\", row=2, col=2)\n",
    "\n",
    "fig_clients.update_yaxes(title_text=\"Duration (s)\", row=1, col=1)\n",
    "fig_clients.update_yaxes(title_text=\"Loss\", row=1, col=2)\n",
    "fig_clients.update_yaxes(title_text=\"Examples\", row=2, col=1)\n",
    "fig_clients.update_yaxes(title_text=\"Loss\", row=2, col=2)\n",
    "\n",
    "fig_clients.show()\n"
   ]
  },
  {
   "cell_type": "markdown",
   "id": "0ef89630",
   "metadata": {},
   "source": [
    "##### Round Progress Over Time"
   ]
  },
  {
   "cell_type": "code",
   "execution_count": 401,
   "id": "b720eb78",
   "metadata": {},
   "outputs": [
    {
     "data": {
      "application/vnd.plotly.v1+json": {
       "config": {
        "plotlyServerURL": "https://plot.ly"
       },
       "data": [
        {
         "hovertemplate": "Round: %{x}<br>Avg Duration: %{y:.3f}s<extra></extra>",
         "line": {
          "color": "blue",
          "width": 3
         },
         "marker": {
          "size": 8
         },
         "mode": "lines+markers",
         "name": "Avg Duration",
         "type": "scatter",
         "x": {
          "bdata": "AQIDBAUGBwgJCg==",
          "dtype": "i1"
         },
         "xaxis": "x",
         "y": {
          "bdata": "Fa5H4XoU3j+rqqqqqqraP2As+cWSX9w/DXTaQKcN3D902kCnDXTaP7y7u7u7u9s/TxvotIFO2z8XS36x5BfbP8zMzMzMzNw/TRvotIFO2z8=",
          "dtype": "f8"
         },
         "yaxis": "y"
        },
        {
         "hovertemplate": "Round: %{x}<br>Avg Loss: %{y:.3f}<extra></extra>",
         "line": {
          "color": "red",
          "width": 3
         },
         "marker": {
          "size": 8,
          "symbol": "diamond"
         },
         "mode": "lines+markers",
         "name": "Avg Loss",
         "type": "scatter",
         "x": {
          "bdata": "AQIDBAUGBwgJCg==",
          "dtype": "i1"
         },
         "xaxis": "x",
         "y": {
          "bdata": "mJWZY4hL5T/nPVFnvffdP6trvBYZvNQ/0qNIYEpy0j8BTAg4IYzRPwsK6WTnZ9A/rlntE4+E0D8AAFIdxbnRP6EBzW2Q+dA/GVJzDtjw0D8=",
          "dtype": "f8"
         },
         "yaxis": "y2"
        }
       ],
       "layout": {
        "height": 500,
        "template": {
         "data": {
          "bar": [
           {
            "error_x": {
             "color": "#2a3f5f"
            },
            "error_y": {
             "color": "#2a3f5f"
            },
            "marker": {
             "line": {
              "color": "white",
              "width": 0.5
             },
             "pattern": {
              "fillmode": "overlay",
              "size": 10,
              "solidity": 0.2
             }
            },
            "type": "bar"
           }
          ],
          "barpolar": [
           {
            "marker": {
             "line": {
              "color": "white",
              "width": 0.5
             },
             "pattern": {
              "fillmode": "overlay",
              "size": 10,
              "solidity": 0.2
             }
            },
            "type": "barpolar"
           }
          ],
          "carpet": [
           {
            "aaxis": {
             "endlinecolor": "#2a3f5f",
             "gridcolor": "#C8D4E3",
             "linecolor": "#C8D4E3",
             "minorgridcolor": "#C8D4E3",
             "startlinecolor": "#2a3f5f"
            },
            "baxis": {
             "endlinecolor": "#2a3f5f",
             "gridcolor": "#C8D4E3",
             "linecolor": "#C8D4E3",
             "minorgridcolor": "#C8D4E3",
             "startlinecolor": "#2a3f5f"
            },
            "type": "carpet"
           }
          ],
          "choropleth": [
           {
            "colorbar": {
             "outlinewidth": 0,
             "ticks": ""
            },
            "type": "choropleth"
           }
          ],
          "contour": [
           {
            "colorbar": {
             "outlinewidth": 0,
             "ticks": ""
            },
            "colorscale": [
             [
              0,
              "#0d0887"
             ],
             [
              0.1111111111111111,
              "#46039f"
             ],
             [
              0.2222222222222222,
              "#7201a8"
             ],
             [
              0.3333333333333333,
              "#9c179e"
             ],
             [
              0.4444444444444444,
              "#bd3786"
             ],
             [
              0.5555555555555556,
              "#d8576b"
             ],
             [
              0.6666666666666666,
              "#ed7953"
             ],
             [
              0.7777777777777778,
              "#fb9f3a"
             ],
             [
              0.8888888888888888,
              "#fdca26"
             ],
             [
              1,
              "#f0f921"
             ]
            ],
            "type": "contour"
           }
          ],
          "contourcarpet": [
           {
            "colorbar": {
             "outlinewidth": 0,
             "ticks": ""
            },
            "type": "contourcarpet"
           }
          ],
          "heatmap": [
           {
            "colorbar": {
             "outlinewidth": 0,
             "ticks": ""
            },
            "colorscale": [
             [
              0,
              "#0d0887"
             ],
             [
              0.1111111111111111,
              "#46039f"
             ],
             [
              0.2222222222222222,
              "#7201a8"
             ],
             [
              0.3333333333333333,
              "#9c179e"
             ],
             [
              0.4444444444444444,
              "#bd3786"
             ],
             [
              0.5555555555555556,
              "#d8576b"
             ],
             [
              0.6666666666666666,
              "#ed7953"
             ],
             [
              0.7777777777777778,
              "#fb9f3a"
             ],
             [
              0.8888888888888888,
              "#fdca26"
             ],
             [
              1,
              "#f0f921"
             ]
            ],
            "type": "heatmap"
           }
          ],
          "histogram": [
           {
            "marker": {
             "pattern": {
              "fillmode": "overlay",
              "size": 10,
              "solidity": 0.2
             }
            },
            "type": "histogram"
           }
          ],
          "histogram2d": [
           {
            "colorbar": {
             "outlinewidth": 0,
             "ticks": ""
            },
            "colorscale": [
             [
              0,
              "#0d0887"
             ],
             [
              0.1111111111111111,
              "#46039f"
             ],
             [
              0.2222222222222222,
              "#7201a8"
             ],
             [
              0.3333333333333333,
              "#9c179e"
             ],
             [
              0.4444444444444444,
              "#bd3786"
             ],
             [
              0.5555555555555556,
              "#d8576b"
             ],
             [
              0.6666666666666666,
              "#ed7953"
             ],
             [
              0.7777777777777778,
              "#fb9f3a"
             ],
             [
              0.8888888888888888,
              "#fdca26"
             ],
             [
              1,
              "#f0f921"
             ]
            ],
            "type": "histogram2d"
           }
          ],
          "histogram2dcontour": [
           {
            "colorbar": {
             "outlinewidth": 0,
             "ticks": ""
            },
            "colorscale": [
             [
              0,
              "#0d0887"
             ],
             [
              0.1111111111111111,
              "#46039f"
             ],
             [
              0.2222222222222222,
              "#7201a8"
             ],
             [
              0.3333333333333333,
              "#9c179e"
             ],
             [
              0.4444444444444444,
              "#bd3786"
             ],
             [
              0.5555555555555556,
              "#d8576b"
             ],
             [
              0.6666666666666666,
              "#ed7953"
             ],
             [
              0.7777777777777778,
              "#fb9f3a"
             ],
             [
              0.8888888888888888,
              "#fdca26"
             ],
             [
              1,
              "#f0f921"
             ]
            ],
            "type": "histogram2dcontour"
           }
          ],
          "mesh3d": [
           {
            "colorbar": {
             "outlinewidth": 0,
             "ticks": ""
            },
            "type": "mesh3d"
           }
          ],
          "parcoords": [
           {
            "line": {
             "colorbar": {
              "outlinewidth": 0,
              "ticks": ""
             }
            },
            "type": "parcoords"
           }
          ],
          "pie": [
           {
            "automargin": true,
            "type": "pie"
           }
          ],
          "scatter": [
           {
            "fillpattern": {
             "fillmode": "overlay",
             "size": 10,
             "solidity": 0.2
            },
            "type": "scatter"
           }
          ],
          "scatter3d": [
           {
            "line": {
             "colorbar": {
              "outlinewidth": 0,
              "ticks": ""
             }
            },
            "marker": {
             "colorbar": {
              "outlinewidth": 0,
              "ticks": ""
             }
            },
            "type": "scatter3d"
           }
          ],
          "scattercarpet": [
           {
            "marker": {
             "colorbar": {
              "outlinewidth": 0,
              "ticks": ""
             }
            },
            "type": "scattercarpet"
           }
          ],
          "scattergeo": [
           {
            "marker": {
             "colorbar": {
              "outlinewidth": 0,
              "ticks": ""
             }
            },
            "type": "scattergeo"
           }
          ],
          "scattergl": [
           {
            "marker": {
             "colorbar": {
              "outlinewidth": 0,
              "ticks": ""
             }
            },
            "type": "scattergl"
           }
          ],
          "scattermap": [
           {
            "marker": {
             "colorbar": {
              "outlinewidth": 0,
              "ticks": ""
             }
            },
            "type": "scattermap"
           }
          ],
          "scattermapbox": [
           {
            "marker": {
             "colorbar": {
              "outlinewidth": 0,
              "ticks": ""
             }
            },
            "type": "scattermapbox"
           }
          ],
          "scatterpolar": [
           {
            "marker": {
             "colorbar": {
              "outlinewidth": 0,
              "ticks": ""
             }
            },
            "type": "scatterpolar"
           }
          ],
          "scatterpolargl": [
           {
            "marker": {
             "colorbar": {
              "outlinewidth": 0,
              "ticks": ""
             }
            },
            "type": "scatterpolargl"
           }
          ],
          "scatterternary": [
           {
            "marker": {
             "colorbar": {
              "outlinewidth": 0,
              "ticks": ""
             }
            },
            "type": "scatterternary"
           }
          ],
          "surface": [
           {
            "colorbar": {
             "outlinewidth": 0,
             "ticks": ""
            },
            "colorscale": [
             [
              0,
              "#0d0887"
             ],
             [
              0.1111111111111111,
              "#46039f"
             ],
             [
              0.2222222222222222,
              "#7201a8"
             ],
             [
              0.3333333333333333,
              "#9c179e"
             ],
             [
              0.4444444444444444,
              "#bd3786"
             ],
             [
              0.5555555555555556,
              "#d8576b"
             ],
             [
              0.6666666666666666,
              "#ed7953"
             ],
             [
              0.7777777777777778,
              "#fb9f3a"
             ],
             [
              0.8888888888888888,
              "#fdca26"
             ],
             [
              1,
              "#f0f921"
             ]
            ],
            "type": "surface"
           }
          ],
          "table": [
           {
            "cells": {
             "fill": {
              "color": "#EBF0F8"
             },
             "line": {
              "color": "white"
             }
            },
            "header": {
             "fill": {
              "color": "#C8D4E3"
             },
             "line": {
              "color": "white"
             }
            },
            "type": "table"
           }
          ]
         },
         "layout": {
          "annotationdefaults": {
           "arrowcolor": "#2a3f5f",
           "arrowhead": 0,
           "arrowwidth": 1
          },
          "autotypenumbers": "strict",
          "coloraxis": {
           "colorbar": {
            "outlinewidth": 0,
            "ticks": ""
           }
          },
          "colorscale": {
           "diverging": [
            [
             0,
             "#8e0152"
            ],
            [
             0.1,
             "#c51b7d"
            ],
            [
             0.2,
             "#de77ae"
            ],
            [
             0.3,
             "#f1b6da"
            ],
            [
             0.4,
             "#fde0ef"
            ],
            [
             0.5,
             "#f7f7f7"
            ],
            [
             0.6,
             "#e6f5d0"
            ],
            [
             0.7,
             "#b8e186"
            ],
            [
             0.8,
             "#7fbc41"
            ],
            [
             0.9,
             "#4d9221"
            ],
            [
             1,
             "#276419"
            ]
           ],
           "sequential": [
            [
             0,
             "#0d0887"
            ],
            [
             0.1111111111111111,
             "#46039f"
            ],
            [
             0.2222222222222222,
             "#7201a8"
            ],
            [
             0.3333333333333333,
             "#9c179e"
            ],
            [
             0.4444444444444444,
             "#bd3786"
            ],
            [
             0.5555555555555556,
             "#d8576b"
            ],
            [
             0.6666666666666666,
             "#ed7953"
            ],
            [
             0.7777777777777778,
             "#fb9f3a"
            ],
            [
             0.8888888888888888,
             "#fdca26"
            ],
            [
             1,
             "#f0f921"
            ]
           ],
           "sequentialminus": [
            [
             0,
             "#0d0887"
            ],
            [
             0.1111111111111111,
             "#46039f"
            ],
            [
             0.2222222222222222,
             "#7201a8"
            ],
            [
             0.3333333333333333,
             "#9c179e"
            ],
            [
             0.4444444444444444,
             "#bd3786"
            ],
            [
             0.5555555555555556,
             "#d8576b"
            ],
            [
             0.6666666666666666,
             "#ed7953"
            ],
            [
             0.7777777777777778,
             "#fb9f3a"
            ],
            [
             0.8888888888888888,
             "#fdca26"
            ],
            [
             1,
             "#f0f921"
            ]
           ]
          },
          "colorway": [
           "#636efa",
           "#EF553B",
           "#00cc96",
           "#ab63fa",
           "#FFA15A",
           "#19d3f3",
           "#FF6692",
           "#B6E880",
           "#FF97FF",
           "#FECB52"
          ],
          "font": {
           "color": "#2a3f5f"
          },
          "geo": {
           "bgcolor": "white",
           "lakecolor": "white",
           "landcolor": "white",
           "showlakes": true,
           "showland": true,
           "subunitcolor": "#C8D4E3"
          },
          "hoverlabel": {
           "align": "left"
          },
          "hovermode": "closest",
          "mapbox": {
           "style": "light"
          },
          "paper_bgcolor": "white",
          "plot_bgcolor": "white",
          "polar": {
           "angularaxis": {
            "gridcolor": "#EBF0F8",
            "linecolor": "#EBF0F8",
            "ticks": ""
           },
           "bgcolor": "white",
           "radialaxis": {
            "gridcolor": "#EBF0F8",
            "linecolor": "#EBF0F8",
            "ticks": ""
           }
          },
          "scene": {
           "xaxis": {
            "backgroundcolor": "white",
            "gridcolor": "#DFE8F3",
            "gridwidth": 2,
            "linecolor": "#EBF0F8",
            "showbackground": true,
            "ticks": "",
            "zerolinecolor": "#EBF0F8"
           },
           "yaxis": {
            "backgroundcolor": "white",
            "gridcolor": "#DFE8F3",
            "gridwidth": 2,
            "linecolor": "#EBF0F8",
            "showbackground": true,
            "ticks": "",
            "zerolinecolor": "#EBF0F8"
           },
           "zaxis": {
            "backgroundcolor": "white",
            "gridcolor": "#DFE8F3",
            "gridwidth": 2,
            "linecolor": "#EBF0F8",
            "showbackground": true,
            "ticks": "",
            "zerolinecolor": "#EBF0F8"
           }
          },
          "shapedefaults": {
           "line": {
            "color": "#2a3f5f"
           }
          },
          "ternary": {
           "aaxis": {
            "gridcolor": "#DFE8F3",
            "linecolor": "#A2B1C6",
            "ticks": ""
           },
           "baxis": {
            "gridcolor": "#DFE8F3",
            "linecolor": "#A2B1C6",
            "ticks": ""
           },
           "bgcolor": "white",
           "caxis": {
            "gridcolor": "#DFE8F3",
            "linecolor": "#A2B1C6",
            "ticks": ""
           }
          },
          "title": {
           "x": 0.05
          },
          "xaxis": {
           "automargin": true,
           "gridcolor": "#EBF0F8",
           "linecolor": "#EBF0F8",
           "ticks": "",
           "title": {
            "standoff": 15
           },
           "zerolinecolor": "#EBF0F8",
           "zerolinewidth": 2
          },
          "yaxis": {
           "automargin": true,
           "gridcolor": "#EBF0F8",
           "linecolor": "#EBF0F8",
           "ticks": "",
           "title": {
            "standoff": 15
           },
           "zerolinecolor": "#EBF0F8",
           "zerolinewidth": 2
          }
         }
        },
        "title": {
         "text": "Training Progress Across Rounds"
        },
        "xaxis": {
         "anchor": "y",
         "domain": [
          0,
          0.94
         ],
         "title": {
          "text": "Round Number"
         }
        },
        "yaxis": {
         "anchor": "x",
         "domain": [
          0,
          1
         ],
         "title": {
          "text": "Average Duration (s)"
         }
        },
        "yaxis2": {
         "anchor": "x",
         "overlaying": "y",
         "side": "right",
         "title": {
          "text": "Average Loss"
         }
        }
       }
      }
     },
     "metadata": {},
     "output_type": "display_data"
    }
   ],
   "source": [
    "fig_rounds = make_subplots(\n",
    "    specs=[[{\"secondary_y\": True}]]\n",
    ")\n",
    "\n",
    "# Duration trend\n",
    "fig_rounds.add_trace(\n",
    "    go.Scatter(\n",
    "        x=round_avg_duration.index,\n",
    "        y=round_avg_duration.values,\n",
    "        mode='lines+markers',\n",
    "        name='Avg Duration',\n",
    "        line=dict(color='blue', width=3),\n",
    "        marker=dict(size=8),\n",
    "        hovertemplate=\"Round: %{x}<br>Avg Duration: %{y:.3f}s<extra></extra>\"\n",
    "    ),\n",
    "    secondary_y=False\n",
    ")\n",
    "\n",
    "# Loss trend\n",
    "fig_rounds.add_trace(\n",
    "    go.Scatter(\n",
    "        x=round_avg_loss.index,\n",
    "        y=round_avg_loss.values,\n",
    "        mode='lines+markers',\n",
    "        name='Avg Loss',\n",
    "        line=dict(color='red', width=3),\n",
    "        marker=dict(size=8, symbol='diamond'),\n",
    "        hovertemplate=\"Round: %{x}<br>Avg Loss: %{y:.3f}<extra></extra>\"\n",
    "    ),\n",
    "    secondary_y=True\n",
    ")\n",
    "\n",
    "fig_rounds.update_layout(\n",
    "    title=\"Training Progress Across Rounds\",\n",
    "    xaxis_title=\"Round Number\",\n",
    "    template=\"plotly_white\",\n",
    "    height=500\n",
    ")\n",
    "\n",
    "fig_rounds.update_yaxes(title_text=\"Average Duration (s)\", secondary_y=False)\n",
    "fig_rounds.update_yaxes(title_text=\"Average Loss\", secondary_y=True)\n",
    "\n",
    "fig_rounds.show()\n"
   ]
  },
  {
   "cell_type": "markdown",
   "id": "cfcac7e6",
   "metadata": {},
   "source": [
    "##### Performance Rankings"
   ]
  },
  {
   "cell_type": "code",
   "execution_count": 402,
   "id": "444618f7",
   "metadata": {},
   "outputs": [
    {
     "data": {
      "application/vnd.plotly.v1+json": {
       "config": {
        "plotlyServerURL": "https://plot.ly"
       },
       "data": [
        {
         "hovertemplate": "Client: %{y}<br>Duration: %{x:.3f}s<extra></extra>",
         "marker": {
          "color": "green"
         },
         "name": "Fastest",
         "orientation": "h",
         "type": "bar",
         "x": {
          "bdata": "AiuHFtnO1z/+1HjpJjHYPy2yne+nxts/gpVDi2zn2z966SYxCKzcPw==",
          "dtype": "f8"
         },
         "xaxis": "x",
         "y": {
          "bdata": "DBMuDgo=",
          "dtype": "i1"
         },
         "yaxis": "y"
        },
        {
         "hovertemplate": "Client: %{y}<br>Loss: %{x:.3f}<extra></extra>",
         "marker": {
          "color": "orange"
         },
         "name": "Best Performance",
         "orientation": "h",
         "type": "bar",
         "x": {
          "bdata": "6OXAwWkg0T/2bdHQ6LHSP36xpIOHhNM/M/7bRu4r1D81Xrq13RbZPw==",
          "dtype": "f8"
         },
         "xaxis": "x2",
         "y": {
          "bdata": "Ci4ADgw=",
          "dtype": "i1"
         },
         "yaxis": "y2"
        }
       ],
       "layout": {
        "annotations": [
         {
          "font": {
           "size": 16
          },
          "showarrow": false,
          "text": "Fastest Clients (Lowest Duration)",
          "x": 0.225,
          "xanchor": "center",
          "xref": "paper",
          "y": 1,
          "yanchor": "bottom",
          "yref": "paper"
         },
         {
          "font": {
           "size": 16
          },
          "showarrow": false,
          "text": "Best Performing Clients (Lowest Loss)",
          "x": 0.775,
          "xanchor": "center",
          "xref": "paper",
          "y": 1,
          "yanchor": "bottom",
          "yref": "paper"
         }
        ],
        "height": 400,
        "showlegend": false,
        "template": {
         "data": {
          "bar": [
           {
            "error_x": {
             "color": "#2a3f5f"
            },
            "error_y": {
             "color": "#2a3f5f"
            },
            "marker": {
             "line": {
              "color": "white",
              "width": 0.5
             },
             "pattern": {
              "fillmode": "overlay",
              "size": 10,
              "solidity": 0.2
             }
            },
            "type": "bar"
           }
          ],
          "barpolar": [
           {
            "marker": {
             "line": {
              "color": "white",
              "width": 0.5
             },
             "pattern": {
              "fillmode": "overlay",
              "size": 10,
              "solidity": 0.2
             }
            },
            "type": "barpolar"
           }
          ],
          "carpet": [
           {
            "aaxis": {
             "endlinecolor": "#2a3f5f",
             "gridcolor": "#C8D4E3",
             "linecolor": "#C8D4E3",
             "minorgridcolor": "#C8D4E3",
             "startlinecolor": "#2a3f5f"
            },
            "baxis": {
             "endlinecolor": "#2a3f5f",
             "gridcolor": "#C8D4E3",
             "linecolor": "#C8D4E3",
             "minorgridcolor": "#C8D4E3",
             "startlinecolor": "#2a3f5f"
            },
            "type": "carpet"
           }
          ],
          "choropleth": [
           {
            "colorbar": {
             "outlinewidth": 0,
             "ticks": ""
            },
            "type": "choropleth"
           }
          ],
          "contour": [
           {
            "colorbar": {
             "outlinewidth": 0,
             "ticks": ""
            },
            "colorscale": [
             [
              0,
              "#0d0887"
             ],
             [
              0.1111111111111111,
              "#46039f"
             ],
             [
              0.2222222222222222,
              "#7201a8"
             ],
             [
              0.3333333333333333,
              "#9c179e"
             ],
             [
              0.4444444444444444,
              "#bd3786"
             ],
             [
              0.5555555555555556,
              "#d8576b"
             ],
             [
              0.6666666666666666,
              "#ed7953"
             ],
             [
              0.7777777777777778,
              "#fb9f3a"
             ],
             [
              0.8888888888888888,
              "#fdca26"
             ],
             [
              1,
              "#f0f921"
             ]
            ],
            "type": "contour"
           }
          ],
          "contourcarpet": [
           {
            "colorbar": {
             "outlinewidth": 0,
             "ticks": ""
            },
            "type": "contourcarpet"
           }
          ],
          "heatmap": [
           {
            "colorbar": {
             "outlinewidth": 0,
             "ticks": ""
            },
            "colorscale": [
             [
              0,
              "#0d0887"
             ],
             [
              0.1111111111111111,
              "#46039f"
             ],
             [
              0.2222222222222222,
              "#7201a8"
             ],
             [
              0.3333333333333333,
              "#9c179e"
             ],
             [
              0.4444444444444444,
              "#bd3786"
             ],
             [
              0.5555555555555556,
              "#d8576b"
             ],
             [
              0.6666666666666666,
              "#ed7953"
             ],
             [
              0.7777777777777778,
              "#fb9f3a"
             ],
             [
              0.8888888888888888,
              "#fdca26"
             ],
             [
              1,
              "#f0f921"
             ]
            ],
            "type": "heatmap"
           }
          ],
          "histogram": [
           {
            "marker": {
             "pattern": {
              "fillmode": "overlay",
              "size": 10,
              "solidity": 0.2
             }
            },
            "type": "histogram"
           }
          ],
          "histogram2d": [
           {
            "colorbar": {
             "outlinewidth": 0,
             "ticks": ""
            },
            "colorscale": [
             [
              0,
              "#0d0887"
             ],
             [
              0.1111111111111111,
              "#46039f"
             ],
             [
              0.2222222222222222,
              "#7201a8"
             ],
             [
              0.3333333333333333,
              "#9c179e"
             ],
             [
              0.4444444444444444,
              "#bd3786"
             ],
             [
              0.5555555555555556,
              "#d8576b"
             ],
             [
              0.6666666666666666,
              "#ed7953"
             ],
             [
              0.7777777777777778,
              "#fb9f3a"
             ],
             [
              0.8888888888888888,
              "#fdca26"
             ],
             [
              1,
              "#f0f921"
             ]
            ],
            "type": "histogram2d"
           }
          ],
          "histogram2dcontour": [
           {
            "colorbar": {
             "outlinewidth": 0,
             "ticks": ""
            },
            "colorscale": [
             [
              0,
              "#0d0887"
             ],
             [
              0.1111111111111111,
              "#46039f"
             ],
             [
              0.2222222222222222,
              "#7201a8"
             ],
             [
              0.3333333333333333,
              "#9c179e"
             ],
             [
              0.4444444444444444,
              "#bd3786"
             ],
             [
              0.5555555555555556,
              "#d8576b"
             ],
             [
              0.6666666666666666,
              "#ed7953"
             ],
             [
              0.7777777777777778,
              "#fb9f3a"
             ],
             [
              0.8888888888888888,
              "#fdca26"
             ],
             [
              1,
              "#f0f921"
             ]
            ],
            "type": "histogram2dcontour"
           }
          ],
          "mesh3d": [
           {
            "colorbar": {
             "outlinewidth": 0,
             "ticks": ""
            },
            "type": "mesh3d"
           }
          ],
          "parcoords": [
           {
            "line": {
             "colorbar": {
              "outlinewidth": 0,
              "ticks": ""
             }
            },
            "type": "parcoords"
           }
          ],
          "pie": [
           {
            "automargin": true,
            "type": "pie"
           }
          ],
          "scatter": [
           {
            "fillpattern": {
             "fillmode": "overlay",
             "size": 10,
             "solidity": 0.2
            },
            "type": "scatter"
           }
          ],
          "scatter3d": [
           {
            "line": {
             "colorbar": {
              "outlinewidth": 0,
              "ticks": ""
             }
            },
            "marker": {
             "colorbar": {
              "outlinewidth": 0,
              "ticks": ""
             }
            },
            "type": "scatter3d"
           }
          ],
          "scattercarpet": [
           {
            "marker": {
             "colorbar": {
              "outlinewidth": 0,
              "ticks": ""
             }
            },
            "type": "scattercarpet"
           }
          ],
          "scattergeo": [
           {
            "marker": {
             "colorbar": {
              "outlinewidth": 0,
              "ticks": ""
             }
            },
            "type": "scattergeo"
           }
          ],
          "scattergl": [
           {
            "marker": {
             "colorbar": {
              "outlinewidth": 0,
              "ticks": ""
             }
            },
            "type": "scattergl"
           }
          ],
          "scattermap": [
           {
            "marker": {
             "colorbar": {
              "outlinewidth": 0,
              "ticks": ""
             }
            },
            "type": "scattermap"
           }
          ],
          "scattermapbox": [
           {
            "marker": {
             "colorbar": {
              "outlinewidth": 0,
              "ticks": ""
             }
            },
            "type": "scattermapbox"
           }
          ],
          "scatterpolar": [
           {
            "marker": {
             "colorbar": {
              "outlinewidth": 0,
              "ticks": ""
             }
            },
            "type": "scatterpolar"
           }
          ],
          "scatterpolargl": [
           {
            "marker": {
             "colorbar": {
              "outlinewidth": 0,
              "ticks": ""
             }
            },
            "type": "scatterpolargl"
           }
          ],
          "scatterternary": [
           {
            "marker": {
             "colorbar": {
              "outlinewidth": 0,
              "ticks": ""
             }
            },
            "type": "scatterternary"
           }
          ],
          "surface": [
           {
            "colorbar": {
             "outlinewidth": 0,
             "ticks": ""
            },
            "colorscale": [
             [
              0,
              "#0d0887"
             ],
             [
              0.1111111111111111,
              "#46039f"
             ],
             [
              0.2222222222222222,
              "#7201a8"
             ],
             [
              0.3333333333333333,
              "#9c179e"
             ],
             [
              0.4444444444444444,
              "#bd3786"
             ],
             [
              0.5555555555555556,
              "#d8576b"
             ],
             [
              0.6666666666666666,
              "#ed7953"
             ],
             [
              0.7777777777777778,
              "#fb9f3a"
             ],
             [
              0.8888888888888888,
              "#fdca26"
             ],
             [
              1,
              "#f0f921"
             ]
            ],
            "type": "surface"
           }
          ],
          "table": [
           {
            "cells": {
             "fill": {
              "color": "#EBF0F8"
             },
             "line": {
              "color": "white"
             }
            },
            "header": {
             "fill": {
              "color": "#C8D4E3"
             },
             "line": {
              "color": "white"
             }
            },
            "type": "table"
           }
          ]
         },
         "layout": {
          "annotationdefaults": {
           "arrowcolor": "#2a3f5f",
           "arrowhead": 0,
           "arrowwidth": 1
          },
          "autotypenumbers": "strict",
          "coloraxis": {
           "colorbar": {
            "outlinewidth": 0,
            "ticks": ""
           }
          },
          "colorscale": {
           "diverging": [
            [
             0,
             "#8e0152"
            ],
            [
             0.1,
             "#c51b7d"
            ],
            [
             0.2,
             "#de77ae"
            ],
            [
             0.3,
             "#f1b6da"
            ],
            [
             0.4,
             "#fde0ef"
            ],
            [
             0.5,
             "#f7f7f7"
            ],
            [
             0.6,
             "#e6f5d0"
            ],
            [
             0.7,
             "#b8e186"
            ],
            [
             0.8,
             "#7fbc41"
            ],
            [
             0.9,
             "#4d9221"
            ],
            [
             1,
             "#276419"
            ]
           ],
           "sequential": [
            [
             0,
             "#0d0887"
            ],
            [
             0.1111111111111111,
             "#46039f"
            ],
            [
             0.2222222222222222,
             "#7201a8"
            ],
            [
             0.3333333333333333,
             "#9c179e"
            ],
            [
             0.4444444444444444,
             "#bd3786"
            ],
            [
             0.5555555555555556,
             "#d8576b"
            ],
            [
             0.6666666666666666,
             "#ed7953"
            ],
            [
             0.7777777777777778,
             "#fb9f3a"
            ],
            [
             0.8888888888888888,
             "#fdca26"
            ],
            [
             1,
             "#f0f921"
            ]
           ],
           "sequentialminus": [
            [
             0,
             "#0d0887"
            ],
            [
             0.1111111111111111,
             "#46039f"
            ],
            [
             0.2222222222222222,
             "#7201a8"
            ],
            [
             0.3333333333333333,
             "#9c179e"
            ],
            [
             0.4444444444444444,
             "#bd3786"
            ],
            [
             0.5555555555555556,
             "#d8576b"
            ],
            [
             0.6666666666666666,
             "#ed7953"
            ],
            [
             0.7777777777777778,
             "#fb9f3a"
            ],
            [
             0.8888888888888888,
             "#fdca26"
            ],
            [
             1,
             "#f0f921"
            ]
           ]
          },
          "colorway": [
           "#636efa",
           "#EF553B",
           "#00cc96",
           "#ab63fa",
           "#FFA15A",
           "#19d3f3",
           "#FF6692",
           "#B6E880",
           "#FF97FF",
           "#FECB52"
          ],
          "font": {
           "color": "#2a3f5f"
          },
          "geo": {
           "bgcolor": "white",
           "lakecolor": "white",
           "landcolor": "white",
           "showlakes": true,
           "showland": true,
           "subunitcolor": "#C8D4E3"
          },
          "hoverlabel": {
           "align": "left"
          },
          "hovermode": "closest",
          "mapbox": {
           "style": "light"
          },
          "paper_bgcolor": "white",
          "plot_bgcolor": "white",
          "polar": {
           "angularaxis": {
            "gridcolor": "#EBF0F8",
            "linecolor": "#EBF0F8",
            "ticks": ""
           },
           "bgcolor": "white",
           "radialaxis": {
            "gridcolor": "#EBF0F8",
            "linecolor": "#EBF0F8",
            "ticks": ""
           }
          },
          "scene": {
           "xaxis": {
            "backgroundcolor": "white",
            "gridcolor": "#DFE8F3",
            "gridwidth": 2,
            "linecolor": "#EBF0F8",
            "showbackground": true,
            "ticks": "",
            "zerolinecolor": "#EBF0F8"
           },
           "yaxis": {
            "backgroundcolor": "white",
            "gridcolor": "#DFE8F3",
            "gridwidth": 2,
            "linecolor": "#EBF0F8",
            "showbackground": true,
            "ticks": "",
            "zerolinecolor": "#EBF0F8"
           },
           "zaxis": {
            "backgroundcolor": "white",
            "gridcolor": "#DFE8F3",
            "gridwidth": 2,
            "linecolor": "#EBF0F8",
            "showbackground": true,
            "ticks": "",
            "zerolinecolor": "#EBF0F8"
           }
          },
          "shapedefaults": {
           "line": {
            "color": "#2a3f5f"
           }
          },
          "ternary": {
           "aaxis": {
            "gridcolor": "#DFE8F3",
            "linecolor": "#A2B1C6",
            "ticks": ""
           },
           "baxis": {
            "gridcolor": "#DFE8F3",
            "linecolor": "#A2B1C6",
            "ticks": ""
           },
           "bgcolor": "white",
           "caxis": {
            "gridcolor": "#DFE8F3",
            "linecolor": "#A2B1C6",
            "ticks": ""
           }
          },
          "title": {
           "x": 0.05
          },
          "xaxis": {
           "automargin": true,
           "gridcolor": "#EBF0F8",
           "linecolor": "#EBF0F8",
           "ticks": "",
           "title": {
            "standoff": 15
           },
           "zerolinecolor": "#EBF0F8",
           "zerolinewidth": 2
          },
          "yaxis": {
           "automargin": true,
           "gridcolor": "#EBF0F8",
           "linecolor": "#EBF0F8",
           "ticks": "",
           "title": {
            "standoff": 15
           },
           "zerolinecolor": "#EBF0F8",
           "zerolinewidth": 2
          }
         }
        },
        "xaxis": {
         "anchor": "y",
         "domain": [
          0,
          0.45
         ],
         "title": {
          "text": "Duration (s)"
         }
        },
        "xaxis2": {
         "anchor": "y2",
         "domain": [
          0.55,
          1
         ],
         "title": {
          "text": "Loss"
         }
        },
        "yaxis": {
         "anchor": "x",
         "domain": [
          0,
          1
         ]
        },
        "yaxis2": {
         "anchor": "x2",
         "domain": [
          0,
          1
         ]
        }
       }
      }
     },
     "metadata": {},
     "output_type": "display_data"
    }
   ],
   "source": [
    "# Fastest clients\n",
    "fastest_clients = client_avg_duration.nsmallest(5)\n",
    "# Best performing clients (lowest loss)\n",
    "best_clients = client_avg_loss.nsmallest(5)\n",
    "\n",
    "fig_performers = make_subplots(\n",
    "    rows=1, cols=2,\n",
    "    subplot_titles=('Fastest Clients (Lowest Duration)', 'Best Performing Clients (Lowest Loss)')\n",
    ")\n",
    "\n",
    "fig_performers.add_trace(\n",
    "    go.Bar(\n",
    "        x=fastest_clients.values,\n",
    "        y=fastest_clients.index,\n",
    "        orientation='h',\n",
    "        marker_color='green',\n",
    "        name='Fastest',\n",
    "        hovertemplate=\"Client: %{y}<br>Duration: %{x:.3f}s<extra></extra>\"\n",
    "    ),\n",
    "    row=1, col=1\n",
    ")\n",
    "\n",
    "fig_performers.add_trace(\n",
    "    go.Bar(\n",
    "        x=best_clients.values,\n",
    "        y=best_clients.index,\n",
    "        orientation='h',\n",
    "        marker_color='orange',\n",
    "        name='Best Performance',\n",
    "        hovertemplate=\"Client: %{y}<br>Loss: %{x:.3f}<extra></extra>\"\n",
    "    ),\n",
    "    row=1, col=2\n",
    ")\n",
    "\n",
    "fig_performers.update_layout(\n",
    "    height=400,\n",
    "    template=\"plotly_white\",\n",
    "    showlegend=False\n",
    ")\n",
    "\n",
    "fig_performers.update_xaxes(title_text=\"Duration (s)\", row=1, col=1)\n",
    "fig_performers.update_xaxes(title_text=\"Loss\", row=1, col=2)\n",
    "\n",
    "fig_performers.show()\n"
   ]
  },
  {
   "cell_type": "markdown",
   "id": "a83a7e76",
   "metadata": {},
   "source": [
    "##### Key Insights"
   ]
  },
  {
   "cell_type": "code",
   "execution_count": 403,
   "id": "46c14d73",
   "metadata": {},
   "outputs": [
    {
     "name": "stdout",
     "output_type": "stream",
     "text": [
      "• 🎯 6 clients participated in 10 training rounds\n",
      "• ⏱️  Total training time: 26.0 seconds (0.4 minutes)\n",
      "• 📊 Processed 54,430.0 training examples in total\n",
      "• 📉 Model improved by 60.2% from first to last round\n",
      "• 🏆 Fastest client: Client 12 (0.372s per round)\n",
      "• 🎯 Best performer: Client 10 (0.268 average loss)\n",
      "• ⚡ Average round duration: 0.434 seconds\n",
      "• 📈 Training shows positive progress across rounds\n"
     ]
    }
   ],
   "source": [
    "total_training_time = df_duration.sum().sum()\n",
    "avg_loss_improvement = (df_loss.iloc[:, 0].mean() - df_loss.iloc[:, -1].mean()) / df_loss.iloc[:, 0].mean() * 100\n",
    "\n",
    "insights = [\n",
    "    f\"• 🎯 {len(df_duration)} clients participated in {len(df_duration.columns)} training rounds\",\n",
    "    f\"• ⏱️  Total training time: {total_training_time:.1f} seconds ({total_training_time/60:.1f} minutes)\",\n",
    "    f\"• 📊 Processed {df_examples.sum().sum():,} training examples in total\",\n",
    "    f\"• 📉 Model improved by {avg_loss_improvement:.1f}% from first to last round\",\n",
    "    f\"• 🏆 Fastest client: Client {client_avg_duration.idxmin()} ({client_avg_duration.min():.3f}s per round)\",\n",
    "    f\"• 🎯 Best performer: Client {client_avg_loss.idxmin()} ({client_avg_loss.min():.3f} average loss)\",\n",
    "    f\"• ⚡ Average round duration: {df_duration.mean().mean():.3f} seconds\",\n",
    "    f\"• 📈 Training shows {'positive' if avg_loss_improvement > 0 else 'negative'} progress across rounds\"\n",
    "]\n",
    "\n",
    "for insight in insights:\n",
    "    print(insight)"
   ]
  },
  {
   "cell_type": "code",
   "execution_count": 404,
   "id": "9b1bf5a3",
   "metadata": {},
   "outputs": [
    {
     "name": "stdout",
     "output_type": "stream",
     "text": [
      "✅ Clients with complete data across all rounds:\n",
      "[0, 10, 12, 14, 19, 46]\n"
     ]
    }
   ],
   "source": [
    "print(\"✅ Clients with complete data across all rounds:\")\n",
    "print(df_duration.index.tolist())"
   ]
  },
  {
   "cell_type": "code",
   "execution_count": 405,
   "id": "f664fb0a",
   "metadata": {},
   "outputs": [],
   "source": [
    "import matplotlib.pyplot as plt\n",
    "\n",
    "# Ensure plots are large and readable\n",
    "plt.rcParams[\"figure.figsize\"] = (10, 6)"
   ]
  },
  {
   "cell_type": "markdown",
   "id": "fe18be30",
   "metadata": {},
   "source": [
    "#### 🎯 Purpose of This Visualization\n",
    "\n",
    "This visualization provides an interactive overview of how different clients perform across multiple training rounds in a federated learning setup. It highlights three key metrics:  \n",
    "\n",
    "- **Round Duration** — how long each client took per round.  \n",
    "- **Loss** — how well each client’s model performed on average.  \n",
    "- **Number of Examples** — how much data each client contributed.  \n",
    "\n",
    "By combining bars and lines on dual axes, the plot helps identify performance trends, imbalances, and correlations between computation time, model accuracy, and data volume across clients.  \n",
    "\n",
    "In short, it offers a clear, comparative view of **client efficiency, reliability, and contribution** throughout the training process.\n"
   ]
  },
  {
   "cell_type": "code",
   "execution_count": 406,
   "id": "5be84507",
   "metadata": {},
   "outputs": [
    {
     "data": {
      "application/vnd.plotly.v1+json": {
       "config": {
        "plotlyServerURL": "https://plot.ly"
       },
       "data": [
        {
         "customdata": {
          "bdata": "C7Yg8vkr4T8AAAAAAKyRQIvEq/QLYOE/AAAAAABIjkB56SYN04nnPwAAAAAAWIhAFl/xSsex4z8AAAAAABCLQArXo+TdjfA/AAAAAAD4iEBVEG1N1uHgPwAAAAAAGIxA",
          "dtype": "f8",
          "shape": "6, 2"
         },
         "hovertemplate": "Client: %{x}<br>Round: 1<br>Duration: %{y:.4f}s<br>Loss: %{customdata[0]:.4f}<br>Examples: %{customdata[1]:.0f}<extra></extra>",
         "legendgroup": "1",
         "marker": {
          "color": "rgb(141,211,199)"
         },
         "name": "1",
         "showlegend": true,
         "text": {
          "bdata": "SOF6FK5H4T+F61G4HoXbP2ZmZmZmZtY/16NwPQrX4z+uR+F6FK7XP1K4HoXrUeA/",
          "dtype": "f8"
         },
         "textposition": "outside",
         "texttemplate": "%{text:.3f}s",
         "type": "bar",
         "x": [
          "0",
          "10",
          "12",
          "14",
          "19",
          "46"
         ],
         "xaxis": "x",
         "y": {
          "bdata": "SOF6FK5H4T+F61G4HoXbP2ZmZmZmZtY/16NwPQrX4z+uR+F6FK7XP1K4HoXrUeA/",
          "dtype": "f8"
         },
         "yaxis": "y"
        },
        {
         "customdata": {
          "bdata": "P+mTguve2T8AAAAAAKyRQN0O1TdlBdg/AAAAAABIjkCPwvVozVThPwAAAAAAWIhAAAAAr3Ow3j8AAAAAABCLQNEi23lStOI/AAAAAAD4iECNsNw8bCfbPwAAAAAAGIxA",
          "dtype": "f8",
          "shape": "6, 2"
         },
         "hovertemplate": "Client: %{x}<br>Round: 2<br>Duration: %{y:.4f}s<br>Loss: %{customdata[0]:.4f}<br>Examples: %{customdata[1]:.0f}<extra></extra>",
         "legendgroup": "2",
         "marker": {
          "color": "rgb(255,255,179)"
         },
         "name": "2",
         "showlegend": true,
         "text": {
          "bdata": "pHA9Ctej4D/NzMzMzMzcPwrXo3A9Ctc/mpmZmZmZ2T8K16NwPQrXPz0K16NwPdo/",
          "dtype": "f8"
         },
         "textposition": "outside",
         "texttemplate": "%{text:.3f}s",
         "type": "bar",
         "x": [
          "0",
          "10",
          "12",
          "14",
          "19",
          "46"
         ],
         "xaxis": "x",
         "y": {
          "bdata": "pHA9Ctej4D/NzMzMzMzcPwrXo3A9Ctc/mpmZmZmZ2T8K16NwPQrXPz0K16NwPdo/",
          "dtype": "f8"
         },
         "yaxis": "y"
        },
        {
         "customdata": {
          "bdata": "LtiC/tgJ0z8AAAAAAKyRQJAL+xgmgc8/AAAAAABIjkCHFtkeStnYPwAAAAAAWIhA8RXQYwUQ0z8AAAAAABCLQNv5fkrs+9o/AAAAAAD4iEC7AUKw7rjSPwAAAAAAGIxA",
          "dtype": "f8",
          "shape": "6, 2"
         },
         "hovertemplate": "Client: %{x}<br>Round: 3<br>Duration: %{y:.4f}s<br>Loss: %{customdata[0]:.4f}<br>Examples: %{customdata[1]:.0f}<extra></extra>",
         "legendgroup": "3",
         "marker": {
          "color": "rgb(190,186,218)"
         },
         "name": "3",
         "showlegend": true,
         "text": {
          "bdata": "mpmZmZmZ4T/NzMzMzMzcPxSuR+F6FN4/mpmZmZmZ2T+uR+F6FK7XP+F6FK5H4do/",
          "dtype": "f8"
         },
         "textposition": "outside",
         "texttemplate": "%{text:.3f}s",
         "type": "bar",
         "x": [
          "0",
          "10",
          "12",
          "14",
          "19",
          "46"
         ],
         "xaxis": "x",
         "y": {
          "bdata": "mpmZmZmZ4T/NzMzMzMzcPxSuR+F6FN4/mpmZmZmZ2T+uR+F6FK7XP+F6FK5H4do/",
          "dtype": "f8"
         },
         "yaxis": "y"
        },
        {
         "customdata": {
          "bdata": "5DhOnme00T8AAAAAAKyRQG+H6sQa/8g/AAAAAABIjkBzaJGJPxbXPwAAAAAAWIhAxVe82s9E0j8AAAAAABCLQMl2vrdUZNg/AAAAAAD4iECfRshJynTNPwAAAAAAGIxA",
          "dtype": "f8",
          "shape": "6, 2"
         },
         "hovertemplate": "Client: %{x}<br>Round: 4<br>Duration: %{y:.4f}s<br>Loss: %{customdata[0]:.4f}<br>Examples: %{customdata[1]:.0f}<extra></extra>",
         "legendgroup": "4",
         "marker": {
          "color": "rgb(251,128,114)"
         },
         "name": "4",
         "showlegend": true,
         "text": {
          "bdata": "mpmZmZmZ4T/NzMzMzMzcPwrXo3A9Ctc/mpmZmZmZ2T8K16NwPQrXP1K4HoXrUeA/",
          "dtype": "f8"
         },
         "textposition": "outside",
         "texttemplate": "%{text:.3f}s",
         "type": "bar",
         "x": [
          "0",
          "10",
          "12",
          "14",
          "19",
          "46"
         ],
         "xaxis": "x",
         "y": {
          "bdata": "mpmZmZmZ4T/NzMzMzMzcPwrXo3A9Ctc/mpmZmZmZ2T8K16NwPQrXP1K4HoXrUeA/",
          "dtype": "f8"
         },
         "yaxis": "y"
        },
        {
         "customdata": {
          "bdata": "W7CF0qZH0T8AAAAAAKyRQAz7uKWU2sk/AAAAAABIjkCyne+FOAnWPwAAAAAAWIhAD2bmO89Jzj8AAAAAABCLQDm0yDJSjtY/AAAAAAD4iEBfKkiox67OPwAAAAAAGIxA",
          "dtype": "f8",
          "shape": "6, 2"
         },
         "hovertemplate": "Client: %{x}<br>Round: 5<br>Duration: %{y:.4f}s<br>Loss: %{customdata[0]:.4f}<br>Examples: %{customdata[1]:.0f}<extra></extra>",
         "legendgroup": "5",
         "marker": {
          "color": "rgb(128,177,211)"
         },
         "name": "5",
         "showlegend": true,
         "text": {
          "bdata": "UrgehetR4D8pXI/C9SjcPwrXo3A9Ctc/mpmZmZmZ2T8K16NwPQrXPz0K16NwPdo/",
          "dtype": "f8"
         },
         "textposition": "outside",
         "texttemplate": "%{text:.3f}s",
         "type": "bar",
         "x": [
          "0",
          "10",
          "12",
          "14",
          "19",
          "46"
         ],
         "xaxis": "x",
         "y": {
          "bdata": "UrgehetR4D8pXI/C9SjcPwrXo3A9Ctc/mpmZmZmZ2T8K16NwPQrXPz0K16NwPdo/",
          "dtype": "f8"
         },
         "yaxis": "y"
        },
        {
         "customdata": {
          "bdata": "mpmZiLXu0D8AAAAAAKyRQPZxYYpp6sk/AAAAAABIjkBOYhB08GrTPwAAAAAAWIhAxdPBn8FDzz8AAAAAABCLQFyPwgFPd9I/AAAAAAD4iEBAHPCTww7OPwAAAAAAGIxA",
          "dtype": "f8",
          "shape": "6, 2"
         },
         "hovertemplate": "Client: %{x}<br>Round: 6<br>Duration: %{y:.4f}s<br>Loss: %{customdata[0]:.4f}<br>Examples: %{customdata[1]:.0f}<extra></extra>",
         "legendgroup": "6",
         "marker": {
          "color": "rgb(253,180,98)"
         },
         "name": "6",
         "showlegend": true,
         "text": {
          "bdata": "pHA9Ctej4D/NzMzMzMzcPwrXo3A9Ctc/AAAAAAAA4D8K16NwPQrXPz0K16NwPdo/",
          "dtype": "f8"
         },
         "textposition": "outside",
         "texttemplate": "%{text:.3f}s",
         "type": "bar",
         "x": [
          "0",
          "10",
          "12",
          "14",
          "19",
          "46"
         ],
         "xaxis": "x",
         "y": {
          "bdata": "pHA9Ctej4D/NzMzMzMzcPwrXo3A9Ctc/AAAAAAAA4D8K16NwPQrXPz0K16NwPdo/",
          "dtype": "f8"
         },
         "yaxis": "y"
        },
        {
         "customdata": {
          "bdata": "HMdxNNnZzj8AAAAAAKyRQFYkrp/Dn9A/AAAAAABIjkAbL91MaDbTPwAAAAAAWIhAB4UHIX1lyz8AAAAAABCLQIlBYHbmcNQ/AAAAAAD4iEATvs/TOWnLPwAAAAAAGIxA",
          "dtype": "f8",
          "shape": "6, 2"
         },
         "hovertemplate": "Client: %{x}<br>Round: 7<br>Duration: %{y:.4f}s<br>Loss: %{customdata[0]:.4f}<br>Examples: %{customdata[1]:.0f}<extra></extra>",
         "legendgroup": "7",
         "marker": {
          "color": "rgb(179,222,105)"
         },
         "name": "7",
         "showlegend": true,
         "text": {
          "bdata": "9ihcj8L14D9xPQrXo3DdPwrXo3A9Ctc/mpmZmZmZ2T+amZmZmZnZPz0K16NwPdo/",
          "dtype": "f8"
         },
         "textposition": "outside",
         "texttemplate": "%{text:.3f}s",
         "type": "bar",
         "x": [
          "0",
          "10",
          "12",
          "14",
          "19",
          "46"
         ],
         "xaxis": "x",
         "y": {
          "bdata": "9ihcj8L14D9xPQrXo3DdPwrXo3A9Ctc/mpmZmZmZ2T+amZmZmZnZPz0K16NwPdo/",
          "dtype": "f8"
         },
         "yaxis": "y"
        },
        {
         "customdata": {
          "bdata": "chzHl8wv0T8AAAAAAKyRQC1/SQ/A+8k/AAAAAABIjkD2KFyzY8HUPwAAAAAAWIhAu1cZzedp0T8AAAAAABCLQFg5tIjW+tQ/AAAAAAD4iEDuaVYH0AbRPwAAAAAAGIxA",
          "dtype": "f8",
          "shape": "6, 2"
         },
         "hovertemplate": "Client: %{x}<br>Round: 8<br>Duration: %{y:.4f}s<br>Loss: %{customdata[0]:.4f}<br>Examples: %{customdata[1]:.0f}<extra></extra>",
         "legendgroup": "8",
         "marker": {
          "color": "rgb(252,205,229)"
         },
         "name": "8",
         "showlegend": true,
         "text": {
          "bdata": "9ihcj8L14D/NzMzMzMzcPwrXo3A9Ctc/PQrXo3A92j+uR+F6FK7XP+F6FK5H4do/",
          "dtype": "f8"
         },
         "textposition": "outside",
         "texttemplate": "%{text:.3f}s",
         "type": "bar",
         "x": [
          "0",
          "10",
          "12",
          "14",
          "19",
          "46"
         ],
         "xaxis": "x",
         "y": {
          "bdata": "9ihcj8L14D/NzMzMzMzcPwrXo3A9Ctc/PQrXo3A92j+uR+F6FK7XP+F6FK5H4do/",
          "dtype": "f8"
         },
         "yaxis": "y"
        },
        {
         "customdata": {
          "bdata": "MzOzP3M50T8AAAAAAKyRQJsGND6TFso/AAAAAABIjkDufD+BnMzUPwAAAAAAWIhA4yv+RV6L0D8AAAAAABCLQMUgsB5AXNQ/AAAAAAD4iEBsEyac1cDLPwAAAAAAGIxA",
          "dtype": "f8",
          "shape": "6, 2"
         },
         "hovertemplate": "Client: %{x}<br>Round: 9<br>Duration: %{y:.4f}s<br>Loss: %{customdata[0]:.4f}<br>Examples: %{customdata[1]:.0f}<extra></extra>",
         "legendgroup": "9",
         "marker": {
          "color": "rgb(217,217,217)"
         },
         "name": "9",
         "showlegend": true,
         "text": {
          "bdata": "4XoUrkfh4j/NzMzMzMzcPwrXo3A9Ctc/4XoUrkfh2j9xPQrXo3DdP+F6FK5H4do/",
          "dtype": "f8"
         },
         "textposition": "outside",
         "texttemplate": "%{text:.3f}s",
         "type": "bar",
         "x": [
          "0",
          "10",
          "12",
          "14",
          "19",
          "46"
         ],
         "xaxis": "x",
         "y": {
          "bdata": "4XoUrkfh4j/NzMzMzMzcPwrXo3A9Ctc/4XoUrkfh2j9xPQrXo3DdP+F6FK5H4do/",
          "dtype": "f8"
         },
         "yaxis": "y"
        },
        {
         "customdata": {
          "bdata": "wRbsp0RXzD8AAAAAAKyRQL733kUvZs8/AAAAAABIjkAMAisJTf/SPwAAAAAAWIhALL5yX1S/zz8AAAAAABCLQN0kBglRTdM/AAAAAAD4iEBX3+MdDprRPwAAAAAAGIxA",
          "dtype": "f8",
          "shape": "6, 2"
         },
         "hovertemplate": "Client: %{x}<br>Round: 10<br>Duration: %{y:.4f}s<br>Loss: %{customdata[0]:.4f}<br>Examples: %{customdata[1]:.0f}<extra></extra>",
         "legendgroup": "10",
         "marker": {
          "color": "rgb(188,128,189)"
         },
         "name": "10",
         "showlegend": true,
         "text": {
          "bdata": "9ihcj8L14D/NzMzMzMzcP1K4HoXrUdg/PQrXo3A92j+uR+F6FK7XP+F6FK5H4do/",
          "dtype": "f8"
         },
         "textposition": "outside",
         "texttemplate": "%{text:.3f}s",
         "type": "bar",
         "x": [
          "0",
          "10",
          "12",
          "14",
          "19",
          "46"
         ],
         "xaxis": "x",
         "y": {
          "bdata": "9ihcj8L14D/NzMzMzMzcP1K4HoXrUdg/PQrXo3A92j+uR+F6FK7XP+F6FK5H4do/",
          "dtype": "f8"
         },
         "yaxis": "y"
        },
        {
         "hovertemplate": "Client: %{x}<br>Average Loss: %{y:.4f}<extra></extra>",
         "line": {
          "color": "red",
          "dash": "dot",
          "width": 3
         },
         "marker": {
          "size": 8,
          "symbol": "diamond"
         },
         "mode": "lines+markers",
         "name": "Avg Loss",
         "type": "scatter",
         "x": [
          "0",
          "10",
          "12",
          "14",
          "19",
          "46"
         ],
         "xaxis": "x",
         "y": {
          "bdata": "frGkg4eE0z/o5cDBaSDRPzVeurXdFtk/Mv7bRu4r1D+m6MgW7rXbP/Zt0dDosdI/",
          "dtype": "f8"
         },
         "yaxis": "y2"
        },
        {
         "hovertemplate": "Client: %{x}<br>Average Examples: %{y:.0f}<extra></extra>",
         "line": {
          "color": "blue",
          "width": 3
         },
         "marker": {
          "size": 8,
          "symbol": "circle"
         },
         "mode": "lines+markers",
         "name": "Avg Examples",
         "type": "scatter",
         "x": [
          "0",
          "10",
          "12",
          "14",
          "19",
          "46"
         ],
         "xaxis": "x",
         "y": {
          "bdata": "AAAAAACskUAAAAAAAEiOQAAAAAAAWIhAAAAAAAAQi0AAAAAAAPiIQAAAAAAAGIxA",
          "dtype": "f8"
         },
         "yaxis": "y2"
        }
       ],
       "layout": {
        "bargap": 0.2,
        "bargroupgap": 0.05,
        "font": {
         "size": 10
        },
        "hovermode": "closest",
        "legend": {
         "orientation": "h",
         "title": {
          "text": "Metrics & Rounds"
         },
         "x": 1,
         "xanchor": "right",
         "y": 1.02,
         "yanchor": "bottom"
        },
        "showlegend": true,
        "template": {
         "data": {
          "bar": [
           {
            "error_x": {
             "color": "#2a3f5f"
            },
            "error_y": {
             "color": "#2a3f5f"
            },
            "marker": {
             "line": {
              "color": "white",
              "width": 0.5
             },
             "pattern": {
              "fillmode": "overlay",
              "size": 10,
              "solidity": 0.2
             }
            },
            "type": "bar"
           }
          ],
          "barpolar": [
           {
            "marker": {
             "line": {
              "color": "white",
              "width": 0.5
             },
             "pattern": {
              "fillmode": "overlay",
              "size": 10,
              "solidity": 0.2
             }
            },
            "type": "barpolar"
           }
          ],
          "carpet": [
           {
            "aaxis": {
             "endlinecolor": "#2a3f5f",
             "gridcolor": "#C8D4E3",
             "linecolor": "#C8D4E3",
             "minorgridcolor": "#C8D4E3",
             "startlinecolor": "#2a3f5f"
            },
            "baxis": {
             "endlinecolor": "#2a3f5f",
             "gridcolor": "#C8D4E3",
             "linecolor": "#C8D4E3",
             "minorgridcolor": "#C8D4E3",
             "startlinecolor": "#2a3f5f"
            },
            "type": "carpet"
           }
          ],
          "choropleth": [
           {
            "colorbar": {
             "outlinewidth": 0,
             "ticks": ""
            },
            "type": "choropleth"
           }
          ],
          "contour": [
           {
            "colorbar": {
             "outlinewidth": 0,
             "ticks": ""
            },
            "colorscale": [
             [
              0,
              "#0d0887"
             ],
             [
              0.1111111111111111,
              "#46039f"
             ],
             [
              0.2222222222222222,
              "#7201a8"
             ],
             [
              0.3333333333333333,
              "#9c179e"
             ],
             [
              0.4444444444444444,
              "#bd3786"
             ],
             [
              0.5555555555555556,
              "#d8576b"
             ],
             [
              0.6666666666666666,
              "#ed7953"
             ],
             [
              0.7777777777777778,
              "#fb9f3a"
             ],
             [
              0.8888888888888888,
              "#fdca26"
             ],
             [
              1,
              "#f0f921"
             ]
            ],
            "type": "contour"
           }
          ],
          "contourcarpet": [
           {
            "colorbar": {
             "outlinewidth": 0,
             "ticks": ""
            },
            "type": "contourcarpet"
           }
          ],
          "heatmap": [
           {
            "colorbar": {
             "outlinewidth": 0,
             "ticks": ""
            },
            "colorscale": [
             [
              0,
              "#0d0887"
             ],
             [
              0.1111111111111111,
              "#46039f"
             ],
             [
              0.2222222222222222,
              "#7201a8"
             ],
             [
              0.3333333333333333,
              "#9c179e"
             ],
             [
              0.4444444444444444,
              "#bd3786"
             ],
             [
              0.5555555555555556,
              "#d8576b"
             ],
             [
              0.6666666666666666,
              "#ed7953"
             ],
             [
              0.7777777777777778,
              "#fb9f3a"
             ],
             [
              0.8888888888888888,
              "#fdca26"
             ],
             [
              1,
              "#f0f921"
             ]
            ],
            "type": "heatmap"
           }
          ],
          "histogram": [
           {
            "marker": {
             "pattern": {
              "fillmode": "overlay",
              "size": 10,
              "solidity": 0.2
             }
            },
            "type": "histogram"
           }
          ],
          "histogram2d": [
           {
            "colorbar": {
             "outlinewidth": 0,
             "ticks": ""
            },
            "colorscale": [
             [
              0,
              "#0d0887"
             ],
             [
              0.1111111111111111,
              "#46039f"
             ],
             [
              0.2222222222222222,
              "#7201a8"
             ],
             [
              0.3333333333333333,
              "#9c179e"
             ],
             [
              0.4444444444444444,
              "#bd3786"
             ],
             [
              0.5555555555555556,
              "#d8576b"
             ],
             [
              0.6666666666666666,
              "#ed7953"
             ],
             [
              0.7777777777777778,
              "#fb9f3a"
             ],
             [
              0.8888888888888888,
              "#fdca26"
             ],
             [
              1,
              "#f0f921"
             ]
            ],
            "type": "histogram2d"
           }
          ],
          "histogram2dcontour": [
           {
            "colorbar": {
             "outlinewidth": 0,
             "ticks": ""
            },
            "colorscale": [
             [
              0,
              "#0d0887"
             ],
             [
              0.1111111111111111,
              "#46039f"
             ],
             [
              0.2222222222222222,
              "#7201a8"
             ],
             [
              0.3333333333333333,
              "#9c179e"
             ],
             [
              0.4444444444444444,
              "#bd3786"
             ],
             [
              0.5555555555555556,
              "#d8576b"
             ],
             [
              0.6666666666666666,
              "#ed7953"
             ],
             [
              0.7777777777777778,
              "#fb9f3a"
             ],
             [
              0.8888888888888888,
              "#fdca26"
             ],
             [
              1,
              "#f0f921"
             ]
            ],
            "type": "histogram2dcontour"
           }
          ],
          "mesh3d": [
           {
            "colorbar": {
             "outlinewidth": 0,
             "ticks": ""
            },
            "type": "mesh3d"
           }
          ],
          "parcoords": [
           {
            "line": {
             "colorbar": {
              "outlinewidth": 0,
              "ticks": ""
             }
            },
            "type": "parcoords"
           }
          ],
          "pie": [
           {
            "automargin": true,
            "type": "pie"
           }
          ],
          "scatter": [
           {
            "fillpattern": {
             "fillmode": "overlay",
             "size": 10,
             "solidity": 0.2
            },
            "type": "scatter"
           }
          ],
          "scatter3d": [
           {
            "line": {
             "colorbar": {
              "outlinewidth": 0,
              "ticks": ""
             }
            },
            "marker": {
             "colorbar": {
              "outlinewidth": 0,
              "ticks": ""
             }
            },
            "type": "scatter3d"
           }
          ],
          "scattercarpet": [
           {
            "marker": {
             "colorbar": {
              "outlinewidth": 0,
              "ticks": ""
             }
            },
            "type": "scattercarpet"
           }
          ],
          "scattergeo": [
           {
            "marker": {
             "colorbar": {
              "outlinewidth": 0,
              "ticks": ""
             }
            },
            "type": "scattergeo"
           }
          ],
          "scattergl": [
           {
            "marker": {
             "colorbar": {
              "outlinewidth": 0,
              "ticks": ""
             }
            },
            "type": "scattergl"
           }
          ],
          "scattermap": [
           {
            "marker": {
             "colorbar": {
              "outlinewidth": 0,
              "ticks": ""
             }
            },
            "type": "scattermap"
           }
          ],
          "scattermapbox": [
           {
            "marker": {
             "colorbar": {
              "outlinewidth": 0,
              "ticks": ""
             }
            },
            "type": "scattermapbox"
           }
          ],
          "scatterpolar": [
           {
            "marker": {
             "colorbar": {
              "outlinewidth": 0,
              "ticks": ""
             }
            },
            "type": "scatterpolar"
           }
          ],
          "scatterpolargl": [
           {
            "marker": {
             "colorbar": {
              "outlinewidth": 0,
              "ticks": ""
             }
            },
            "type": "scatterpolargl"
           }
          ],
          "scatterternary": [
           {
            "marker": {
             "colorbar": {
              "outlinewidth": 0,
              "ticks": ""
             }
            },
            "type": "scatterternary"
           }
          ],
          "surface": [
           {
            "colorbar": {
             "outlinewidth": 0,
             "ticks": ""
            },
            "colorscale": [
             [
              0,
              "#0d0887"
             ],
             [
              0.1111111111111111,
              "#46039f"
             ],
             [
              0.2222222222222222,
              "#7201a8"
             ],
             [
              0.3333333333333333,
              "#9c179e"
             ],
             [
              0.4444444444444444,
              "#bd3786"
             ],
             [
              0.5555555555555556,
              "#d8576b"
             ],
             [
              0.6666666666666666,
              "#ed7953"
             ],
             [
              0.7777777777777778,
              "#fb9f3a"
             ],
             [
              0.8888888888888888,
              "#fdca26"
             ],
             [
              1,
              "#f0f921"
             ]
            ],
            "type": "surface"
           }
          ],
          "table": [
           {
            "cells": {
             "fill": {
              "color": "#EBF0F8"
             },
             "line": {
              "color": "white"
             }
            },
            "header": {
             "fill": {
              "color": "#C8D4E3"
             },
             "line": {
              "color": "white"
             }
            },
            "type": "table"
           }
          ]
         },
         "layout": {
          "annotationdefaults": {
           "arrowcolor": "#2a3f5f",
           "arrowhead": 0,
           "arrowwidth": 1
          },
          "autotypenumbers": "strict",
          "coloraxis": {
           "colorbar": {
            "outlinewidth": 0,
            "ticks": ""
           }
          },
          "colorscale": {
           "diverging": [
            [
             0,
             "#8e0152"
            ],
            [
             0.1,
             "#c51b7d"
            ],
            [
             0.2,
             "#de77ae"
            ],
            [
             0.3,
             "#f1b6da"
            ],
            [
             0.4,
             "#fde0ef"
            ],
            [
             0.5,
             "#f7f7f7"
            ],
            [
             0.6,
             "#e6f5d0"
            ],
            [
             0.7,
             "#b8e186"
            ],
            [
             0.8,
             "#7fbc41"
            ],
            [
             0.9,
             "#4d9221"
            ],
            [
             1,
             "#276419"
            ]
           ],
           "sequential": [
            [
             0,
             "#0d0887"
            ],
            [
             0.1111111111111111,
             "#46039f"
            ],
            [
             0.2222222222222222,
             "#7201a8"
            ],
            [
             0.3333333333333333,
             "#9c179e"
            ],
            [
             0.4444444444444444,
             "#bd3786"
            ],
            [
             0.5555555555555556,
             "#d8576b"
            ],
            [
             0.6666666666666666,
             "#ed7953"
            ],
            [
             0.7777777777777778,
             "#fb9f3a"
            ],
            [
             0.8888888888888888,
             "#fdca26"
            ],
            [
             1,
             "#f0f921"
            ]
           ],
           "sequentialminus": [
            [
             0,
             "#0d0887"
            ],
            [
             0.1111111111111111,
             "#46039f"
            ],
            [
             0.2222222222222222,
             "#7201a8"
            ],
            [
             0.3333333333333333,
             "#9c179e"
            ],
            [
             0.4444444444444444,
             "#bd3786"
            ],
            [
             0.5555555555555556,
             "#d8576b"
            ],
            [
             0.6666666666666666,
             "#ed7953"
            ],
            [
             0.7777777777777778,
             "#fb9f3a"
            ],
            [
             0.8888888888888888,
             "#fdca26"
            ],
            [
             1,
             "#f0f921"
            ]
           ]
          },
          "colorway": [
           "#636efa",
           "#EF553B",
           "#00cc96",
           "#ab63fa",
           "#FFA15A",
           "#19d3f3",
           "#FF6692",
           "#B6E880",
           "#FF97FF",
           "#FECB52"
          ],
          "font": {
           "color": "#2a3f5f"
          },
          "geo": {
           "bgcolor": "white",
           "lakecolor": "white",
           "landcolor": "white",
           "showlakes": true,
           "showland": true,
           "subunitcolor": "#C8D4E3"
          },
          "hoverlabel": {
           "align": "left"
          },
          "hovermode": "closest",
          "mapbox": {
           "style": "light"
          },
          "paper_bgcolor": "white",
          "plot_bgcolor": "white",
          "polar": {
           "angularaxis": {
            "gridcolor": "#EBF0F8",
            "linecolor": "#EBF0F8",
            "ticks": ""
           },
           "bgcolor": "white",
           "radialaxis": {
            "gridcolor": "#EBF0F8",
            "linecolor": "#EBF0F8",
            "ticks": ""
           }
          },
          "scene": {
           "xaxis": {
            "backgroundcolor": "white",
            "gridcolor": "#DFE8F3",
            "gridwidth": 2,
            "linecolor": "#EBF0F8",
            "showbackground": true,
            "ticks": "",
            "zerolinecolor": "#EBF0F8"
           },
           "yaxis": {
            "backgroundcolor": "white",
            "gridcolor": "#DFE8F3",
            "gridwidth": 2,
            "linecolor": "#EBF0F8",
            "showbackground": true,
            "ticks": "",
            "zerolinecolor": "#EBF0F8"
           },
           "zaxis": {
            "backgroundcolor": "white",
            "gridcolor": "#DFE8F3",
            "gridwidth": 2,
            "linecolor": "#EBF0F8",
            "showbackground": true,
            "ticks": "",
            "zerolinecolor": "#EBF0F8"
           }
          },
          "shapedefaults": {
           "line": {
            "color": "#2a3f5f"
           }
          },
          "ternary": {
           "aaxis": {
            "gridcolor": "#DFE8F3",
            "linecolor": "#A2B1C6",
            "ticks": ""
           },
           "baxis": {
            "gridcolor": "#DFE8F3",
            "linecolor": "#A2B1C6",
            "ticks": ""
           },
           "bgcolor": "white",
           "caxis": {
            "gridcolor": "#DFE8F3",
            "linecolor": "#A2B1C6",
            "ticks": ""
           }
          },
          "title": {
           "x": 0.05
          },
          "xaxis": {
           "automargin": true,
           "gridcolor": "#EBF0F8",
           "linecolor": "#EBF0F8",
           "ticks": "",
           "title": {
            "standoff": 15
           },
           "zerolinecolor": "#EBF0F8",
           "zerolinewidth": 2
          },
          "yaxis": {
           "automargin": true,
           "gridcolor": "#EBF0F8",
           "linecolor": "#EBF0F8",
           "ticks": "",
           "title": {
            "standoff": 15
           },
           "zerolinecolor": "#EBF0F8",
           "zerolinewidth": 2
          }
         }
        },
        "title": {
         "text": "Clients Metrics (The Loss, and Duration) for each round with respect to the Number of Examples"
        },
        "xaxis": {
         "anchor": "y",
         "domain": [
          0,
          0.94
         ],
         "title": {
          "text": "Client ID"
         }
        },
        "yaxis": {
         "anchor": "x",
         "domain": [
          0,
          1
         ],
         "title": {
          "text": "Round Duration (s)"
         }
        },
        "yaxis2": {
         "anchor": "x",
         "overlaying": "y",
         "side": "right",
         "title": {
          "text": "Loss / Number of Examples"
         }
        }
       }
      }
     },
     "metadata": {},
     "output_type": "display_data"
    }
   ],
   "source": [
    "import plotly.express as px\n",
    "import pandas as pd\n",
    "import plotly.graph_objects as go\n",
    "from plotly.subplots import make_subplots\n",
    "\n",
    "# Sort and convert client IDs to strings for categorical spacing\n",
    "df_duration = df_duration.sort_index()\n",
    "df_duration.index = df_duration.index.astype(str)\n",
    "df_loss = df_loss.sort_index()\n",
    "df_loss.index = df_loss.index.astype(str)\n",
    "df_examples = df_examples.sort_index()\n",
    "df_examples.index = df_examples.index.astype(str)\n",
    "\n",
    "# Melt all DataFrames\n",
    "df_duration_melted = df_duration.reset_index().melt(\n",
    "    id_vars=\"client_id\",\n",
    "    var_name=\"Round\",\n",
    "    value_name=\"Duration\"\n",
    ")\n",
    "\n",
    "df_loss_melted = df_loss.reset_index().melt(\n",
    "    id_vars=\"client_id\", \n",
    "    var_name=\"Round\",\n",
    "    value_name=\"Loss\"\n",
    ")\n",
    "\n",
    "df_examples_melted = df_examples.reset_index().melt(\n",
    "    id_vars=\"client_id\",\n",
    "    var_name=\"Round\", \n",
    "    value_name=\"Examples\"\n",
    ")\n",
    "\n",
    "# Merge all data\n",
    "df_merged = df_duration_melted.merge(\n",
    "    df_loss_melted, on=[\"client_id\", \"Round\"]\n",
    ").merge(\n",
    "    df_examples_melted, on=[\"client_id\", \"Round\"]\n",
    ")\n",
    "\n",
    "# Create subplot with secondary y-axis\n",
    "fig = make_subplots(\n",
    "    specs=[[{\"secondary_y\": True}]]\n",
    ")\n",
    "\n",
    "# Get unique rounds for coloring\n",
    "rounds = df_merged['Round'].unique()\n",
    "colors = px.colors.qualitative.Set3\n",
    "\n",
    "# Add bars for each round\n",
    "for i, round_name in enumerate(rounds):\n",
    "    round_data = df_merged[df_merged['Round'] == round_name]\n",
    "    \n",
    "    fig.add_trace(\n",
    "        go.Bar(\n",
    "            x=round_data['client_id'],\n",
    "            y=round_data['Duration'],\n",
    "            name=f\"{round_name}\",\n",
    "            legendgroup=round_name,\n",
    "            marker_color=colors[i % len(colors)],\n",
    "            hovertemplate=(\n",
    "                \"Client: %{x}<br>\"\n",
    "                f\"Round: {round_name}<br>\"\n",
    "                \"Duration: %{y:.4f}s<br>\"\n",
    "                \"Loss: %{customdata[0]:.4f}<br>\"\n",
    "                \"Examples: %{customdata[1]:.0f}<extra></extra>\"\n",
    "            ),\n",
    "            customdata=round_data[['Loss', 'Examples']],\n",
    "            text=round_data['Duration'].round(4),\n",
    "            textposition='outside',\n",
    "            texttemplate='%{text:.3f}s',\n",
    "            showlegend=True\n",
    "        ),\n",
    "        secondary_y=False,\n",
    "    )\n",
    "\n",
    "# Add loss line\n",
    "fig.add_trace(\n",
    "    go.Scatter(\n",
    "        x=df_merged['client_id'].unique(),\n",
    "        y=df_loss.mean(axis=1),  # Average loss per client across rounds\n",
    "        mode='lines+markers',\n",
    "        name='Avg Loss',\n",
    "        line=dict(color='red', width=3, dash='dot'),\n",
    "        marker=dict(size=8, symbol='diamond'),\n",
    "        hovertemplate=(\n",
    "            \"Client: %{x}<br>\"\n",
    "            \"Average Loss: %{y:.4f}<extra></extra>\"\n",
    "        ),\n",
    "        yaxis='y2'\n",
    "    ),\n",
    "    secondary_y=True,\n",
    ")\n",
    "\n",
    "# Add examples line  \n",
    "fig.add_trace(\n",
    "    go.Scatter(\n",
    "        x=df_merged['client_id'].unique(),\n",
    "        y=df_examples.mean(axis=1),  # Average examples per client across rounds\n",
    "        mode='lines+markers',\n",
    "        name='Avg Examples',\n",
    "        line=dict(color='blue', width=3),\n",
    "        marker=dict(size=8, symbol='circle'),\n",
    "        hovertemplate=(\n",
    "            \"Client: %{x}<br>\"\n",
    "            \"Average Examples: %{y:.0f}<extra></extra>\"\n",
    "        ),\n",
    "        yaxis='y2'\n",
    "    ),\n",
    "    secondary_y=True,\n",
    ")\n",
    "\n",
    "# Update layout\n",
    "fig.update_layout(\n",
    "    title=\"Clients Metrics (The Loss, and Duration) for each round with respect to the Number of Examples\",\n",
    "    xaxis_title=\"Client ID\",\n",
    "    yaxis_title=\"Round Duration (seconds)\",\n",
    "    yaxis2_title=\"Loss / Number of Examples\",\n",
    "    legend_title=\"Metrics & Rounds\",\n",
    "    template=\"plotly_white\",\n",
    "    hovermode=\"closest\",\n",
    "    font=dict(size=10),\n",
    "    bargap=0.2,\n",
    "    bargroupgap=0.05,\n",
    "    showlegend=True,\n",
    "    legend=dict(\n",
    "        orientation=\"h\",\n",
    "        yanchor=\"bottom\",\n",
    "        y=1.02,\n",
    "        xanchor=\"right\",\n",
    "        x=1\n",
    "    )\n",
    ")\n",
    "\n",
    "# Update y-axes\n",
    "fig.update_yaxes(\n",
    "    title_text=\"Round Duration (s)\",\n",
    "    secondary_y=False\n",
    ")\n",
    "\n",
    "fig.update_yaxes(\n",
    "    title_text=\"Loss / Number of Examples\", \n",
    "    secondary_y=True,\n",
    "    # Optional: if you want to separate the scales more clearly\n",
    "    # range=[0, max(df_examples.max().max(), df_loss.max().max()) * 1.1]\n",
    ")\n",
    "\n",
    "fig.show()"
   ]
  },
  {
   "cell_type": "markdown",
   "id": "8bb6cfa0",
   "metadata": {},
   "source": [
    "END OF NOTEBOOK"
   ]
  }
 ],
 "metadata": {
  "kernelspec": {
   "display_name": "flower-benchmarks",
   "language": "python",
   "name": "python3"
  },
  "language_info": {
   "codemirror_mode": {
    "name": "ipython",
    "version": 3
   },
   "file_extension": ".py",
   "mimetype": "text/x-python",
   "name": "python",
   "nbconvert_exporter": "python",
   "pygments_lexer": "ipython3",
   "version": "3.10.18"
  }
 },
 "nbformat": 4,
 "nbformat_minor": 5
}
